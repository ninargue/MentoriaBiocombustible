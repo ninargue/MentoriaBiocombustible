{
 "cells": [
  {
   "cell_type": "markdown",
   "metadata": {},
   "source": [
    "### DESCRIPTORES DE MERCADO POR SEGMENTO\n",
    "**ANALISIS DE TRANSACCIONES E INFRAESTRUCTURAS POR SEGMENTO DE MERCADO**\n",
    "\n",
    "_By Diego Tondo, August 2020_"
   ]
  },
  {
   "cell_type": "code",
   "execution_count": null,
   "metadata": {},
   "outputs": [],
   "source": [
    "import pandas as pd\n",
    "import numpy as np"
   ]
  },
  {
   "cell_type": "code",
   "execution_count": null,
   "metadata": {},
   "outputs": [],
   "source": [
    "np.set_printoptions(precision=2)\n",
    "pd.set_option(\"display.precision\", 2)"
   ]
  },
  {
   "cell_type": "code",
   "execution_count": null,
   "metadata": {},
   "outputs": [],
   "source": [
    "dft = pd.read_csv('../dataset/data_csv/sis_transa_201801_202007_merged.csv.zip', \n",
    "                 parse_dates=['fecha'], \n",
    "                 compression='zip')\n",
    "dft.shape"
   ]
  },
  {
   "cell_type": "code",
   "execution_count": null,
   "metadata": {},
   "outputs": [],
   "source": [
    "dft['id_empresa'] = dft['id_empresa'].astype('int')\n",
    "dft = dft[(dft['segmento']!='d')]\n",
    "dft.shape"
   ]
  },
  {
   "cell_type": "code",
   "execution_count": null,
   "metadata": {},
   "outputs": [],
   "source": [
    "dft.columns"
   ]
  },
  {
   "cell_type": "code",
   "execution_count": null,
   "metadata": {},
   "outputs": [],
   "source": [
    "dft18 = dft[ (dft['fecha']<'2019-01-01') ]\n",
    "dft19 = dft[ (dft['fecha']<'2020-01-01') & (dft['fecha']>='2019-01-01') ]\n",
    "dft20 = dft[ (dft['fecha']>='2020-01-01') ]"
   ]
  },
  {
   "cell_type": "code",
   "execution_count": null,
   "metadata": {},
   "outputs": [],
   "source": [
    "dft18.shape, dft19.shape, dft20.shape"
   ]
  },
  {
   "cell_type": "markdown",
   "metadata": {},
   "source": [
    "#### DESCRIPTORES GENERALES DE MERCADO"
   ]
  },
  {
   "cell_type": "code",
   "execution_count": null,
   "metadata": {},
   "outputs": [],
   "source": [
    "## CANTIDAD DE EMPRESAS POR AÑO\n",
    "qemp = np.asarray([dft18['id_empresa'].nunique(), dft19['id_empresa'].nunique(), dft20['id_empresa'].nunique()])\n",
    "print(qemp)"
   ]
  },
  {
   "cell_type": "code",
   "execution_count": null,
   "metadata": {},
   "outputs": [],
   "source": [
    "## CANTIDAD DE EMPRESAS POR AÑO\n",
    "scant = np.asarray([dft18['cantidad'].sum(), dft19['cantidad'].sum(), dft20['cantidad'].sum()])\n",
    "print(f'Litros controlados por año: {scant}')"
   ]
  },
  {
   "cell_type": "code",
   "execution_count": null,
   "metadata": {},
   "outputs": [],
   "source": [
    "print(f'Litros controlados en 20 respecto de 19: %{scant[2]/scant[1]*100}')"
   ]
  },
  {
   "cell_type": "code",
   "execution_count": null,
   "metadata": {},
   "outputs": [],
   "source": [
    "print(f'Litros controlados por empresa: {scant/qemp}')"
   ]
  },
  {
   "cell_type": "code",
   "execution_count": null,
   "metadata": {},
   "outputs": [],
   "source": [
    "print(f'Litros controlados por empresa por mes: {scant/qemp/12}')"
   ]
  },
  {
   "cell_type": "code",
   "execution_count": null,
   "metadata": {},
   "outputs": [],
   "source": [
    "## CANTIDAD DE SITIOS POR EMPRESA\n",
    "qsites = np.asarray([dft18['id_equipo'].nunique(), dft19['id_equipo'].nunique(), dft20['id_equipo'].nunique()])\n",
    "qsites"
   ]
  },
  {
   "cell_type": "code",
   "execution_count": null,
   "metadata": {},
   "outputs": [],
   "source": [
    "print(f'Sitios controlados por empresa: {qsites/qemp}')"
   ]
  },
  {
   "cell_type": "code",
   "execution_count": null,
   "metadata": {},
   "outputs": [],
   "source": [
    "qtanks = np.asarray([dft18['id_tanque'].nunique(), dft19['id_tanque'].nunique(), dft20['id_tanque'].nunique()])\n",
    "qtanks"
   ]
  },
  {
   "cell_type": "code",
   "execution_count": null,
   "metadata": {},
   "outputs": [],
   "source": [
    "print(f'Tanques controlados por empresa: {qtanks/qemp}')"
   ]
  },
  {
   "cell_type": "code",
   "execution_count": null,
   "metadata": {},
   "outputs": [],
   "source": [
    "print(f'Tanques controlados por sitio: {qtanks/qsites}')"
   ]
  },
  {
   "cell_type": "markdown",
   "metadata": {},
   "source": [
    "#### DESCRIPTORES DE TRANSACCIONES POR SEGMENTO DE MERCADO"
   ]
  },
  {
   "cell_type": "code",
   "execution_count": null,
   "metadata": {},
   "outputs": [],
   "source": [
    "def TransactionsGroupedBySegment(df):\n",
    "    dfg = df.groupby(['segmento'])['cantidad'].describe()\n",
    "    dfg['count %'] = dfg['count']/dfg['count'].sum()*100\n",
    "    dfg = dfg.transpose()\n",
    "    return dfg"
   ]
  },
  {
   "cell_type": "code",
   "execution_count": null,
   "metadata": {},
   "outputs": [],
   "source": [
    "for i in (18, 19, 20):\n",
    "    vars()[f'dft{i}_s_qtran'] = TransactionsGroupedBySegment(eval(f'dft{i}'))"
   ]
  },
  {
   "cell_type": "code",
   "execution_count": null,
   "metadata": {},
   "outputs": [],
   "source": [
    "dft19_s_qtran"
   ]
  },
  {
   "cell_type": "code",
   "execution_count": null,
   "metadata": {},
   "outputs": [],
   "source": [
    "dft18_s_qtran"
   ]
  },
  {
   "cell_type": "code",
   "execution_count": null,
   "metadata": {},
   "outputs": [],
   "source": [
    "dft19_s_qtran"
   ]
  },
  {
   "cell_type": "code",
   "execution_count": null,
   "metadata": {},
   "outputs": [],
   "source": [
    "dft20_s_qtran"
   ]
  },
  {
   "cell_type": "code",
   "execution_count": null,
   "metadata": {},
   "outputs": [],
   "source": [
    "## SAVE DATA TO CSV\n",
    "#[eval(f'dft{i}_s_qtran').to_csv(f'../results/dft{i}_s_qtran.csv') for i in (18, 19, 20)]"
   ]
  },
  {
   "cell_type": "markdown",
   "metadata": {},
   "source": [
    "**BOXPLOT**"
   ]
  },
  {
   "cell_type": "code",
   "execution_count": null,
   "metadata": {},
   "outputs": [],
   "source": [
    "import seaborn as sns\n",
    "import matplotlib.pyplot as plt"
   ]
  },
  {
   "cell_type": "code",
   "execution_count": null,
   "metadata": {},
   "outputs": [],
   "source": [
    "sns.set_style(\"whitegrid\", {\"grid.color\": \".9\"})"
   ]
  },
  {
   "cell_type": "code",
   "execution_count": null,
   "metadata": {},
   "outputs": [],
   "source": [
    "segList = ['Agriculture', 'Construction', 'Service Stations', 'Industry', 'Mining',  'Oil&Gas', 'Telcos', 'Transportation']"
   ]
  },
  {
   "cell_type": "code",
   "execution_count": null,
   "metadata": {},
   "outputs": [],
   "source": [
    "dft19 = dft19.sort_values(by=['segmento'])"
   ]
  },
  {
   "cell_type": "code",
   "execution_count": null,
   "metadata": {},
   "outputs": [],
   "source": [
    "fig = plt.figure(figsize=(16,8))\n",
    "\n",
    "ax = sns.boxplot(data=dft19, x='segmento', y='cantidad', showmeans=True, meanline=True, \n",
    "                 flierprops = dict(markerfacecolor='0.5', markersize=0.1, linestyle='none'))\n",
    "\n",
    "plt.title(\"Volumen por Transacción, por Segmento\",fontsize=16)\n",
    "plt.ylabel('Litros por Transaccion [Lts]',fontsize=16)\n",
    "plt.xlabel('Segmento', fontsize=14)\n",
    "\n",
    "major_ticks = np.arange(0, 900, 50)\n",
    "minor_ticks = np.arange(0, 900, 10)\n",
    "\n",
    "plt.grid(True)\n",
    "ax.set_yticks(major_ticks)\n",
    "ax.set_yticks(minor_ticks, minor=True)\n",
    "#plt.xticks(fontsize=16)\n",
    "plt.xticks(np.arange(8), segList, fontsize=14, rotation=0)\n",
    "plt.yticks(fontsize=14)\n",
    "\n",
    "plt.ylim(0, 900)\n",
    "\n",
    "ax.grid(which='both')\n",
    "ax.grid(which='minor', alpha=0.2)\n",
    "ax.grid(which='major', alpha=0.75)\n",
    "\n",
    "#sns.despine()\n",
    "plt.show()"
   ]
  },
  {
   "cell_type": "code",
   "execution_count": null,
   "metadata": {},
   "outputs": [],
   "source": [
    "#fig.savefig('../results/boxplot_volxtransaxseg.png', bbox_inches = 'tight')"
   ]
  },
  {
   "cell_type": "markdown",
   "metadata": {},
   "source": [
    "#### CONSUMO POR EMPRESA"
   ]
  },
  {
   "cell_type": "code",
   "execution_count": null,
   "metadata": {},
   "outputs": [],
   "source": [
    "def TransactionsGroupedBySegAndCompany(dft):\n",
    "    dft_cons = dft.groupby(['segmento','id_empresa'])['cantidad'].sum()\n",
    "    ctot = dft_cons.sum()\n",
    "    dft_s_vtran = dft_cons.groupby('segmento').describe()\n",
    "    etot = dft19['id_empresa'].nunique()\n",
    "    dft_s_vtran['count %'] = dft_s_vtran['count']/etot*100 \n",
    "    dft_s_vtran['mean monthly'] = dft_s_vtran['mean']/12\n",
    "    dft_s_vtran['vol'] = dft_cons.groupby('segmento').sum()\n",
    "    dft_s_vtran['vol %'] = dft_s_vtran['vol']/ctot*100\n",
    "    dft_s_vtran['vol per comp'] = dft_s_vtran['vol']/dft_s_vtran['count']\n",
    "    dft_s_vtran['vol monthly'] = dft_s_vtran['vol']/12\n",
    "    dft_s_vtran = dft_s_vtran.transpose()\n",
    "    return (dft_s_vtran, dft_cons)"
   ]
  },
  {
   "cell_type": "code",
   "execution_count": null,
   "metadata": {},
   "outputs": [],
   "source": [
    "for i in 18, 19, 20:\n",
    "    vars()[f'dft{i}_s_vtran'], vars()[f'dft{i}_cons'] = TransactionsGroupedBySegAndCompany(eval(f'dft{i}'))"
   ]
  },
  {
   "cell_type": "code",
   "execution_count": null,
   "metadata": {},
   "outputs": [],
   "source": [
    "dft18_s_vtran"
   ]
  },
  {
   "cell_type": "code",
   "execution_count": null,
   "metadata": {},
   "outputs": [],
   "source": [
    "dft19_s_vtran"
   ]
  },
  {
   "cell_type": "code",
   "execution_count": null,
   "metadata": {},
   "outputs": [],
   "source": [
    "dft20_s_vtran"
   ]
  },
  {
   "cell_type": "code",
   "execution_count": null,
   "metadata": {},
   "outputs": [],
   "source": [
    "## SAVE DATA TO CSV\n",
    "[eval(f'dft{i}_s_vtran').to_csv(f'../results/dft{i}_s_vtran.csv') for i in (18, 19, 20)]"
   ]
  },
  {
   "cell_type": "markdown",
   "metadata": {},
   "source": [
    "**BOXPLOT**"
   ]
  },
  {
   "cell_type": "code",
   "execution_count": null,
   "metadata": {},
   "outputs": [],
   "source": [
    "dfc = dft19_cons.reset_index()"
   ]
  },
  {
   "cell_type": "code",
   "execution_count": null,
   "metadata": {},
   "outputs": [],
   "source": [
    "dfc['cantidad m'] = dfc['cantidad']/12"
   ]
  },
  {
   "cell_type": "code",
   "execution_count": null,
   "metadata": {},
   "outputs": [],
   "source": [
    "fig = plt.figure(figsize=(16,8))\n",
    "\n",
    "ax = sns.boxplot(data=dfc, x='segmento', y='cantidad m', showmeans=True, meanline=True, \n",
    "                 flierprops = dict(markerfacecolor='0.5', markersize=1, linestyle='none'))\n",
    "\n",
    "plt.title(\"Volumen Mensual Transaccionado por Empresa por Segmento\",fontsize=16)\n",
    "plt.ylabel('Litros Transaccionados [Lts]',fontsize=16)\n",
    "plt.xlabel('Segmento', fontsize=14)\n",
    "\n",
    "major_ticks = np.arange(0, 350000, 25000)\n",
    "minor_ticks = np.arange(0, 350000, 5000)\n",
    "plt.ylim(0, 350000)\n",
    "\n",
    "plt.grid(True)\n",
    "ax.set_yticks(major_ticks)\n",
    "ax.set_yticks(minor_ticks, minor=True)\n",
    "plt.xticks(fontsize=16)\n",
    "plt.xticks(np.arange(8), segList, fontsize=14, rotation=0)\n",
    "plt.yticks(fontsize=14)\n",
    "\n",
    "ax.grid(which='both')\n",
    "ax.grid(which='minor', alpha=0.2)\n",
    "ax.grid(which='major', alpha=0.75)\n",
    "\n",
    "#sns.despine()\n",
    "plt.show()"
   ]
  },
  {
   "cell_type": "code",
   "execution_count": null,
   "metadata": {},
   "outputs": [],
   "source": [
    "#fig.savefig('../results/boxplot_volxempresaxseg.png', bbox_inches = 'tight')"
   ]
  },
  {
   "cell_type": "code",
   "execution_count": null,
   "metadata": {},
   "outputs": [],
   "source": []
  },
  {
   "cell_type": "markdown",
   "metadata": {},
   "source": [
    "#### ANALISIS DE INFRAESTRUCTURAS POR SEGMENTO"
   ]
  },
  {
   "cell_type": "code",
   "execution_count": null,
   "metadata": {},
   "outputs": [],
   "source": [
    "def infra(df):\n",
    "    df_infra = df.groupby(['segmento','id_empresa'])['id_equipo', 'id_tanque', 'main_id'].nunique()\n",
    "    df_infra = df_infra.groupby('segmento').mean().transpose()\n",
    "    return df_infra"
   ]
  },
  {
   "cell_type": "code",
   "execution_count": null,
   "metadata": {},
   "outputs": [],
   "source": [
    "for i in 18, 19, 20:\n",
    "    vars()[f'dft{i}_infra'] = infra(eval(f'dft{i}'))"
   ]
  },
  {
   "cell_type": "code",
   "execution_count": null,
   "metadata": {},
   "outputs": [],
   "source": [
    "dft20_infra, dft19_infra, dft18_infra"
   ]
  },
  {
   "cell_type": "code",
   "execution_count": null,
   "metadata": {},
   "outputs": [],
   "source": [
    "## SAVE DATA TO CSV\n",
    "#dft_infra19.to_csv('../results/dft19_infra.csv')"
   ]
  },
  {
   "cell_type": "markdown",
   "metadata": {},
   "source": [
    "#### Distribuciones por Segmento"
   ]
  },
  {
   "cell_type": "code",
   "execution_count": null,
   "metadata": {},
   "outputs": [],
   "source": [
    "for y in (18, 19, 20):\n",
    "    df = eval(f'dft{y}')\n",
    "    for i in df['segmento'].unique():\n",
    "        vars()[f'{i}{y}'] = df[df['segmento'].str.contains(str(i), regex=True)].groupby('id_empresa')['cantidad'].sum()/12\n",
    "        vars()[f'{i}{y}'] = vars()[f'{i}{y}'].reset_index()\n",
    "        vars()[f'{i}{y}'].name = f'{i}{y}'"
   ]
  },
  {
   "cell_type": "code",
   "execution_count": null,
   "metadata": {},
   "outputs": [],
   "source": [
    "def histograma(df):\n",
    "    fig = plt.figure(figsize=(16,8))\n",
    "    \n",
    "    sns.distplot(df['cantidad'], bins=30)\n",
    "    \n",
    "    plt.title(f'Histograma de Empresas tipo {df.name} por Volumen Mensual',fontsize=16)\n",
    "    plt.ylabel('Empresas',fontsize=16)\n",
    "    plt.xlabel('Litros [Lts]', fontsize=14)\n",
    "    plt.grid(axis='y', alpha=0.75)\n",
    "    \n",
    "    #plt.ylim(0, 50)\n",
    "    plt.xlim(0, 200000)\n",
    "    plt.xticks(fontsize=16)\n",
    "    plt.yticks(fontsize=14)\n",
    "    \n",
    "    plt.show()"
   ]
  },
  {
   "cell_type": "code",
   "execution_count": null,
   "metadata": {},
   "outputs": [],
   "source": [
    "histograma(t20), histograma(t19), histograma(t18)"
   ]
  },
  {
   "cell_type": "code",
   "execution_count": null,
   "metadata": {},
   "outputs": [],
   "source": [
    "#fig.savefig('../results/hist_t19.png', bbox_inches = 'tight')"
   ]
  },
  {
   "cell_type": "code",
   "execution_count": null,
   "metadata": {},
   "outputs": [],
   "source": [
    "histograma(o20), histograma(o19), histograma(o18)"
   ]
  },
  {
   "cell_type": "code",
   "execution_count": null,
   "metadata": {},
   "outputs": [],
   "source": []
  }
 ],
 "metadata": {
  "kernelspec": {
   "display_name": "Python 3",
   "language": "python",
   "name": "python3"
  },
  "language_info": {
   "codemirror_mode": {
    "name": "ipython",
    "version": 3
   },
   "file_extension": ".py",
   "mimetype": "text/x-python",
   "name": "python",
   "nbconvert_exporter": "python",
   "pygments_lexer": "ipython3",
   "version": "3.7.5"
  }
 },
 "nbformat": 4,
 "nbformat_minor": 4
}
