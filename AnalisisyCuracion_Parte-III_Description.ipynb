{
 "cells": [
  {
   "cell_type": "markdown",
   "metadata": {},
   "source": [
    "### DESCRIPTORES DE MERCADO POR SEGMENTO\n",
    "**ANALISIS DE TRANSACCIONES E INFRAESTRUCTURAS POR SEGMENTO DE MERCADO**\n",
    "\n",
    "_By Diego Tondo, August 2020_"
   ]
  },
  {
   "cell_type": "code",
   "execution_count": 1,
   "metadata": {},
   "outputs": [],
   "source": [
    "import pandas as pd\n",
    "import numpy as np"
   ]
  },
  {
   "cell_type": "code",
   "execution_count": 2,
   "metadata": {},
   "outputs": [],
   "source": [
    "np.set_printoptions(precision=2)\n",
    "pd.set_option(\"display.precision\", 2)"
   ]
  },
  {
   "cell_type": "code",
   "execution_count": 3,
   "metadata": {},
   "outputs": [
    {
     "name": "stderr",
     "output_type": "stream",
     "text": [
      "/usr/local/lib/python3.7/site-packages/IPython/core/interactiveshell.py:3049: DtypeWarning: Columns (5,6,7,8,20,23,24) have mixed types.Specify dtype option on import or set low_memory=False.\n",
      "  interactivity=interactivity, compiler=compiler, result=result)\n"
     ]
    },
    {
     "data": {
      "text/plain": [
       "(2990501, 47)"
      ]
     },
     "execution_count": 3,
     "metadata": {},
     "output_type": "execute_result"
    }
   ],
   "source": [
    "dft = pd.read_csv('../dataset/data_csv/sis_transa_201801_202007_merged.csv.zip', \n",
    "                 parse_dates=['fecha'], \n",
    "                 compression='zip')\n",
    "dft.shape"
   ]
  },
  {
   "cell_type": "code",
   "execution_count": 4,
   "metadata": {},
   "outputs": [
    {
     "data": {
      "text/plain": [
       "(2901690, 47)"
      ]
     },
     "execution_count": 4,
     "metadata": {},
     "output_type": "execute_result"
    }
   ],
   "source": [
    "dft['id_empresa'] = dft['id_empresa'].astype('int')\n",
    "dft = dft[(dft['segmento']!='d')]\n",
    "dft.shape"
   ]
  },
  {
   "cell_type": "code",
   "execution_count": 5,
   "metadata": {},
   "outputs": [
    {
     "data": {
      "text/plain": [
       "Index(['baja_x', 'cantidad', 'codigo_error', 'departamento', 'fecha',\n",
       "       'fecha_stop', 'geo_latitud', 'geo_longitud', 'geo_status', 'hora',\n",
       "       'hora_stop', 'id_bomba', 'id_equipo', 'id_tanque', 'id_transaccion',\n",
       "       'id_usuario', 'id_vehiculo', 'producto', 'pump_site_id', 'sync',\n",
       "       'tank_site_id', 'temp_start', 'temp_stop', 'user_site_id',\n",
       "       'veh_site_id', 'veh_tag_id', 'volume_start', 'volume_stop',\n",
       "       'id_empresa', 'descripcion', 'ultima_fecha', 'ultima_fecha_h',\n",
       "       'firmware_version', 'baja_x.1', 'ultima_fecha_sync_db',\n",
       "       'current_firmware', 'ultima_sincronizacion', 'ultima_conexion',\n",
       "       'delay_ue', 'geo_latitude', 'geo_longitude', 'id_canal', 'empresa',\n",
       "       'baja_y', 'segmento', 'baja_y.1', 'main_id'],\n",
       "      dtype='object')"
      ]
     },
     "execution_count": 5,
     "metadata": {},
     "output_type": "execute_result"
    }
   ],
   "source": [
    "dft.columns"
   ]
  },
  {
   "cell_type": "code",
   "execution_count": 6,
   "metadata": {},
   "outputs": [],
   "source": [
    "dft18 = dft[ (dft['fecha']<'2019-01-01') ]\n",
    "dft19 = dft[ (dft['fecha']<'2020-01-01') & (dft['fecha']>='2019-01-01') ]\n",
    "dft20 = dft[ (dft['fecha']>='2020-01-01') ]"
   ]
  },
  {
   "cell_type": "code",
   "execution_count": 7,
   "metadata": {},
   "outputs": [
    {
     "data": {
      "text/plain": [
       "((1001236, 47), (1272986, 47), (627468, 47))"
      ]
     },
     "execution_count": 7,
     "metadata": {},
     "output_type": "execute_result"
    }
   ],
   "source": [
    "dft18.shape, dft19.shape, dft20.shape"
   ]
  },
  {
   "cell_type": "markdown",
   "metadata": {},
   "source": [
    "#### DESCRIPTORES GENERALES DE MERCADO"
   ]
  },
  {
   "cell_type": "code",
   "execution_count": 13,
   "metadata": {},
   "outputs": [
    {
     "name": "stdout",
     "output_type": "stream",
     "text": [
      "[196 221 207]\n"
     ]
    }
   ],
   "source": [
    "## CANTIDAD DE EMPRESAS POR AÑO\n",
    "qemp = np.asarray([dft18['id_empresa'].nunique(), dft19['id_empresa'].nunique(), dft20['id_empresa'].nunique()])\n",
    "print(qemp)"
   ]
  },
  {
   "cell_type": "code",
   "execution_count": 14,
   "metadata": {},
   "outputs": [
    {
     "name": "stdout",
     "output_type": "stream",
     "text": [
      "Litros controlados por año: [1.38e+08 1.83e+08 9.00e+07]\n"
     ]
    }
   ],
   "source": [
    "## CANTIDAD DE EMPRESAS POR AÑO\n",
    "scant = np.asarray([dft18['cantidad'].sum(), dft19['cantidad'].sum(), dft20['cantidad'].sum()])\n",
    "print(f'Litros controlados por año: {scant}')"
   ]
  },
  {
   "cell_type": "code",
   "execution_count": 15,
   "metadata": {},
   "outputs": [
    {
     "name": "stdout",
     "output_type": "stream",
     "text": [
      "Litros controlados en 20 respecto de 19: %49.23042487833016\n"
     ]
    }
   ],
   "source": [
    "print(f'Litros controlados en 20 respecto de 19: %{scant[2]/scant[1]*100}')"
   ]
  },
  {
   "cell_type": "code",
   "execution_count": 16,
   "metadata": {},
   "outputs": [
    {
     "name": "stdout",
     "output_type": "stream",
     "text": [
      "Litros controlados por empresa: [702839.62 827019.37 434681.54]\n"
     ]
    }
   ],
   "source": [
    "print(f'Litros controlados por empresa: {scant/qemp}')"
   ]
  },
  {
   "cell_type": "code",
   "execution_count": 17,
   "metadata": {},
   "outputs": [
    {
     "name": "stdout",
     "output_type": "stream",
     "text": [
      "Litros controlados por empresa por mes: [58569.97 68918.28 36223.46]\n"
     ]
    }
   ],
   "source": [
    "print(f'Litros controlados por empresa por mes: {scant/qemp/12}')"
   ]
  },
  {
   "cell_type": "code",
   "execution_count": 18,
   "metadata": {},
   "outputs": [
    {
     "data": {
      "text/plain": [
       "array([252, 375, 295])"
      ]
     },
     "execution_count": 18,
     "metadata": {},
     "output_type": "execute_result"
    }
   ],
   "source": [
    "## CANTIDAD DE SITIOS POR EMPRESA\n",
    "qsites = np.asarray([dft18['id_equipo'].nunique(), dft19['id_equipo'].nunique(), dft20['id_equipo'].nunique()])\n",
    "qsites"
   ]
  },
  {
   "cell_type": "code",
   "execution_count": 19,
   "metadata": {},
   "outputs": [
    {
     "name": "stdout",
     "output_type": "stream",
     "text": [
      "Sitios controlados por empresa: [1.29 1.7  1.43]\n"
     ]
    }
   ],
   "source": [
    "print(f'Sitios controlados por empresa: {qsites/qemp}')"
   ]
  },
  {
   "cell_type": "code",
   "execution_count": 20,
   "metadata": {},
   "outputs": [
    {
     "data": {
      "text/plain": [
       "array([326, 538, 371])"
      ]
     },
     "execution_count": 20,
     "metadata": {},
     "output_type": "execute_result"
    }
   ],
   "source": [
    "qtanks = np.asarray([dft18['id_tanque'].nunique(), dft19['id_tanque'].nunique(), dft20['id_tanque'].nunique()])\n",
    "qtanks"
   ]
  },
  {
   "cell_type": "code",
   "execution_count": 21,
   "metadata": {},
   "outputs": [
    {
     "name": "stdout",
     "output_type": "stream",
     "text": [
      "Tanques controlados por empresa: [1.66 2.43 1.79]\n"
     ]
    }
   ],
   "source": [
    "print(f'Tanques controlados por empresa: {qtanks/qemp}')"
   ]
  },
  {
   "cell_type": "code",
   "execution_count": 22,
   "metadata": {},
   "outputs": [
    {
     "name": "stdout",
     "output_type": "stream",
     "text": [
      "Tanques controlados por sitio: [1.29 1.43 1.26]\n"
     ]
    }
   ],
   "source": [
    "print(f'Tanques controlados por sitio: {qtanks/qsites}')"
   ]
  },
  {
   "cell_type": "markdown",
   "metadata": {},
   "source": [
    "#### DESCRIPTORES DE TRANSACCIONES POR SEGMENTO DE MERCADO"
   ]
  },
  {
   "cell_type": "code",
   "execution_count": 33,
   "metadata": {},
   "outputs": [],
   "source": [
    "def TransactionsGroupedBySegment(df):\n",
    "    dfg = df.groupby(['segmento'])['cantidad'].describe()\n",
    "    dfg['count %'] = dfg['count']/dfg['count'].sum()*100\n",
    "    dfg = dfg.transpose()\n",
    "    return dfg"
   ]
  },
  {
   "cell_type": "code",
   "execution_count": 34,
   "metadata": {},
   "outputs": [],
   "source": [
    "for i in (18, 19, 20):\n",
    "    vars()[f'dft{i}_s_qtran'] = TransactionsGroupedBySegment(eval(f'dft{i}'))"
   ]
  },
  {
   "cell_type": "code",
   "execution_count": 35,
   "metadata": {},
   "outputs": [
    {
     "data": {
      "text/html": [
       "<div>\n",
       "<style scoped>\n",
       "    .dataframe tbody tr th:only-of-type {\n",
       "        vertical-align: middle;\n",
       "    }\n",
       "\n",
       "    .dataframe tbody tr th {\n",
       "        vertical-align: top;\n",
       "    }\n",
       "\n",
       "    .dataframe thead th {\n",
       "        text-align: right;\n",
       "    }\n",
       "</style>\n",
       "<table border=\"1\" class=\"dataframe\">\n",
       "  <thead>\n",
       "    <tr style=\"text-align: right;\">\n",
       "      <th>segmento</th>\n",
       "      <th>a</th>\n",
       "      <th>c</th>\n",
       "      <th>e</th>\n",
       "      <th>i</th>\n",
       "      <th>m</th>\n",
       "      <th>o</th>\n",
       "      <th>s</th>\n",
       "      <th>t</th>\n",
       "    </tr>\n",
       "  </thead>\n",
       "  <tbody>\n",
       "    <tr>\n",
       "      <th>count</th>\n",
       "      <td>108387.00</td>\n",
       "      <td>100952.00</td>\n",
       "      <td>454710.00</td>\n",
       "      <td>76372.00</td>\n",
       "      <td>29444.00</td>\n",
       "      <td>134016.00</td>\n",
       "      <td>7487.00</td>\n",
       "      <td>361618.00</td>\n",
       "    </tr>\n",
       "    <tr>\n",
       "      <th>mean</th>\n",
       "      <td>187.46</td>\n",
       "      <td>213.74</td>\n",
       "      <td>22.53</td>\n",
       "      <td>110.02</td>\n",
       "      <td>284.09</td>\n",
       "      <td>281.04</td>\n",
       "      <td>91.75</td>\n",
       "      <td>208.81</td>\n",
       "    </tr>\n",
       "    <tr>\n",
       "      <th>std</th>\n",
       "      <td>421.50</td>\n",
       "      <td>686.27</td>\n",
       "      <td>65.13</td>\n",
       "      <td>169.06</td>\n",
       "      <td>520.00</td>\n",
       "      <td>842.39</td>\n",
       "      <td>105.81</td>\n",
       "      <td>237.01</td>\n",
       "    </tr>\n",
       "    <tr>\n",
       "      <th>min</th>\n",
       "      <td>0.00</td>\n",
       "      <td>0.00</td>\n",
       "      <td>0.00</td>\n",
       "      <td>0.00</td>\n",
       "      <td>0.00</td>\n",
       "      <td>0.00</td>\n",
       "      <td>0.00</td>\n",
       "      <td>0.00</td>\n",
       "    </tr>\n",
       "    <tr>\n",
       "      <th>25%</th>\n",
       "      <td>51.62</td>\n",
       "      <td>50.13</td>\n",
       "      <td>2.49</td>\n",
       "      <td>43.35</td>\n",
       "      <td>41.36</td>\n",
       "      <td>38.38</td>\n",
       "      <td>22.95</td>\n",
       "      <td>66.24</td>\n",
       "    </tr>\n",
       "    <tr>\n",
       "      <th>50%</th>\n",
       "      <td>100.16</td>\n",
       "      <td>97.06</td>\n",
       "      <td>7.83</td>\n",
       "      <td>62.27</td>\n",
       "      <td>150.21</td>\n",
       "      <td>65.56</td>\n",
       "      <td>69.65</td>\n",
       "      <td>133.02</td>\n",
       "    </tr>\n",
       "    <tr>\n",
       "      <th>75%</th>\n",
       "      <td>201.10</td>\n",
       "      <td>183.55</td>\n",
       "      <td>17.81</td>\n",
       "      <td>112.62</td>\n",
       "      <td>372.70</td>\n",
       "      <td>200.10</td>\n",
       "      <td>124.62</td>\n",
       "      <td>279.14</td>\n",
       "    </tr>\n",
       "    <tr>\n",
       "      <th>max</th>\n",
       "      <td>9999.26</td>\n",
       "      <td>100000.00</td>\n",
       "      <td>9997.90</td>\n",
       "      <td>5000.54</td>\n",
       "      <td>10002.22</td>\n",
       "      <td>36871.30</td>\n",
       "      <td>1148.18</td>\n",
       "      <td>13502.57</td>\n",
       "    </tr>\n",
       "    <tr>\n",
       "      <th>count %</th>\n",
       "      <td>8.51</td>\n",
       "      <td>7.93</td>\n",
       "      <td>35.72</td>\n",
       "      <td>6.00</td>\n",
       "      <td>2.31</td>\n",
       "      <td>10.53</td>\n",
       "      <td>0.59</td>\n",
       "      <td>28.41</td>\n",
       "    </tr>\n",
       "  </tbody>\n",
       "</table>\n",
       "</div>"
      ],
      "text/plain": [
       "segmento          a          c          e         i         m          o  \\\n",
       "count     108387.00  100952.00  454710.00  76372.00  29444.00  134016.00   \n",
       "mean         187.46     213.74      22.53    110.02    284.09     281.04   \n",
       "std          421.50     686.27      65.13    169.06    520.00     842.39   \n",
       "min            0.00       0.00       0.00      0.00      0.00       0.00   \n",
       "25%           51.62      50.13       2.49     43.35     41.36      38.38   \n",
       "50%          100.16      97.06       7.83     62.27    150.21      65.56   \n",
       "75%          201.10     183.55      17.81    112.62    372.70     200.10   \n",
       "max         9999.26  100000.00    9997.90   5000.54  10002.22   36871.30   \n",
       "count %        8.51       7.93      35.72      6.00      2.31      10.53   \n",
       "\n",
       "segmento        s          t  \n",
       "count     7487.00  361618.00  \n",
       "mean        91.75     208.81  \n",
       "std        105.81     237.01  \n",
       "min          0.00       0.00  \n",
       "25%         22.95      66.24  \n",
       "50%         69.65     133.02  \n",
       "75%        124.62     279.14  \n",
       "max       1148.18   13502.57  \n",
       "count %      0.59      28.41  "
      ]
     },
     "execution_count": 35,
     "metadata": {},
     "output_type": "execute_result"
    }
   ],
   "source": [
    "dft19_s_qtran"
   ]
  },
  {
   "cell_type": "code",
   "execution_count": 26,
   "metadata": {},
   "outputs": [
    {
     "data": {
      "text/html": [
       "<div>\n",
       "<style scoped>\n",
       "    .dataframe tbody tr th:only-of-type {\n",
       "        vertical-align: middle;\n",
       "    }\n",
       "\n",
       "    .dataframe tbody tr th {\n",
       "        vertical-align: top;\n",
       "    }\n",
       "\n",
       "    .dataframe thead th {\n",
       "        text-align: right;\n",
       "    }\n",
       "</style>\n",
       "<table border=\"1\" class=\"dataframe\">\n",
       "  <thead>\n",
       "    <tr style=\"text-align: right;\">\n",
       "      <th>segmento</th>\n",
       "      <th>a</th>\n",
       "      <th>c</th>\n",
       "      <th>e</th>\n",
       "      <th>i</th>\n",
       "      <th>m</th>\n",
       "      <th>o</th>\n",
       "      <th>t</th>\n",
       "    </tr>\n",
       "  </thead>\n",
       "  <tbody>\n",
       "    <tr>\n",
       "      <th>count</th>\n",
       "      <td>53230.00</td>\n",
       "      <td>91715.00</td>\n",
       "      <td>394633.00</td>\n",
       "      <td>38174.00</td>\n",
       "      <td>10010.00</td>\n",
       "      <td>81293.00</td>\n",
       "      <td>332181.00</td>\n",
       "    </tr>\n",
       "    <tr>\n",
       "      <th>mean</th>\n",
       "      <td>162.00</td>\n",
       "      <td>191.35</td>\n",
       "      <td>19.96</td>\n",
       "      <td>128.04</td>\n",
       "      <td>242.28</td>\n",
       "      <td>338.88</td>\n",
       "      <td>207.25</td>\n",
       "    </tr>\n",
       "    <tr>\n",
       "      <th>std</th>\n",
       "      <td>261.76</td>\n",
       "      <td>430.03</td>\n",
       "      <td>197.21</td>\n",
       "      <td>189.73</td>\n",
       "      <td>229.94</td>\n",
       "      <td>1252.23</td>\n",
       "      <td>264.08</td>\n",
       "    </tr>\n",
       "    <tr>\n",
       "      <th>min</th>\n",
       "      <td>0.00</td>\n",
       "      <td>0.00</td>\n",
       "      <td>0.00</td>\n",
       "      <td>0.00</td>\n",
       "      <td>0.00</td>\n",
       "      <td>0.00</td>\n",
       "      <td>0.00</td>\n",
       "    </tr>\n",
       "    <tr>\n",
       "      <th>25%</th>\n",
       "      <td>50.01</td>\n",
       "      <td>50.01</td>\n",
       "      <td>2.58</td>\n",
       "      <td>44.30</td>\n",
       "      <td>66.47</td>\n",
       "      <td>37.57</td>\n",
       "      <td>63.32</td>\n",
       "    </tr>\n",
       "    <tr>\n",
       "      <th>50%</th>\n",
       "      <td>93.13</td>\n",
       "      <td>95.53</td>\n",
       "      <td>7.13</td>\n",
       "      <td>67.06</td>\n",
       "      <td>183.35</td>\n",
       "      <td>51.67</td>\n",
       "      <td>125.02</td>\n",
       "    </tr>\n",
       "    <tr>\n",
       "      <th>75%</th>\n",
       "      <td>200.22</td>\n",
       "      <td>182.10</td>\n",
       "      <td>15.04</td>\n",
       "      <td>120.22</td>\n",
       "      <td>317.17</td>\n",
       "      <td>146.12</td>\n",
       "      <td>256.02</td>\n",
       "    </tr>\n",
       "    <tr>\n",
       "      <th>max</th>\n",
       "      <td>9999.25</td>\n",
       "      <td>8000.01</td>\n",
       "      <td>29063.78</td>\n",
       "      <td>4000.00</td>\n",
       "      <td>1200.20</td>\n",
       "      <td>100000.00</td>\n",
       "      <td>15039.84</td>\n",
       "    </tr>\n",
       "    <tr>\n",
       "      <th>count %</th>\n",
       "      <td>5.32</td>\n",
       "      <td>9.16</td>\n",
       "      <td>39.41</td>\n",
       "      <td>3.81</td>\n",
       "      <td>1.00</td>\n",
       "      <td>8.12</td>\n",
       "      <td>33.18</td>\n",
       "    </tr>\n",
       "  </tbody>\n",
       "</table>\n",
       "</div>"
      ],
      "text/plain": [
       "segmento         a         c          e         i         m          o  \\\n",
       "count     53230.00  91715.00  394633.00  38174.00  10010.00   81293.00   \n",
       "mean        162.00    191.35      19.96    128.04    242.28     338.88   \n",
       "std         261.76    430.03     197.21    189.73    229.94    1252.23   \n",
       "min           0.00      0.00       0.00      0.00      0.00       0.00   \n",
       "25%          50.01     50.01       2.58     44.30     66.47      37.57   \n",
       "50%          93.13     95.53       7.13     67.06    183.35      51.67   \n",
       "75%         200.22    182.10      15.04    120.22    317.17     146.12   \n",
       "max        9999.25   8000.01   29063.78   4000.00   1200.20  100000.00   \n",
       "count %       5.32      9.16      39.41      3.81      1.00       8.12   \n",
       "\n",
       "segmento          t  \n",
       "count     332181.00  \n",
       "mean         207.25  \n",
       "std          264.08  \n",
       "min            0.00  \n",
       "25%           63.32  \n",
       "50%          125.02  \n",
       "75%          256.02  \n",
       "max        15039.84  \n",
       "count %       33.18  "
      ]
     },
     "execution_count": 26,
     "metadata": {},
     "output_type": "execute_result"
    }
   ],
   "source": [
    "dft18_s_qtran"
   ]
  },
  {
   "cell_type": "code",
   "execution_count": 36,
   "metadata": {},
   "outputs": [
    {
     "data": {
      "text/html": [
       "<div>\n",
       "<style scoped>\n",
       "    .dataframe tbody tr th:only-of-type {\n",
       "        vertical-align: middle;\n",
       "    }\n",
       "\n",
       "    .dataframe tbody tr th {\n",
       "        vertical-align: top;\n",
       "    }\n",
       "\n",
       "    .dataframe thead th {\n",
       "        text-align: right;\n",
       "    }\n",
       "</style>\n",
       "<table border=\"1\" class=\"dataframe\">\n",
       "  <thead>\n",
       "    <tr style=\"text-align: right;\">\n",
       "      <th>segmento</th>\n",
       "      <th>a</th>\n",
       "      <th>c</th>\n",
       "      <th>e</th>\n",
       "      <th>i</th>\n",
       "      <th>m</th>\n",
       "      <th>o</th>\n",
       "      <th>s</th>\n",
       "      <th>t</th>\n",
       "    </tr>\n",
       "  </thead>\n",
       "  <tbody>\n",
       "    <tr>\n",
       "      <th>count</th>\n",
       "      <td>108387.00</td>\n",
       "      <td>100952.00</td>\n",
       "      <td>454710.00</td>\n",
       "      <td>76372.00</td>\n",
       "      <td>29444.00</td>\n",
       "      <td>134016.00</td>\n",
       "      <td>7487.00</td>\n",
       "      <td>361618.00</td>\n",
       "    </tr>\n",
       "    <tr>\n",
       "      <th>mean</th>\n",
       "      <td>187.46</td>\n",
       "      <td>213.74</td>\n",
       "      <td>22.53</td>\n",
       "      <td>110.02</td>\n",
       "      <td>284.09</td>\n",
       "      <td>281.04</td>\n",
       "      <td>91.75</td>\n",
       "      <td>208.81</td>\n",
       "    </tr>\n",
       "    <tr>\n",
       "      <th>std</th>\n",
       "      <td>421.50</td>\n",
       "      <td>686.27</td>\n",
       "      <td>65.13</td>\n",
       "      <td>169.06</td>\n",
       "      <td>520.00</td>\n",
       "      <td>842.39</td>\n",
       "      <td>105.81</td>\n",
       "      <td>237.01</td>\n",
       "    </tr>\n",
       "    <tr>\n",
       "      <th>min</th>\n",
       "      <td>0.00</td>\n",
       "      <td>0.00</td>\n",
       "      <td>0.00</td>\n",
       "      <td>0.00</td>\n",
       "      <td>0.00</td>\n",
       "      <td>0.00</td>\n",
       "      <td>0.00</td>\n",
       "      <td>0.00</td>\n",
       "    </tr>\n",
       "    <tr>\n",
       "      <th>25%</th>\n",
       "      <td>51.62</td>\n",
       "      <td>50.13</td>\n",
       "      <td>2.49</td>\n",
       "      <td>43.35</td>\n",
       "      <td>41.36</td>\n",
       "      <td>38.38</td>\n",
       "      <td>22.95</td>\n",
       "      <td>66.24</td>\n",
       "    </tr>\n",
       "    <tr>\n",
       "      <th>50%</th>\n",
       "      <td>100.16</td>\n",
       "      <td>97.06</td>\n",
       "      <td>7.83</td>\n",
       "      <td>62.27</td>\n",
       "      <td>150.21</td>\n",
       "      <td>65.56</td>\n",
       "      <td>69.65</td>\n",
       "      <td>133.02</td>\n",
       "    </tr>\n",
       "    <tr>\n",
       "      <th>75%</th>\n",
       "      <td>201.10</td>\n",
       "      <td>183.55</td>\n",
       "      <td>17.81</td>\n",
       "      <td>112.62</td>\n",
       "      <td>372.70</td>\n",
       "      <td>200.10</td>\n",
       "      <td>124.62</td>\n",
       "      <td>279.14</td>\n",
       "    </tr>\n",
       "    <tr>\n",
       "      <th>max</th>\n",
       "      <td>9999.26</td>\n",
       "      <td>100000.00</td>\n",
       "      <td>9997.90</td>\n",
       "      <td>5000.54</td>\n",
       "      <td>10002.22</td>\n",
       "      <td>36871.30</td>\n",
       "      <td>1148.18</td>\n",
       "      <td>13502.57</td>\n",
       "    </tr>\n",
       "    <tr>\n",
       "      <th>count %</th>\n",
       "      <td>8.51</td>\n",
       "      <td>7.93</td>\n",
       "      <td>35.72</td>\n",
       "      <td>6.00</td>\n",
       "      <td>2.31</td>\n",
       "      <td>10.53</td>\n",
       "      <td>0.59</td>\n",
       "      <td>28.41</td>\n",
       "    </tr>\n",
       "  </tbody>\n",
       "</table>\n",
       "</div>"
      ],
      "text/plain": [
       "segmento          a          c          e         i         m          o  \\\n",
       "count     108387.00  100952.00  454710.00  76372.00  29444.00  134016.00   \n",
       "mean         187.46     213.74      22.53    110.02    284.09     281.04   \n",
       "std          421.50     686.27      65.13    169.06    520.00     842.39   \n",
       "min            0.00       0.00       0.00      0.00      0.00       0.00   \n",
       "25%           51.62      50.13       2.49     43.35     41.36      38.38   \n",
       "50%          100.16      97.06       7.83     62.27    150.21      65.56   \n",
       "75%          201.10     183.55      17.81    112.62    372.70     200.10   \n",
       "max         9999.26  100000.00    9997.90   5000.54  10002.22   36871.30   \n",
       "count %        8.51       7.93      35.72      6.00      2.31      10.53   \n",
       "\n",
       "segmento        s          t  \n",
       "count     7487.00  361618.00  \n",
       "mean        91.75     208.81  \n",
       "std        105.81     237.01  \n",
       "min          0.00       0.00  \n",
       "25%         22.95      66.24  \n",
       "50%         69.65     133.02  \n",
       "75%        124.62     279.14  \n",
       "max       1148.18   13502.57  \n",
       "count %      0.59      28.41  "
      ]
     },
     "execution_count": 36,
     "metadata": {},
     "output_type": "execute_result"
    }
   ],
   "source": [
    "dft19_s_qtran"
   ]
  },
  {
   "cell_type": "code",
   "execution_count": 37,
   "metadata": {},
   "outputs": [
    {
     "data": {
      "text/html": [
       "<div>\n",
       "<style scoped>\n",
       "    .dataframe tbody tr th:only-of-type {\n",
       "        vertical-align: middle;\n",
       "    }\n",
       "\n",
       "    .dataframe tbody tr th {\n",
       "        vertical-align: top;\n",
       "    }\n",
       "\n",
       "    .dataframe thead th {\n",
       "        text-align: right;\n",
       "    }\n",
       "</style>\n",
       "<table border=\"1\" class=\"dataframe\">\n",
       "  <thead>\n",
       "    <tr style=\"text-align: right;\">\n",
       "      <th>segmento</th>\n",
       "      <th>a</th>\n",
       "      <th>c</th>\n",
       "      <th>e</th>\n",
       "      <th>i</th>\n",
       "      <th>m</th>\n",
       "      <th>o</th>\n",
       "      <th>t</th>\n",
       "    </tr>\n",
       "  </thead>\n",
       "  <tbody>\n",
       "    <tr>\n",
       "      <th>count</th>\n",
       "      <td>73266.00</td>\n",
       "      <td>50668.00</td>\n",
       "      <td>214968.00</td>\n",
       "      <td>61803.00</td>\n",
       "      <td>12915.00</td>\n",
       "      <td>56288.00</td>\n",
       "      <td>157560.00</td>\n",
       "    </tr>\n",
       "    <tr>\n",
       "      <th>mean</th>\n",
       "      <td>201.91</td>\n",
       "      <td>189.11</td>\n",
       "      <td>26.15</td>\n",
       "      <td>140.56</td>\n",
       "      <td>370.50</td>\n",
       "      <td>177.62</td>\n",
       "      <td>231.73</td>\n",
       "    </tr>\n",
       "    <tr>\n",
       "      <th>std</th>\n",
       "      <td>506.03</td>\n",
       "      <td>917.49</td>\n",
       "      <td>94.03</td>\n",
       "      <td>209.57</td>\n",
       "      <td>741.53</td>\n",
       "      <td>623.50</td>\n",
       "      <td>240.45</td>\n",
       "    </tr>\n",
       "    <tr>\n",
       "      <th>min</th>\n",
       "      <td>0.00</td>\n",
       "      <td>0.00</td>\n",
       "      <td>0.00</td>\n",
       "      <td>0.00</td>\n",
       "      <td>0.00</td>\n",
       "      <td>0.00</td>\n",
       "      <td>0.00</td>\n",
       "    </tr>\n",
       "    <tr>\n",
       "      <th>25%</th>\n",
       "      <td>42.70</td>\n",
       "      <td>48.35</td>\n",
       "      <td>2.48</td>\n",
       "      <td>50.57</td>\n",
       "      <td>39.60</td>\n",
       "      <td>37.00</td>\n",
       "      <td>71.14</td>\n",
       "    </tr>\n",
       "    <tr>\n",
       "      <th>50%</th>\n",
       "      <td>100.03</td>\n",
       "      <td>86.59</td>\n",
       "      <td>7.76</td>\n",
       "      <td>81.11</td>\n",
       "      <td>139.70</td>\n",
       "      <td>60.00</td>\n",
       "      <td>161.82</td>\n",
       "    </tr>\n",
       "    <tr>\n",
       "      <th>75%</th>\n",
       "      <td>200.29</td>\n",
       "      <td>168.90</td>\n",
       "      <td>16.76</td>\n",
       "      <td>145.00</td>\n",
       "      <td>509.50</td>\n",
       "      <td>116.60</td>\n",
       "      <td>335.53</td>\n",
       "    </tr>\n",
       "    <tr>\n",
       "      <th>max</th>\n",
       "      <td>10021.50</td>\n",
       "      <td>74476.19</td>\n",
       "      <td>11924.48</td>\n",
       "      <td>4994.20</td>\n",
       "      <td>12843.69</td>\n",
       "      <td>19216.64</td>\n",
       "      <td>6999.02</td>\n",
       "    </tr>\n",
       "    <tr>\n",
       "      <th>count %</th>\n",
       "      <td>11.68</td>\n",
       "      <td>8.07</td>\n",
       "      <td>34.26</td>\n",
       "      <td>9.85</td>\n",
       "      <td>2.06</td>\n",
       "      <td>8.97</td>\n",
       "      <td>25.11</td>\n",
       "    </tr>\n",
       "  </tbody>\n",
       "</table>\n",
       "</div>"
      ],
      "text/plain": [
       "segmento         a         c          e         i         m         o  \\\n",
       "count     73266.00  50668.00  214968.00  61803.00  12915.00  56288.00   \n",
       "mean        201.91    189.11      26.15    140.56    370.50    177.62   \n",
       "std         506.03    917.49      94.03    209.57    741.53    623.50   \n",
       "min           0.00      0.00       0.00      0.00      0.00      0.00   \n",
       "25%          42.70     48.35       2.48     50.57     39.60     37.00   \n",
       "50%         100.03     86.59       7.76     81.11    139.70     60.00   \n",
       "75%         200.29    168.90      16.76    145.00    509.50    116.60   \n",
       "max       10021.50  74476.19   11924.48   4994.20  12843.69  19216.64   \n",
       "count %      11.68      8.07      34.26      9.85      2.06      8.97   \n",
       "\n",
       "segmento          t  \n",
       "count     157560.00  \n",
       "mean         231.73  \n",
       "std          240.45  \n",
       "min            0.00  \n",
       "25%           71.14  \n",
       "50%          161.82  \n",
       "75%          335.53  \n",
       "max         6999.02  \n",
       "count %       25.11  "
      ]
     },
     "execution_count": 37,
     "metadata": {},
     "output_type": "execute_result"
    }
   ],
   "source": [
    "dft20_s_qtran"
   ]
  },
  {
   "cell_type": "code",
   "execution_count": 70,
   "metadata": {},
   "outputs": [],
   "source": [
    "## SAVE DATA TO CSV\n",
    "#[eval(f'dft{i}_s_qtran').to_csv(f'../results/dft{i}_s_qtran.csv') for i in (18, 19, 20)]"
   ]
  },
  {
   "cell_type": "markdown",
   "metadata": {},
   "source": [
    "**BOXPLOT**"
   ]
  },
  {
   "cell_type": "code",
   "execution_count": 77,
   "metadata": {},
   "outputs": [],
   "source": [
    "import seaborn as sns\n",
    "import matplotlib.pyplot as plt"
   ]
  },
  {
   "cell_type": "code",
   "execution_count": 31,
   "metadata": {},
   "outputs": [],
   "source": [
    "sns.set_style(\"whitegrid\", {\"grid.color\": \".9\"})"
   ]
  },
  {
   "cell_type": "code",
   "execution_count": 32,
   "metadata": {},
   "outputs": [],
   "source": [
    "segList = ['Agriculture', 'Construction', 'Service Stations', 'Industry', 'Mining',  'Oil&Gas', 'Telcos', 'Transportation']"
   ]
  },
  {
   "cell_type": "code",
   "execution_count": 33,
   "metadata": {},
   "outputs": [],
   "source": [
    "dft19 = dft19.sort_values(by=['segmento'])"
   ]
  },
  {
   "cell_type": "code",
   "execution_count": 34,
   "metadata": {},
   "outputs": [
    {
     "data": {
      "image/png": "[encoded data removed]",
      "text/plain": [
       "<Figure size 1152x576 with 1 Axes>"
      ]
     },
     "metadata": {},
     "output_type": "display_data"
    }
   ],
   "source": [
    "fig = plt.figure(figsize=(16,8))\n",
    "\n",
    "ax = sns.boxplot(data=dft19, x='segmento', y='cantidad', showmeans=True, meanline=True, \n",
    "                 flierprops = dict(markerfacecolor='0.5', markersize=0.1, linestyle='none'))\n",
    "\n",
    "plt.title(\"Volumen por Transacción, por Segmento\",fontsize=16)\n",
    "plt.ylabel('Litros por Transaccion [Lts]',fontsize=16)\n",
    "plt.xlabel('Segmento', fontsize=14)\n",
    "\n",
    "major_ticks = np.arange(0, 900, 50)\n",
    "minor_ticks = np.arange(0, 900, 10)\n",
    "\n",
    "plt.grid(True)\n",
    "ax.set_yticks(major_ticks)\n",
    "ax.set_yticks(minor_ticks, minor=True)\n",
    "#plt.xticks(fontsize=16)\n",
    "plt.xticks(np.arange(8), segList, fontsize=14, rotation=0)\n",
    "plt.yticks(fontsize=14)\n",
    "\n",
    "plt.ylim(0, 900)\n",
    "\n",
    "ax.grid(which='both')\n",
    "ax.grid(which='minor', alpha=0.2)\n",
    "ax.grid(which='major', alpha=0.75)\n",
    "\n",
    "#sns.despine()\n",
    "plt.show()"
   ]
  },
  {
   "cell_type": "code",
   "execution_count": 35,
   "metadata": {},
   "outputs": [],
   "source": [
    "#fig.savefig('../results/boxplot_volxtransaxseg.png', bbox_inches = 'tight')"
   ]
  },
  {
   "cell_type": "markdown",
   "metadata": {},
   "source": [
    "#### CONSUMO POR EMPRESA"
   ]
  },
  {
   "cell_type": "code",
   "execution_count": 57,
   "metadata": {},
   "outputs": [],
   "source": [
    "def TransactionsGroupedBySegAndCompany(dft):\n",
    "    dft_cons = dft.groupby(['segmento','id_empresa'])['cantidad'].sum()\n",
    "    ctot = dft_cons.sum()\n",
    "    dft_s_vtran = dft_cons.groupby('segmento').describe()\n",
    "    etot = dft19['id_empresa'].nunique()\n",
    "    dft_s_vtran['count %'] = dft_s_vtran['count']/etot*100 \n",
    "    dft_s_vtran['mean monthly'] = dft_s_vtran['mean']/12\n",
    "    dft_s_vtran['vol'] = dft_cons.groupby('segmento').sum()\n",
    "    dft_s_vtran['vol %'] = dft_s_vtran['vol']/ctot*100\n",
    "    dft_s_vtran['vol per comp'] = dft_s_vtran['vol']/dft_s_vtran['count']\n",
    "    dft_s_vtran['vol monthly'] = dft_s_vtran['vol']/12\n",
    "    dft_s_vtran = dft_s_vtran.transpose()\n",
    "    return (dft_s_vtran, dft_cons)"
   ]
  },
  {
   "cell_type": "code",
   "execution_count": 63,
   "metadata": {},
   "outputs": [],
   "source": [
    "for i in 18, 19, 20:\n",
    "    vars()[f'dft{i}_s_vtran'], vars()[f'dft{i}_cons'] = TransactionsGroupedBySegAndCompany(eval(f'dft{i}'))"
   ]
  },
  {
   "cell_type": "code",
   "execution_count": 67,
   "metadata": {},
   "outputs": [
    {
     "data": {
      "text/html": [
       "<div>\n",
       "<style scoped>\n",
       "    .dataframe tbody tr th:only-of-type {\n",
       "        vertical-align: middle;\n",
       "    }\n",
       "\n",
       "    .dataframe tbody tr th {\n",
       "        vertical-align: top;\n",
       "    }\n",
       "\n",
       "    .dataframe thead th {\n",
       "        text-align: right;\n",
       "    }\n",
       "</style>\n",
       "<table border=\"1\" class=\"dataframe\">\n",
       "  <thead>\n",
       "    <tr style=\"text-align: right;\">\n",
       "      <th>segmento</th>\n",
       "      <th>a</th>\n",
       "      <th>c</th>\n",
       "      <th>e</th>\n",
       "      <th>i</th>\n",
       "      <th>m</th>\n",
       "      <th>o</th>\n",
       "      <th>t</th>\n",
       "    </tr>\n",
       "  </thead>\n",
       "  <tbody>\n",
       "    <tr>\n",
       "      <th>count</th>\n",
       "      <td>3.50e+01</td>\n",
       "      <td>3.30e+01</td>\n",
       "      <td>7.00e+00</td>\n",
       "      <td>1.80e+01</td>\n",
       "      <td>5.00e+00</td>\n",
       "      <td>2.00e+01</td>\n",
       "      <td>7.80e+01</td>\n",
       "    </tr>\n",
       "    <tr>\n",
       "      <th>mean</th>\n",
       "      <td>2.46e+05</td>\n",
       "      <td>5.32e+05</td>\n",
       "      <td>1.13e+06</td>\n",
       "      <td>2.72e+05</td>\n",
       "      <td>4.85e+05</td>\n",
       "      <td>1.38e+06</td>\n",
       "      <td>8.83e+05</td>\n",
       "    </tr>\n",
       "    <tr>\n",
       "      <th>std</th>\n",
       "      <td>2.14e+05</td>\n",
       "      <td>7.07e+05</td>\n",
       "      <td>1.12e+06</td>\n",
       "      <td>3.04e+05</td>\n",
       "      <td>5.21e+05</td>\n",
       "      <td>4.53e+06</td>\n",
       "      <td>1.52e+06</td>\n",
       "    </tr>\n",
       "    <tr>\n",
       "      <th>min</th>\n",
       "      <td>1.25e+02</td>\n",
       "      <td>1.51e+02</td>\n",
       "      <td>0.00e+00</td>\n",
       "      <td>1.66e+02</td>\n",
       "      <td>2.26e+02</td>\n",
       "      <td>0.00e+00</td>\n",
       "      <td>0.00e+00</td>\n",
       "    </tr>\n",
       "    <tr>\n",
       "      <th>25%</th>\n",
       "      <td>6.67e+04</td>\n",
       "      <td>5.91e+04</td>\n",
       "      <td>2.84e+05</td>\n",
       "      <td>8.08e+04</td>\n",
       "      <td>9.23e+04</td>\n",
       "      <td>4.20e+04</td>\n",
       "      <td>2.15e+05</td>\n",
       "    </tr>\n",
       "    <tr>\n",
       "      <th>50%</th>\n",
       "      <td>2.09e+05</td>\n",
       "      <td>2.31e+05</td>\n",
       "      <td>1.02e+06</td>\n",
       "      <td>2.33e+05</td>\n",
       "      <td>4.14e+05</td>\n",
       "      <td>1.84e+05</td>\n",
       "      <td>4.13e+05</td>\n",
       "    </tr>\n",
       "    <tr>\n",
       "      <th>75%</th>\n",
       "      <td>3.55e+05</td>\n",
       "      <td>7.94e+05</td>\n",
       "      <td>1.58e+06</td>\n",
       "      <td>3.15e+05</td>\n",
       "      <td>6.12e+05</td>\n",
       "      <td>7.76e+05</td>\n",
       "      <td>1.06e+06</td>\n",
       "    </tr>\n",
       "    <tr>\n",
       "      <th>max</th>\n",
       "      <td>6.90e+05</td>\n",
       "      <td>3.25e+06</td>\n",
       "      <td>3.13e+06</td>\n",
       "      <td>1.16e+06</td>\n",
       "      <td>1.31e+06</td>\n",
       "      <td>2.06e+07</td>\n",
       "      <td>1.00e+07</td>\n",
       "    </tr>\n",
       "    <tr>\n",
       "      <th>count %</th>\n",
       "      <td>1.58e+01</td>\n",
       "      <td>1.49e+01</td>\n",
       "      <td>3.17e+00</td>\n",
       "      <td>8.14e+00</td>\n",
       "      <td>2.26e+00</td>\n",
       "      <td>9.05e+00</td>\n",
       "      <td>3.53e+01</td>\n",
       "    </tr>\n",
       "    <tr>\n",
       "      <th>mean monthly</th>\n",
       "      <td>2.05e+04</td>\n",
       "      <td>4.43e+04</td>\n",
       "      <td>9.38e+04</td>\n",
       "      <td>2.26e+04</td>\n",
       "      <td>4.04e+04</td>\n",
       "      <td>1.15e+05</td>\n",
       "      <td>7.36e+04</td>\n",
       "    </tr>\n",
       "    <tr>\n",
       "      <th>vol</th>\n",
       "      <td>8.62e+06</td>\n",
       "      <td>1.76e+07</td>\n",
       "      <td>7.88e+06</td>\n",
       "      <td>4.89e+06</td>\n",
       "      <td>2.43e+06</td>\n",
       "      <td>2.75e+07</td>\n",
       "      <td>6.88e+07</td>\n",
       "    </tr>\n",
       "    <tr>\n",
       "      <th>vol %</th>\n",
       "      <td>6.26e+00</td>\n",
       "      <td>1.27e+01</td>\n",
       "      <td>5.72e+00</td>\n",
       "      <td>3.55e+00</td>\n",
       "      <td>1.76e+00</td>\n",
       "      <td>2.00e+01</td>\n",
       "      <td>5.00e+01</td>\n",
       "    </tr>\n",
       "    <tr>\n",
       "      <th>vol per comp</th>\n",
       "      <td>2.46e+05</td>\n",
       "      <td>5.32e+05</td>\n",
       "      <td>1.13e+06</td>\n",
       "      <td>2.72e+05</td>\n",
       "      <td>4.85e+05</td>\n",
       "      <td>1.38e+06</td>\n",
       "      <td>8.83e+05</td>\n",
       "    </tr>\n",
       "    <tr>\n",
       "      <th>vol monthly</th>\n",
       "      <td>7.19e+05</td>\n",
       "      <td>1.46e+06</td>\n",
       "      <td>6.57e+05</td>\n",
       "      <td>4.07e+05</td>\n",
       "      <td>2.02e+05</td>\n",
       "      <td>2.30e+06</td>\n",
       "      <td>5.74e+06</td>\n",
       "    </tr>\n",
       "  </tbody>\n",
       "</table>\n",
       "</div>"
      ],
      "text/plain": [
       "segmento             a         c         e         i         m         o  \\\n",
       "count         3.50e+01  3.30e+01  7.00e+00  1.80e+01  5.00e+00  2.00e+01   \n",
       "mean          2.46e+05  5.32e+05  1.13e+06  2.72e+05  4.85e+05  1.38e+06   \n",
       "std           2.14e+05  7.07e+05  1.12e+06  3.04e+05  5.21e+05  4.53e+06   \n",
       "min           1.25e+02  1.51e+02  0.00e+00  1.66e+02  2.26e+02  0.00e+00   \n",
       "25%           6.67e+04  5.91e+04  2.84e+05  8.08e+04  9.23e+04  4.20e+04   \n",
       "50%           2.09e+05  2.31e+05  1.02e+06  2.33e+05  4.14e+05  1.84e+05   \n",
       "75%           3.55e+05  7.94e+05  1.58e+06  3.15e+05  6.12e+05  7.76e+05   \n",
       "max           6.90e+05  3.25e+06  3.13e+06  1.16e+06  1.31e+06  2.06e+07   \n",
       "count %       1.58e+01  1.49e+01  3.17e+00  8.14e+00  2.26e+00  9.05e+00   \n",
       "mean monthly  2.05e+04  4.43e+04  9.38e+04  2.26e+04  4.04e+04  1.15e+05   \n",
       "vol           8.62e+06  1.76e+07  7.88e+06  4.89e+06  2.43e+06  2.75e+07   \n",
       "vol %         6.26e+00  1.27e+01  5.72e+00  3.55e+00  1.76e+00  2.00e+01   \n",
       "vol per comp  2.46e+05  5.32e+05  1.13e+06  2.72e+05  4.85e+05  1.38e+06   \n",
       "vol monthly   7.19e+05  1.46e+06  6.57e+05  4.07e+05  2.02e+05  2.30e+06   \n",
       "\n",
       "segmento             t  \n",
       "count         7.80e+01  \n",
       "mean          8.83e+05  \n",
       "std           1.52e+06  \n",
       "min           0.00e+00  \n",
       "25%           2.15e+05  \n",
       "50%           4.13e+05  \n",
       "75%           1.06e+06  \n",
       "max           1.00e+07  \n",
       "count %       3.53e+01  \n",
       "mean monthly  7.36e+04  \n",
       "vol           6.88e+07  \n",
       "vol %         5.00e+01  \n",
       "vol per comp  8.83e+05  \n",
       "vol monthly   5.74e+06  "
      ]
     },
     "execution_count": 67,
     "metadata": {},
     "output_type": "execute_result"
    }
   ],
   "source": [
    "dft18_s_vtran"
   ]
  },
  {
   "cell_type": "code",
   "execution_count": 68,
   "metadata": {},
   "outputs": [
    {
     "data": {
      "text/html": [
       "<div>\n",
       "<style scoped>\n",
       "    .dataframe tbody tr th:only-of-type {\n",
       "        vertical-align: middle;\n",
       "    }\n",
       "\n",
       "    .dataframe tbody tr th {\n",
       "        vertical-align: top;\n",
       "    }\n",
       "\n",
       "    .dataframe thead th {\n",
       "        text-align: right;\n",
       "    }\n",
       "</style>\n",
       "<table border=\"1\" class=\"dataframe\">\n",
       "  <thead>\n",
       "    <tr style=\"text-align: right;\">\n",
       "      <th>segmento</th>\n",
       "      <th>a</th>\n",
       "      <th>c</th>\n",
       "      <th>e</th>\n",
       "      <th>i</th>\n",
       "      <th>m</th>\n",
       "      <th>o</th>\n",
       "      <th>s</th>\n",
       "      <th>t</th>\n",
       "    </tr>\n",
       "  </thead>\n",
       "  <tbody>\n",
       "    <tr>\n",
       "      <th>count</th>\n",
       "      <td>4.10e+01</td>\n",
       "      <td>3.30e+01</td>\n",
       "      <td>6.00e+00</td>\n",
       "      <td>2.30e+01</td>\n",
       "      <td>9.00e+00</td>\n",
       "      <td>3.00e+01</td>\n",
       "      <td>1.00</td>\n",
       "      <td>7.80e+01</td>\n",
       "    </tr>\n",
       "    <tr>\n",
       "      <th>mean</th>\n",
       "      <td>4.96e+05</td>\n",
       "      <td>6.54e+05</td>\n",
       "      <td>1.71e+06</td>\n",
       "      <td>3.65e+05</td>\n",
       "      <td>9.29e+05</td>\n",
       "      <td>1.26e+06</td>\n",
       "      <td>686937.36</td>\n",
       "      <td>9.68e+05</td>\n",
       "    </tr>\n",
       "    <tr>\n",
       "      <th>std</th>\n",
       "      <td>7.53e+05</td>\n",
       "      <td>8.57e+05</td>\n",
       "      <td>1.67e+06</td>\n",
       "      <td>4.78e+05</td>\n",
       "      <td>1.58e+06</td>\n",
       "      <td>3.85e+06</td>\n",
       "      <td>NaN</td>\n",
       "      <td>1.47e+06</td>\n",
       "    </tr>\n",
       "    <tr>\n",
       "      <th>min</th>\n",
       "      <td>1.36e+02</td>\n",
       "      <td>9.95e+02</td>\n",
       "      <td>6.17e+04</td>\n",
       "      <td>5.45e+02</td>\n",
       "      <td>0.00e+00</td>\n",
       "      <td>0.00e+00</td>\n",
       "      <td>686937.36</td>\n",
       "      <td>0.00e+00</td>\n",
       "    </tr>\n",
       "    <tr>\n",
       "      <th>25%</th>\n",
       "      <td>6.66e+04</td>\n",
       "      <td>6.09e+04</td>\n",
       "      <td>2.66e+05</td>\n",
       "      <td>3.82e+04</td>\n",
       "      <td>2.07e+04</td>\n",
       "      <td>8.72e+04</td>\n",
       "      <td>686937.36</td>\n",
       "      <td>1.85e+05</td>\n",
       "    </tr>\n",
       "    <tr>\n",
       "      <th>50%</th>\n",
       "      <td>3.00e+05</td>\n",
       "      <td>3.32e+05</td>\n",
       "      <td>1.62e+06</td>\n",
       "      <td>2.29e+05</td>\n",
       "      <td>4.39e+05</td>\n",
       "      <td>3.75e+05</td>\n",
       "      <td>686937.36</td>\n",
       "      <td>4.19e+05</td>\n",
       "    </tr>\n",
       "    <tr>\n",
       "      <th>75%</th>\n",
       "      <td>6.02e+05</td>\n",
       "      <td>8.23e+05</td>\n",
       "      <td>2.94e+06</td>\n",
       "      <td>4.98e+05</td>\n",
       "      <td>1.06e+06</td>\n",
       "      <td>8.09e+05</td>\n",
       "      <td>686937.36</td>\n",
       "      <td>1.17e+06</td>\n",
       "    </tr>\n",
       "    <tr>\n",
       "      <th>max</th>\n",
       "      <td>4.29e+06</td>\n",
       "      <td>3.44e+06</td>\n",
       "      <td>3.76e+06</td>\n",
       "      <td>1.77e+06</td>\n",
       "      <td>4.99e+06</td>\n",
       "      <td>2.12e+07</td>\n",
       "      <td>686937.36</td>\n",
       "      <td>8.85e+06</td>\n",
       "    </tr>\n",
       "    <tr>\n",
       "      <th>count %</th>\n",
       "      <td>1.86e+01</td>\n",
       "      <td>1.49e+01</td>\n",
       "      <td>2.71e+00</td>\n",
       "      <td>1.04e+01</td>\n",
       "      <td>4.07e+00</td>\n",
       "      <td>1.36e+01</td>\n",
       "      <td>0.45</td>\n",
       "      <td>3.53e+01</td>\n",
       "    </tr>\n",
       "    <tr>\n",
       "      <th>mean monthly</th>\n",
       "      <td>4.13e+04</td>\n",
       "      <td>5.45e+04</td>\n",
       "      <td>1.42e+05</td>\n",
       "      <td>3.04e+04</td>\n",
       "      <td>7.75e+04</td>\n",
       "      <td>1.05e+05</td>\n",
       "      <td>57244.78</td>\n",
       "      <td>8.07e+04</td>\n",
       "    </tr>\n",
       "    <tr>\n",
       "      <th>vol</th>\n",
       "      <td>2.03e+07</td>\n",
       "      <td>2.16e+07</td>\n",
       "      <td>1.02e+07</td>\n",
       "      <td>8.40e+06</td>\n",
       "      <td>8.36e+06</td>\n",
       "      <td>3.77e+07</td>\n",
       "      <td>686937.36</td>\n",
       "      <td>7.55e+07</td>\n",
       "    </tr>\n",
       "    <tr>\n",
       "      <th>vol %</th>\n",
       "      <td>1.11e+01</td>\n",
       "      <td>1.18e+01</td>\n",
       "      <td>5.61e+00</td>\n",
       "      <td>4.60e+00</td>\n",
       "      <td>4.58e+00</td>\n",
       "      <td>2.06e+01</td>\n",
       "      <td>0.38</td>\n",
       "      <td>4.13e+01</td>\n",
       "    </tr>\n",
       "    <tr>\n",
       "      <th>vol per comp</th>\n",
       "      <td>4.96e+05</td>\n",
       "      <td>6.54e+05</td>\n",
       "      <td>1.71e+06</td>\n",
       "      <td>3.65e+05</td>\n",
       "      <td>9.29e+05</td>\n",
       "      <td>1.26e+06</td>\n",
       "      <td>686937.36</td>\n",
       "      <td>9.68e+05</td>\n",
       "    </tr>\n",
       "    <tr>\n",
       "      <th>vol monthly</th>\n",
       "      <td>1.69e+06</td>\n",
       "      <td>1.80e+06</td>\n",
       "      <td>8.54e+05</td>\n",
       "      <td>7.00e+05</td>\n",
       "      <td>6.97e+05</td>\n",
       "      <td>3.14e+06</td>\n",
       "      <td>57244.78</td>\n",
       "      <td>6.29e+06</td>\n",
       "    </tr>\n",
       "  </tbody>\n",
       "</table>\n",
       "</div>"
      ],
      "text/plain": [
       "segmento             a         c         e         i         m         o  \\\n",
       "count         4.10e+01  3.30e+01  6.00e+00  2.30e+01  9.00e+00  3.00e+01   \n",
       "mean          4.96e+05  6.54e+05  1.71e+06  3.65e+05  9.29e+05  1.26e+06   \n",
       "std           7.53e+05  8.57e+05  1.67e+06  4.78e+05  1.58e+06  3.85e+06   \n",
       "min           1.36e+02  9.95e+02  6.17e+04  5.45e+02  0.00e+00  0.00e+00   \n",
       "25%           6.66e+04  6.09e+04  2.66e+05  3.82e+04  2.07e+04  8.72e+04   \n",
       "50%           3.00e+05  3.32e+05  1.62e+06  2.29e+05  4.39e+05  3.75e+05   \n",
       "75%           6.02e+05  8.23e+05  2.94e+06  4.98e+05  1.06e+06  8.09e+05   \n",
       "max           4.29e+06  3.44e+06  3.76e+06  1.77e+06  4.99e+06  2.12e+07   \n",
       "count %       1.86e+01  1.49e+01  2.71e+00  1.04e+01  4.07e+00  1.36e+01   \n",
       "mean monthly  4.13e+04  5.45e+04  1.42e+05  3.04e+04  7.75e+04  1.05e+05   \n",
       "vol           2.03e+07  2.16e+07  1.02e+07  8.40e+06  8.36e+06  3.77e+07   \n",
       "vol %         1.11e+01  1.18e+01  5.61e+00  4.60e+00  4.58e+00  2.06e+01   \n",
       "vol per comp  4.96e+05  6.54e+05  1.71e+06  3.65e+05  9.29e+05  1.26e+06   \n",
       "vol monthly   1.69e+06  1.80e+06  8.54e+05  7.00e+05  6.97e+05  3.14e+06   \n",
       "\n",
       "segmento              s         t  \n",
       "count              1.00  7.80e+01  \n",
       "mean          686937.36  9.68e+05  \n",
       "std                 NaN  1.47e+06  \n",
       "min           686937.36  0.00e+00  \n",
       "25%           686937.36  1.85e+05  \n",
       "50%           686937.36  4.19e+05  \n",
       "75%           686937.36  1.17e+06  \n",
       "max           686937.36  8.85e+06  \n",
       "count %            0.45  3.53e+01  \n",
       "mean monthly   57244.78  8.07e+04  \n",
       "vol           686937.36  7.55e+07  \n",
       "vol %              0.38  4.13e+01  \n",
       "vol per comp  686937.36  9.68e+05  \n",
       "vol monthly    57244.78  6.29e+06  "
      ]
     },
     "execution_count": 68,
     "metadata": {},
     "output_type": "execute_result"
    }
   ],
   "source": [
    "dft19_s_vtran"
   ]
  },
  {
   "cell_type": "code",
   "execution_count": 69,
   "metadata": {},
   "outputs": [
    {
     "data": {
      "text/html": [
       "<div>\n",
       "<style scoped>\n",
       "    .dataframe tbody tr th:only-of-type {\n",
       "        vertical-align: middle;\n",
       "    }\n",
       "\n",
       "    .dataframe tbody tr th {\n",
       "        vertical-align: top;\n",
       "    }\n",
       "\n",
       "    .dataframe thead th {\n",
       "        text-align: right;\n",
       "    }\n",
       "</style>\n",
       "<table border=\"1\" class=\"dataframe\">\n",
       "  <thead>\n",
       "    <tr style=\"text-align: right;\">\n",
       "      <th>segmento</th>\n",
       "      <th>a</th>\n",
       "      <th>c</th>\n",
       "      <th>e</th>\n",
       "      <th>i</th>\n",
       "      <th>m</th>\n",
       "      <th>o</th>\n",
       "      <th>t</th>\n",
       "    </tr>\n",
       "  </thead>\n",
       "  <tbody>\n",
       "    <tr>\n",
       "      <th>count</th>\n",
       "      <td>4.00e+01</td>\n",
       "      <td>3.30e+01</td>\n",
       "      <td>6.00e+00</td>\n",
       "      <td>2.20e+01</td>\n",
       "      <td>8.00e+00</td>\n",
       "      <td>2.50e+01</td>\n",
       "      <td>7.30e+01</td>\n",
       "    </tr>\n",
       "    <tr>\n",
       "      <th>mean</th>\n",
       "      <td>3.70e+05</td>\n",
       "      <td>2.90e+05</td>\n",
       "      <td>9.37e+05</td>\n",
       "      <td>3.95e+05</td>\n",
       "      <td>5.98e+05</td>\n",
       "      <td>4.00e+05</td>\n",
       "      <td>5.00e+05</td>\n",
       "    </tr>\n",
       "    <tr>\n",
       "      <th>std</th>\n",
       "      <td>6.09e+05</td>\n",
       "      <td>4.70e+05</td>\n",
       "      <td>9.20e+05</td>\n",
       "      <td>1.06e+06</td>\n",
       "      <td>9.72e+05</td>\n",
       "      <td>5.54e+05</td>\n",
       "      <td>6.23e+05</td>\n",
       "    </tr>\n",
       "    <tr>\n",
       "      <th>min</th>\n",
       "      <td>1.19e+03</td>\n",
       "      <td>0.00e+00</td>\n",
       "      <td>1.13e+05</td>\n",
       "      <td>6.70e+01</td>\n",
       "      <td>1.57e+04</td>\n",
       "      <td>2.37e+00</td>\n",
       "      <td>2.27e+00</td>\n",
       "    </tr>\n",
       "    <tr>\n",
       "      <th>25%</th>\n",
       "      <td>7.38e+04</td>\n",
       "      <td>5.74e+04</td>\n",
       "      <td>1.70e+05</td>\n",
       "      <td>3.15e+04</td>\n",
       "      <td>7.95e+04</td>\n",
       "      <td>5.43e+04</td>\n",
       "      <td>1.16e+05</td>\n",
       "    </tr>\n",
       "    <tr>\n",
       "      <th>50%</th>\n",
       "      <td>1.84e+05</td>\n",
       "      <td>1.40e+05</td>\n",
       "      <td>7.04e+05</td>\n",
       "      <td>9.07e+04</td>\n",
       "      <td>1.77e+05</td>\n",
       "      <td>2.02e+05</td>\n",
       "      <td>2.61e+05</td>\n",
       "    </tr>\n",
       "    <tr>\n",
       "      <th>75%</th>\n",
       "      <td>3.76e+05</td>\n",
       "      <td>3.23e+05</td>\n",
       "      <td>1.55e+06</td>\n",
       "      <td>2.16e+05</td>\n",
       "      <td>5.12e+05</td>\n",
       "      <td>5.23e+05</td>\n",
       "      <td>6.18e+05</td>\n",
       "    </tr>\n",
       "    <tr>\n",
       "      <th>max</th>\n",
       "      <td>2.73e+06</td>\n",
       "      <td>2.31e+06</td>\n",
       "      <td>2.27e+06</td>\n",
       "      <td>5.02e+06</td>\n",
       "      <td>2.82e+06</td>\n",
       "      <td>2.45e+06</td>\n",
       "      <td>3.52e+06</td>\n",
       "    </tr>\n",
       "    <tr>\n",
       "      <th>count %</th>\n",
       "      <td>1.81e+01</td>\n",
       "      <td>1.49e+01</td>\n",
       "      <td>2.71e+00</td>\n",
       "      <td>9.95e+00</td>\n",
       "      <td>3.62e+00</td>\n",
       "      <td>1.13e+01</td>\n",
       "      <td>3.30e+01</td>\n",
       "    </tr>\n",
       "    <tr>\n",
       "      <th>mean monthly</th>\n",
       "      <td>3.08e+04</td>\n",
       "      <td>2.42e+04</td>\n",
       "      <td>7.81e+04</td>\n",
       "      <td>3.29e+04</td>\n",
       "      <td>4.98e+04</td>\n",
       "      <td>3.33e+04</td>\n",
       "      <td>4.17e+04</td>\n",
       "    </tr>\n",
       "    <tr>\n",
       "      <th>vol</th>\n",
       "      <td>1.48e+07</td>\n",
       "      <td>9.58e+06</td>\n",
       "      <td>5.62e+06</td>\n",
       "      <td>8.69e+06</td>\n",
       "      <td>4.78e+06</td>\n",
       "      <td>1.00e+07</td>\n",
       "      <td>3.65e+07</td>\n",
       "    </tr>\n",
       "    <tr>\n",
       "      <th>vol %</th>\n",
       "      <td>1.64e+01</td>\n",
       "      <td>1.06e+01</td>\n",
       "      <td>6.25e+00</td>\n",
       "      <td>9.65e+00</td>\n",
       "      <td>5.32e+00</td>\n",
       "      <td>1.11e+01</td>\n",
       "      <td>4.06e+01</td>\n",
       "    </tr>\n",
       "    <tr>\n",
       "      <th>vol per comp</th>\n",
       "      <td>3.70e+05</td>\n",
       "      <td>2.90e+05</td>\n",
       "      <td>9.37e+05</td>\n",
       "      <td>3.95e+05</td>\n",
       "      <td>5.98e+05</td>\n",
       "      <td>4.00e+05</td>\n",
       "      <td>5.00e+05</td>\n",
       "    </tr>\n",
       "    <tr>\n",
       "      <th>vol monthly</th>\n",
       "      <td>1.23e+06</td>\n",
       "      <td>7.98e+05</td>\n",
       "      <td>4.69e+05</td>\n",
       "      <td>7.24e+05</td>\n",
       "      <td>3.99e+05</td>\n",
       "      <td>8.33e+05</td>\n",
       "      <td>3.04e+06</td>\n",
       "    </tr>\n",
       "  </tbody>\n",
       "</table>\n",
       "</div>"
      ],
      "text/plain": [
       "segmento             a         c         e         i         m         o  \\\n",
       "count         4.00e+01  3.30e+01  6.00e+00  2.20e+01  8.00e+00  2.50e+01   \n",
       "mean          3.70e+05  2.90e+05  9.37e+05  3.95e+05  5.98e+05  4.00e+05   \n",
       "std           6.09e+05  4.70e+05  9.20e+05  1.06e+06  9.72e+05  5.54e+05   \n",
       "min           1.19e+03  0.00e+00  1.13e+05  6.70e+01  1.57e+04  2.37e+00   \n",
       "25%           7.38e+04  5.74e+04  1.70e+05  3.15e+04  7.95e+04  5.43e+04   \n",
       "50%           1.84e+05  1.40e+05  7.04e+05  9.07e+04  1.77e+05  2.02e+05   \n",
       "75%           3.76e+05  3.23e+05  1.55e+06  2.16e+05  5.12e+05  5.23e+05   \n",
       "max           2.73e+06  2.31e+06  2.27e+06  5.02e+06  2.82e+06  2.45e+06   \n",
       "count %       1.81e+01  1.49e+01  2.71e+00  9.95e+00  3.62e+00  1.13e+01   \n",
       "mean monthly  3.08e+04  2.42e+04  7.81e+04  3.29e+04  4.98e+04  3.33e+04   \n",
       "vol           1.48e+07  9.58e+06  5.62e+06  8.69e+06  4.78e+06  1.00e+07   \n",
       "vol %         1.64e+01  1.06e+01  6.25e+00  9.65e+00  5.32e+00  1.11e+01   \n",
       "vol per comp  3.70e+05  2.90e+05  9.37e+05  3.95e+05  5.98e+05  4.00e+05   \n",
       "vol monthly   1.23e+06  7.98e+05  4.69e+05  7.24e+05  3.99e+05  8.33e+05   \n",
       "\n",
       "segmento             t  \n",
       "count         7.30e+01  \n",
       "mean          5.00e+05  \n",
       "std           6.23e+05  \n",
       "min           2.27e+00  \n",
       "25%           1.16e+05  \n",
       "50%           2.61e+05  \n",
       "75%           6.18e+05  \n",
       "max           3.52e+06  \n",
       "count %       3.30e+01  \n",
       "mean monthly  4.17e+04  \n",
       "vol           3.65e+07  \n",
       "vol %         4.06e+01  \n",
       "vol per comp  5.00e+05  \n",
       "vol monthly   3.04e+06  "
      ]
     },
     "execution_count": 69,
     "metadata": {},
     "output_type": "execute_result"
    }
   ],
   "source": [
    "dft20_s_vtran"
   ]
  },
  {
   "cell_type": "code",
   "execution_count": 71,
   "metadata": {},
   "outputs": [
    {
     "data": {
      "text/plain": [
       "[None, None, None]"
      ]
     },
     "execution_count": 71,
     "metadata": {},
     "output_type": "execute_result"
    }
   ],
   "source": [
    "## SAVE DATA TO CSV\n",
    "[eval(f'dft{i}_s_vtran').to_csv(f'../results/dft{i}_s_vtran.csv') for i in (18, 19, 20)]"
   ]
  },
  {
   "cell_type": "markdown",
   "metadata": {},
   "source": [
    "**BOXPLOT**"
   ]
  },
  {
   "cell_type": "code",
   "execution_count": 42,
   "metadata": {},
   "outputs": [],
   "source": [
    "dfc = dft19_cons.reset_index()"
   ]
  },
  {
   "cell_type": "code",
   "execution_count": 43,
   "metadata": {},
   "outputs": [],
   "source": [
    "dfc['cantidad m'] = dfc['cantidad']/12"
   ]
  },
  {
   "cell_type": "code",
   "execution_count": 44,
   "metadata": {},
   "outputs": [
    {
     "data": {
      "image/png": "[encoded data removed]",
      "text/plain": [
       "<Figure size 1152x576 with 1 Axes>"
      ]
     },
     "metadata": {},
     "output_type": "display_data"
    }
   ],
   "source": [
    "fig = plt.figure(figsize=(16,8))\n",
    "\n",
    "ax = sns.boxplot(data=dfc, x='segmento', y='cantidad m', showmeans=True, meanline=True, \n",
    "                 flierprops = dict(markerfacecolor='0.5', markersize=1, linestyle='none'))\n",
    "\n",
    "plt.title(\"Volumen Mensual Transaccionado por Empresa por Segmento\",fontsize=16)\n",
    "plt.ylabel('Litros Transaccionados [Lts]',fontsize=16)\n",
    "plt.xlabel('Segmento', fontsize=14)\n",
    "\n",
    "major_ticks = np.arange(0, 350000, 25000)\n",
    "minor_ticks = np.arange(0, 350000, 5000)\n",
    "plt.ylim(0, 350000)\n",
    "\n",
    "plt.grid(True)\n",
    "ax.set_yticks(major_ticks)\n",
    "ax.set_yticks(minor_ticks, minor=True)\n",
    "plt.xticks(fontsize=16)\n",
    "plt.xticks(np.arange(8), segList, fontsize=14, rotation=0)\n",
    "plt.yticks(fontsize=14)\n",
    "\n",
    "ax.grid(which='both')\n",
    "ax.grid(which='minor', alpha=0.2)\n",
    "ax.grid(which='major', alpha=0.75)\n",
    "\n",
    "#sns.despine()\n",
    "plt.show()"
   ]
  },
  {
   "cell_type": "code",
   "execution_count": 45,
   "metadata": {},
   "outputs": [],
   "source": [
    "#fig.savefig('../results/boxplot_volxempresaxseg.png', bbox_inches = 'tight')"
   ]
  },
  {
   "cell_type": "code",
   "execution_count": null,
   "metadata": {},
   "outputs": [],
   "source": []
  },
  {
   "cell_type": "markdown",
   "metadata": {},
   "source": [
    "#### ANALISIS DE INFRAESTRUCTURAS POR SEGMENTO"
   ]
  },
  {
   "cell_type": "code",
   "execution_count": 115,
   "metadata": {},
   "outputs": [],
   "source": [
    "def infra(df):\n",
    "    df_infra = df.groupby(['segmento','id_empresa'])['id_equipo', 'id_tanque', 'main_id'].nunique()\n",
    "    df_infra = df_infra.groupby('segmento').mean().transpose()\n",
    "    return df_infra"
   ]
  },
  {
   "cell_type": "code",
   "execution_count": 116,
   "metadata": {},
   "outputs": [
    {
     "name": "stderr",
     "output_type": "stream",
     "text": [
      "/usr/local/lib/python3.7/site-packages/ipykernel_launcher.py:2: FutureWarning: Indexing with multiple keys (implicitly converted to a tuple of keys) will be deprecated, use a list instead.\n",
      "  \n"
     ]
    }
   ],
   "source": [
    "for i in 18, 19, 20:\n",
    "    vars()[f'dft{i}_infra'] = infra(eval(f'dft{i}'))"
   ]
  },
  {
   "cell_type": "code",
   "execution_count": 119,
   "metadata": {},
   "outputs": [
    {
     "data": {
      "text/plain": [
       "(segmento       a      c      e      i      m      o      t\n",
       " id_equipo   1.52   1.64   1.33   1.23   1.25   1.72   1.26\n",
       " id_tanque   1.73   1.88   2.50   1.41   3.50   1.92   1.64\n",
       " main_id    39.55  59.06  26.67  28.27  19.75  66.92  45.75,\n",
       " segmento       a      c      e      i      m      o      s      t\n",
       " id_equipo   1.46   1.88   1.50   1.26   1.22   1.70   49.0   1.33\n",
       " id_tanque   1.76   2.30   3.00   1.57   3.44   2.37  111.0   1.72\n",
       " main_id    39.22  58.45  30.17  27.65  19.56  65.80    1.0  50.38,\n",
       " segmento       a      c      e      i     m      o      t\n",
       " id_equipo   1.11   1.39   1.43   1.06   1.0   1.65   1.28\n",
       " id_tanque   1.37   1.76   3.43   1.22   1.4   2.60   1.73\n",
       " main_id    30.54  47.94  25.29  31.78  16.6  50.50  50.29)"
      ]
     },
     "execution_count": 119,
     "metadata": {},
     "output_type": "execute_result"
    }
   ],
   "source": [
    "dft20_infra, dft19_infra, dft18_infra"
   ]
  },
  {
   "cell_type": "code",
   "execution_count": 48,
   "metadata": {},
   "outputs": [],
   "source": [
    "## SAVE DATA TO CSV\n",
    "#dft_infra19.to_csv('../results/dft19_infra.csv')"
   ]
  },
  {
   "cell_type": "markdown",
   "metadata": {},
   "source": [
    "#### Distribuciones por Segmento"
   ]
  },
  {
   "cell_type": "code",
   "execution_count": 106,
   "metadata": {},
   "outputs": [],
   "source": [
    "for y in (18, 19, 20):\n",
    "    df = eval(f'dft{y}')\n",
    "    for i in df['segmento'].unique():\n",
    "        vars()[f'{i}{y}'] = df[df['segmento'].str.contains(str(i), regex=True)].groupby('id_empresa')['cantidad'].sum()/12\n",
    "        vars()[f'{i}{y}'] = vars()[f'{i}{y}'].reset_index()\n",
    "        vars()[f'{i}{y}'].name = f'{i}{y}'"
   ]
  },
  {
   "cell_type": "code",
   "execution_count": 110,
   "metadata": {},
   "outputs": [],
   "source": [
    "def histograma(df):\n",
    "    fig = plt.figure(figsize=(16,8))\n",
    "    \n",
    "    sns.distplot(df['cantidad'], bins=30)\n",
    "    \n",
    "    plt.title(f'Histograma de Empresas tipo {df.name} por Volumen Mensual',fontsize=16)\n",
    "    plt.ylabel('Empresas',fontsize=16)\n",
    "    plt.xlabel('Litros [Lts]', fontsize=14)\n",
    "    plt.grid(axis='y', alpha=0.75)\n",
    "    \n",
    "    #plt.ylim(0, 50)\n",
    "    plt.xlim(0, 200000)\n",
    "    plt.xticks(fontsize=16)\n",
    "    plt.yticks(fontsize=14)\n",
    "    \n",
    "    plt.show()"
   ]
  },
  {
   "cell_type": "code",
   "execution_count": 113,
   "metadata": {},
   "outputs": [
    {
     "data": {
      "image/png": "[encoded data removed]",
      "text/plain": [
       "<Figure size 1152x576 with 1 Axes>"
      ]
     },
     "metadata": {
      "needs_background": "light"
     },
     "output_type": "display_data"
    },
    {
     "data": {
      "image/png": "[encoded data removed]",
      "text/plain": [
       "<Figure size 1152x576 with 1 Axes>"
      ]
     },
     "metadata": {
      "needs_background": "light"
     },
     "output_type": "display_data"
    },
    {
     "data": {
      "image/png": "[encoded data removed]",
      "text/plain": [
       "<Figure size 1152x576 with 1 Axes>"
      ]
     },
     "metadata": {
      "needs_background": "light"
     },
     "output_type": "display_data"
    },
    {
     "data": {
      "text/plain": [
       "(None, None, None)"
      ]
     },
     "execution_count": 113,
     "metadata": {},
     "output_type": "execute_result"
    }
   ],
   "source": [
    "histograma(t20), histograma(t19), histograma(t18)"
   ]
  },
  {
   "cell_type": "code",
   "execution_count": 52,
   "metadata": {},
   "outputs": [],
   "source": [
    "#fig.savefig('../results/hist_t19.png', bbox_inches = 'tight')"
   ]
  },
  {
   "cell_type": "code",
   "execution_count": 114,
   "metadata": {},
   "outputs": [
    {
     "data": {
      "image/png": "[encoded data removed]",
      "text/plain": [
       "<Figure size 1152x576 with 1 Axes>"
      ]
     },
     "metadata": {
      "needs_background": "light"
     },
     "output_type": "display_data"
    },
    {
     "data": {
      "image/png": "[encoded data removed]",
      "text/plain": [
       "<Figure size 1152x576 with 1 Axes>"
      ]
     },
     "metadata": {
      "needs_background": "light"
     },
     "output_type": "display_data"
    },
    {
     "data": {
      "image/png": "[encoded data removed]",
      "text/plain": [
       "<Figure size 1152x576 with 1 Axes>"
      ]
     },
     "metadata": {
      "needs_background": "light"
     },
     "output_type": "display_data"
    },
    {
     "data": {
      "text/plain": [
       "(None, None, None)"
      ]
     },
     "execution_count": 114,
     "metadata": {},
     "output_type": "execute_result"
    }
   ],
   "source": [
    "histograma(o20), histograma(o19), histograma(o18)"
   ]
  },
  {
   "cell_type": "code",
   "execution_count": null,
   "metadata": {},
   "outputs": [],
   "source": []
  }
 ],
 "metadata": {
  "kernelspec": {
   "display_name": "Python 3",
   "language": "python",
   "name": "python3"
  },
  "language_info": {
   "codemirror_mode": {
    "name": "ipython",
    "version": 3
   },
   "file_extension": ".py",
   "mimetype": "text/x-python",
   "name": "python",
   "nbconvert_exporter": "python",
   "pygments_lexer": "ipython3",
   "version": "3.7.5"
  }
 },
 "nbformat": 4,
 "nbformat_minor": 4
}
