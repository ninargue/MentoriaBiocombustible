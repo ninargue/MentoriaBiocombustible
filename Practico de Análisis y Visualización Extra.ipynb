{
 "cells": [
  {
   "cell_type": "markdown",
   "metadata": {},
   "source": [
    "## ANALISIS MUESTRAL EN TRANSPORTE"
   ]
  },
  {
   "cell_type": "code",
   "execution_count": 6,
   "metadata": {},
   "outputs": [],
   "source": [
    "import pandas as pd\n",
    "import seaborn as sns\n",
    "from sqlalchemy import create_engine, inspect\n",
    "import configparser"
   ]
  },
  {
   "cell_type": "code",
   "execution_count": 3,
   "metadata": {},
   "outputs": [],
   "source": [
    "config = configparser.ConfigParser()\n",
    "config.read('config.ini')\n",
    "conf = config['dtondo']"
   ]
  },
  {
   "cell_type": "code",
   "execution_count": 10,
   "metadata": {},
   "outputs": [],
   "source": [
    "path_conexion = 'mysql+pymysql://{}:{}@{}:{}/{}'.format(conf['DB_USER'], conf['DB_PASS'], conf['DB_HOST'], conf['DB_PORT'], conf['DB_NAME'])\n",
    "dbc = create_engine(path_conexion)"
   ]
  },
  {
   "cell_type": "code",
   "execution_count": 11,
   "metadata": {},
   "outputs": [
    {
     "data": {
      "text/plain": [
       "['fs_asignacion_producto',\n",
       " 'fs_bombas',\n",
       " 'fs_equipo',\n",
       " 'fs_tanques',\n",
       " 'fs_usuarios_fuelsentry',\n",
       " 'fs_vehiculos',\n",
       " 'sis_historial_2018_1',\n",
       " 'sis_historial_2018_10',\n",
       " 'sis_historial_2018_11',\n",
       " 'sis_historial_2018_12',\n",
       " 'sis_historial_2018_2',\n",
       " 'sis_historial_2018_3',\n",
       " 'sis_historial_2018_4',\n",
       " 'sis_historial_2018_5',\n",
       " 'sis_historial_2018_6',\n",
       " 'sis_historial_2018_7',\n",
       " 'sis_historial_2018_8',\n",
       " 'sis_historial_2018_9',\n",
       " 'sis_historial_2019_1',\n",
       " 'sis_historial_2019_10',\n",
       " 'sis_historial_2019_11',\n",
       " 'sis_historial_2019_12',\n",
       " 'sis_historial_2019_2',\n",
       " 'sis_historial_2019_3',\n",
       " 'sis_historial_2019_4',\n",
       " 'sis_historial_2019_5',\n",
       " 'sis_historial_2019_6',\n",
       " 'sis_historial_2019_7',\n",
       " 'sis_historial_2019_8',\n",
       " 'sis_historial_2019_9',\n",
       " 'sis_historial_2020_1',\n",
       " 'sis_historial_2020_2',\n",
       " 'sis_historial_2020_3',\n",
       " 'sis_historial_2020_4',\n",
       " 'sis_historial_2020_5',\n",
       " 'sis_transa_2018_1',\n",
       " 'sis_transa_2018_10',\n",
       " 'sis_transa_2018_11',\n",
       " 'sis_transa_2018_12',\n",
       " 'sis_transa_2018_2',\n",
       " 'sis_transa_2018_3',\n",
       " 'sis_transa_2018_4',\n",
       " 'sis_transa_2018_5',\n",
       " 'sis_transa_2018_6',\n",
       " 'sis_transa_2018_7',\n",
       " 'sis_transa_2018_8',\n",
       " 'sis_transa_2018_9',\n",
       " 'sis_transa_2019_1',\n",
       " 'sis_transa_2019_10',\n",
       " 'sis_transa_2019_11',\n",
       " 'sis_transa_2019_12',\n",
       " 'sis_transa_2019_2',\n",
       " 'sis_transa_2019_3',\n",
       " 'sis_transa_2019_4',\n",
       " 'sis_transa_2019_5',\n",
       " 'sis_transa_2019_6',\n",
       " 'sis_transa_2019_7',\n",
       " 'sis_transa_2019_8',\n",
       " 'sis_transa_2019_9',\n",
       " 'sis_transa_2020_1',\n",
       " 'sis_transa_2020_2',\n",
       " 'sis_transa_2020_3',\n",
       " 'sis_transa_2020_4',\n",
       " 'sis_transa_2020_5']"
      ]
     },
     "execution_count": 11,
     "metadata": {},
     "output_type": "execute_result"
    }
   ],
   "source": [
    "inspector = inspect(dbc)\n",
    "inspector.get_table_names()"
   ]
  },
  {
   "cell_type": "code",
   "execution_count": 12,
   "metadata": {},
   "outputs": [],
   "source": [
    "veh = pd.read_sql_table('fs_vehiculos', dbc)"
   ]
  },
  {
   "cell_type": "code",
   "execution_count": 13,
   "metadata": {},
   "outputs": [
    {
     "data": {
      "text/html": [
       "<div>\n",
       "<style scoped>\n",
       "    .dataframe tbody tr th:only-of-type {\n",
       "        vertical-align: middle;\n",
       "    }\n",
       "\n",
       "    .dataframe tbody tr th {\n",
       "        vertical-align: top;\n",
       "    }\n",
       "\n",
       "    .dataframe thead th {\n",
       "        text-align: right;\n",
       "    }\n",
       "</style>\n",
       "<table border=\"1\" class=\"dataframe\">\n",
       "  <thead>\n",
       "    <tr style=\"text-align: right;\">\n",
       "      <th></th>\n",
       "      <th>id_vehiculo</th>\n",
       "      <th>id_equipo</th>\n",
       "      <th>vehiculo</th>\n",
       "      <th>departamento</th>\n",
       "      <th>limite</th>\n",
       "      <th>odometro_inicio</th>\n",
       "      <th>odometro_fin</th>\n",
       "      <th>cargas_max_dia</th>\n",
       "      <th>autorizacion</th>\n",
       "      <th>cantidad_total</th>\n",
       "      <th>cargas_hoy</th>\n",
       "      <th>cargas_hasta_hoy</th>\n",
       "      <th>ultima_fecha</th>\n",
       "    </tr>\n",
       "  </thead>\n",
       "  <tbody>\n",
       "    <tr>\n",
       "      <td>0</td>\n",
       "      <td>2</td>\n",
       "      <td>333333</td>\n",
       "      <td>MDAwMDAx</td>\n",
       "      <td>0001</td>\n",
       "      <td>9</td>\n",
       "      <td>193958</td>\n",
       "      <td>193958</td>\n",
       "      <td>99</td>\n",
       "      <td>0</td>\n",
       "      <td>00000.000</td>\n",
       "      <td>01</td>\n",
       "      <td>000</td>\n",
       "      <td>2018-12-20</td>\n",
       "    </tr>\n",
       "    <tr>\n",
       "      <td>1</td>\n",
       "      <td>3</td>\n",
       "      <td>333333</td>\n",
       "      <td>MDAwMjM5</td>\n",
       "      <td>0001</td>\n",
       "      <td>9</td>\n",
       "      <td>079345</td>\n",
       "      <td>079345</td>\n",
       "      <td>99</td>\n",
       "      <td>0</td>\n",
       "      <td>00000.000</td>\n",
       "      <td>02</td>\n",
       "      <td>000</td>\n",
       "      <td>2018-12-20</td>\n",
       "    </tr>\n",
       "    <tr>\n",
       "      <td>2</td>\n",
       "      <td>4</td>\n",
       "      <td>333333</td>\n",
       "      <td>MDAwMjcw</td>\n",
       "      <td>0001</td>\n",
       "      <td>9</td>\n",
       "      <td>842409</td>\n",
       "      <td>842409</td>\n",
       "      <td>99</td>\n",
       "      <td>0</td>\n",
       "      <td>00000.000</td>\n",
       "      <td>01</td>\n",
       "      <td>000</td>\n",
       "      <td>2018-12-20</td>\n",
       "    </tr>\n",
       "    <tr>\n",
       "      <td>3</td>\n",
       "      <td>5</td>\n",
       "      <td>333333</td>\n",
       "      <td>MDAwMjUy</td>\n",
       "      <td>0001</td>\n",
       "      <td>9</td>\n",
       "      <td>287596</td>\n",
       "      <td>287596</td>\n",
       "      <td>99</td>\n",
       "      <td>0</td>\n",
       "      <td>00000.000</td>\n",
       "      <td>02</td>\n",
       "      <td>000</td>\n",
       "      <td>2018-12-20</td>\n",
       "    </tr>\n",
       "    <tr>\n",
       "      <td>4</td>\n",
       "      <td>6</td>\n",
       "      <td>333333</td>\n",
       "      <td>MDAwMjM1</td>\n",
       "      <td>0001</td>\n",
       "      <td>9</td>\n",
       "      <td>235878</td>\n",
       "      <td>235878</td>\n",
       "      <td>99</td>\n",
       "      <td>0</td>\n",
       "      <td>00000.000</td>\n",
       "      <td>01</td>\n",
       "      <td>000</td>\n",
       "      <td>2018-12-20</td>\n",
       "    </tr>\n",
       "    <tr>\n",
       "      <td>...</td>\n",
       "      <td>...</td>\n",
       "      <td>...</td>\n",
       "      <td>...</td>\n",
       "      <td>...</td>\n",
       "      <td>...</td>\n",
       "      <td>...</td>\n",
       "      <td>...</td>\n",
       "      <td>...</td>\n",
       "      <td>...</td>\n",
       "      <td>...</td>\n",
       "      <td>...</td>\n",
       "      <td>...</td>\n",
       "      <td>...</td>\n",
       "    </tr>\n",
       "    <tr>\n",
       "      <td>50622</td>\n",
       "      <td>101045</td>\n",
       "      <td>515</td>\n",
       "      <td>MDI1MTIy</td>\n",
       "      <td>0001</td>\n",
       "      <td>9</td>\n",
       "      <td>000000</td>\n",
       "      <td>000000</td>\n",
       "      <td>00</td>\n",
       "      <td>0</td>\n",
       "      <td>00000.000</td>\n",
       "      <td>00</td>\n",
       "      <td>000</td>\n",
       "      <td>2020-06-13</td>\n",
       "    </tr>\n",
       "    <tr>\n",
       "      <td>50623</td>\n",
       "      <td>101043</td>\n",
       "      <td>372</td>\n",
       "      <td>MDAwNTA3</td>\n",
       "      <td>0008</td>\n",
       "      <td>9</td>\n",
       "      <td>000000</td>\n",
       "      <td>000000</td>\n",
       "      <td>00</td>\n",
       "      <td>0</td>\n",
       "      <td>00093.547</td>\n",
       "      <td>01</td>\n",
       "      <td>001</td>\n",
       "      <td>2020-06-12</td>\n",
       "    </tr>\n",
       "    <tr>\n",
       "      <td>50624</td>\n",
       "      <td>101044</td>\n",
       "      <td>792</td>\n",
       "      <td>MDAwMDk5</td>\n",
       "      <td>0000</td>\n",
       "      <td>7</td>\n",
       "      <td>000000</td>\n",
       "      <td>000000</td>\n",
       "      <td>01</td>\n",
       "      <td>0</td>\n",
       "      <td>00000.000</td>\n",
       "      <td>00</td>\n",
       "      <td>000</td>\n",
       "      <td>2020-06-12</td>\n",
       "    </tr>\n",
       "    <tr>\n",
       "      <td>50625</td>\n",
       "      <td>101048</td>\n",
       "      <td>625</td>\n",
       "      <td>MzAwMDA1</td>\n",
       "      <td>0001</td>\n",
       "      <td>9</td>\n",
       "      <td>000000</td>\n",
       "      <td>000000</td>\n",
       "      <td>00</td>\n",
       "      <td>0</td>\n",
       "      <td>00000.000</td>\n",
       "      <td>00</td>\n",
       "      <td>000</td>\n",
       "      <td>2020-06-13</td>\n",
       "    </tr>\n",
       "    <tr>\n",
       "      <td>50626</td>\n",
       "      <td>101047</td>\n",
       "      <td>574</td>\n",
       "      <td>MzAwMDA1</td>\n",
       "      <td>0001</td>\n",
       "      <td>9</td>\n",
       "      <td>000000</td>\n",
       "      <td>000000</td>\n",
       "      <td>00</td>\n",
       "      <td>0</td>\n",
       "      <td>00000.000</td>\n",
       "      <td>00</td>\n",
       "      <td>000</td>\n",
       "      <td>2020-06-13</td>\n",
       "    </tr>\n",
       "  </tbody>\n",
       "</table>\n",
       "<p>50627 rows × 13 columns</p>\n",
       "</div>"
      ],
      "text/plain": [
       "       id_vehiculo  id_equipo  vehiculo departamento limite odometro_inicio  \\\n",
       "0                2     333333  MDAwMDAx         0001      9          193958   \n",
       "1                3     333333  MDAwMjM5         0001      9          079345   \n",
       "2                4     333333  MDAwMjcw         0001      9          842409   \n",
       "3                5     333333  MDAwMjUy         0001      9          287596   \n",
       "4                6     333333  MDAwMjM1         0001      9          235878   \n",
       "...            ...        ...       ...          ...    ...             ...   \n",
       "50622       101045        515  MDI1MTIy         0001      9          000000   \n",
       "50623       101043        372  MDAwNTA3         0008      9          000000   \n",
       "50624       101044        792  MDAwMDk5         0000      7          000000   \n",
       "50625       101048        625  MzAwMDA1         0001      9          000000   \n",
       "50626       101047        574  MzAwMDA1         0001      9          000000   \n",
       "\n",
       "      odometro_fin cargas_max_dia autorizacion cantidad_total cargas_hoy  \\\n",
       "0           193958             99            0      00000.000         01   \n",
       "1           079345             99            0      00000.000         02   \n",
       "2           842409             99            0      00000.000         01   \n",
       "3           287596             99            0      00000.000         02   \n",
       "4           235878             99            0      00000.000         01   \n",
       "...            ...            ...          ...            ...        ...   \n",
       "50622       000000             00            0      00000.000         00   \n",
       "50623       000000             00            0      00093.547         01   \n",
       "50624       000000             01            0      00000.000         00   \n",
       "50625       000000             00            0      00000.000         00   \n",
       "50626       000000             00            0      00000.000         00   \n",
       "\n",
       "      cargas_hasta_hoy ultima_fecha  \n",
       "0                  000   2018-12-20  \n",
       "1                  000   2018-12-20  \n",
       "2                  000   2018-12-20  \n",
       "3                  000   2018-12-20  \n",
       "4                  000   2018-12-20  \n",
       "...                ...          ...  \n",
       "50622              000   2020-06-13  \n",
       "50623              001   2020-06-12  \n",
       "50624              000   2020-06-12  \n",
       "50625              000   2020-06-13  \n",
       "50626              000   2020-06-13  \n",
       "\n",
       "[50627 rows x 13 columns]"
      ]
     },
     "execution_count": 13,
     "metadata": {},
     "output_type": "execute_result"
    }
   ],
   "source": [
    "veh"
   ]
  },
  {
   "cell_type": "code",
   "execution_count": 14,
   "metadata": {},
   "outputs": [],
   "source": [
    "tanks = pd.read_sql_table('fs_tanques', dbc)"
   ]
  },
  {
   "cell_type": "code",
   "execution_count": 15,
   "metadata": {},
   "outputs": [
    {
     "data": {
      "text/html": [
       "<div>\n",
       "<style scoped>\n",
       "    .dataframe tbody tr th:only-of-type {\n",
       "        vertical-align: middle;\n",
       "    }\n",
       "\n",
       "    .dataframe tbody tr th {\n",
       "        vertical-align: top;\n",
       "    }\n",
       "\n",
       "    .dataframe thead th {\n",
       "        text-align: right;\n",
       "    }\n",
       "</style>\n",
       "<table border=\"1\" class=\"dataframe\">\n",
       "  <thead>\n",
       "    <tr style=\"text-align: right;\">\n",
       "      <th></th>\n",
       "      <th>id_tanque</th>\n",
       "      <th>id_equipo</th>\n",
       "      <th>tanque</th>\n",
       "      <th>producto</th>\n",
       "      <th>capacidad</th>\n",
       "      <th>log_interval</th>\n",
       "      <th>nivel_alarma</th>\n",
       "    </tr>\n",
       "  </thead>\n",
       "  <tbody>\n",
       "    <tr>\n",
       "      <td>0</td>\n",
       "      <td>101525</td>\n",
       "      <td>669</td>\n",
       "      <td>B</td>\n",
       "      <td>1</td>\n",
       "      <td>0010000.1</td>\n",
       "      <td>0030</td>\n",
       "      <td>0</td>\n",
       "    </tr>\n",
       "    <tr>\n",
       "      <td>1</td>\n",
       "      <td>101833</td>\n",
       "      <td>764</td>\n",
       "      <td>5</td>\n",
       "      <td>1</td>\n",
       "      <td>0008000.0</td>\n",
       "      <td>0030</td>\n",
       "      <td>000003200</td>\n",
       "    </tr>\n",
       "    <tr>\n",
       "      <td>2</td>\n",
       "      <td>101496</td>\n",
       "      <td>662</td>\n",
       "      <td>1</td>\n",
       "      <td>0</td>\n",
       "      <td>0050000.0</td>\n",
       "      <td>0030</td>\n",
       "      <td>0</td>\n",
       "    </tr>\n",
       "    <tr>\n",
       "      <td>3</td>\n",
       "      <td>101495</td>\n",
       "      <td>661</td>\n",
       "      <td>1</td>\n",
       "      <td>0</td>\n",
       "      <td>0025000.0</td>\n",
       "      <td>0030</td>\n",
       "      <td>0</td>\n",
       "    </tr>\n",
       "    <tr>\n",
       "      <td>4</td>\n",
       "      <td>101522</td>\n",
       "      <td>669</td>\n",
       "      <td>8</td>\n",
       "      <td>1</td>\n",
       "      <td>0010000.1</td>\n",
       "      <td>0030</td>\n",
       "      <td>0</td>\n",
       "    </tr>\n",
       "    <tr>\n",
       "      <td>...</td>\n",
       "      <td>...</td>\n",
       "      <td>...</td>\n",
       "      <td>...</td>\n",
       "      <td>...</td>\n",
       "      <td>...</td>\n",
       "      <td>...</td>\n",
       "      <td>...</td>\n",
       "    </tr>\n",
       "    <tr>\n",
       "      <td>1556</td>\n",
       "      <td>102053</td>\n",
       "      <td>446</td>\n",
       "      <td>1</td>\n",
       "      <td>2</td>\n",
       "      <td>0010000.1</td>\n",
       "      <td>0010</td>\n",
       "      <td>0</td>\n",
       "    </tr>\n",
       "    <tr>\n",
       "      <td>1557</td>\n",
       "      <td>102054</td>\n",
       "      <td>446</td>\n",
       "      <td>2</td>\n",
       "      <td>2</td>\n",
       "      <td>0061481.0</td>\n",
       "      <td>0060</td>\n",
       "      <td>0</td>\n",
       "    </tr>\n",
       "    <tr>\n",
       "      <td>1558</td>\n",
       "      <td>102055</td>\n",
       "      <td>446</td>\n",
       "      <td>3</td>\n",
       "      <td>2</td>\n",
       "      <td>0010000.1</td>\n",
       "      <td>0010</td>\n",
       "      <td>0</td>\n",
       "    </tr>\n",
       "    <tr>\n",
       "      <td>1559</td>\n",
       "      <td>102047</td>\n",
       "      <td>821</td>\n",
       "      <td>1</td>\n",
       "      <td>1</td>\n",
       "      <td>0010000.0</td>\n",
       "      <td>0060</td>\n",
       "      <td>0</td>\n",
       "    </tr>\n",
       "    <tr>\n",
       "      <td>1560</td>\n",
       "      <td>102063</td>\n",
       "      <td>740</td>\n",
       "      <td>3</td>\n",
       "      <td>0</td>\n",
       "      <td>0005166.0</td>\n",
       "      <td>0060</td>\n",
       "      <td>0000000.0</td>\n",
       "    </tr>\n",
       "  </tbody>\n",
       "</table>\n",
       "<p>1561 rows × 7 columns</p>\n",
       "</div>"
      ],
      "text/plain": [
       "      id_tanque  id_equipo tanque producto  capacidad log_interval  \\\n",
       "0        101525        669      B        1  0010000.1         0030   \n",
       "1        101833        764      5        1  0008000.0         0030   \n",
       "2        101496        662      1        0  0050000.0         0030   \n",
       "3        101495        661      1        0  0025000.0         0030   \n",
       "4        101522        669      8        1  0010000.1         0030   \n",
       "...         ...        ...    ...      ...        ...          ...   \n",
       "1556     102053        446      1        2  0010000.1         0010   \n",
       "1557     102054        446      2        2  0061481.0         0060   \n",
       "1558     102055        446      3        2  0010000.1         0010   \n",
       "1559     102047        821      1        1  0010000.0         0060   \n",
       "1560     102063        740      3        0  0005166.0         0060   \n",
       "\n",
       "     nivel_alarma  \n",
       "0               0  \n",
       "1       000003200  \n",
       "2               0  \n",
       "3               0  \n",
       "4               0  \n",
       "...           ...  \n",
       "1556            0  \n",
       "1557            0  \n",
       "1558            0  \n",
       "1559            0  \n",
       "1560    0000000.0  \n",
       "\n",
       "[1561 rows x 7 columns]"
      ]
     },
     "execution_count": 15,
     "metadata": {},
     "output_type": "execute_result"
    }
   ],
   "source": [
    "tanks"
   ]
  },
  {
   "cell_type": "code",
   "execution_count": 50,
   "metadata": {},
   "outputs": [],
   "source": [
    "transa = pd.read_sql_table('sis_transa_2019_11', dbc)"
   ]
  },
  {
   "cell_type": "code",
   "execution_count": 75,
   "metadata": {},
   "outputs": [
    {
     "data": {
      "text/plain": [
       "odometro    000000\n",
       "baja             0\n",
       "Name: 1, dtype: object"
      ]
     },
     "execution_count": 75,
     "metadata": {},
     "output_type": "execute_result"
    }
   ],
   "source": [
    "transa[:5].loc[1, ['odometro','baja']]"
   ]
  },
  {
   "cell_type": "code",
   "execution_count": 78,
   "metadata": {},
   "outputs": [],
   "source": [
    "sites = pd.read_sql_table('fs_equipo', dbc)"
   ]
  },
  {
   "cell_type": "code",
   "execution_count": 79,
   "metadata": {},
   "outputs": [
    {
     "data": {
      "text/html": [
       "<div>\n",
       "<style scoped>\n",
       "    .dataframe tbody tr th:only-of-type {\n",
       "        vertical-align: middle;\n",
       "    }\n",
       "\n",
       "    .dataframe tbody tr th {\n",
       "        vertical-align: top;\n",
       "    }\n",
       "\n",
       "    .dataframe thead th {\n",
       "        text-align: right;\n",
       "    }\n",
       "</style>\n",
       "<table border=\"1\" class=\"dataframe\">\n",
       "  <thead>\n",
       "    <tr style=\"text-align: right;\">\n",
       "      <th></th>\n",
       "      <th>id_equipo</th>\n",
       "      <th>id_empresa</th>\n",
       "      <th>current_firmware</th>\n",
       "      <th>delay_ue</th>\n",
       "      <th>geo_latitude</th>\n",
       "      <th>geo_longitude</th>\n",
       "    </tr>\n",
       "  </thead>\n",
       "  <tbody>\n",
       "    <tr>\n",
       "      <td>0</td>\n",
       "      <td>000585</td>\n",
       "      <td>25</td>\n",
       "      <td>V60403bQ4830361</td>\n",
       "      <td>0</td>\n",
       "      <td>None</td>\n",
       "      <td>None</td>\n",
       "    </tr>\n",
       "    <tr>\n",
       "      <td>1</td>\n",
       "      <td>000749</td>\n",
       "      <td>210</td>\n",
       "      <td>V80604bQ0428b17</td>\n",
       "      <td>0</td>\n",
       "      <td></td>\n",
       "      <td></td>\n",
       "    </tr>\n",
       "  </tbody>\n",
       "</table>\n",
       "</div>"
      ],
      "text/plain": [
       "  id_equipo  id_empresa current_firmware  delay_ue geo_latitude geo_longitude\n",
       "0    000585          25  V60403bQ4830361         0         None          None\n",
       "1    000749         210  V80604bQ0428b17         0                           "
      ]
     },
     "execution_count": 79,
     "metadata": {},
     "output_type": "execute_result"
    }
   ],
   "source": [
    "sites[:2]"
   ]
  },
  {
   "cell_type": "code",
   "execution_count": 80,
   "metadata": {},
   "outputs": [
    {
     "data": {
      "text/html": [
       "<div>\n",
       "<style scoped>\n",
       "    .dataframe tbody tr th:only-of-type {\n",
       "        vertical-align: middle;\n",
       "    }\n",
       "\n",
       "    .dataframe tbody tr th {\n",
       "        vertical-align: top;\n",
       "    }\n",
       "\n",
       "    .dataframe thead th {\n",
       "        text-align: right;\n",
       "    }\n",
       "</style>\n",
       "<table border=\"1\" class=\"dataframe\">\n",
       "  <thead>\n",
       "    <tr style=\"text-align: right;\">\n",
       "      <th></th>\n",
       "      <th>id_empresa</th>\n",
       "      <th>current_firmware</th>\n",
       "      <th>delay_ue</th>\n",
       "      <th>geo_latitude</th>\n",
       "      <th>geo_longitude</th>\n",
       "    </tr>\n",
       "    <tr>\n",
       "      <th>id_equipo</th>\n",
       "      <th></th>\n",
       "      <th></th>\n",
       "      <th></th>\n",
       "      <th></th>\n",
       "      <th></th>\n",
       "    </tr>\n",
       "  </thead>\n",
       "  <tbody>\n",
       "    <tr>\n",
       "      <td>585</td>\n",
       "      <td>25</td>\n",
       "      <td>V60403bQ4830361</td>\n",
       "      <td>0</td>\n",
       "      <td>None</td>\n",
       "      <td>None</td>\n",
       "    </tr>\n",
       "    <tr>\n",
       "      <td>749</td>\n",
       "      <td>210</td>\n",
       "      <td>V80604bQ0428b17</td>\n",
       "      <td>0</td>\n",
       "      <td></td>\n",
       "      <td></td>\n",
       "    </tr>\n",
       "    <tr>\n",
       "      <td>584</td>\n",
       "      <td>1000</td>\n",
       "      <td>V60403bQ4830361</td>\n",
       "      <td>0</td>\n",
       "      <td>None</td>\n",
       "      <td>None</td>\n",
       "    </tr>\n",
       "  </tbody>\n",
       "</table>\n",
       "</div>"
      ],
      "text/plain": [
       "           id_empresa current_firmware  delay_ue geo_latitude geo_longitude\n",
       "id_equipo                                                                  \n",
       "585                25  V60403bQ4830361         0         None          None\n",
       "749               210  V80604bQ0428b17         0                           \n",
       "584              1000  V60403bQ4830361         0         None          None"
      ]
     },
     "execution_count": 80,
     "metadata": {},
     "output_type": "execute_result"
    }
   ],
   "source": [
    "sites['id_equipo'] = sites['id_equipo'].astype(int)\n",
    "sites.set_index('id_equipo', inplace=True)\n",
    "sites.head(3)"
   ]
  },
  {
   "cell_type": "code",
   "execution_count": 84,
   "metadata": {},
   "outputs": [
    {
     "data": {
      "text/html": [
       "<div>\n",
       "<style scoped>\n",
       "    .dataframe tbody tr th:only-of-type {\n",
       "        vertical-align: middle;\n",
       "    }\n",
       "\n",
       "    .dataframe tbody tr th {\n",
       "        vertical-align: top;\n",
       "    }\n",
       "\n",
       "    .dataframe thead th {\n",
       "        text-align: right;\n",
       "    }\n",
       "</style>\n",
       "<table border=\"1\" class=\"dataframe\">\n",
       "  <thead>\n",
       "    <tr style=\"text-align: right;\">\n",
       "      <th></th>\n",
       "      <th>id_transaccion</th>\n",
       "      <th>id_vehiculo</th>\n",
       "      <th>id_usuario</th>\n",
       "      <th>id_equipo</th>\n",
       "      <th>producto</th>\n",
       "      <th>id_bomba</th>\n",
       "      <th>id_tanque</th>\n",
       "      <th>departamento</th>\n",
       "      <th>fecha</th>\n",
       "      <th>hora</th>\n",
       "      <th>...</th>\n",
       "      <th>volume_start</th>\n",
       "      <th>volume_stop</th>\n",
       "      <th>temp_start</th>\n",
       "      <th>temp_stop</th>\n",
       "      <th>local_price</th>\n",
       "      <th>geo_latitud</th>\n",
       "      <th>geo_longitud</th>\n",
       "      <th>geo_status</th>\n",
       "      <th>veh_efficiency</th>\n",
       "      <th>id_empresa</th>\n",
       "    </tr>\n",
       "  </thead>\n",
       "  <tbody>\n",
       "    <tr>\n",
       "      <td>0</td>\n",
       "      <td>3844</td>\n",
       "      <td>59719</td>\n",
       "      <td>5905</td>\n",
       "      <td>477</td>\n",
       "      <td>1</td>\n",
       "      <td>828</td>\n",
       "      <td>1011</td>\n",
       "      <td>0000</td>\n",
       "      <td>2019-11-01</td>\n",
       "      <td>00:02:56</td>\n",
       "      <td>...</td>\n",
       "      <td>000000.000</td>\n",
       "      <td>003666.132</td>\n",
       "      <td>000.0</td>\n",
       "      <td>021.3</td>\n",
       "      <td>00000000</td>\n",
       "      <td>000.000000</td>\n",
       "      <td>0000.000000</td>\n",
       "      <td>N</td>\n",
       "      <td>0000.00</td>\n",
       "      <td>100</td>\n",
       "    </tr>\n",
       "  </tbody>\n",
       "</table>\n",
       "<p>1 rows × 32 columns</p>\n",
       "</div>"
      ],
      "text/plain": [
       "   id_transaccion  id_vehiculo  id_usuario  id_equipo producto  id_bomba  \\\n",
       "0            3844        59719        5905        477        1       828   \n",
       "\n",
       "   id_tanque departamento      fecha      hora  ... volume_start volume_stop  \\\n",
       "0       1011         0000 2019-11-01  00:02:56  ...   000000.000  003666.132   \n",
       "\n",
       "  temp_start temp_stop local_price geo_latitud  geo_longitud geo_status  \\\n",
       "0      000.0     021.3    00000000  000.000000   0000.000000          N   \n",
       "\n",
       "  veh_efficiency  id_empresa  \n",
       "0        0000.00         100  \n",
       "\n",
       "[1 rows x 32 columns]"
      ]
     },
     "execution_count": 84,
     "metadata": {},
     "output_type": "execute_result"
    }
   ],
   "source": [
    "transa['id_equipo'] = transa['id_equipo'].astype(int)\n",
    "transa.head(1)"
   ]
  },
  {
   "cell_type": "code",
   "execution_count": null,
   "metadata": {},
   "outputs": [],
   "source": [
    "transa = transa.join(other=sites['id_empresa'], on='id_equipo', how='left')"
   ]
  },
  {
   "cell_type": "code",
   "execution_count": 87,
   "metadata": {},
   "outputs": [
    {
     "data": {
      "text/plain": [
       "Index(['id_transaccion', 'id_vehiculo', 'id_usuario', 'id_equipo', 'producto',\n",
       "       'id_bomba', 'id_tanque', 'departamento', 'fecha', 'hora', 'cantidad',\n",
       "       'acum_vehiculo', 'acum_usuario', 'odometro', 'km_transaccion',\n",
       "       'codigo_error', 'valor', 'campovar1', 'campovar2', 'baja', 'fecha_stop',\n",
       "       'hora_stop', 'volume_start', 'volume_stop', 'temp_start', 'temp_stop',\n",
       "       'local_price', 'geo_latitud', 'geo_longitud', 'geo_status',\n",
       "       'veh_efficiency', 'id_empresa'],\n",
       "      dtype='object')"
      ]
     },
     "execution_count": 87,
     "metadata": {},
     "output_type": "execute_result"
    }
   ],
   "source": [
    "transa.columns"
   ]
  },
  {
   "cell_type": "code",
   "execution_count": 89,
   "metadata": {},
   "outputs": [
    {
     "data": {
      "text/plain": [
       "id_transaccion             int64\n",
       "id_vehiculo                int64\n",
       "id_usuario                 int64\n",
       "id_equipo                  int64\n",
       "producto                  object\n",
       "id_bomba                   int64\n",
       "id_tanque                  int64\n",
       "departamento              object\n",
       "fecha             datetime64[ns]\n",
       "hora                      object\n",
       "cantidad                  object\n",
       "acum_vehiculo             object\n",
       "acum_usuario              object\n",
       "odometro                  object\n",
       "km_transaccion            object\n",
       "codigo_error              object\n",
       "valor                    float64\n",
       "campovar1                 object\n",
       "campovar2                 object\n",
       "baja                       int64\n",
       "fecha_stop        datetime64[ns]\n",
       "hora_stop                 object\n",
       "volume_start              object\n",
       "volume_stop               object\n",
       "temp_start                object\n",
       "temp_stop                 object\n",
       "local_price               object\n",
       "geo_latitud               object\n",
       "geo_longitud              object\n",
       "geo_status                object\n",
       "veh_efficiency            object\n",
       "id_empresa                 int64\n",
       "dtype: object"
      ]
     },
     "execution_count": 89,
     "metadata": {},
     "output_type": "execute_result"
    }
   ],
   "source": [
    "transa.dtypes"
   ]
  },
  {
   "cell_type": "code",
   "execution_count": 106,
   "metadata": {},
   "outputs": [],
   "source": [
    "transa['cant'] = transa['cantidad'].astype(float)"
   ]
  },
  {
   "cell_type": "code",
   "execution_count": 113,
   "metadata": {},
   "outputs": [],
   "source": [
    "transa = transa[transa['cant']>0].copy()"
   ]
  },
  {
   "cell_type": "markdown",
   "metadata": {},
   "source": [
    "### Volumen de Litros Consumidos por Empresa"
   ]
  },
  {
   "cell_type": "code",
   "execution_count": 159,
   "metadata": {},
   "outputs": [],
   "source": [
    "import matplotlib.pyplot as plt"
   ]
  },
  {
   "cell_type": "code",
   "execution_count": 147,
   "metadata": {},
   "outputs": [],
   "source": [
    "transa_sum = transa.groupby(['id_empresa'])['cant'].sum()"
   ]
  },
  {
   "cell_type": "code",
   "execution_count": 276,
   "metadata": {},
   "outputs": [
    {
     "data": {
      "text/plain": [
       "count       188.000000\n",
       "mean      88181.217303\n",
       "std      134409.972158\n",
       "min           4.434000\n",
       "25%        9581.174250\n",
       "50%       39362.874000\n",
       "75%       91702.700250\n",
       "max      744830.950000\n",
       "Name: cant, dtype: float64"
      ]
     },
     "execution_count": 276,
     "metadata": {},
     "output_type": "execute_result"
    }
   ],
   "source": [
    "cons_empresa = transa_sum.describe()\n",
    "cons_empresa"
   ]
  },
  {
   "cell_type": "code",
   "execution_count": 171,
   "metadata": {},
   "outputs": [
    {
     "data": {
      "text/plain": [
       "range(0, 100000, 100)"
      ]
     },
     "execution_count": 171,
     "metadata": {},
     "output_type": "execute_result"
    }
   ],
   "source": [
    "range(0, 100000, 100)"
   ]
  },
  {
   "cell_type": "code",
   "execution_count": 176,
   "metadata": {},
   "outputs": [
    {
     "data": {
      "text/plain": [
       "<matplotlib.axes._subplots.AxesSubplot at 0x13bccd3d0>"
      ]
     },
     "execution_count": 176,
     "metadata": {},
     "output_type": "execute_result"
    },
    {
     "data": {
      "image/png": "[encoded data removed]",
      "text/plain": [
       "<Figure size 1440x360 with 1 Axes>"
      ]
     },
     "metadata": {
      "needs_background": "light"
     },
     "output_type": "display_data"
    }
   ],
   "source": [
    "plt.figure(figsize=(20, 5))\n",
    "plt.xlim(0,500000)\n",
    "plt.xticks(range(0, 500000, 25000))\n",
    "sns.distplot(transa_sum, bins=50)"
   ]
  },
  {
   "cell_type": "markdown",
   "metadata": {},
   "source": [
    "### Volumen de Litros Consumidos por Sitio"
   ]
  },
  {
   "cell_type": "code",
   "execution_count": 177,
   "metadata": {},
   "outputs": [
    {
     "data": {
      "text/plain": [
       "count       283.000000\n",
       "mean      58579.748597\n",
       "std       88793.080860\n",
       "min           1.766000\n",
       "25%        6982.313000\n",
       "50%       28902.805000\n",
       "75%       69694.152000\n",
       "max      744830.950000\n",
       "Name: cant, dtype: float64"
      ]
     },
     "execution_count": 177,
     "metadata": {},
     "output_type": "execute_result"
    }
   ],
   "source": [
    "transa_sum_site = transa.groupby(['id_equipo'])['cant'].sum()\n",
    "transa_sum_site.describe()"
   ]
  },
  {
   "cell_type": "code",
   "execution_count": 178,
   "metadata": {},
   "outputs": [
    {
     "data": {
      "text/plain": [
       "<matplotlib.axes._subplots.AxesSubplot at 0x13d740610>"
      ]
     },
     "execution_count": 178,
     "metadata": {},
     "output_type": "execute_result"
    },
    {
     "data": {
      "image/png": "[encoded data removed]",
      "text/plain": [
       "<Figure size 1440x360 with 1 Axes>"
      ]
     },
     "metadata": {
      "needs_background": "light"
     },
     "output_type": "display_data"
    }
   ],
   "source": [
    "plt.figure(figsize=(20, 5))\n",
    "plt.xlim(0,500000)\n",
    "plt.xticks(range(0, 500000, 25000))\n",
    "sns.distplot(transa_sum_site, bins=50)"
   ]
  },
  {
   "cell_type": "markdown",
   "metadata": {},
   "source": [
    "### Vehiculos por Empresa"
   ]
  },
  {
   "cell_type": "code",
   "execution_count": 184,
   "metadata": {},
   "outputs": [],
   "source": [
    "veh['id_equipo'] = veh['id_equipo'].astype(int)\n",
    "veh = veh.join(other=sites['id_empresa'], on='id_equipo', how='left')"
   ]
  },
  {
   "cell_type": "code",
   "execution_count": 204,
   "metadata": {},
   "outputs": [],
   "source": [
    "veh = veh[veh['id_empresa'].notna()]"
   ]
  },
  {
   "cell_type": "code",
   "execution_count": 205,
   "metadata": {},
   "outputs": [
    {
     "data": {
      "text/plain": [
       "(49909, 14)"
      ]
     },
     "execution_count": 205,
     "metadata": {},
     "output_type": "execute_result"
    }
   ],
   "source": [
    "veh.shape"
   ]
  },
  {
   "cell_type": "code",
   "execution_count": 282,
   "metadata": {},
   "outputs": [
    {
     "data": {
      "text/plain": [
       "count     276.000000\n",
       "mean       83.474638\n",
       "std       136.286501\n",
       "min         1.000000\n",
       "25%        14.000000\n",
       "50%        40.500000\n",
       "75%        85.500000\n",
       "max      1201.000000\n",
       "Name: id_vehiculo, dtype: float64"
      ]
     },
     "execution_count": 282,
     "metadata": {},
     "output_type": "execute_result"
    }
   ],
   "source": [
    "veh_count_emp = veh.groupby(['id_equipo', 'id_empresa'])['id_vehiculo'].count()\n",
    "veh_count_emp2 = veh_count_emp.groupby(['id_empresa']).max()\n",
    "veh_description = veh_count_emp2.describe()\n",
    "veh_description"
   ]
  },
  {
   "cell_type": "code",
   "execution_count": 261,
   "metadata": {},
   "outputs": [
    {
     "data": {
      "text/plain": [
       "<matplotlib.axes._subplots.AxesSubplot at 0x13ee72f90>"
      ]
     },
     "execution_count": 261,
     "metadata": {},
     "output_type": "execute_result"
    },
    {
     "data": {
      "image/png": "[encoded data removed]",
      "text/plain": [
       "<Figure size 1440x360 with 1 Axes>"
      ]
     },
     "metadata": {
      "needs_background": "light"
     },
     "output_type": "display_data"
    }
   ],
   "source": [
    "plt.figure(figsize=(20,5))\n",
    "plt.xlim(0,1000)\n",
    "sns.distplot(veh_count_emp2)"
   ]
  }
 ],
 "metadata": {
  "kernelspec": {
   "display_name": "Python 3",
   "language": "python",
   "name": "python3"
  },
  "language_info": {
   "codemirror_mode": {
    "name": "ipython",
    "version": 3
   },
   "file_extension": ".py",
   "mimetype": "text/x-python",
   "name": "python",
   "nbconvert_exporter": "python",
   "pygments_lexer": "ipython3",
   "version": "3.7.5"
  }
 },
 "nbformat": 4,
 "nbformat_minor": 4
}
