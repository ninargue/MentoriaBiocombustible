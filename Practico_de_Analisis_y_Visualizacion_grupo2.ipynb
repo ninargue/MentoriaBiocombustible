{
 "cells": [
  {
   "cell_type": "markdown",
   "metadata": {},
   "source": [
    "# Mentoria DiploDatos FAMAF\n",
    "\n",
    "## Reducción de Emisiones Contaminantes por el Uso de Biocombustibles en Transporte de Cargas y Pasajeros\n",
    "\n",
    "### Práctico de Análisis y Visualización"
   ]
  },
  {
   "cell_type": "code",
   "execution_count": null,
   "metadata": {},
   "outputs": [],
   "source": [
    "import pandas as pd\n",
    "import numpy as np\n",
    "import matplotlib.pyplot as plt\n",
    "import seaborn as sns\n",
    "from datetime import datetime\n",
    "import re"
   ]
  },
  {
   "cell_type": "code",
   "execution_count": null,
   "metadata": {},
   "outputs": [],
   "source": [
    "import warnings\n",
    "warnings.filterwarnings(\"ignore\")"
   ]
  },
  {
   "cell_type": "code",
   "execution_count": null,
   "metadata": {},
   "outputs": [],
   "source": [
    "#!pip install pymysql\n",
    "import pymysql as sql"
   ]
  },
  {
   "cell_type": "markdown",
   "metadata": {},
   "source": [
    "## Datos propios\n",
    "_Datasets :_\n",
    "- Usuarios: registra datos de los usuarios de las bombas\n",
    "- Vehiculos: registra datos de los vehículos \n",
    "- Productos: registra datos de los tipos de combustibles\n",
    "- Equipos: registra datos de los equipos IoT\n",
    "- Tanques: registra datos de los tanques de almacenamiento\n",
    "- Bombas: registra datos de las bombas de suministro de combustible\n",
    "- Transacciones (mensuales, desde el 2018): registro de los suministros de combustible por cada bomba a cada vehículo\n",
    "- Historial (mensuales, desde el 2018): registro de los inventarios mensuales de los tanques de combustibles"
   ]
  },
  {
   "cell_type": "code",
   "execution_count": null,
   "metadata": {},
   "outputs": [],
   "source": [
    "# Listado de todas las tablas de la base de datos\n",
    "# DB_HOST = 'localhost'\n",
    "# DB_PORT = 33060\n",
    "# DB_USER = 'superset'\n",
    "# DB_PASS = 'superset'\n",
    "# DB_NAME = 'db'\n",
    "DB_HOST = 'localdocker'\n",
    "DB_PORT = 3306\n",
    "DB_USER = 'root'\n",
    "DB_PASS = 'root_password'\n",
    "DB_NAME = 'db'\n",
    "\n",
    "mysqldb = sql.connect(\n",
    "  host=DB_HOST,\n",
    "  port=DB_PORT,\n",
    "  user=DB_USER,\n",
    "  passwd=DB_PASS,\n",
    "  database=DB_NAME\n",
    ")\n",
    "mysqlcursordb = mysqldb.cursor()\n",
    "mysqlcursordb.execute(\"show tables\")\n",
    "lista_tablas = []\n",
    "for tabla in mysqlcursordb:\n",
    "    lista_tablas.append(tabla[0])\n",
    "print(lista_tablas)"
   ]
  },
  {
   "cell_type": "code",
   "execution_count": null,
   "metadata": {},
   "outputs": [],
   "source": [
    "# Listado de todas las tablas de la base de datos\n",
    "mysqldb = sql.connect(\n",
    "  host=\"localdocker\",\n",
    "  port= 3306,  \n",
    "  user=\"root\",\n",
    "  passwd=\"root_password\",#\"2801\",\n",
    "  database=\"db\"\n",
    ")\n",
    "mysqlcursordb = mysqldb.cursor()\n",
    "mysqlcursordb.execute(\"show tables\")\n",
    "lista_tablas = []\n",
    "for tabla in mysqlcursordb:\n",
    "    lista_tablas.append(tabla[0])\n",
    "print(lista_tablas)"
   ]
  },
  {
   "cell_type": "code",
   "execution_count": null,
   "metadata": {},
   "outputs": [],
   "source": [
    "# Recuperar los 10 primeros registros de una tabla de la base de datos\n",
    "mysqlcursordb = mysqldb.cursor()\n",
    "query_registros = \"SELECT * FROM fs_bombas;\"\n",
    "mysqlcursordb.execute(query_registros)\n",
    "registros  = mysqlcursordb.fetchall()\n",
    "for reg in registros[0:10]:\n",
    "    print(reg)"
   ]
  },
  {
   "cell_type": "code",
   "execution_count": null,
   "metadata": {},
   "outputs": [],
   "source": [
    "# Conexión a la base de datos (para MySQL)\n",
    "from sqlalchemy import create_engine\n",
    "\n",
    "# Crear motor de conexión sqlalchemy\n",
    "path_conexion = 'mysql+pymysql://{}:{}@{}:{}/{}'.format(\n",
    "    DB_USER, DB_PASS, DB_HOST, DB_PORT, DB_NAME\n",
    ")\n",
    "conexion = create_engine(path_conexion)"
   ]
  },
  {
   "cell_type": "markdown",
   "metadata": {},
   "source": [
    "Para este primer práctico estaremos trabajando solo con algunos datasets. En el segundo práctico se incorporará otros datasets, que requieren de mayor limpieza y manipulacion de los datos."
   ]
  },
  {
   "cell_type": "code",
   "execution_count": null,
   "metadata": {},
   "outputs": [],
   "source": [
    "# Listado de querys para consultas de las tablas a analizar\n",
    "query_productos = \"SELECT * FROM fs_asignacion_producto;\"\n",
    "query_bombas = \"SELECT * FROM fs_bombas;\"\n",
    "query_tanques = \"SELECT * FROM fs_tanques;\"\n",
    "query_usuarios = \"SELECT * FROM fs_usuarios_fuelsentry;\"\n",
    "query_vehiculos = \"SELECT * FROM fs_vehiculos;\""
   ]
  },
  {
   "cell_type": "code",
   "execution_count": null,
   "metadata": {},
   "outputs": [],
   "source": [
    "# Obtención de dataframe 'fs_asignacion_producto', 'fs_bombas', 'fs_equipo', 'fs_tanques', 'fs_usuarios_fuelsentry', 'fs_vehiculos'\n",
    "df_productos = pd.read_sql_query(query_productos, path_conexion)\n",
    "df_tanques = pd.read_sql_query(query_tanques, path_conexion)\n",
    "df_usuarios = pd.read_sql_query(query_usuarios, path_conexion)\n",
    "\n",
    "# También podemos pasar el tipo de formato de las fechas para su conversión al momento de leer los datos\n",
    "format_string = \"%Y-%m-%d %H:%M:%S\"\n",
    "df_bombas = pd.read_sql_query(query_bombas, path_conexion, parse_dates={'fecha_reinicio': format_string})\n",
    "df_vehiculos = pd.read_sql_query(query_vehiculos, path_conexion)"
   ]
  },
  {
   "cell_type": "code",
   "execution_count": null,
   "metadata": {},
   "outputs": [],
   "source": [
    "pd.set_option('display.max_columns', 50)"
   ]
  },
  {
   "cell_type": "markdown",
   "metadata": {},
   "source": [
    "### Dataset de asignación de productos:\n",
    "\n",
    "Contiene información relacionada con los productos de combustible.\n",
    "\n",
    "Descripción de las columnas:\n",
    "- 'id_equipo': ID del dispositivo IoT\n",
    "- 'producto': código del producto\n",
    "- 'nombre_producto': nombre del producto\n",
    "- 'codigo': \n",
    "- 'precio_litro': precio del producto (en $/l)\n",
    "- 'coef_var_vol': coeficiente de variación del volumen del producto combustible (en g/ml/°C)\n",
    "- 'density': densidad del producto (en g/ml)\n",
    "\n",
    "Densidad (ASTM D 4052): densidad relativa del combustible medido (en g/ml o kg/m3) a la temperatura estándar de 15 °C."
   ]
  },
  {
   "cell_type": "code",
   "execution_count": null,
   "metadata": {},
   "outputs": [],
   "source": [
    "print(f'Dimensión del dataset (filas, columnas): {df_productos.shape}\\n')\n",
    "print(f'{df_productos.info()}\\n')\n",
    "df_productos.head()"
   ]
  },
  {
   "cell_type": "code",
   "execution_count": null,
   "metadata": {},
   "outputs": [],
   "source": [
    "# Valores o categorias unicas para cada columna\n",
    "for i in df_productos.columns:\n",
    "    print(f'{i}: {df_productos[i].nunique()}')"
   ]
  },
  {
   "cell_type": "markdown",
   "metadata": {},
   "source": [
    "### Dataset de bombas:\n",
    "\n",
    "Contiene información de las bombas de suministro de combustible.\n",
    "\n",
    "--> Un punto de suministro del combustible posee uno o varios equipos (dispositivo IoT) \n",
    "\n",
    "Descripción de las columnas:\n",
    "- 'id_bomba': ID de la bomba\n",
    "- 'id_equipo': ID del dispositivo IoT\n",
    "- 'bomba': \n",
    "- 'producto': tipo de combustible que suministra la bomba\n",
    "- 'id_tanque': ID del tanque\n",
    "- 'totalizador': litros suministrados a la fecha de reinicio\n",
    "- 'fecha_reinicio': fecha de reinicio de la bomba\n",
    "- 'pulsos_litro': litros que suministra la bomba (por pulso)\n",
    "- 'tiempo_interrump': tiempo de interrupción del suministro de combustible de la bomba (en segundos)\n",
    "- 'habilitacion': \n",
    "- 'rampa_de_parada'"
   ]
  },
  {
   "cell_type": "code",
   "execution_count": null,
   "metadata": {},
   "outputs": [],
   "source": [
    "print(f'Dimensión del dataset (filas, columnas): {df_bombas.shape}\\n')\n",
    "print(f'{df_bombas.info()}\\n')\n",
    "df_bombas.head()"
   ]
  },
  {
   "cell_type": "code",
   "execution_count": null,
   "metadata": {},
   "outputs": [],
   "source": [
    "# Valores o categorias unicas para cada columna\n",
    "for i in df_bombas.columns:\n",
    "    print(f'{i}: {df_bombas[i].nunique()}')"
   ]
  },
  {
   "cell_type": "markdown",
   "metadata": {},
   "source": [
    "### Dataset de tanques:\n",
    "\n",
    "Contiene información de los tanques de combustible.\n",
    "\n",
    "--> Una empresa puede tener más de un tanque\n",
    "\n",
    "--> Varios tanques pueden estar conectado a un mismo equipo\n",
    "\n",
    "--> Un tanque posee una o varias bombas\n",
    "\n",
    "Descripción de las columnas:\n",
    "- 'id_tanque': ID del tanque\n",
    "- 'id_equipo': ID del dispositivo IoT \n",
    "- 'tanque': tipo de tanque\n",
    "- 'producto': producto almacenado en el tanque \n",
    "- 'capacidad': capacidad del tanque en litros\n",
    "- 'log_interval': intervalo de tiempo en el cual se registra la medición del volumen del contenido del tanque --> historial del volumen del tanque\n",
    "- 'nivel_alarma': nivel de contenido del tanque para disparar alarma"
   ]
  },
  {
   "cell_type": "code",
   "execution_count": null,
   "metadata": {},
   "outputs": [],
   "source": [
    "print(f'Dimensión del dataset: {df_tanques.shape}\\n')\n",
    "print(f'{df_tanques.info()}\\n')\n",
    "df_tanques. head()"
   ]
  },
  {
   "cell_type": "code",
   "execution_count": null,
   "metadata": {},
   "outputs": [],
   "source": [
    "for i in df_tanques.columns:\n",
    "    print(f'{i}: {df_tanques[i].nunique()}')"
   ]
  },
  {
   "cell_type": "markdown",
   "metadata": {},
   "source": [
    "### Dataset de usuarios:\n",
    "\n",
    "Contiene información de los usuarios de las bombas de combustible.\n",
    "\n",
    "Descripción de las columnas:\n",
    "- 'id_usuario_fuelsentry': ID de registro del usuario\n",
    "- 'id_equipo':  ID del dispositivo IoT\n",
    "- 'usuario_fuelsentry': código del usuario de la bomba\n",
    "- 'departamento': \n",
    "- 'codigo': \n",
    "- 'totalizador': litros totales suministrados por el usuario de la bomba\n",
    "- 'cargas_totales': número total de cargas sumnistradas por el usuario"
   ]
  },
  {
   "cell_type": "code",
   "execution_count": null,
   "metadata": {},
   "outputs": [],
   "source": [
    "print(f'Dimensión del dataset: {df_usuarios.shape}\\n')\n",
    "print(f'{df_usuarios.info()}\\n')\n",
    "df_usuarios. head()"
   ]
  },
  {
   "cell_type": "code",
   "execution_count": null,
   "metadata": {},
   "outputs": [],
   "source": [
    "for i in df_usuarios.columns:\n",
    "    print(f'{i}: {df_usuarios[i].nunique()}')"
   ]
  },
  {
   "cell_type": "markdown",
   "metadata": {},
   "source": [
    "## Dataset de Vehiculos\n",
    "\n",
    "Contiene informacion sobre los vehiculos \n",
    "\n",
    "Descripcion de las columnas:\n",
    "- **id_vehiculo:** identificador unico\n",
    "- **id_equipo:** el vehiculo esta asociado a un equipo, poede decirse que esta asociado a una estacion de carga\n",
    "- **vehiculo:** corresponde a una identificacion local del vehiculo por parte del equipo.\n",
    "- **departamento:** agrupacion por departamento. campo propio del cliente.\n",
    "- **limite:**\n",
    "- **odometro_inicio:**\n",
    "- **odometro_fin:**\n",
    "- **cargas_maximas_dia:**\n",
    "- **autorizacion:** [campo en desuso]\n",
    "- **cargas_hoy:** [campo en desuso]\n",
    "- **cargas_hasta_hoy:** [campo en desuso]\n",
    "- **ultima_fecha:** [campo en desuso]\n"
   ]
  },
  {
   "cell_type": "code",
   "execution_count": null,
   "metadata": {},
   "outputs": [],
   "source": [
    "print(f'Dimensión del dataset: {df_vehiculos.shape}\\n')\n",
    "print(f'{df_vehiculos.info()}\\n')\n",
    "df_vehiculos.head()"
   ]
  },
  {
   "cell_type": "markdown",
   "metadata": {},
   "source": [
    "## Datos públicos:\n",
    "Bioetanol: producción y ventas (total país)\n",
    "- Producción y ventas de bioetanol por mes en base a maíz y caña de azúcar (en metros cúbicos).\n",
    "- Frecuencia de actualización: Mensualmente\n",
    "- Último cambio: 15 de mayo de 2018"
   ]
  },
  {
   "cell_type": "code",
   "execution_count": null,
   "metadata": {},
   "outputs": [],
   "source": [
    "url_bioetanol_nacional = 'http://datos.minem.gob.ar/dataset/5ce77ad1-c729-42cd-a8b5-2407de005e5b/resource/fd142c49-fa73-4e21-be1f-a10d6d67d05d/download/bioetanol-serie-produccion-y-ventas-total-pais.csv'\n",
    "bioetanol_nacional=pd.read_csv(url_bioetanol_nacional, parse_dates=['mes'])\n",
    "print(f'Dimensión del dataset (filas, columnas): {bioetanol_nacional.shape}\\n')\n",
    "print(f'{bioetanol_nacional.info()}\\n')\n",
    "bioetanol_nacional.head()"
   ]
  },
  {
   "cell_type": "code",
   "execution_count": null,
   "metadata": {},
   "outputs": [],
   "source": [
    "bioetanol_nacional['mes'] = pd.to_datetime(bioetanol_nacional['mes'])"
   ]
  },
  {
   "cell_type": "code",
   "execution_count": null,
   "metadata": {},
   "outputs": [],
   "source": [
    "bioetanol_nacional.head()"
   ]
  },
  {
   "cell_type": "markdown",
   "metadata": {},
   "source": [
    "Biodiesel: producción, ventas y exportaciones, total país\n",
    "- Producción, ventas y exportaciones de biodiesel por mes en toneladas.\n",
    "- Frecuencia de actualización: Mensualmente\n",
    "- Último cambio: 15 de mayo de 2018"
   ]
  },
  {
   "cell_type": "code",
   "execution_count": null,
   "metadata": {},
   "outputs": [],
   "source": [
    "url_biodiesel_nacional = 'http://datos.minem.gob.ar/dataset/5ce77ad1-c729-42cd-a8b5-2407de005e5b/resource/4e04bc74-8625-412c-acc2-48412f2509b4/download/biodiesel-serie-produccion-ventas-y-expo.csv'\n",
    "# Leer CSV\n",
    "biodiesel_nacional =  pd.read_csv(url_biodiesel_nacional,parse_dates=['mes'])\n",
    "biodiesel_nacional"
   ]
  },
  {
   "cell_type": "markdown",
   "metadata": {},
   "source": [
    "## Análisis a desarrollar:\n",
    "\n",
    "Indicaciones previas: \n",
    "- Para cada planteamiento (excepto el 1), realizar un análisis de los resultados obtenidos y justificar por qué empleó determinado cálculo.\n",
    "\n",
    "- Para los planteamientos donde utilices gráficos, responder: ¿Qué tipo de gráfico es el recomendado? ¿Por qué? Construya el gráfico y elabore una conclusión del mismo.\n",
    "\n",
    "Nota: Cuidar los aspectos relevantes de un gráfico (título, nombre de las variables para cada eje, escala de valores en los ejes, colores, fuente de los datos, leyenda, valores a resaltar, etc)"
   ]
  },
  {
   "cell_type": "markdown",
   "metadata": {},
   "source": [
    " ### 1- Seleccionar y crear una lista de 5 variables númericas. Comenta si son de tipo discreto o continuo, y por qué."
   ]
  },
  {
   "cell_type": "code",
   "execution_count": null,
   "metadata": {},
   "outputs": [],
   "source": [
    "# 1.- coheficiente de variacion de volumen.\n",
    "# `fs_asignacion_producto.coef_var_vol`\n",
    "# es una variable continua, si bien toma pocos valores \n",
    "# esta variable debe considerarse continua ya que corresponde\n",
    "# a una propiedad fisica\n",
    "df_productos.coef_var_vol.unique()"
   ]
  },
  {
   "cell_type": "code",
   "execution_count": null,
   "metadata": {},
   "outputs": [],
   "source": [
    "# 2.- totalizador de bomba\n",
    "# `fs_bombas,totalizador`\n",
    "# esta variable es continua. corresponde al volumen de \n",
    "# combustible despachado por un surtidor. El combustible no se\n",
    "# despacha en cantidades discretas de volumen por eso debe \n",
    "# considerarse continua\n",
    "pd.to_numeric(df_bombas.totalizador).describe()"
   ]
  },
  {
   "cell_type": "code",
   "execution_count": null,
   "metadata": {},
   "outputs": [],
   "source": [
    "# 3.- intervalo entre logs de tanque.\n",
    "# `df_tanques.log_interval`\n",
    "# Variable de tiempo, osea que es continua\n",
    "pd.to_numeric(df_tanques.log_interval,errors='coerce').dropna().astype(int).unique()"
   ]
  },
  {
   "cell_type": "code",
   "execution_count": null,
   "metadata": {},
   "outputs": [],
   "source": [
    "# 4.- cantidad de cargas totales de un usuario.\n",
    "# `df_usuarios.cargas_totles`\n",
    "# Es una variable discreta, un valor entero.\n",
    "df_usuarios.cargas_totales.astype(int).sample(10)"
   ]
  },
  {
   "cell_type": "code",
   "execution_count": null,
   "metadata": {},
   "outputs": [],
   "source": [
    "# 5.- produccion total de Biodiesel.\n",
    "# df_biodisel_nac.produccion_total\n",
    "# Variable continua. Representa el la cantidad de combustible \n",
    "# producida en el periodo\n",
    "biodiesel_nacional.produccion_total"
   ]
  },
  {
   "cell_type": "code",
   "execution_count": null,
   "metadata": {},
   "outputs": [],
   "source": []
  },
  {
   "cell_type": "markdown",
   "metadata": {},
   "source": [
    "### 2- Determinar algunas medidas estadísticas para las variables seleccionadas."
   ]
  },
  {
   "cell_type": "markdown",
   "metadata": {},
   "source": [
    "#### 2.1.- Coheficiente de variacion de volumen"
   ]
  },
  {
   "cell_type": "code",
   "execution_count": null,
   "metadata": {},
   "outputs": [],
   "source": [
    "# coeficiente de variacion de volumen\n",
    "print(\"Valores: {}\".format(df_productos.coef_var_vol.unique()))\n",
    "df_productos.groupby('coef_var_vol').count()"
   ]
  },
  {
   "cell_type": "markdown",
   "metadata": {},
   "source": [
    "Vemos que la variable toma pocos valores. Por conocimiento del campo es conocido que el valor de esta variable lo entrega el productor, por lo tanto podemos decir que cada valor corresponde a un producto diferente.\n",
    "Por lo tanto el analisis mas util para esta variable sera:\n",
    " - Ver a que producto corresponde cada coeficiente ( servira luego para inferir el producto a partir de otros valores). Nota: en el item 5 se muestra porque esto no sera posible\n",
    " - Que cantidad de tanques con el mismo producto hay?\n",
    "\n",
    "Por otro lado podemos descartar el valor 10 porque no hay liquido conocido con ese coeficiente de dilatacion, y el valor 0 tambien puede descargarse como \"no valido\" ya que la dilatacion es una propiedad fisica"
   ]
  },
  {
   "cell_type": "code",
   "execution_count": null,
   "metadata": {},
   "outputs": [],
   "source": [
    "data = pd.merge(df_productos, df_tanques[['id_equipo','producto','id_tanque']], how='left', left_on=['id_equipo','producto'], right_on=['id_equipo','producto'])\n",
    "data = data[(data.coef_var_vol > 0) & (data.coef_var_vol < 10)]\n",
    "data.nombre_producto = data.nombre_producto.str.upper().apply(lambda n: 'DIESEL' if re.match(r'.*(DIESEL|GAS\\s{0,1}OIL|EURO|D500).*',n) else n)\n",
    "data.nombre_producto = data.nombre_producto.apply(lambda n: 'NAFTA' if re.match(r'.*(NAFTA|SUPER|ENERGY).*',n) else n)\n",
    "data.nombre_producto = data.nombre_producto.apply(lambda n: 'DESCONOCIDO' if re.match(r'.*(PRODUCT|N/A).*',n) else n)\n",
    "\n",
    "tank_por_prod = data[['nombre_producto','coef_var_vol','id_tanque']].groupby(['nombre_producto','coef_var_vol']).count().sort_values('id_tanque',ascending=False,)\n",
    "tank_por_prod['porcentaje'] = tank_por_prod.id_tanque.apply(lambda x: (100*x/tank_por_prod.id_tanque.sum()).round(2)) \n",
    "print(\"CANTIDAD DE TANQUES POR PRODUCTO \\n[solo se muestran los valores mas relevantes]\")\n",
    "tank_por_prod.head(10)"
   ]
  },
  {
   "cell_type": "markdown",
   "metadata": {},
   "source": [
    "De la tabla anterior vemos que no conocemos que producto contiene el 65% de los tanques, que solo ~28% de los tanques contienen Diesel."
   ]
  },
  {
   "cell_type": "markdown",
   "metadata": {},
   "source": [
    "#### 2.2.- Totalizador de bomba"
   ]
  },
  {
   "cell_type": "code",
   "execution_count": null,
   "metadata": {},
   "outputs": [],
   "source": [
    "df_bombas.totalizador = df_bombas.totalizador.astype(float)\n",
    "df_bombas.totalizador.describe()"
   ]
  },
  {
   "cell_type": "code",
   "execution_count": null,
   "metadata": {},
   "outputs": [],
   "source": [
    "sns.set_context(context='talk', font_scale=0.8, rc={\"lines.linewidth\": 3})\n",
    "fig = plt.figure(figsize=(15,6))\n",
    "data = df_bombas['totalizador']/1e6\n",
    "ax = sns.distplot(data, kde=False, norm_hist=False)\n",
    "ax.set_yscale('log')\n",
    "\n",
    "plt.title(\"Distribución de la variable totalizador de bomba\")\n",
    "plt.ylabel('Cantidad de bombas')\n",
    "plt.xlabel('m3 despachados por bomba')\n",
    "\n",
    "\n",
    "ax=plt.annotate('Totalizadores en cero en {} bombas\\n(*1) Ver aclaración abajo'.format(\n",
    "                    len(df_bombas[df_bombas['totalizador']==0])\n",
    "                    )\n",
    "                 ,xy=(0.65, 0.80), xycoords='axes fraction', fontsize=12)\n",
    "\n",
    "sns.despine()\n"
   ]
  },
  {
   "cell_type": "markdown",
   "metadata": {},
   "source": [
    "**_(*1)_**  Existen 3 posibles motivos por lo cual tenemos tantas bombas con valores 0 o de pocos litros:\n",
    "* La variable (bomba) no se está utilizando, hay un campo **habilitacion** que está en cero en algunos casos\n",
    "* Está variable no tiene en cuenta el tiempo por ende podrían ser bombas son nuevas, recién instaladas\n",
    "* La variable no se está actualizando correctamente\n",
    "Se concluye que, por el momento, no tiene mucho sentido obtener mediciones estadisticas de esta variables. \n",
    "Otra observación importante es que este dato está contenido dentro de las tablas de transacciones (__sis_transa__), donde ahí sí contammos con la variable tiempo y se podrían obtener un análisis mas interesante."
   ]
  },
  {
   "cell_type": "markdown",
   "metadata": {},
   "source": [
    "#### 2.3.- Intervalo entre logs de tanque"
   ]
  },
  {
   "cell_type": "code",
   "execution_count": null,
   "metadata": {},
   "outputs": [],
   "source": [
    "data = df_tanques\n",
    "data.log_interval = pd.to_numeric(data.log_interval,errors='coerce')\n",
    "data = data.dropna()\n",
    "data.log_interval = data.log_interval.astype(int)\n",
    "\n",
    "data.log_interval.describe()"
   ]
  },
  {
   "cell_type": "markdown",
   "metadata": {},
   "source": [
    "Vemos que al menos el 75% de los valores es menor  o igual que 30.y que el primer y tercer cuartil calen 30 pero esta metrica no es muy ultil, asique hayq que expresarla mejor"
   ]
  },
  {
   "cell_type": "code",
   "execution_count": null,
   "metadata": {},
   "outputs": [],
   "source": [
    "# data[data['log_interval']==0]\n",
    "interval = df_tanques['log_interval'].round(0).dropna().astype(int)\n",
    "interval.dtype"
   ]
  },
  {
   "cell_type": "code",
   "execution_count": null,
   "metadata": {},
   "outputs": [],
   "source": [
    "print(\"sondas con muestreo mayor a 30 minutos: %.1f %%\" % (\n",
    "        (100*len(data[data.log_interval > 30])/len(data)),\n",
    "    )\n",
    ")\n",
    "print(\"sondas con muestreo menor a 30 minutos: %.1f %%\" % (\n",
    "        (100*len(data[data.log_interval < 30])/len(data)),\n",
    "    )\n",
    ")\n",
    "\n",
    "print(\"sondas con muestreo cada 10 minutos: %.1f %%\" % (\n",
    "        (100*len(data[data.log_interval == 10])/len(data)),\n",
    "    )\n",
    ")\n",
    "\n",
    "print(\"sondas con muestreo cada 30 minutos: %.1f %%\" % (\n",
    "        (100*len(data[data.log_interval == 30])/len(data)),\n",
    "    )\n",
    ")\n",
    "\n",
    "print(\"sondas con muestreo cada 60 minutos: %.1f %%\"  % (\n",
    "        (100*len(data[data.log_interval == 60])/len(data)),\n",
    "    )\n",
    ")\n",
    "\n",
    "fig = plt.figure(figsize=(19,8))\n",
    "sp1 = plt.subplot('221')\n",
    "sp1.set_title(\"Periodos de muestreo menores o iguales a 30 minutos\")\n",
    "ax=sns.distplot(data.log_interval[data.log_interval <= 30], norm_hist=False, kde=False, ax=sp1, color='green')\n",
    "ax.set_yscale('log')\n",
    "\n",
    "# ax=sns.distplot(np.log(data['log_interval']), norm_hist=False, kde=False, color='green')\n",
    "\n",
    "plt.ylabel('Cantidad')\n",
    "plt.xlabel('Intervalo máximo de mediciones [minutos]')\n",
    "\n",
    "sp2 = plt.subplot('222')\n",
    "sp2.set_title('Periodos de muestreo mayores a 30 minutos')\n",
    "ax = sns.distplot(data.log_interval[data.log_interval > 30], norm_hist=False, kde=False, ax=sp2, color='green')\n",
    "plt.xlabel('Intervalo máximo de mediciones [minutos]')\n",
    "\n",
    "ax.set_yscale('log')\n",
    "# ax.set_xscale('log')\n",
    "\n",
    "\n",
    "fig.tight_layout()\n",
    "sns.despine()"
   ]
  },
  {
   "cell_type": "markdown",
   "metadata": {},
   "source": [
    "Se obserba de la descripcion y grafico anteriores que el ~80% de los equipos toma muestras de nivel de tanque cada 30 minutos, ~9% lo hace cada 60 minutos, y ~5% lo hace cada 10 minutos. El resto de los casos son clientes con requerimientos especificos, dispositivos experimentales o dispositivos mal configurados. Esta consideracion sera importante a la hora de matchear transacciones con historiales en la curacion"
   ]
  },
  {
   "cell_type": "markdown",
   "metadata": {},
   "source": [
    "#### 2.4.-Cantidad de cargas totales de los usuarios"
   ]
  },
  {
   "cell_type": "code",
   "execution_count": null,
   "metadata": {},
   "outputs": [],
   "source": [
    "fig = plt.figure(figsize=(15,5))\n",
    "\n",
    "\n",
    "data = df_usuarios\n",
    "data.cargas_totales = data.cargas_totales.astype(int)\n",
    "plt.title(\"Distribución del número de cargas de los usuarios\")\n",
    "print(\"Rango de la variable: {} - {}\".format(data.cargas_totales.min(), data.cargas_totales.max()))\n",
    "ax=sns.distplot(data.cargas_totales[data.cargas_totales>0],kde=False, norm_hist=False, color='blue')\n",
    "plt.ylabel('Cantidad de usuarios')\n",
    "plt.xlabel('Número de cargas por usuario')\n",
    "ax.set_yscale('log')\n"
   ]
  },
  {
   "cell_type": "markdown",
   "metadata": {},
   "source": [
    "Como vemos en el grafico, hay algunos usuarios con muchas cargas mientras otros con pocas, esto no es real, ya que como se muestra en el rango y luego se aprecia en el grafico, esta variable toma valores de hasta tres digitos. Podemos afirmar entonces que la variable es incierta ya que cuando el valor supera 999 vuelve a 000 (overflow), entonces no podemos conocer el valor real. Por otro lado podremos obtener el valor de esta variable en un periodo de tiempo a partir de las tablas de transacciones ya que cada transaccion esta asociada a un usuario. A continuacion se muestra lo mencionado para todo el año 2019"
   ]
  },
  {
   "cell_type": "code",
   "execution_count": null,
   "metadata": {},
   "outputs": [],
   "source": [
    "# Cargo los datos de transaccion de 2019\n",
    "query = \" UNION \".join(\n",
    "    [\"SELECT id_transaccion, id_usuario, fecha FROM sis_transa_2019_{}\".format(mes) for mes in range(1,13)]\n",
    ")\n",
    "df_transa_2019 = pd.read_sql(sql=query, con=path_conexion)\n",
    "# elimiro registros espurios (con conocimiento de campo)\n",
    "df_transa_2019 = df_transa_2019[(df_transa_2019.id_usuario!=0) & (df_transa_2019.fecha!='0000-00-00')]\n",
    "df_transa_2019.fecha = pd.to_datetime(df_transa_2019.fecha)"
   ]
  },
  {
   "cell_type": "code",
   "execution_count": null,
   "metadata": {},
   "outputs": [],
   "source": [
    "%%time\n",
    "# Obtengo la cantidad de cargas totales\n",
    "data = df_transa_2019.groupby(['id_usuario']).count().rename(columns={'fecha':'cantidad'}).sort_index()\n",
    "# obtengo el periodo activo del usuario\n",
    "data['fecha_min'] = df_transa_2019.groupby(['id_usuario']).min().sort_index().fecha\n",
    "data['fecha_max'] = df_transa_2019.groupby(['id_usuario']).max().sort_index().fecha\n",
    "data['dias'] = (data.fecha_max-data.fecha_min).apply(lambda p: pd.Timedelta(p).days)\n",
    "del data['id_transaccion']\n",
    "# elimino los que tuvieron una carga eventual \n",
    "data = data[data.dias > 0]\n",
    "data['cargas_por_dia'] = data.cantidad / data.dias\n",
    "data"
   ]
  },
  {
   "cell_type": "code",
   "execution_count": null,
   "metadata": {},
   "outputs": [],
   "source": [
    "fig = plt.figure(figsize=(15,5))\n",
    "# plt.title(\"Cantidad de cargas en promedio por dia por cada usuario\")\n",
    "plt.title(\"Distribución del número de cargas promedio por día de los usuarios\")\n",
    "ax=sns.distplot(data.cargas_por_dia, kde=False, color='blue')#, norm_hist=True)\n",
    "plt.ylabel('Cantidad de usuarios')\n",
    "plt.xlabel('Número de cargas por día')\n",
    "ax.set_yscale('log')\n",
    "\n",
    "plt.show()\n",
    "data.cargas_por_dia.describe()\n"
   ]
  },
  {
   "cell_type": "markdown",
   "metadata": {},
   "source": [
    "La hipotesis que podemos generar partiendo del grafico anterior es que hay dos grupos de usuarios (dos usos para la variable), quienes realizan muchas transacciones de combustible (ej. playeros de estaciones de servicio), es decir que el usuario es quien despacha el combustible y por otro lado tenemos a usuarios que realizan pocas transacciones (ej. choferes), es decir que la variable esta asociada con quien recibe el combustible. \n",
    "\n",
    "Apoyandonos en la hipotesis anterior diremos que hay mas usuarios quienes reciben combustible que quienes despachan, el 75 porciento de los usuarios realizan menos de 18 cargas por mes, si descontamos los fines de semana y los feriados esto nos da aproximadamente 1 carga al dia. Intuitivamente podriamos afirmar que un chofer carga combustible dos veces al dia como maximo lo que puede servir como umbral para la diferenciacion de usuarios."
   ]
  },
  {
   "cell_type": "markdown",
   "metadata": {},
   "source": [
    "#### 2.5.-Capacidad de los tanques"
   ]
  },
  {
   "cell_type": "code",
   "execution_count": null,
   "metadata": {},
   "outputs": [],
   "source": [
    "#filtro tanques borrados en consola, contiene 'X'\n",
    "df_tanques = df_tanques[df_tanques['capacidad'].str.contains('x',case=False)==False]\n",
    "\n",
    "# Capacidad del tanques, variable numerica discreta\n",
    "df_tanques['capacidad_int64'] = df_tanques['capacidad'].astype('float').round(0).astype('int64')\n",
    "print(f'Descripción de las capacidades')\n",
    "print(df_tanques['capacidad_int64'].describe(),'\\n')\n"
   ]
  },
  {
   "cell_type": "markdown",
   "metadata": {},
   "source": [
    "- La capacidad de los tanques están en litros\n",
    "- Existen errores en la capacidad asignada, un tanque de almacenamiento de combustible no debería tener menos de 40 litros, si lo comparamos con la capacidad de un automóvil cualquiera estamos en 40 litros, es lógico pensar que almacenar el mismo combustible para distribución los tanques están por encima de estás capacidades\n"
   ]
  },
  {
   "cell_type": "markdown",
   "metadata": {},
   "source": [
    "#### 2.6.-Producción de Biodiesel"
   ]
  },
  {
   "cell_type": "code",
   "execution_count": null,
   "metadata": {},
   "outputs": [],
   "source": [
    "fig = plt.figure(figsize=(15,5))\n",
    "\n",
    "data = biodiesel_nacional\n",
    "\n",
    "plt.title(\"Distribucion de la produccion mensual de Biodiesel\")\n",
    "sns.distplot(data.produccion_total, kde=False, color='green')\n",
    "plt.xlabel('Masa Promedio Mensual [Toneladas]')\n",
    "plt.show()\n",
    "\n",
    "data.produccion_total.describe()"
   ]
  },
  {
   "cell_type": "markdown",
   "metadata": {},
   "source": [
    "La produccion media mensual de biodiesel es de 171.5 KTon con desviacion estandar 70.8KTon , vemos que es asimetrica hacia la derecha, esto se debe a que la produccion ha aumentado a travez de los años y se muestra a continuacion"
   ]
  },
  {
   "cell_type": "markdown",
   "metadata": {},
   "source": [
    "### 3- Obtenga el número registros en el dataset para cada producto ('producto' de df_bombas). Comente sobre los valores obtenidos."
   ]
  },
  {
   "cell_type": "code",
   "execution_count": null,
   "metadata": {},
   "outputs": [],
   "source": [
    "print(\"cantidad de bombas: {}\".format(\n",
    "        len(df_bombas)\n",
    "    )\n",
    ")\n",
    "print(\"cantidad de productos: {}\".format(\n",
    "        len(df_bombas[['id_equipo','producto']].drop_duplicates())\n",
    "    )\n",
    ")"
   ]
  },
  {
   "cell_type": "markdown",
   "metadata": {},
   "source": [
    "Existen menos productos que bombas, esto nos indica que hay varias bombas que despachan un mismo producto"
   ]
  },
  {
   "cell_type": "markdown",
   "metadata": {},
   "source": [
    "### 4- Obtener un gráfico para visualizar el comportamiento de los valores de capacidad de los tanques de combustibles. (df_tanques)"
   ]
  },
  {
   "cell_type": "code",
   "execution_count": null,
   "metadata": {},
   "outputs": [],
   "source": [
    "fig = plt.figure(figsize=(15,10))\n",
    "\n",
    "#filtro capacidades menores a 40 litros\n",
    "df_tanques_f40 = df_tanques[df_tanques['capacidad_int64']>=40]\n",
    "df = df_tanques_f40.groupby(['capacidad_int64'], as_index=False).count()\n",
    "\n",
    "\n",
    "plt.title(\"Distribución de las capacidades de los tanques\")\n",
    "sns.scatterplot(data=df, x='capacidad_int64', y='id_tanque')\n",
    "sns.distplot(df_tanques_f40['capacidad_int64'], kde=False, color='red', norm_hist = False, bins=11)\n",
    "plt.xlabel('Capacidad [Litros]')\n",
    "plt.ylabel('Cantidad de tanques')\n",
    "# plt.legend()\n",
    "# plt.legend(bbox_to_anchor=(1.05, 1), loc=2, borderaxespad=0)\n",
    "sns.despine()\n",
    "plt.show()\n",
    "df_tanques_f40['capacidad_int64'].describe()\n",
    "\n"
   ]
  },
  {
   "cell_type": "markdown",
   "metadata": {},
   "source": [
    "Como muestra el grafico anterior, si bien tenemos tanques de hasta 100kLts. la capacidad del 75 % de los tanques es de hasta 50kLts. Sin embargo es muy representativa la cantidad de almacenamientos de baja capacidad (< 10kLts)."
   ]
  },
  {
   "cell_type": "markdown",
   "metadata": {},
   "source": [
    "### 5- Obtener un gráfico que muestre y compare el comportamiento del coeficiente de variación de los distintos productos (df_productos). ¿Qué haría para mejorar el gráfico?"
   ]
  },
  {
   "cell_type": "code",
   "execution_count": null,
   "metadata": {},
   "outputs": [],
   "source": [
    "# coeficiente de variacion de volumen\n",
    "df_productos.coef_var_vol.unique()"
   ]
  },
  {
   "cell_type": "code",
   "execution_count": null,
   "metadata": {},
   "outputs": [],
   "source": [
    "fig = plt.figure(figsize=(15,5))\n",
    "\n",
    "sp = plt.subplot('111')\n",
    "ax=sns.countplot(data=df_productos, x='coef_var_vol',ax=sp)\n",
    "plt.ylabel('Número de productos')\n",
    "plt.xlabel('Coeficiente de dilatación volumétrica [1/ºC]')\n",
    "plt.title(\"Distribución del Coeficiente de dilatación volumétrica de los productos\")\n",
    "\n",
    "\n",
    "\n",
    "data = df_productos.coef_var_vol.dropna()\n",
    "\n",
    "print(\n",
    "    \"Productos con coheficiente de dilatacion 0.001 : {}%\".format(\n",
    "        (100 * len(data[data == 0.001])/len(data))\n",
    "    )\n",
    ")\n",
    "# hay muchos productos con el mismo coheficiente."
   ]
  },
  {
   "cell_type": "markdown",
   "metadata": {},
   "source": [
    "Hay muchos productos con el mismo coeficiente, asique vamos a analizar a que productos corresponde."
   ]
  },
  {
   "cell_type": "code",
   "execution_count": null,
   "metadata": {},
   "outputs": [],
   "source": [
    "fig = plt.figure(figsize=(15,15))\n",
    "data = df_productos[df_productos.coef_var_vol == 0.001]\n",
    "data.nombre_producto = data.nombre_producto.str.upper().apply(lambda n: 'DIESEL' if re.match(r'.*(DIESEL|GAS\\s{0,1}OIL|EURO|D500).*',n) else n)\n",
    "data.nombre_producto = data.nombre_producto.apply(lambda n: 'NAFTA' if re.match(r'.*(NAFTA|SUPER|ENERGY).*',n) else n)\n",
    "data.nombre_producto = data.nombre_producto.apply(lambda n: 'DESCONOCIDO' if re.match(r'.*(PRODUCT|N/A).*',n) else n)\n",
    "\n",
    "sp = plt.subplot('211')\n",
    "sp.set_title(\"Productos con coheficiente de dilatacion = 0.001 (todos)\")\n",
    "\n",
    "data['clrs'] = np.where(data['nombre_producto'] == 'DESCONOCIDO','green','gray')\n",
    "\n",
    "sns.countplot(\n",
    "    data=data, x='nombre_producto',ax=sp,\n",
    "    order=data.nombre_producto.value_counts().index,\n",
    "    palette = data['clrs']\n",
    ")\n",
    "sp.set_xticklabels(sp.get_xticklabels(), rotation=90)\n",
    "\n",
    "sp1 = plt.subplot('212')\n",
    "sp1.set_title(\"Productos con coheficiente de dilatacion = 0.001 (Solo Conocidos)\")\n",
    "# clrs = ['grey' if x == 'DESCONOCIDO' else 'green' for x in data.nombre_producto ]\n",
    "\n",
    "                        \n",
    "sns.countplot(\n",
    "    data=data[data.nombre_producto != 'DESCONOCIDO'], x='nombre_producto',ax=sp1,\n",
    "    order=data.nombre_producto[data.nombre_producto != 'DESCONOCIDO'].value_counts().index,\n",
    "    color='green',\n",
    ")\n",
    "sp1.set_xticklabels(sp1.get_xticklabels(), rotation=90)\n",
    "sp1.set_ylabel('Cantidad')\n",
    "sp.set_ylabel('Cantidad')\n",
    "\n",
    "sp.set_xlabel(' ')\n",
    "sp1.set_xlabel('Nombre del producto')\n",
    "\n",
    "fig.tight_layout()"
   ]
  },
  {
   "cell_type": "markdown",
   "metadata": {},
   "source": [
    "Del grafico anterior concluimos que no podemos inferir a que producto real (diesel, gasoil, nafta, etc.) corresponden los que no tienen nombre , ej. \"PRODUCTO 1\",\n",
    "ya que son muchos los productos con el mismo coeficiente."
   ]
  },
  {
   "cell_type": "markdown",
   "metadata": {},
   "source": [
    "### 6- Analizar la distribución de los litros totales y la cantidad de cargas totales que suministraron los usuarios ('totalizador' y 'cargas_totales' del df_usuarios)"
   ]
  },
  {
   "cell_type": "markdown",
   "metadata": {},
   "source": [
    "La distribución y análisis de cargas totales se hizo en el punto 2.4 anterior."
   ]
  },
  {
   "cell_type": "code",
   "execution_count": null,
   "metadata": {},
   "outputs": [],
   "source": [
    "data = df_usuarios\n",
    "data.cargas_totales = data.cargas_totales.astype(int)\n",
    "data.totalizador = data.totalizador.astype(float)\n",
    "\n",
    "fig = plt.figure(figsize=(15,5))\n",
    "# sp2.set_title(\"Cantidad de litros despachados\")\n",
    "ax=sns.distplot(data.totalizador,kde=False, norm_hist=False, label='volumen suministrado[Lts]')\n",
    "\n",
    "plt.ylabel('Cantidad de usuarios')\n",
    "plt.xlabel('Totalizador [Litros]')\n",
    "plt.title(\"Distribución de la Cantidad de litros despachados\")\n",
    "ax.set_yscale('log')\n",
    "\n",
    "fig.tight_layout()\n",
    "sns.despine()\n",
    "plt.show()\n",
    "\n",
    "\n",
    "data.totalizador.describe()"
   ]
  },
  {
   "cell_type": "markdown",
   "metadata": {},
   "source": [
    "Como ya se explico en el item 2.4, esta variable esta corrupta, debido a la limitacion de tres cifras se genera un overflow de la variable por eso este dato es incierto, el valor correcto puede obtenerse analizando la tabla de transacciones en un periodo de tiempo.\n",
    "Lo mismo sucede con la variable totalizador, esta limitada a 5 cifras, esto genera oveflow y la variable se reinicia. no es confiable. Sin embargo podemos obtener el valor de la variable en un periodo de tiempo, idem a la variable cargas_totales."
   ]
  },
  {
   "cell_type": "code",
   "execution_count": null,
   "metadata": {},
   "outputs": [],
   "source": [
    "# Cargo los datos de transaccion de 2019\n",
    "query = \" UNION \".join(\n",
    "    [\"SELECT id_transaccion, id_usuario, fecha, cantidad FROM sis_transa_2019_{}\".format(mes) for mes in range(1,13)]\n",
    ")\n",
    "df_transa_2019 = pd.read_sql(sql=query, con=path_conexion)\n",
    "# elimiro registros espurios (con conocimiento de campo)\n",
    "df_transa_2019 = df_transa_2019[(df_transa_2019.id_usuario!=0) & (df_transa_2019.fecha!='0000-00-00')]\n",
    "df_transa_2019.fecha = pd.to_datetime(df_transa_2019.fecha)\n",
    "df_transa_2019.cantidad = pd.to_numeric(df_transa_2019.cantidad, errors='coerce')\n",
    "df_transa_2019 = df_transa_2019.dropna()\n",
    "# Elimino transacciones con cantidad = 0\n",
    "df_transa_2019 = df_transa_2019[df_transa_2019.cantidad > 0]"
   ]
  },
  {
   "cell_type": "code",
   "execution_count": null,
   "metadata": {},
   "outputs": [],
   "source": [
    "data = df_transa_2019.groupby(['id_usuario']).sum().sort_index()\n",
    "# obtengo el periodo activo del usuario\n",
    "data['fecha_min'] = df_transa_2019.groupby(['id_usuario']).min().sort_index().fecha\n",
    "data['fecha_max'] = df_transa_2019.groupby(['id_usuario']).max().sort_index().fecha\n",
    "# cantidad de dias que el usuario estuvo activo \n",
    "data['dias'] = df_transa_2019[['id_usuario','fecha']].drop_duplicates().groupby(['id_usuario']).count().sort_index().fecha\n",
    "del data['id_transaccion']\n",
    "# elimino los que tuvieron una carga eventual \n",
    "data = data[data.dias > 0]\n",
    "\n",
    "data['cantidad_por_dia'] = data.cantidad / data.dias\n",
    "data['cargas_totales'] = df_transa_2019.groupby(['id_usuario']).count().id_transaccion.sort_index()\n",
    "data['cargas_por_dia'] = data.cargas_totales / data.dias\n",
    "\n",
    "data.cargas_por_dia.describe()"
   ]
  },
  {
   "cell_type": "markdown",
   "metadata": {},
   "source": [
    "Como se menciono en el punto 2.4, es logico pensar que podemos diferenciar los grupos de usuarios umbralizando en cargas_por_dia = 2 es decir que un quien recibe el combustible carga como maximo dos veces al dia. esta hiposis se prueba obserbando que el terver cuartil tiene valor 2.0 "
   ]
  },
  {
   "cell_type": "code",
   "execution_count": null,
   "metadata": {},
   "outputs": [],
   "source": [
    "fig = plt.figure(figsize=(15,10))\n",
    "data['grupo'] = np.where(data.cargas_por_dia <= 2, \"Grupo 1\", \"Grupo 2\")\n",
    "\n",
    "sp1 = plt.subplot(\"211\")\n",
    "# sp1.set_title(\"Cantidad promedio de cargas  por día vs volumen promedio de la transacción por día \")\n",
    "sp1.set_title(\"Volumen promedio de cada usuario por día\")\n",
    "sns.scatterplot(data=data, x='cargas_por_dia', y='cantidad_por_dia', hue='grupo', ax=sp1)\n",
    "\n",
    "sp1.set_ylabel('Volumnen por día [Litros]')\n",
    "sp1.set_xlabel('Cantidad de cargas por día')\n",
    "\n",
    "sp2 = plt.subplot(\"212\")\n",
    "# sp2.set_title(\"Cantidad promedio de cargas  por día vs volumen promedio de la transacción por día (Grupo 1)\")\n",
    "sp2.set_title(\"Volumen promedio de cada usuario por día (solo Grupo 1)\")\n",
    "sns.scatterplot(data=data[data.grupo == 'Grupo 1'], x='cargas_por_dia', y='cantidad_por_dia', ax=sp2)\n",
    "\n",
    "sp2.set_ylabel('Volumen por día [Litros]')\n",
    "sp2.set_xlabel('Cantidad de cargas por día')\n",
    "\n",
    "fig.tight_layout()"
   ]
  },
  {
   "cell_type": "markdown",
   "metadata": {},
   "source": [
    "En el Scaterplot anterior se muestra la relacion entre las variables 'cantidad de cargas por dia' y 'volumen cargado por dia para cada usuario'. para el Grupo dos existe una correlacion positiva de las variables, mientras que para el grupo uno, no hay una correlacion evidente.  \n",
    "(José) - Yo diría que no hay una correlación visible entre el consumo de cada usuario y la cantidad de veces que carga por día"
   ]
  },
  {
   "cell_type": "markdown",
   "metadata": {},
   "source": [
    "## Emplear los datos públicos del Bioetanol y Biodiesel: producción y ventas (total país), en las últimos planteamientos:\n",
    "\n",
    "### 7- Obtener las gráficas de series temporales de la producción de bioetanol en base a caña de azúcar, a maíz y la total, así también para la producción total de biodiesel."
   ]
  },
  {
   "cell_type": "code",
   "execution_count": null,
   "metadata": {},
   "outputs": [],
   "source": [
    "plt.figure(figsize=(15,6))\n",
    "sns.lineplot(data=bioetanol_nacional,\n",
    "                 x='mes', y='produccion_total',\n",
    "                 label='Total',\n",
    "                 ci = None,\n",
    "                 linewidth = 4\n",
    "                )\n",
    "\n",
    "sns.lineplot(data=bioetanol_nacional,\n",
    "                 x='mes', y='produccion_base_maiz',\n",
    "                 label='Maíz',\n",
    "                 ci = None,\n",
    "                 color = 'orange'\n",
    "                )\n",
    "\n",
    "sns.lineplot(data=bioetanol_nacional,\n",
    "                 x='mes', y='produccion_base_cana_de_azucar',\n",
    "                 label='Caña de azucar',\n",
    "                 ci = None,\n",
    "                 color = 'green'\n",
    "                )\n",
    "\n",
    "plt.legend()\n",
    "# plt.legend(bbox_to_anchor=(1.05, 1), loc=2, borderaxespad=0)\n",
    "plt.title('Producción de Bioetanol en Argentina')\n",
    "plt.ylabel('Volumen Mensual [m3]')\n",
    "plt.xlabel('Fecha')\n",
    "sns.despine()\n",
    "plt.show()\n",
    "bioetanol_nacional.describe()"
   ]
  },
  {
   "cell_type": "markdown",
   "metadata": {},
   "source": [
    "En el grafico se muestra la produccion media por mes de bioetanol, se aprecia una alta estacionalidad de la produccion para la caña de azucar, en el primer semestre la produccion es mucho menor que en el segundo.  \n",
    "Estás conclusiones serán mejor observada en el mapa de calor de mas abajo."
   ]
  },
  {
   "cell_type": "code",
   "execution_count": null,
   "metadata": {},
   "outputs": [],
   "source": [
    "plt.figure(figsize=(15,6))\n",
    "sp1=sns.lineplot(data=biodiesel_nacional,\n",
    "                 x='mes', y='produccion_total',\n",
    "                 label='Total',\n",
    "                 ci = None,\n",
    "                 linewidth = 4,\n",
    "#                  color = 'blue'\n",
    "                )\n",
    "\n",
    "plt.legend()\n",
    "# plt.legend(bbox_to_anchor=(1.05, 1), loc=2, borderaxespad=0)\n",
    "plt.title('Producción de Biodiesel en Argentina')\n",
    "plt.ylabel('Masa Mensual  [Toneladas]')\n",
    "plt.xlabel('Fecha')\n",
    "sns.despine()\n",
    "plt.show()\n",
    "biodiesel_nacional.describe()"
   ]
  },
  {
   "cell_type": "markdown",
   "metadata": {},
   "source": [
    "En el gráfico vemos la produccion total de biodiesel en cada año vemos que tuvo caidas importantes en los años 2013 y 2015 pero tiene una tendencia ascendente, parece haber una caida en 2018, sin embargo no podemos afirmarlo ya que solo tenemos datos hasta mayo de 2018.\n"
   ]
  },
  {
   "cell_type": "markdown",
   "metadata": {},
   "source": [
    "### 8- Comparar la distribución de producción total de biodiesel y bioetanol para cada mes y año. ¿En qué años y meses los consumos son más consistentes?\n",
    "--> Emplear: https://pandas.pydata.org/pandas-docs/stable/reference/api/pandas.pivot_table.html#pandas.pivot_table"
   ]
  },
  {
   "cell_type": "code",
   "execution_count": null,
   "metadata": {},
   "outputs": [],
   "source": [
    "biodiesel = pd.DataFrame()\n",
    "biodiesel[['fecha','produccion_total']] = biodiesel_nacional[['mes','produccion_total']].copy()\n",
    "biodiesel['año']=biodiesel['fecha'].dt.year\n",
    "biodiesel['mes']= biodiesel['fecha'].dt.month\n",
    "biodiesel['ventas_totales'] = biodiesel_nacional[['ventas_al_corte','otras_ventas_al_mercado_interno','exportaciones']].sum(axis='columns')\n",
    "biodiesel['ventas_al_corte'] = biodiesel_nacional['ventas_al_corte']\n",
    "biodiesel['remanente'] = (biodiesel['produccion_total']-biodiesel['ventas_totales']).rolling(12).mean()\n",
    "biodiesel['produccion_media_anual'] = biodiesel['produccion_total'].rolling(12).mean()\n",
    "biodiesel['ventas_media_anual'] = biodiesel['ventas_totales'].rolling(12).mean()\n",
    "# biodiesel['remanente'].rolling(12).mean()\n",
    "\n",
    "bioetanol = pd.DataFrame()\n",
    "bioetanol[['fecha','produccion_total']] = bioetanol_nacional[['mes','produccion_total']].copy()\n",
    "bioetanol['año']=bioetanol['fecha'].dt.year\n",
    "bioetanol['mes']= bioetanol['fecha'].dt.month\n",
    "bioetanol['consumo'] = bioetanol_nacional['ventas_totales']\n"
   ]
  },
  {
   "cell_type": "code",
   "execution_count": null,
   "metadata": {},
   "outputs": [],
   "source": [
    "biodiesel"
   ]
  },
  {
   "cell_type": "code",
   "execution_count": null,
   "metadata": {},
   "outputs": [],
   "source": [
    "plt.figure(figsize=(15,20))\n",
    "# sns.set(style=\"whitegrid\")\n",
    "\n",
    "with sns.axes_style(\"white\"):\n",
    "\n",
    "    sp1 = plt.subplot(\"211\")\n",
    "    sns.lineplot(data=biodiesel[['fecha','produccion_total','produccion_media_anual']].set_index('fecha'),\n",
    "                palette = 'summer',\n",
    "                linewidth = 2,\n",
    "                ax=sp1\n",
    "                )\n",
    "\n",
    "\n",
    "    sns.lineplot(data=biodiesel[['fecha','ventas_totales']].set_index('fecha'),\n",
    "                palette = 'spring',\n",
    "                linewidth = 2,\n",
    "                ax=sp1     \n",
    "                )\n",
    "\n",
    "    sns.lineplot(data=biodiesel[['fecha','ventas_al_corte']].set_index('fecha'),\n",
    "                color = 'blue',\n",
    "                linewidth = 2,\n",
    "                ax=sp1     \n",
    "                )\n",
    "\n",
    "# sp3 = plt.subplot(\"212\")\n",
    "with sns.axes_style(\"whitegrid\"):\n",
    "    sp2 = plt.subplot(\"212\")\n",
    "    sns.regplot(data=biodiesel, x='produccion_media_anual', \n",
    "                y='ventas_media_anual',\n",
    "                ax=sp2,\n",
    "               )\n",
    "\n",
    "sp1.legend()\n",
    "# sp1.legend(bbox_to_anchor=(1.05, 1), loc=2, borderaxespad=0)\n",
    "sp1.set_title('Producción y Ventas de Biodiesel en Argentina')\n",
    "sp1.set_ylabel('Masa Mensual  [Toneladas]')\n",
    "sp1.set_xlabel('Fecha')\n",
    "\n",
    "sp2.set_title('Correlación entre Ventas y Producción anualizada de biodiesel en Argentina')\n",
    "sp2.set_ylabel('Consumo/Ventas mensuales [Tn]')\n",
    "sp2.set_xlabel('Producción media mensual [Tn]')\n",
    "plt.set_axes_style =\"whitegrid\"\n",
    "\n",
    "\n",
    "sns.despine()\n",
    "plt.show()\n",
    "# biodiesel_nacional.describe()"
   ]
  },
  {
   "cell_type": "markdown",
   "metadata": {},
   "source": [
    "En los gráficos podemos observar que hay excelente correlación entre el biodiesel vendido y producido.  \n",
    "En los años 2014 y 2016 se observa un gran caída tanto en el consumo para corte como para exportación.\n",
    "En primer gráfico la venta al corte se utiliza para mezclar con el gasoil o diesel tradicional. Tiene un leve aumento con el correr de los años, el cual se tendrá que analizar en detalle mas adelante."
   ]
  },
  {
   "cell_type": "code",
   "execution_count": null,
   "metadata": {},
   "outputs": [],
   "source": [
    "url_biodiesel_xls = \"http://www.energia.gob.ar/contenidos/archivos/Reorganizacion/informacion_del_mercado/mercado_hidrocarburos/bio/estadisticas_biocombustibles.xls\"\n",
    "# bio_new = pd.read_excel(url_biodiesel_xls, sheet_name='RESUMEN BIODIESEL', header=21)\n",
    "bio_new = pd.read_excel('estadisticas_biocombustibles.xls', sheet_name='RESUMEN BIODIESEL', header=21, nrows=148)"
   ]
  },
  {
   "cell_type": "code",
   "execution_count": null,
   "metadata": {},
   "outputs": [],
   "source": [
    "# bio_new.to_csv('estadisticas_biodiesel.csv',index=False)\n",
    "bio_new = pd.read_csv('estadisticas_biodiesel.csv', dtype={0:'a'})\n",
    "bio_new['PERÍODO'] = pd.to_datetime(bio_new['PERÍODO'])"
   ]
  },
  {
   "cell_type": "code",
   "execution_count": null,
   "metadata": {},
   "outputs": [],
   "source": [
    "#curamos los últimos años con *\n",
    "# pd.to_datetime(bio_new['PERÍODO'].replace('\\(\\*\\)','', regex=True))#, #flags='IGNORECASE')\n"
   ]
  },
  {
   "cell_type": "code",
   "execution_count": null,
   "metadata": {},
   "outputs": [],
   "source": [
    "bio_new.info()"
   ]
  },
  {
   "cell_type": "code",
   "execution_count": null,
   "metadata": {},
   "outputs": [],
   "source": [
    "bio_new"
   ]
  },
  {
   "cell_type": "code",
   "execution_count": null,
   "metadata": {},
   "outputs": [],
   "source": [
    "biodiesel = pd.DataFrame()\n",
    "biodiesel[['fecha','produccion_total']] = bio_new[['PERÍODO','PRODUCCIÓN']].copy()\n",
    "biodiesel['año']=biodiesel['fecha'].dt.year\n",
    "biodiesel['mes']= biodiesel['fecha'].dt.month\n",
    "biodiesel['ventas_totales'] = bio_new[['VENTAS AL CORTE','OTRAS VENTAS MDO. INTERNO','EXPORTACIONES']].sum(axis='columns')\n",
    "biodiesel['ventas_al_corte'] = bio_new['VENTAS AL CORTE']\n",
    "biodiesel['remanente'] = (biodiesel['produccion_total']-biodiesel['ventas_totales']).rolling(12).mean()\n",
    "biodiesel['produccion_media_anual'] = biodiesel['produccion_total'].rolling(12).mean()\n",
    "biodiesel['ventas_media_anual'] = biodiesel['ventas_totales'].rolling(12).mean()"
   ]
  },
  {
   "cell_type": "code",
   "execution_count": null,
   "metadata": {},
   "outputs": [],
   "source": [
    "plt.figure(figsize=(15,10))\n",
    "# sns.set(style=\"whitegrid\")\n",
    "\n",
    "with sns.axes_style(\"white\"):\n",
    "\n",
    "    sp1 = plt.subplot(\"111\")\n",
    "    sns.lineplot(data=biodiesel[['fecha','ventas_totales','ventas_media_anual']].set_index('fecha'),\n",
    "                palette = 'Blues',\n",
    "                linewidth = 3,\n",
    "                ax=sp1     \n",
    "                )\n",
    "\n",
    "    sns.lineplot(data=biodiesel[['fecha','ventas_al_corte']].set_index('fecha'),\n",
    "#                 color = 'blue',\n",
    "                linewidth = 2,\n",
    "                ax=sp1     \n",
    "                )\n",
    "\n",
    "sp1.legend()\n",
    "# sp1.legend(bbox_to_anchor=(1.05, 1), loc=2, borderaxespad=0)\n",
    "sp1.set_title('Producción y Ventas de Biodiesel en Argentina')\n",
    "sp1.set_ylabel('Masa Mensual  [Toneladas]')\n",
    "sp1.set_xlabel('Fecha')\n",
    "\n",
    "sp2.set_title('Correlación entre Ventas/Producción anualizada de biodiesel en Argentina')\n",
    "sp2.set_ylabel('Consumo/Ventas mensuales [Tn]')\n",
    "sp2.set_xlabel('Producción media mensual [Tn]')\n",
    "plt.set_axes_style =\"whitegrid\"\n",
    "\n",
    "\n",
    "sns.despine()\n",
    "plt.show()\n",
    "# biodiesel_nacional.describe()"
   ]
  },
  {
   "cell_type": "markdown",
   "metadata": {},
   "source": [
    "Se actualizaron datos del biodiesel entre 2018 a 2020, se observa bastante volatilidad y que no hubo incremento en la ventas.\n",
    "También un tendencia a la baja del consumo de corte."
   ]
  },
  {
   "cell_type": "markdown",
   "metadata": {},
   "source": [
    "### 9- Obtener un mapa de calor por mes y año, para los valores medios de  producción total de biodiesel y bioetanol."
   ]
  },
  {
   "cell_type": "code",
   "execution_count": null,
   "metadata": {},
   "outputs": [],
   "source": [
    "exp=pd.pivot(biodiesel,columns='año',index='mes',values='produccion_total')\n",
    "\n",
    "# para colocar el nombre del mes, se complica porque no quedaba ordenado\n",
    "# exp = exp.reset_index()\n",
    "# exp['mes_name'] = pd.to_datetime(exp['mes'], format='%m').dt.month_name()\n",
    "# exp.set_index('mes_name',drop=True,inplace=True)\n",
    "# exp.drop('mes',axis='columns',inplace=True)\n",
    "\n",
    "sns.set_context(context='talk', font_scale=.8)\n",
    "\n",
    "plt.figure(figsize=(11,7))\n",
    "sns.heatmap(exp, annot=False, cmap=\"YlGnBu\",\n",
    "            yticklabels=pd.to_datetime(exp.reset_index()['mes'], format='%m').dt.month_name(locale='Spanish').values)\n",
    "\n",
    "plt.ylabel('Mes')\n",
    "plt.xlabel('Año')\n",
    "plt.title('Producción de biodiesel en Argentina en Toneladas')\n",
    "plt.xticks(rotation=30)\n"
   ]
  },
  {
   "cell_type": "markdown",
   "metadata": {},
   "source": [
    "Como conclusión podemos decir,\n",
    "* se observa un aumento de la producción con el correr de los años\n",
    "* entre los meses entre Abril y Noviembre hay mayor producción, quizás debido a situaciones estacionales de cosechas y demás (cabe aclarar que esto es una suposición sin conocimiento alguno)\n",
    "* hubo bajas de producción en los años 2013 y 2015\n",
    "* con los últimos datos agregados vemos que 2019 también estuvo con baja producción"
   ]
  },
  {
   "cell_type": "code",
   "execution_count": null,
   "metadata": {},
   "outputs": [],
   "source": [
    "exp=pd.pivot(bioetanol,columns='año',index='mes',values='produccion_total')\n",
    "\n",
    "plt.figure(figsize=(11,7))\n",
    "sns.heatmap(exp, annot=False, cmap=\"YlGnBu\",\n",
    "            yticklabels=pd.to_datetime(exp.reset_index()['mes'], format='%m').dt.month_name(locale='Spanish').values)\n",
    "\n",
    "plt.ylabel('Mes')\n",
    "plt.xlabel('Año')\n",
    "plt.title('Producción de bioetanol en Argentina en m3')\n",
    "plt.xticks(rotation=30)"
   ]
  },
  {
   "cell_type": "markdown",
   "metadata": {},
   "source": [
    "Como conclusión podemos decir, se observa un aumento de la producción con el correr de los años y una clara distribución estacional\n"
   ]
  }
 ],
 "metadata": {
  "kernelspec": {
   "display_name": "Python 3",
   "language": "python",
   "name": "python3"
  },
  "language_info": {
   "codemirror_mode": {
    "name": "ipython",
    "version": 3
   },
   "file_extension": ".py",
   "mimetype": "text/x-python",
   "name": "python",
   "nbconvert_exporter": "python",
   "pygments_lexer": "ipython3",
   "version": "3.7.4"
  },
  "toc-autonumbering": false,
  "toc-showmarkdowntxt": true
 },
 "nbformat": 4,
 "nbformat_minor": 4
}
