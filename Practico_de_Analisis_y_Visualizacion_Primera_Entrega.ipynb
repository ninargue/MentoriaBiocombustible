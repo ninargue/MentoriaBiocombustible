{
 "cells": [
  {
   "cell_type": "markdown",
   "metadata": {},
   "source": [
    "# Mentoria DiploDatos FAMAF\n",
    "\n",
    "## Reducción de Emisiones Contaminantes por el Uso de Biocombustibles en Transporte de Cargas y Pasajeros\n",
    "\n",
    "### Práctico de Análisis y Visualización"
   ]
  },
  {
   "cell_type": "code",
   "execution_count": 379,
   "metadata": {},
   "outputs": [],
   "source": [
    "import pandas as pd\n",
    "import numpy as np\n",
    "import matplotlib.pyplot as plt\n",
    "import seaborn as sns\n",
    "from datetime import datetime\n",
    "import re"
   ]
  },
  {
   "cell_type": "code",
   "execution_count": 380,
   "metadata": {},
   "outputs": [],
   "source": [
    "import warnings\n",
    "warnings.filterwarnings(\"ignore\")"
   ]
  },
  {
   "cell_type": "code",
   "execution_count": 381,
   "metadata": {},
   "outputs": [],
   "source": [
    "#!pip install pymysql\n",
    "import pymysql as sql"
   ]
  },
  {
   "cell_type": "markdown",
   "metadata": {},
   "source": [
    "## Datos propios\n",
    "_Datasets :_\n",
    "- Usuarios: registra datos de los usuarios de las bombas\n",
    "- Vehiculos: registra datos de los vehículos \n",
    "- Productos: registra datos de los tipos de combustibles\n",
    "- Equipos: registra datos de los equipos IoT\n",
    "- Tanques: registra datos de los tanques de almacenamiento\n",
    "- Bombas: registra datos de las bombas de suministro de combustible\n",
    "- Transacciones (mensuales, desde el 2018): registro de los suministros de combustible por cada bomba a cada vehículo\n",
    "- Historial (mensuales, desde el 2018): registro de los inventarios mensuales de los tanques de combustibles"
   ]
  },
  {
   "cell_type": "code",
   "execution_count": 382,
   "metadata": {},
   "outputs": [
    {
     "name": "stdout",
     "output_type": "stream",
     "text": [
      "['fs_asignacion_producto', 'fs_bombas', 'fs_equipo', 'fs_tanques', 'fs_usuarios_fuelsentry', 'fs_vehiculos', 'sis_historial_2018_1', 'sis_historial_2018_10', 'sis_historial_2018_11', 'sis_historial_2018_12', 'sis_historial_2018_2', 'sis_historial_2018_3', 'sis_historial_2018_4', 'sis_historial_2018_5', 'sis_historial_2018_6', 'sis_historial_2018_7', 'sis_historial_2018_8', 'sis_historial_2018_9', 'sis_historial_2019_1', 'sis_historial_2019_10', 'sis_historial_2019_11', 'sis_historial_2019_12', 'sis_historial_2019_2', 'sis_historial_2019_3', 'sis_historial_2019_4', 'sis_historial_2019_5', 'sis_historial_2019_6', 'sis_historial_2019_7', 'sis_historial_2019_8', 'sis_historial_2019_9', 'sis_historial_2020_1', 'sis_historial_2020_2', 'sis_historial_2020_3', 'sis_historial_2020_4', 'sis_historial_2020_5', 'sis_transa_2018_1', 'sis_transa_2018_10', 'sis_transa_2018_11', 'sis_transa_2018_12', 'sis_transa_2018_2', 'sis_transa_2018_3', 'sis_transa_2018_4', 'sis_transa_2018_5', 'sis_transa_2018_6', 'sis_transa_2018_7', 'sis_transa_2018_8', 'sis_transa_2018_9', 'sis_transa_2019_1', 'sis_transa_2019_10', 'sis_transa_2019_11', 'sis_transa_2019_12', 'sis_transa_2019_2', 'sis_transa_2019_3', 'sis_transa_2019_4', 'sis_transa_2019_5', 'sis_transa_2019_6', 'sis_transa_2019_7', 'sis_transa_2019_8', 'sis_transa_2019_9', 'sis_transa_2020_1', 'sis_transa_2020_2', 'sis_transa_2020_3', 'sis_transa_2020_4', 'sis_transa_2020_5']\n"
     ]
    }
   ],
   "source": [
    "# Listado de todas las tablas de la base de datos\n",
    "# DB_HOST = 'localhost'\n",
    "# DB_PORT = 33060\n",
    "# DB_USER = 'superset'\n",
    "# DB_PASS = 'superset'\n",
    "# DB_NAME = 'db'\n",
    "DB_HOST = 'localdocker'\n",
    "DB_PORT = 3306\n",
    "DB_USER = 'root'\n",
    "DB_PASS = 'root_password'\n",
    "DB_NAME = 'db'\n",
    "\n",
    "mysqldb = sql.connect(\n",
    "  host=DB_HOST,\n",
    "  port=DB_PORT,\n",
    "  user=DB_USER,\n",
    "  passwd=DB_PASS,\n",
    "  database=DB_NAME\n",
    ")\n",
    "mysqlcursordb = mysqldb.cursor()\n",
    "mysqlcursordb.execute(\"show tables\")\n",
    "lista_tablas = []\n",
    "for tabla in mysqlcursordb:\n",
    "    lista_tablas.append(tabla[0])\n",
    "print(lista_tablas)"
   ]
  },
  {
   "cell_type": "code",
   "execution_count": 383,
   "metadata": {},
   "outputs": [
    {
     "name": "stdout",
     "output_type": "stream",
     "text": [
      "['fs_asignacion_producto', 'fs_bombas', 'fs_equipo', 'fs_tanques', 'fs_usuarios_fuelsentry', 'fs_vehiculos', 'sis_historial_2018_1', 'sis_historial_2018_10', 'sis_historial_2018_11', 'sis_historial_2018_12', 'sis_historial_2018_2', 'sis_historial_2018_3', 'sis_historial_2018_4', 'sis_historial_2018_5', 'sis_historial_2018_6', 'sis_historial_2018_7', 'sis_historial_2018_8', 'sis_historial_2018_9', 'sis_historial_2019_1', 'sis_historial_2019_10', 'sis_historial_2019_11', 'sis_historial_2019_12', 'sis_historial_2019_2', 'sis_historial_2019_3', 'sis_historial_2019_4', 'sis_historial_2019_5', 'sis_historial_2019_6', 'sis_historial_2019_7', 'sis_historial_2019_8', 'sis_historial_2019_9', 'sis_historial_2020_1', 'sis_historial_2020_2', 'sis_historial_2020_3', 'sis_historial_2020_4', 'sis_historial_2020_5', 'sis_transa_2018_1', 'sis_transa_2018_10', 'sis_transa_2018_11', 'sis_transa_2018_12', 'sis_transa_2018_2', 'sis_transa_2018_3', 'sis_transa_2018_4', 'sis_transa_2018_5', 'sis_transa_2018_6', 'sis_transa_2018_7', 'sis_transa_2018_8', 'sis_transa_2018_9', 'sis_transa_2019_1', 'sis_transa_2019_10', 'sis_transa_2019_11', 'sis_transa_2019_12', 'sis_transa_2019_2', 'sis_transa_2019_3', 'sis_transa_2019_4', 'sis_transa_2019_5', 'sis_transa_2019_6', 'sis_transa_2019_7', 'sis_transa_2019_8', 'sis_transa_2019_9', 'sis_transa_2020_1', 'sis_transa_2020_2', 'sis_transa_2020_3', 'sis_transa_2020_4', 'sis_transa_2020_5']\n"
     ]
    }
   ],
   "source": [
    "# Listado de todas las tablas de la base de datos\n",
    "mysqldb = sql.connect(\n",
    "  host=\"localdocker\",\n",
    "  port= 3306,  \n",
    "  user=\"root\",\n",
    "  passwd=\"root_password\",#\"2801\",\n",
    "  database=\"db\"\n",
    ")\n",
    "mysqlcursordb = mysqldb.cursor()\n",
    "mysqlcursordb.execute(\"show tables\")\n",
    "lista_tablas = []\n",
    "for tabla in mysqlcursordb:\n",
    "    lista_tablas.append(tabla[0])\n",
    "print(lista_tablas)"
   ]
  },
  {
   "cell_type": "code",
   "execution_count": 384,
   "metadata": {},
   "outputs": [
    {
     "name": "stdout",
     "output_type": "stream",
     "text": [
      "(1, 333333, '01', '0', 1, '0031731.441', datetime.date(2012, 7, 19), '0000', '2.0', '1', '0000')\n",
      "(2, 333333, '02', '0', 1, '1160601.525', datetime.date(2012, 7, 19), '0000', '2.0', '1', '0000')\n",
      "(11417, 770, '02', '1', 101856, '0000000.000', datetime.date(2018, 7, 5), '0026.3158', '020', '1', '0000')\n",
      "(5, 444444, '01', '2', 4, '0651995.027', datetime.date(2010, 12, 1), '35.0', '888', '1', '0000')\n",
      "(6, 444444, '02', '2', 4, '0005232.793', datetime.date(2010, 12, 1), '35.5', '2.0', '1', '0000')\n",
      "(7, 444444, '03', '3', 5, '0000090.979', datetime.date(2010, 12, 1), '35.0', '1.0', '1', '0000')\n",
      "(8, 444444, '04', '4', 6, '0000000.338', datetime.date(2010, 12, 1), '35.0', '1.0', '1', '0000')\n",
      "(9, 444444, '05', '5', 7, '0000000.001', datetime.date(2010, 12, 1), '35.0', '1.0', '1', '0000')\n",
      "(10, 444444, '06', '1', 3, '0651995.027', datetime.date(2010, 12, 1), '35.0', '2.0', '2', '0001')\n",
      "(11, 444444, '07', '1', 3, '0651995.027', datetime.date(2010, 12, 1), '35.0', '2.0', '0', '0003')\n"
     ]
    }
   ],
   "source": [
    "# Recuperar los 10 primeros registros de una tabla de la base de datos\n",
    "mysqlcursordb = mysqldb.cursor()\n",
    "query_registros = \"SELECT * FROM fs_bombas;\"\n",
    "mysqlcursordb.execute(query_registros)\n",
    "registros  = mysqlcursordb.fetchall()\n",
    "for reg in registros[0:10]:\n",
    "    print(reg)"
   ]
  },
  {
   "cell_type": "code",
   "execution_count": 385,
   "metadata": {},
   "outputs": [],
   "source": [
    "# Conexión a la base de datos (para MySQL)\n",
    "from sqlalchemy import create_engine\n",
    "\n",
    "# Crear motor de conexión sqlalchemy\n",
    "path_conexion = 'mysql+pymysql://{}:{}@{}:{}/{}'.format(\n",
    "    DB_USER, DB_PASS, DB_HOST, DB_PORT, DB_NAME\n",
    ")\n",
    "conexion = create_engine(path_conexion)"
   ]
  },
  {
   "cell_type": "markdown",
   "metadata": {},
   "source": [
    "Para este primer práctico estaremos trabajando solo con algunos datasets. En el segundo práctico se incorporará otros datasets, que requieren de mayor limpieza y manipulacion de los datos."
   ]
  },
  {
   "cell_type": "code",
   "execution_count": 386,
   "metadata": {},
   "outputs": [],
   "source": [
    "# Listado de querys para consultas de las tablas a analizar\n",
    "query_productos = \"SELECT * FROM fs_asignacion_producto;\"\n",
    "query_bombas = \"SELECT * FROM fs_bombas;\"\n",
    "query_tanques = \"SELECT * FROM fs_tanques;\"\n",
    "query_usuarios = \"SELECT * FROM fs_usuarios_fuelsentry;\"\n",
    "query_vehiculos = \"SELECT * FROM fs_vehiculos;\""
   ]
  },
  {
   "cell_type": "code",
   "execution_count": 387,
   "metadata": {},
   "outputs": [],
   "source": [
    "# Obtención de dataframe 'fs_asignacion_producto', 'fs_bombas', 'fs_equipo', 'fs_tanques', 'fs_usuarios_fuelsentry', 'fs_vehiculos'\n",
    "df_productos = pd.read_sql_query(query_productos, path_conexion)\n",
    "df_tanques = pd.read_sql_query(query_tanques, path_conexion)\n",
    "df_usuarios = pd.read_sql_query(query_usuarios, path_conexion)\n",
    "\n",
    "# También podemos pasar el tipo de formato de las fechas para su conversión al momento de leer los datos\n",
    "format_string = \"%Y-%m-%d %H:%M:%S\"\n",
    "df_bombas = pd.read_sql_query(query_bombas, path_conexion, parse_dates={'fecha_reinicio': format_string})\n",
    "df_vehiculos = pd.read_sql_query(query_vehiculos, path_conexion)"
   ]
  },
  {
   "cell_type": "code",
   "execution_count": 388,
   "metadata": {},
   "outputs": [],
   "source": [
    "pd.set_option('display.max_columns', 50)"
   ]
  },
  {
   "cell_type": "markdown",
   "metadata": {},
   "source": [
    "### Dataset de asignación de productos:\n",
    "\n",
    "Contiene información relacionada con los productos de combustible.\n",
    "\n",
    "Descripción de las columnas:\n",
    "- 'id_equipo': ID del dispositivo IoT\n",
    "- 'producto': código del producto\n",
    "- 'nombre_producto': nombre del producto\n",
    "- 'codigo': \n",
    "- 'precio_litro': precio del producto (en $/l)\n",
    "- 'coef_var_vol': coeficiente de variación del volumen del producto combustible (en g/ml/°C)\n",
    "- 'density': densidad del producto (en g/ml)\n",
    "\n",
    "Densidad (ASTM D 4052): densidad relativa del combustible medido (en g/ml o kg/m3) a la temperatura estándar de 15 °C."
   ]
  },
  {
   "cell_type": "code",
   "execution_count": 389,
   "metadata": {},
   "outputs": [
    {
     "name": "stdout",
     "output_type": "stream",
     "text": [
      "Dimensión del dataset (filas, columnas): (2672, 7)\n",
      "\n",
      "<class 'pandas.core.frame.DataFrame'>\n",
      "RangeIndex: 2672 entries, 0 to 2671\n",
      "Data columns (total 7 columns):\n",
      " #   Column           Non-Null Count  Dtype  \n",
      "---  ------           --------------  -----  \n",
      " 0   id_equipo        2672 non-null   int64  \n",
      " 1   producto         2672 non-null   object \n",
      " 2   nombre_producto  2672 non-null   object \n",
      " 3   codigo           2526 non-null   object \n",
      " 4   precio_litro     2672 non-null   float64\n",
      " 5   coef_var_vol     2672 non-null   float64\n",
      " 6   density          249 non-null    float64\n",
      "dtypes: float64(3), int64(1), object(3)\n",
      "memory usage: 146.2+ KB\n",
      "None\n",
      "\n"
     ]
    },
    {
     "data": {
      "text/html": [
       "<div>\n",
       "<style scoped>\n",
       "    .dataframe tbody tr th:only-of-type {\n",
       "        vertical-align: middle;\n",
       "    }\n",
       "\n",
       "    .dataframe tbody tr th {\n",
       "        vertical-align: top;\n",
       "    }\n",
       "\n",
       "    .dataframe thead th {\n",
       "        text-align: right;\n",
       "    }\n",
       "</style>\n",
       "<table border=\"1\" class=\"dataframe\">\n",
       "  <thead>\n",
       "    <tr style=\"text-align: right;\">\n",
       "      <th></th>\n",
       "      <th>id_equipo</th>\n",
       "      <th>producto</th>\n",
       "      <th>nombre_producto</th>\n",
       "      <th>codigo</th>\n",
       "      <th>precio_litro</th>\n",
       "      <th>coef_var_vol</th>\n",
       "      <th>density</th>\n",
       "    </tr>\n",
       "  </thead>\n",
       "  <tbody>\n",
       "    <tr>\n",
       "      <th>0</th>\n",
       "      <td>333333</td>\n",
       "      <td>0</td>\n",
       "      <td>gas oil</td>\n",
       "      <td>gas oil</td>\n",
       "      <td>7.5</td>\n",
       "      <td>0.001</td>\n",
       "      <td>NaN</td>\n",
       "    </tr>\n",
       "    <tr>\n",
       "      <th>1</th>\n",
       "      <td>333333</td>\n",
       "      <td>1</td>\n",
       "      <td>Product 2</td>\n",
       "      <td>Product 2</td>\n",
       "      <td>0.0</td>\n",
       "      <td>0.001</td>\n",
       "      <td>NaN</td>\n",
       "    </tr>\n",
       "    <tr>\n",
       "      <th>2</th>\n",
       "      <td>333333</td>\n",
       "      <td>2</td>\n",
       "      <td>Product 3</td>\n",
       "      <td>Product 3</td>\n",
       "      <td>0.0</td>\n",
       "      <td>0.001</td>\n",
       "      <td>NaN</td>\n",
       "    </tr>\n",
       "    <tr>\n",
       "      <th>3</th>\n",
       "      <td>333333</td>\n",
       "      <td>3</td>\n",
       "      <td>Product 4</td>\n",
       "      <td>Product 4</td>\n",
       "      <td>0.0</td>\n",
       "      <td>0.001</td>\n",
       "      <td>NaN</td>\n",
       "    </tr>\n",
       "    <tr>\n",
       "      <th>4</th>\n",
       "      <td>1</td>\n",
       "      <td>0</td>\n",
       "      <td>Diesel</td>\n",
       "      <td>Diesel</td>\n",
       "      <td>1.0</td>\n",
       "      <td>0.001</td>\n",
       "      <td>NaN</td>\n",
       "    </tr>\n",
       "  </tbody>\n",
       "</table>\n",
       "</div>"
      ],
      "text/plain": [
       "   id_equipo producto nombre_producto     codigo  precio_litro  coef_var_vol  \\\n",
       "0     333333        0         gas oil    gas oil           7.5         0.001   \n",
       "1     333333        1       Product 2  Product 2           0.0         0.001   \n",
       "2     333333        2       Product 3  Product 3           0.0         0.001   \n",
       "3     333333        3       Product 4  Product 4           0.0         0.001   \n",
       "4          1        0          Diesel     Diesel           1.0         0.001   \n",
       "\n",
       "   density  \n",
       "0      NaN  \n",
       "1      NaN  \n",
       "2      NaN  \n",
       "3      NaN  \n",
       "4      NaN  "
      ]
     },
     "execution_count": 389,
     "metadata": {},
     "output_type": "execute_result"
    }
   ],
   "source": [
    "print(f'Dimensión del dataset (filas, columnas): {df_productos.shape}\\n')\n",
    "print(f'{df_productos.info()}\\n')\n",
    "df_productos.head()"
   ]
  },
  {
   "cell_type": "code",
   "execution_count": 390,
   "metadata": {},
   "outputs": [
    {
     "name": "stdout",
     "output_type": "stream",
     "text": [
      "id_equipo: 702\n",
      "producto: 10\n",
      "nombre_producto: 142\n",
      "codigo: 143\n",
      "precio_litro: 76\n",
      "coef_var_vol: 5\n",
      "density: 3\n"
     ]
    }
   ],
   "source": [
    "# Valores o categorias unicas para cada columna\n",
    "for i in df_productos.columns:\n",
    "    print(f'{i}: {df_productos[i].nunique()}')"
   ]
  },
  {
   "cell_type": "markdown",
   "metadata": {},
   "source": [
    "### Dataset de bombas:\n",
    "\n",
    "Contiene información de las bombas de suministro de combustible.\n",
    "\n",
    "--> Un punto de suministro del combustible posee uno o varios equipos (dispositivo IoT) \n",
    "\n",
    "Descripción de las columnas:\n",
    "- 'id_bomba': ID de la bomba\n",
    "- 'id_equipo': ID del dispositivo IoT\n",
    "- 'bomba': \n",
    "- 'producto': tipo de combustible que suministra la bomba\n",
    "- 'id_tanque': ID del tanque\n",
    "- 'totalizador': litros suministrados a la fecha de reinicio\n",
    "- 'fecha_reinicio': fecha de reinicio de la bomba\n",
    "- 'pulsos_litro': litros que suministra la bomba (por pulso)\n",
    "- 'tiempo_interrump': tiempo de interrupción del suministro de combustible de la bomba (en segundos)\n",
    "- 'habilitacion': \n",
    "- 'rampa_de_parada'"
   ]
  },
  {
   "cell_type": "code",
   "execution_count": 391,
   "metadata": {},
   "outputs": [
    {
     "name": "stdout",
     "output_type": "stream",
     "text": [
      "Dimensión del dataset (filas, columnas): (1438, 11)\n",
      "\n",
      "<class 'pandas.core.frame.DataFrame'>\n",
      "RangeIndex: 1438 entries, 0 to 1437\n",
      "Data columns (total 11 columns):\n",
      " #   Column            Non-Null Count  Dtype         \n",
      "---  ------            --------------  -----         \n",
      " 0   id_bomba          1438 non-null   int64         \n",
      " 1   id_equipo         1438 non-null   int64         \n",
      " 2   bomba             1438 non-null   object        \n",
      " 3   producto          1438 non-null   object        \n",
      " 4   id_tanque         1438 non-null   int64         \n",
      " 5   totalizador       1438 non-null   object        \n",
      " 6   fecha_reinicio    1435 non-null   datetime64[ns]\n",
      " 7   pulsos_litro      1438 non-null   object        \n",
      " 8   tiempo_interrump  1438 non-null   object        \n",
      " 9   habilitacion      1438 non-null   object        \n",
      " 10  rampa_de_parada   1438 non-null   object        \n",
      "dtypes: datetime64[ns](1), int64(3), object(7)\n",
      "memory usage: 123.7+ KB\n",
      "None\n",
      "\n"
     ]
    },
    {
     "data": {
      "text/html": [
       "<div>\n",
       "<style scoped>\n",
       "    .dataframe tbody tr th:only-of-type {\n",
       "        vertical-align: middle;\n",
       "    }\n",
       "\n",
       "    .dataframe tbody tr th {\n",
       "        vertical-align: top;\n",
       "    }\n",
       "\n",
       "    .dataframe thead th {\n",
       "        text-align: right;\n",
       "    }\n",
       "</style>\n",
       "<table border=\"1\" class=\"dataframe\">\n",
       "  <thead>\n",
       "    <tr style=\"text-align: right;\">\n",
       "      <th></th>\n",
       "      <th>id_bomba</th>\n",
       "      <th>id_equipo</th>\n",
       "      <th>bomba</th>\n",
       "      <th>producto</th>\n",
       "      <th>id_tanque</th>\n",
       "      <th>totalizador</th>\n",
       "      <th>fecha_reinicio</th>\n",
       "      <th>pulsos_litro</th>\n",
       "      <th>tiempo_interrump</th>\n",
       "      <th>habilitacion</th>\n",
       "      <th>rampa_de_parada</th>\n",
       "    </tr>\n",
       "  </thead>\n",
       "  <tbody>\n",
       "    <tr>\n",
       "      <th>0</th>\n",
       "      <td>1</td>\n",
       "      <td>333333</td>\n",
       "      <td>01</td>\n",
       "      <td>0</td>\n",
       "      <td>1</td>\n",
       "      <td>0031731.441</td>\n",
       "      <td>2012-07-19</td>\n",
       "      <td>0000</td>\n",
       "      <td>2.0</td>\n",
       "      <td>1</td>\n",
       "      <td>0000</td>\n",
       "    </tr>\n",
       "    <tr>\n",
       "      <th>1</th>\n",
       "      <td>2</td>\n",
       "      <td>333333</td>\n",
       "      <td>02</td>\n",
       "      <td>0</td>\n",
       "      <td>1</td>\n",
       "      <td>1160601.525</td>\n",
       "      <td>2012-07-19</td>\n",
       "      <td>0000</td>\n",
       "      <td>2.0</td>\n",
       "      <td>1</td>\n",
       "      <td>0000</td>\n",
       "    </tr>\n",
       "    <tr>\n",
       "      <th>2</th>\n",
       "      <td>11417</td>\n",
       "      <td>770</td>\n",
       "      <td>02</td>\n",
       "      <td>1</td>\n",
       "      <td>101856</td>\n",
       "      <td>0000000.000</td>\n",
       "      <td>2018-07-05</td>\n",
       "      <td>0026.3158</td>\n",
       "      <td>020</td>\n",
       "      <td>1</td>\n",
       "      <td>0000</td>\n",
       "    </tr>\n",
       "    <tr>\n",
       "      <th>3</th>\n",
       "      <td>5</td>\n",
       "      <td>444444</td>\n",
       "      <td>01</td>\n",
       "      <td>2</td>\n",
       "      <td>4</td>\n",
       "      <td>0651995.027</td>\n",
       "      <td>2010-12-01</td>\n",
       "      <td>35.0</td>\n",
       "      <td>888</td>\n",
       "      <td>1</td>\n",
       "      <td>0000</td>\n",
       "    </tr>\n",
       "    <tr>\n",
       "      <th>4</th>\n",
       "      <td>6</td>\n",
       "      <td>444444</td>\n",
       "      <td>02</td>\n",
       "      <td>2</td>\n",
       "      <td>4</td>\n",
       "      <td>0005232.793</td>\n",
       "      <td>2010-12-01</td>\n",
       "      <td>35.5</td>\n",
       "      <td>2.0</td>\n",
       "      <td>1</td>\n",
       "      <td>0000</td>\n",
       "    </tr>\n",
       "  </tbody>\n",
       "</table>\n",
       "</div>"
      ],
      "text/plain": [
       "   id_bomba  id_equipo bomba producto  id_tanque  totalizador fecha_reinicio  \\\n",
       "0         1     333333    01        0          1  0031731.441     2012-07-19   \n",
       "1         2     333333    02        0          1  1160601.525     2012-07-19   \n",
       "2     11417        770    02        1     101856  0000000.000     2018-07-05   \n",
       "3         5     444444    01        2          4  0651995.027     2010-12-01   \n",
       "4         6     444444    02        2          4  0005232.793     2010-12-01   \n",
       "\n",
       "  pulsos_litro tiempo_interrump habilitacion rampa_de_parada  \n",
       "0         0000              2.0            1            0000  \n",
       "1         0000              2.0            1            0000  \n",
       "2    0026.3158              020            1            0000  \n",
       "3         35.0              888            1            0000  \n",
       "4         35.5              2.0            1            0000  "
      ]
     },
     "execution_count": 391,
     "metadata": {},
     "output_type": "execute_result"
    }
   ],
   "source": [
    "print(f'Dimensión del dataset (filas, columnas): {df_bombas.shape}\\n')\n",
    "print(f'{df_bombas.info()}\\n')\n",
    "df_bombas.head()"
   ]
  },
  {
   "cell_type": "code",
   "execution_count": 392,
   "metadata": {},
   "outputs": [
    {
     "name": "stdout",
     "output_type": "stream",
     "text": [
      "id_bomba: 1438\n",
      "id_equipo: 610\n",
      "bomba: 28\n",
      "producto: 11\n",
      "id_tanque: 861\n",
      "totalizador: 869\n",
      "fecha_reinicio: 179\n",
      "pulsos_litro: 245\n",
      "tiempo_interrump: 29\n",
      "habilitacion: 7\n",
      "rampa_de_parada: 7\n"
     ]
    }
   ],
   "source": [
    "# Valores o categorias unicas para cada columna\n",
    "for i in df_bombas.columns:\n",
    "    print(f'{i}: {df_bombas[i].nunique()}')"
   ]
  },
  {
   "cell_type": "markdown",
   "metadata": {},
   "source": [
    "### Dataset de tanques:\n",
    "\n",
    "Contiene información de los tanques de combustible.\n",
    "\n",
    "--> Una empresa puede tener más de un tanque\n",
    "\n",
    "--> Varios tanques pueden estar conectado a un mismo equipo\n",
    "\n",
    "--> Un tanque posee una o varias bombas\n",
    "\n",
    "Descripción de las columnas:\n",
    "- 'id_tanque': ID del tanque\n",
    "- 'id_equipo': ID del dispositivo IoT \n",
    "- 'tanque': tipo de tanque\n",
    "- 'producto': producto almacenado en el tanque \n",
    "- 'capacidad': capacidad del tanque en litros\n",
    "- 'log_interval': intervalo de tiempo en el cual se registra la medición del volumen del contenido del tanque --> historial del volumen del tanque\n",
    "- 'nivel_alarma': nivel de contenido del tanque para disparar alarma"
   ]
  },
  {
   "cell_type": "code",
   "execution_count": 393,
   "metadata": {},
   "outputs": [
    {
     "name": "stdout",
     "output_type": "stream",
     "text": [
      "Dimensión del dataset: (1561, 7)\n",
      "\n",
      "<class 'pandas.core.frame.DataFrame'>\n",
      "RangeIndex: 1561 entries, 0 to 1560\n",
      "Data columns (total 7 columns):\n",
      " #   Column        Non-Null Count  Dtype \n",
      "---  ------        --------------  ----- \n",
      " 0   id_tanque     1561 non-null   int64 \n",
      " 1   id_equipo     1561 non-null   int64 \n",
      " 2   tanque        1561 non-null   object\n",
      " 3   producto      1561 non-null   object\n",
      " 4   capacidad     1561 non-null   object\n",
      " 5   log_interval  1561 non-null   object\n",
      " 6   nivel_alarma  1561 non-null   object\n",
      "dtypes: int64(2), object(5)\n",
      "memory usage: 85.5+ KB\n",
      "None\n",
      "\n"
     ]
    },
    {
     "data": {
      "text/html": [
       "<div>\n",
       "<style scoped>\n",
       "    .dataframe tbody tr th:only-of-type {\n",
       "        vertical-align: middle;\n",
       "    }\n",
       "\n",
       "    .dataframe tbody tr th {\n",
       "        vertical-align: top;\n",
       "    }\n",
       "\n",
       "    .dataframe thead th {\n",
       "        text-align: right;\n",
       "    }\n",
       "</style>\n",
       "<table border=\"1\" class=\"dataframe\">\n",
       "  <thead>\n",
       "    <tr style=\"text-align: right;\">\n",
       "      <th></th>\n",
       "      <th>id_tanque</th>\n",
       "      <th>id_equipo</th>\n",
       "      <th>tanque</th>\n",
       "      <th>producto</th>\n",
       "      <th>capacidad</th>\n",
       "      <th>log_interval</th>\n",
       "      <th>nivel_alarma</th>\n",
       "    </tr>\n",
       "  </thead>\n",
       "  <tbody>\n",
       "    <tr>\n",
       "      <th>0</th>\n",
       "      <td>101525</td>\n",
       "      <td>669</td>\n",
       "      <td>B</td>\n",
       "      <td>1</td>\n",
       "      <td>0010000.1</td>\n",
       "      <td>0030</td>\n",
       "      <td>0</td>\n",
       "    </tr>\n",
       "    <tr>\n",
       "      <th>1</th>\n",
       "      <td>101833</td>\n",
       "      <td>764</td>\n",
       "      <td>5</td>\n",
       "      <td>1</td>\n",
       "      <td>0008000.0</td>\n",
       "      <td>0030</td>\n",
       "      <td>000003200</td>\n",
       "    </tr>\n",
       "    <tr>\n",
       "      <th>2</th>\n",
       "      <td>101496</td>\n",
       "      <td>662</td>\n",
       "      <td>1</td>\n",
       "      <td>0</td>\n",
       "      <td>0050000.0</td>\n",
       "      <td>0030</td>\n",
       "      <td>0</td>\n",
       "    </tr>\n",
       "    <tr>\n",
       "      <th>3</th>\n",
       "      <td>101495</td>\n",
       "      <td>661</td>\n",
       "      <td>1</td>\n",
       "      <td>0</td>\n",
       "      <td>0025000.0</td>\n",
       "      <td>0030</td>\n",
       "      <td>0</td>\n",
       "    </tr>\n",
       "    <tr>\n",
       "      <th>4</th>\n",
       "      <td>101522</td>\n",
       "      <td>669</td>\n",
       "      <td>8</td>\n",
       "      <td>1</td>\n",
       "      <td>0010000.1</td>\n",
       "      <td>0030</td>\n",
       "      <td>0</td>\n",
       "    </tr>\n",
       "  </tbody>\n",
       "</table>\n",
       "</div>"
      ],
      "text/plain": [
       "   id_tanque  id_equipo tanque producto  capacidad log_interval nivel_alarma\n",
       "0     101525        669      B        1  0010000.1         0030            0\n",
       "1     101833        764      5        1  0008000.0         0030    000003200\n",
       "2     101496        662      1        0  0050000.0         0030            0\n",
       "3     101495        661      1        0  0025000.0         0030            0\n",
       "4     101522        669      8        1  0010000.1         0030            0"
      ]
     },
     "execution_count": 393,
     "metadata": {},
     "output_type": "execute_result"
    }
   ],
   "source": [
    "print(f'Dimensión del dataset: {df_tanques.shape}\\n')\n",
    "print(f'{df_tanques.info()}\\n')\n",
    "df_tanques. head()"
   ]
  },
  {
   "cell_type": "code",
   "execution_count": 394,
   "metadata": {},
   "outputs": [
    {
     "name": "stdout",
     "output_type": "stream",
     "text": [
      "id_tanque: 1561\n",
      "id_equipo: 638\n",
      "tanque: 18\n",
      "producto: 10\n",
      "capacidad: 158\n",
      "log_interval: 18\n",
      "nivel_alarma: 102\n"
     ]
    }
   ],
   "source": [
    "for i in df_tanques.columns:\n",
    "    print(f'{i}: {df_tanques[i].nunique()}')"
   ]
  },
  {
   "cell_type": "markdown",
   "metadata": {},
   "source": [
    "### Dataset de usuarios:\n",
    "\n",
    "Contiene información de los usuarios de las bombas de combustible.\n",
    "\n",
    "Descripción de las columnas:\n",
    "- 'id_usuario_fuelsentry': ID de registro del usuario\n",
    "- 'id_equipo':  ID del dispositivo IoT\n",
    "- 'usuario_fuelsentry': código del usuario de la bomba\n",
    "- 'departamento': \n",
    "- 'codigo': \n",
    "- 'totalizador': litros totales suministrados por el usuario de la bomba\n",
    "- 'cargas_totales': número total de cargas sumnistradas por el usuario"
   ]
  },
  {
   "cell_type": "code",
   "execution_count": 395,
   "metadata": {},
   "outputs": [
    {
     "name": "stdout",
     "output_type": "stream",
     "text": [
      "Dimensión del dataset: (13623, 7)\n",
      "\n",
      "<class 'pandas.core.frame.DataFrame'>\n",
      "RangeIndex: 13623 entries, 0 to 13622\n",
      "Data columns (total 7 columns):\n",
      " #   Column                 Non-Null Count  Dtype \n",
      "---  ------                 --------------  ----- \n",
      " 0   id_usuario_fuelsentry  13623 non-null  int64 \n",
      " 1   id_equipo              13623 non-null  int64 \n",
      " 2   usuario_fuelsentry     13623 non-null  object\n",
      " 3   departamento           13623 non-null  object\n",
      " 4   codigo                 13623 non-null  object\n",
      " 5   totalizador            13623 non-null  object\n",
      " 6   cargas_totales         13623 non-null  object\n",
      "dtypes: int64(2), object(5)\n",
      "memory usage: 745.1+ KB\n",
      "None\n",
      "\n"
     ]
    },
    {
     "data": {
      "text/html": [
       "<div>\n",
       "<style scoped>\n",
       "    .dataframe tbody tr th:only-of-type {\n",
       "        vertical-align: middle;\n",
       "    }\n",
       "\n",
       "    .dataframe tbody tr th {\n",
       "        vertical-align: top;\n",
       "    }\n",
       "\n",
       "    .dataframe thead th {\n",
       "        text-align: right;\n",
       "    }\n",
       "</style>\n",
       "<table border=\"1\" class=\"dataframe\">\n",
       "  <thead>\n",
       "    <tr style=\"text-align: right;\">\n",
       "      <th></th>\n",
       "      <th>id_usuario_fuelsentry</th>\n",
       "      <th>id_equipo</th>\n",
       "      <th>usuario_fuelsentry</th>\n",
       "      <th>departamento</th>\n",
       "      <th>codigo</th>\n",
       "      <th>totalizador</th>\n",
       "      <th>cargas_totales</th>\n",
       "    </tr>\n",
       "  </thead>\n",
       "  <tbody>\n",
       "    <tr>\n",
       "      <th>0</th>\n",
       "      <td>2</td>\n",
       "      <td>333333</td>\n",
       "      <td>0001</td>\n",
       "      <td>0000</td>\n",
       "      <td>0000</td>\n",
       "      <td>00323.152</td>\n",
       "      <td>001</td>\n",
       "    </tr>\n",
       "    <tr>\n",
       "      <th>1</th>\n",
       "      <td>3</td>\n",
       "      <td>333333</td>\n",
       "      <td>1315</td>\n",
       "      <td>0001</td>\n",
       "      <td>2012</td>\n",
       "      <td>01655.590</td>\n",
       "      <td>009</td>\n",
       "    </tr>\n",
       "    <tr>\n",
       "      <th>2</th>\n",
       "      <td>4</td>\n",
       "      <td>333333</td>\n",
       "      <td>1312</td>\n",
       "      <td>0001</td>\n",
       "      <td>4468</td>\n",
       "      <td>01433.429</td>\n",
       "      <td>006</td>\n",
       "    </tr>\n",
       "    <tr>\n",
       "      <th>3</th>\n",
       "      <td>5</td>\n",
       "      <td>333333</td>\n",
       "      <td>1298</td>\n",
       "      <td>0001</td>\n",
       "      <td>2609</td>\n",
       "      <td>00412.834</td>\n",
       "      <td>002</td>\n",
       "    </tr>\n",
       "    <tr>\n",
       "      <th>4</th>\n",
       "      <td>6</td>\n",
       "      <td>333333</td>\n",
       "      <td>0818</td>\n",
       "      <td>0001</td>\n",
       "      <td>1978</td>\n",
       "      <td>00713.023</td>\n",
       "      <td>003</td>\n",
       "    </tr>\n",
       "  </tbody>\n",
       "</table>\n",
       "</div>"
      ],
      "text/plain": [
       "   id_usuario_fuelsentry  id_equipo usuario_fuelsentry departamento codigo  \\\n",
       "0                      2     333333               0001         0000   0000   \n",
       "1                      3     333333               1315         0001   2012   \n",
       "2                      4     333333               1312         0001   4468   \n",
       "3                      5     333333               1298         0001   2609   \n",
       "4                      6     333333               0818         0001   1978   \n",
       "\n",
       "  totalizador cargas_totales  \n",
       "0   00323.152            001  \n",
       "1   01655.590            009  \n",
       "2   01433.429            006  \n",
       "3   00412.834            002  \n",
       "4   00713.023            003  "
      ]
     },
     "execution_count": 395,
     "metadata": {},
     "output_type": "execute_result"
    }
   ],
   "source": [
    "print(f'Dimensión del dataset: {df_usuarios.shape}\\n')\n",
    "print(f'{df_usuarios.info()}\\n')\n",
    "df_usuarios. head()"
   ]
  },
  {
   "cell_type": "code",
   "execution_count": 396,
   "metadata": {},
   "outputs": [
    {
     "name": "stdout",
     "output_type": "stream",
     "text": [
      "id_usuario_fuelsentry: 13623\n",
      "id_equipo: 509\n",
      "usuario_fuelsentry: 3527\n",
      "departamento: 64\n",
      "codigo: 594\n",
      "totalizador: 4523\n",
      "cargas_totales: 549\n"
     ]
    }
   ],
   "source": [
    "for i in df_usuarios.columns:\n",
    "    print(f'{i}: {df_usuarios[i].nunique()}')"
   ]
  },
  {
   "cell_type": "markdown",
   "metadata": {},
   "source": [
    "## Dataset de Vehiculos\n",
    "\n",
    "Contiene informacion sobre los vehiculos \n",
    "\n",
    "Descripcion de las columnas:\n",
    "- **id_vehiculo:** identificador unico\n",
    "- **id_equipo:** el vehiculo esta asociado a un equipo, poede decirse que esta asociado a una estacion de carga\n",
    "- **vehiculo:** corresponde a una identificacion local del vehiculo por parte del equipo.\n",
    "- **departamento:** agrupacion por departamento. campo propio del cliente.\n",
    "- **limite:**\n",
    "- **odometro_inicio:**\n",
    "- **odometro_fin:**\n",
    "- **cargas_maximas_dia:**\n",
    "- **autorizacion:** [campo en desuso]\n",
    "- **cargas_hoy:** [campo en desuso]\n",
    "- **cargas_hasta_hoy:** [campo en desuso]\n",
    "- **ultima_fecha:** [campo en desuso]\n"
   ]
  },
  {
   "cell_type": "code",
   "execution_count": 397,
   "metadata": {},
   "outputs": [
    {
     "name": "stdout",
     "output_type": "stream",
     "text": [
      "Dimensión del dataset: (50627, 13)\n",
      "\n",
      "<class 'pandas.core.frame.DataFrame'>\n",
      "RangeIndex: 50627 entries, 0 to 50626\n",
      "Data columns (total 13 columns):\n",
      " #   Column            Non-Null Count  Dtype \n",
      "---  ------            --------------  ----- \n",
      " 0   id_vehiculo       50627 non-null  int64 \n",
      " 1   id_equipo         50627 non-null  int64 \n",
      " 2   vehiculo          50627 non-null  object\n",
      " 3   departamento      50627 non-null  object\n",
      " 4   limite            50627 non-null  object\n",
      " 5   odometro_inicio   50627 non-null  object\n",
      " 6   odometro_fin      50627 non-null  object\n",
      " 7   cargas_max_dia    50627 non-null  object\n",
      " 8   autorizacion      50627 non-null  object\n",
      " 9   cantidad_total    50627 non-null  object\n",
      " 10  cargas_hoy        50627 non-null  object\n",
      " 11  cargas_hasta_hoy  50627 non-null  object\n",
      " 12  ultima_fecha      50627 non-null  object\n",
      "dtypes: int64(2), object(11)\n",
      "memory usage: 5.0+ MB\n",
      "None\n",
      "\n"
     ]
    },
    {
     "data": {
      "text/html": [
       "<div>\n",
       "<style scoped>\n",
       "    .dataframe tbody tr th:only-of-type {\n",
       "        vertical-align: middle;\n",
       "    }\n",
       "\n",
       "    .dataframe tbody tr th {\n",
       "        vertical-align: top;\n",
       "    }\n",
       "\n",
       "    .dataframe thead th {\n",
       "        text-align: right;\n",
       "    }\n",
       "</style>\n",
       "<table border=\"1\" class=\"dataframe\">\n",
       "  <thead>\n",
       "    <tr style=\"text-align: right;\">\n",
       "      <th></th>\n",
       "      <th>id_vehiculo</th>\n",
       "      <th>id_equipo</th>\n",
       "      <th>vehiculo</th>\n",
       "      <th>departamento</th>\n",
       "      <th>limite</th>\n",
       "      <th>odometro_inicio</th>\n",
       "      <th>odometro_fin</th>\n",
       "      <th>cargas_max_dia</th>\n",
       "      <th>autorizacion</th>\n",
       "      <th>cantidad_total</th>\n",
       "      <th>cargas_hoy</th>\n",
       "      <th>cargas_hasta_hoy</th>\n",
       "      <th>ultima_fecha</th>\n",
       "    </tr>\n",
       "  </thead>\n",
       "  <tbody>\n",
       "    <tr>\n",
       "      <th>0</th>\n",
       "      <td>2</td>\n",
       "      <td>333333</td>\n",
       "      <td>MDAwMDAx</td>\n",
       "      <td>0001</td>\n",
       "      <td>9</td>\n",
       "      <td>193958</td>\n",
       "      <td>193958</td>\n",
       "      <td>99</td>\n",
       "      <td>0</td>\n",
       "      <td>00000.000</td>\n",
       "      <td>01</td>\n",
       "      <td>000</td>\n",
       "      <td>2018-12-20</td>\n",
       "    </tr>\n",
       "    <tr>\n",
       "      <th>1</th>\n",
       "      <td>3</td>\n",
       "      <td>333333</td>\n",
       "      <td>MDAwMjM5</td>\n",
       "      <td>0001</td>\n",
       "      <td>9</td>\n",
       "      <td>079345</td>\n",
       "      <td>079345</td>\n",
       "      <td>99</td>\n",
       "      <td>0</td>\n",
       "      <td>00000.000</td>\n",
       "      <td>02</td>\n",
       "      <td>000</td>\n",
       "      <td>2018-12-20</td>\n",
       "    </tr>\n",
       "    <tr>\n",
       "      <th>2</th>\n",
       "      <td>4</td>\n",
       "      <td>333333</td>\n",
       "      <td>MDAwMjcw</td>\n",
       "      <td>0001</td>\n",
       "      <td>9</td>\n",
       "      <td>842409</td>\n",
       "      <td>842409</td>\n",
       "      <td>99</td>\n",
       "      <td>0</td>\n",
       "      <td>00000.000</td>\n",
       "      <td>01</td>\n",
       "      <td>000</td>\n",
       "      <td>2018-12-20</td>\n",
       "    </tr>\n",
       "    <tr>\n",
       "      <th>3</th>\n",
       "      <td>5</td>\n",
       "      <td>333333</td>\n",
       "      <td>MDAwMjUy</td>\n",
       "      <td>0001</td>\n",
       "      <td>9</td>\n",
       "      <td>287596</td>\n",
       "      <td>287596</td>\n",
       "      <td>99</td>\n",
       "      <td>0</td>\n",
       "      <td>00000.000</td>\n",
       "      <td>02</td>\n",
       "      <td>000</td>\n",
       "      <td>2018-12-20</td>\n",
       "    </tr>\n",
       "    <tr>\n",
       "      <th>4</th>\n",
       "      <td>6</td>\n",
       "      <td>333333</td>\n",
       "      <td>MDAwMjM1</td>\n",
       "      <td>0001</td>\n",
       "      <td>9</td>\n",
       "      <td>235878</td>\n",
       "      <td>235878</td>\n",
       "      <td>99</td>\n",
       "      <td>0</td>\n",
       "      <td>00000.000</td>\n",
       "      <td>01</td>\n",
       "      <td>000</td>\n",
       "      <td>2018-12-20</td>\n",
       "    </tr>\n",
       "  </tbody>\n",
       "</table>\n",
       "</div>"
      ],
      "text/plain": [
       "   id_vehiculo  id_equipo  vehiculo departamento limite odometro_inicio  \\\n",
       "0            2     333333  MDAwMDAx         0001      9          193958   \n",
       "1            3     333333  MDAwMjM5         0001      9          079345   \n",
       "2            4     333333  MDAwMjcw         0001      9          842409   \n",
       "3            5     333333  MDAwMjUy         0001      9          287596   \n",
       "4            6     333333  MDAwMjM1         0001      9          235878   \n",
       "\n",
       "  odometro_fin cargas_max_dia autorizacion cantidad_total cargas_hoy  \\\n",
       "0       193958             99            0      00000.000         01   \n",
       "1       079345             99            0      00000.000         02   \n",
       "2       842409             99            0      00000.000         01   \n",
       "3       287596             99            0      00000.000         02   \n",
       "4       235878             99            0      00000.000         01   \n",
       "\n",
       "  cargas_hasta_hoy ultima_fecha  \n",
       "0              000   2018-12-20  \n",
       "1              000   2018-12-20  \n",
       "2              000   2018-12-20  \n",
       "3              000   2018-12-20  \n",
       "4              000   2018-12-20  "
      ]
     },
     "execution_count": 397,
     "metadata": {},
     "output_type": "execute_result"
    }
   ],
   "source": [
    "print(f'Dimensión del dataset: {df_vehiculos.shape}\\n')\n",
    "print(f'{df_vehiculos.info()}\\n')\n",
    "df_vehiculos.head()"
   ]
  },
  {
   "cell_type": "markdown",
   "metadata": {},
   "source": [
    "## Datos públicos:\n",
    "Bioetanol: producción y ventas (total país)\n",
    "- Producción y ventas de bioetanol por mes en base a maíz y caña de azúcar (en metros cúbicos).\n",
    "- Frecuencia de actualización: Mensualmente\n",
    "- Último cambio: 15 de mayo de 2018"
   ]
  },
  {
   "cell_type": "code",
   "execution_count": 398,
   "metadata": {},
   "outputs": [
    {
     "name": "stdout",
     "output_type": "stream",
     "text": [
      "Dimensión del dataset (filas, columnas): (101, 8)\n",
      "\n",
      "<class 'pandas.core.frame.DataFrame'>\n",
      "RangeIndex: 101 entries, 0 to 100\n",
      "Data columns (total 8 columns):\n",
      " #   Column                           Non-Null Count  Dtype         \n",
      "---  ------                           --------------  -----         \n",
      " 0   mes                              101 non-null    datetime64[ns]\n",
      " 1   unidades                         101 non-null    object        \n",
      " 2   produccion_total                 101 non-null    float64       \n",
      " 3   ventas_totales                   101 non-null    float64       \n",
      " 4   produccion_base_maiz             101 non-null    float64       \n",
      " 5   ventas_bioetanol_maiz            101 non-null    float64       \n",
      " 6   produccion_base_cana_de_azucar   101 non-null    float64       \n",
      " 7   ventas_bioetanol_cana_de_azucar  101 non-null    float64       \n",
      "dtypes: datetime64[ns](1), float64(6), object(1)\n",
      "memory usage: 6.4+ KB\n",
      "None\n",
      "\n"
     ]
    },
    {
     "data": {
      "text/html": [
       "<div>\n",
       "<style scoped>\n",
       "    .dataframe tbody tr th:only-of-type {\n",
       "        vertical-align: middle;\n",
       "    }\n",
       "\n",
       "    .dataframe tbody tr th {\n",
       "        vertical-align: top;\n",
       "    }\n",
       "\n",
       "    .dataframe thead th {\n",
       "        text-align: right;\n",
       "    }\n",
       "</style>\n",
       "<table border=\"1\" class=\"dataframe\">\n",
       "  <thead>\n",
       "    <tr style=\"text-align: right;\">\n",
       "      <th></th>\n",
       "      <th>mes</th>\n",
       "      <th>unidades</th>\n",
       "      <th>produccion_total</th>\n",
       "      <th>ventas_totales</th>\n",
       "      <th>produccion_base_maiz</th>\n",
       "      <th>ventas_bioetanol_maiz</th>\n",
       "      <th>produccion_base_cana_de_azucar</th>\n",
       "      <th>ventas_bioetanol_cana_de_azucar</th>\n",
       "    </tr>\n",
       "  </thead>\n",
       "  <tbody>\n",
       "    <tr>\n",
       "      <th>0</th>\n",
       "      <td>2009-11-01</td>\n",
       "      <td>metros cúbicos</td>\n",
       "      <td>858.0</td>\n",
       "      <td>0.0</td>\n",
       "      <td>0.0</td>\n",
       "      <td>0.0</td>\n",
       "      <td>858.0</td>\n",
       "      <td>0.0</td>\n",
       "    </tr>\n",
       "    <tr>\n",
       "      <th>1</th>\n",
       "      <td>2009-12-01</td>\n",
       "      <td>metros cúbicos</td>\n",
       "      <td>22439.0</td>\n",
       "      <td>2664.0</td>\n",
       "      <td>0.0</td>\n",
       "      <td>0.0</td>\n",
       "      <td>22439.0</td>\n",
       "      <td>2664.0</td>\n",
       "    </tr>\n",
       "    <tr>\n",
       "      <th>2</th>\n",
       "      <td>2010-01-01</td>\n",
       "      <td>metros cúbicos</td>\n",
       "      <td>771.0</td>\n",
       "      <td>6188.0</td>\n",
       "      <td>0.0</td>\n",
       "      <td>0.0</td>\n",
       "      <td>771.0</td>\n",
       "      <td>6188.0</td>\n",
       "    </tr>\n",
       "    <tr>\n",
       "      <th>3</th>\n",
       "      <td>2010-02-01</td>\n",
       "      <td>metros cúbicos</td>\n",
       "      <td>4791.0</td>\n",
       "      <td>6718.0</td>\n",
       "      <td>0.0</td>\n",
       "      <td>0.0</td>\n",
       "      <td>4791.0</td>\n",
       "      <td>6718.0</td>\n",
       "    </tr>\n",
       "    <tr>\n",
       "      <th>4</th>\n",
       "      <td>2010-03-01</td>\n",
       "      <td>metros cúbicos</td>\n",
       "      <td>4445.0</td>\n",
       "      <td>9585.0</td>\n",
       "      <td>0.0</td>\n",
       "      <td>0.0</td>\n",
       "      <td>4445.0</td>\n",
       "      <td>9585.0</td>\n",
       "    </tr>\n",
       "  </tbody>\n",
       "</table>\n",
       "</div>"
      ],
      "text/plain": [
       "         mes        unidades  produccion_total  ventas_totales  \\\n",
       "0 2009-11-01  metros cúbicos             858.0             0.0   \n",
       "1 2009-12-01  metros cúbicos           22439.0          2664.0   \n",
       "2 2010-01-01  metros cúbicos             771.0          6188.0   \n",
       "3 2010-02-01  metros cúbicos            4791.0          6718.0   \n",
       "4 2010-03-01  metros cúbicos            4445.0          9585.0   \n",
       "\n",
       "   produccion_base_maiz  ventas_bioetanol_maiz  \\\n",
       "0                   0.0                    0.0   \n",
       "1                   0.0                    0.0   \n",
       "2                   0.0                    0.0   \n",
       "3                   0.0                    0.0   \n",
       "4                   0.0                    0.0   \n",
       "\n",
       "   produccion_base_cana_de_azucar  ventas_bioetanol_cana_de_azucar  \n",
       "0                           858.0                              0.0  \n",
       "1                         22439.0                           2664.0  \n",
       "2                           771.0                           6188.0  \n",
       "3                          4791.0                           6718.0  \n",
       "4                          4445.0                           9585.0  "
      ]
     },
     "execution_count": 398,
     "metadata": {},
     "output_type": "execute_result"
    }
   ],
   "source": [
    "url_bioetanol_nacional = 'http://datos.minem.gob.ar/dataset/5ce77ad1-c729-42cd-a8b5-2407de005e5b/resource/fd142c49-fa73-4e21-be1f-a10d6d67d05d/download/bioetanol-serie-produccion-y-ventas-total-pais.csv'\n",
    "bioetanol_nacional=pd.read_csv(url_bioetanol_nacional, parse_dates=['mes'])\n",
    "print(f'Dimensión del dataset (filas, columnas): {bioetanol_nacional.shape}\\n')\n",
    "print(f'{bioetanol_nacional.info()}\\n')\n",
    "bioetanol_nacional.head()"
   ]
  },
  {
   "cell_type": "code",
   "execution_count": 399,
   "metadata": {},
   "outputs": [],
   "source": [
    "bioetanol_nacional['mes'] = pd.to_datetime(bioetanol_nacional['mes'])"
   ]
  },
  {
   "cell_type": "code",
   "execution_count": 400,
   "metadata": {},
   "outputs": [
    {
     "data": {
      "text/html": [
       "<div>\n",
       "<style scoped>\n",
       "    .dataframe tbody tr th:only-of-type {\n",
       "        vertical-align: middle;\n",
       "    }\n",
       "\n",
       "    .dataframe tbody tr th {\n",
       "        vertical-align: top;\n",
       "    }\n",
       "\n",
       "    .dataframe thead th {\n",
       "        text-align: right;\n",
       "    }\n",
       "</style>\n",
       "<table border=\"1\" class=\"dataframe\">\n",
       "  <thead>\n",
       "    <tr style=\"text-align: right;\">\n",
       "      <th></th>\n",
       "      <th>mes</th>\n",
       "      <th>unidades</th>\n",
       "      <th>produccion_total</th>\n",
       "      <th>ventas_totales</th>\n",
       "      <th>produccion_base_maiz</th>\n",
       "      <th>ventas_bioetanol_maiz</th>\n",
       "      <th>produccion_base_cana_de_azucar</th>\n",
       "      <th>ventas_bioetanol_cana_de_azucar</th>\n",
       "    </tr>\n",
       "  </thead>\n",
       "  <tbody>\n",
       "    <tr>\n",
       "      <th>0</th>\n",
       "      <td>2009-11-01</td>\n",
       "      <td>metros cúbicos</td>\n",
       "      <td>858.0</td>\n",
       "      <td>0.0</td>\n",
       "      <td>0.0</td>\n",
       "      <td>0.0</td>\n",
       "      <td>858.0</td>\n",
       "      <td>0.0</td>\n",
       "    </tr>\n",
       "    <tr>\n",
       "      <th>1</th>\n",
       "      <td>2009-12-01</td>\n",
       "      <td>metros cúbicos</td>\n",
       "      <td>22439.0</td>\n",
       "      <td>2664.0</td>\n",
       "      <td>0.0</td>\n",
       "      <td>0.0</td>\n",
       "      <td>22439.0</td>\n",
       "      <td>2664.0</td>\n",
       "    </tr>\n",
       "    <tr>\n",
       "      <th>2</th>\n",
       "      <td>2010-01-01</td>\n",
       "      <td>metros cúbicos</td>\n",
       "      <td>771.0</td>\n",
       "      <td>6188.0</td>\n",
       "      <td>0.0</td>\n",
       "      <td>0.0</td>\n",
       "      <td>771.0</td>\n",
       "      <td>6188.0</td>\n",
       "    </tr>\n",
       "    <tr>\n",
       "      <th>3</th>\n",
       "      <td>2010-02-01</td>\n",
       "      <td>metros cúbicos</td>\n",
       "      <td>4791.0</td>\n",
       "      <td>6718.0</td>\n",
       "      <td>0.0</td>\n",
       "      <td>0.0</td>\n",
       "      <td>4791.0</td>\n",
       "      <td>6718.0</td>\n",
       "    </tr>\n",
       "    <tr>\n",
       "      <th>4</th>\n",
       "      <td>2010-03-01</td>\n",
       "      <td>metros cúbicos</td>\n",
       "      <td>4445.0</td>\n",
       "      <td>9585.0</td>\n",
       "      <td>0.0</td>\n",
       "      <td>0.0</td>\n",
       "      <td>4445.0</td>\n",
       "      <td>9585.0</td>\n",
       "    </tr>\n",
       "  </tbody>\n",
       "</table>\n",
       "</div>"
      ],
      "text/plain": [
       "         mes        unidades  produccion_total  ventas_totales  \\\n",
       "0 2009-11-01  metros cúbicos             858.0             0.0   \n",
       "1 2009-12-01  metros cúbicos           22439.0          2664.0   \n",
       "2 2010-01-01  metros cúbicos             771.0          6188.0   \n",
       "3 2010-02-01  metros cúbicos            4791.0          6718.0   \n",
       "4 2010-03-01  metros cúbicos            4445.0          9585.0   \n",
       "\n",
       "   produccion_base_maiz  ventas_bioetanol_maiz  \\\n",
       "0                   0.0                    0.0   \n",
       "1                   0.0                    0.0   \n",
       "2                   0.0                    0.0   \n",
       "3                   0.0                    0.0   \n",
       "4                   0.0                    0.0   \n",
       "\n",
       "   produccion_base_cana_de_azucar  ventas_bioetanol_cana_de_azucar  \n",
       "0                           858.0                              0.0  \n",
       "1                         22439.0                           2664.0  \n",
       "2                           771.0                           6188.0  \n",
       "3                          4791.0                           6718.0  \n",
       "4                          4445.0                           9585.0  "
      ]
     },
     "execution_count": 400,
     "metadata": {},
     "output_type": "execute_result"
    }
   ],
   "source": [
    "bioetanol_nacional.head()"
   ]
  },
  {
   "cell_type": "markdown",
   "metadata": {},
   "source": [
    "Biodiesel: producción, ventas y exportaciones, total país\n",
    "- Producción, ventas y exportaciones de biodiesel por mes en toneladas.\n",
    "- Frecuencia de actualización: Mensualmente\n",
    "- Último cambio: 15 de mayo de 2018"
   ]
  },
  {
   "cell_type": "code",
   "execution_count": 401,
   "metadata": {},
   "outputs": [
    {
     "data": {
      "text/html": [
       "<div>\n",
       "<style scoped>\n",
       "    .dataframe tbody tr th:only-of-type {\n",
       "        vertical-align: middle;\n",
       "    }\n",
       "\n",
       "    .dataframe tbody tr th {\n",
       "        vertical-align: top;\n",
       "    }\n",
       "\n",
       "    .dataframe thead th {\n",
       "        text-align: right;\n",
       "    }\n",
       "</style>\n",
       "<table border=\"1\" class=\"dataframe\">\n",
       "  <thead>\n",
       "    <tr style=\"text-align: right;\">\n",
       "      <th></th>\n",
       "      <th>mes</th>\n",
       "      <th>unidades</th>\n",
       "      <th>produccion_total</th>\n",
       "      <th>ventas_al_corte</th>\n",
       "      <th>otras_ventas_al_mercado_interno</th>\n",
       "      <th>exportaciones</th>\n",
       "    </tr>\n",
       "  </thead>\n",
       "  <tbody>\n",
       "    <tr>\n",
       "      <th>0</th>\n",
       "      <td>2008-01-01</td>\n",
       "      <td>ton</td>\n",
       "      <td>47251.00</td>\n",
       "      <td>0.00</td>\n",
       "      <td>1.00</td>\n",
       "      <td>43599.00</td>\n",
       "    </tr>\n",
       "    <tr>\n",
       "      <th>1</th>\n",
       "      <td>2008-02-01</td>\n",
       "      <td>ton</td>\n",
       "      <td>38747.00</td>\n",
       "      <td>0.00</td>\n",
       "      <td>0.00</td>\n",
       "      <td>25147.00</td>\n",
       "    </tr>\n",
       "    <tr>\n",
       "      <th>2</th>\n",
       "      <td>2008-03-01</td>\n",
       "      <td>ton</td>\n",
       "      <td>42095.00</td>\n",
       "      <td>0.00</td>\n",
       "      <td>264.00</td>\n",
       "      <td>52150.00</td>\n",
       "    </tr>\n",
       "    <tr>\n",
       "      <th>3</th>\n",
       "      <td>2008-04-01</td>\n",
       "      <td>ton</td>\n",
       "      <td>43881.00</td>\n",
       "      <td>0.00</td>\n",
       "      <td>0.00</td>\n",
       "      <td>55907.00</td>\n",
       "    </tr>\n",
       "    <tr>\n",
       "      <th>4</th>\n",
       "      <td>2008-05-01</td>\n",
       "      <td>ton</td>\n",
       "      <td>51679.00</td>\n",
       "      <td>0.00</td>\n",
       "      <td>0.00</td>\n",
       "      <td>42214.00</td>\n",
       "    </tr>\n",
       "    <tr>\n",
       "      <th>...</th>\n",
       "      <td>...</td>\n",
       "      <td>...</td>\n",
       "      <td>...</td>\n",
       "      <td>...</td>\n",
       "      <td>...</td>\n",
       "      <td>...</td>\n",
       "    </tr>\n",
       "    <tr>\n",
       "      <th>118</th>\n",
       "      <td>2017-11-01</td>\n",
       "      <td>ton</td>\n",
       "      <td>302618.48</td>\n",
       "      <td>102110.27</td>\n",
       "      <td>57.56</td>\n",
       "      <td>185000.00</td>\n",
       "    </tr>\n",
       "    <tr>\n",
       "      <th>119</th>\n",
       "      <td>2017-12-01</td>\n",
       "      <td>ton</td>\n",
       "      <td>265727.76</td>\n",
       "      <td>105923.82</td>\n",
       "      <td>28.12</td>\n",
       "      <td>170790.77</td>\n",
       "    </tr>\n",
       "    <tr>\n",
       "      <th>120</th>\n",
       "      <td>2018-01-01</td>\n",
       "      <td>ton</td>\n",
       "      <td>244128.16</td>\n",
       "      <td>82481.54</td>\n",
       "      <td>59.76</td>\n",
       "      <td>213909.23</td>\n",
       "    </tr>\n",
       "    <tr>\n",
       "      <th>121</th>\n",
       "      <td>2018-02-01</td>\n",
       "      <td>ton</td>\n",
       "      <td>157007.22</td>\n",
       "      <td>83808.80</td>\n",
       "      <td>29.84</td>\n",
       "      <td>40000.00</td>\n",
       "    </tr>\n",
       "    <tr>\n",
       "      <th>122</th>\n",
       "      <td>2018-03-01</td>\n",
       "      <td>ton</td>\n",
       "      <td>177938.88</td>\n",
       "      <td>93996.75</td>\n",
       "      <td>30.34</td>\n",
       "      <td>65200.00</td>\n",
       "    </tr>\n",
       "  </tbody>\n",
       "</table>\n",
       "<p>123 rows × 6 columns</p>\n",
       "</div>"
      ],
      "text/plain": [
       "           mes unidades  produccion_total  ventas_al_corte  \\\n",
       "0   2008-01-01      ton          47251.00             0.00   \n",
       "1   2008-02-01      ton          38747.00             0.00   \n",
       "2   2008-03-01      ton          42095.00             0.00   \n",
       "3   2008-04-01      ton          43881.00             0.00   \n",
       "4   2008-05-01      ton          51679.00             0.00   \n",
       "..         ...      ...               ...              ...   \n",
       "118 2017-11-01      ton         302618.48        102110.27   \n",
       "119 2017-12-01      ton         265727.76        105923.82   \n",
       "120 2018-01-01      ton         244128.16         82481.54   \n",
       "121 2018-02-01      ton         157007.22         83808.80   \n",
       "122 2018-03-01      ton         177938.88         93996.75   \n",
       "\n",
       "     otras_ventas_al_mercado_interno  exportaciones  \n",
       "0                               1.00       43599.00  \n",
       "1                               0.00       25147.00  \n",
       "2                             264.00       52150.00  \n",
       "3                               0.00       55907.00  \n",
       "4                               0.00       42214.00  \n",
       "..                               ...            ...  \n",
       "118                            57.56      185000.00  \n",
       "119                            28.12      170790.77  \n",
       "120                            59.76      213909.23  \n",
       "121                            29.84       40000.00  \n",
       "122                            30.34       65200.00  \n",
       "\n",
       "[123 rows x 6 columns]"
      ]
     },
     "execution_count": 401,
     "metadata": {},
     "output_type": "execute_result"
    }
   ],
   "source": [
    "url_biodiesel_nacional = 'http://datos.minem.gob.ar/dataset/5ce77ad1-c729-42cd-a8b5-2407de005e5b/resource/4e04bc74-8625-412c-acc2-48412f2509b4/download/biodiesel-serie-produccion-ventas-y-expo.csv'\n",
    "# Leer CSV\n",
    "biodiesel_nacional =  pd.read_csv(url_biodiesel_nacional,parse_dates=['mes'])\n",
    "biodiesel_nacional"
   ]
  },
  {
   "cell_type": "markdown",
   "metadata": {},
   "source": [
    "## Análisis a desarrollar:\n",
    "\n",
    "Indicaciones previas: \n",
    "- Para cada planteamiento (excepto el 1), realizar un análisis de los resultados obtenidos y justificar por qué empleó determinado cálculo.\n",
    "\n",
    "- Para los planteamientos donde utilices gráficos, responder: ¿Qué tipo de gráfico es el recomendado? ¿Por qué? Construya el gráfico y elabore una conclusión del mismo.\n",
    "\n",
    "Nota: Cuidar los aspectos relevantes de un gráfico (título, nombre de las variables para cada eje, escala de valores en los ejes, colores, fuente de los datos, leyenda, valores a resaltar, etc)"
   ]
  },
  {
   "cell_type": "markdown",
   "metadata": {},
   "source": [
    " ### 1- Seleccionar y crear una lista de 5 variables númericas. Comenta si son de tipo discreto o continuo, y por qué."
   ]
  },
  {
   "cell_type": "code",
   "execution_count": 402,
   "metadata": {},
   "outputs": [
    {
     "data": {
      "text/plain": [
       "array([1.0e-03, 8.6e-04, 0.0e+00, 9.7e-04, 1.0e+01])"
      ]
     },
     "execution_count": 402,
     "metadata": {},
     "output_type": "execute_result"
    }
   ],
   "source": [
    "# 1.- coheficiente de variacion de volumen.\n",
    "# `fs_asignacion_producto.coef_var_vol`\n",
    "# es una variable continua, si bien toma pocos valores \n",
    "# esta variable debe considerarse continua ya que corresponde\n",
    "# a una propiedad fisica\n",
    "df_productos.coef_var_vol.unique()"
   ]
  },
  {
   "cell_type": "code",
   "execution_count": 403,
   "metadata": {},
   "outputs": [
    {
     "data": {
      "text/plain": [
       "count    1.438000e+03\n",
       "mean     3.324024e+05\n",
       "std      7.261168e+05\n",
       "min      0.000000e+00\n",
       "25%      0.000000e+00\n",
       "50%      5.511900e+01\n",
       "75%      2.367395e+05\n",
       "max      3.981067e+06\n",
       "Name: totalizador, dtype: float64"
      ]
     },
     "execution_count": 403,
     "metadata": {},
     "output_type": "execute_result"
    }
   ],
   "source": [
    "# 2.- totalizador de bomba\n",
    "# `fs_bombas,totalizador`\n",
    "# esta variable es continua. corresponde al volumen de \n",
    "# combustible despachado por un surtidor. El combustible no se\n",
    "# despacha en cantidades discretas de volumen por eso debe \n",
    "# considerarse continua\n",
    "pd.to_numeric(df_bombas.totalizador).describe()"
   ]
  },
  {
   "cell_type": "code",
   "execution_count": 404,
   "metadata": {},
   "outputs": [
    {
     "data": {
      "text/plain": [
       "array([  30,   10,   60,    0,    1,   61, 2709,   20,   15,    5,  999,\n",
       "        273,   22,  352,   25,  438])"
      ]
     },
     "execution_count": 404,
     "metadata": {},
     "output_type": "execute_result"
    }
   ],
   "source": [
    "# 3.- intervalo entre logs de tanque.\n",
    "# `df_tanques.log_interval`\n",
    "# Variable de tiempo, osea que es continua\n",
    "pd.to_numeric(df_tanques.log_interval,errors='coerce').dropna().astype(int).unique()"
   ]
  },
  {
   "cell_type": "code",
   "execution_count": 405,
   "metadata": {},
   "outputs": [
    {
     "data": {
      "text/plain": [
       "9287       0\n",
       "11568      0\n",
       "7700      35\n",
       "1937      12\n",
       "8724      51\n",
       "1703       0\n",
       "6683      24\n",
       "1297     340\n",
       "9014       0\n",
       "5850     141\n",
       "Name: cargas_totales, dtype: int32"
      ]
     },
     "execution_count": 405,
     "metadata": {},
     "output_type": "execute_result"
    }
   ],
   "source": [
    "# 4.- cantidad de cargas totales de un usuario.\n",
    "# `df_usuarios.cargas_totles`\n",
    "# Es una variable discreta, un valor entero.\n",
    "df_usuarios.cargas_totales.astype(int).sample(10)"
   ]
  },
  {
   "cell_type": "code",
   "execution_count": 406,
   "metadata": {},
   "outputs": [
    {
     "data": {
      "text/plain": [
       "0       47251.00\n",
       "1       38747.00\n",
       "2       42095.00\n",
       "3       43881.00\n",
       "4       51679.00\n",
       "         ...    \n",
       "118    302618.48\n",
       "119    265727.76\n",
       "120    244128.16\n",
       "121    157007.22\n",
       "122    177938.88\n",
       "Name: produccion_total, Length: 123, dtype: float64"
      ]
     },
     "execution_count": 406,
     "metadata": {},
     "output_type": "execute_result"
    }
   ],
   "source": [
    "# 5.- produccion total de Biodiesel.\n",
    "# df_biodisel_nac.produccion_total\n",
    "# Variable continua. Representa el la cantidad de combustible \n",
    "# producida en el periodo\n",
    "df_biodisel_nac.produccion_total"
   ]
  },
  {
   "cell_type": "code",
   "execution_count": null,
   "metadata": {},
   "outputs": [],
   "source": []
  },
  {
   "cell_type": "markdown",
   "metadata": {},
   "source": [
    "### 2- Determinar algunas medidas estadísticas para las variables seleccionadas."
   ]
  },
  {
   "cell_type": "markdown",
   "metadata": {},
   "source": [
    "#### 2.1.- Coheficiente de variacion de volumen"
   ]
  },
  {
   "cell_type": "code",
   "execution_count": 407,
   "metadata": {},
   "outputs": [
    {
     "name": "stdout",
     "output_type": "stream",
     "text": [
      "Valores: [1.0e-03 8.6e-04 0.0e+00 9.7e-04 1.0e+01]\n"
     ]
    },
    {
     "data": {
      "text/html": [
       "<div>\n",
       "<style scoped>\n",
       "    .dataframe tbody tr th:only-of-type {\n",
       "        vertical-align: middle;\n",
       "    }\n",
       "\n",
       "    .dataframe tbody tr th {\n",
       "        vertical-align: top;\n",
       "    }\n",
       "\n",
       "    .dataframe thead th {\n",
       "        text-align: right;\n",
       "    }\n",
       "</style>\n",
       "<table border=\"1\" class=\"dataframe\">\n",
       "  <thead>\n",
       "    <tr style=\"text-align: right;\">\n",
       "      <th></th>\n",
       "      <th>id_equipo</th>\n",
       "      <th>producto</th>\n",
       "      <th>nombre_producto</th>\n",
       "      <th>codigo</th>\n",
       "      <th>precio_litro</th>\n",
       "      <th>density</th>\n",
       "    </tr>\n",
       "    <tr>\n",
       "      <th>coef_var_vol</th>\n",
       "      <th></th>\n",
       "      <th></th>\n",
       "      <th></th>\n",
       "      <th></th>\n",
       "      <th></th>\n",
       "      <th></th>\n",
       "    </tr>\n",
       "  </thead>\n",
       "  <tbody>\n",
       "    <tr>\n",
       "      <th>0.00000</th>\n",
       "      <td>3</td>\n",
       "      <td>3</td>\n",
       "      <td>3</td>\n",
       "      <td>3</td>\n",
       "      <td>3</td>\n",
       "      <td>3</td>\n",
       "    </tr>\n",
       "    <tr>\n",
       "      <th>0.00086</th>\n",
       "      <td>1</td>\n",
       "      <td>1</td>\n",
       "      <td>1</td>\n",
       "      <td>1</td>\n",
       "      <td>1</td>\n",
       "      <td>1</td>\n",
       "    </tr>\n",
       "    <tr>\n",
       "      <th>0.00097</th>\n",
       "      <td>1</td>\n",
       "      <td>1</td>\n",
       "      <td>1</td>\n",
       "      <td>1</td>\n",
       "      <td>1</td>\n",
       "      <td>1</td>\n",
       "    </tr>\n",
       "    <tr>\n",
       "      <th>0.00100</th>\n",
       "      <td>2666</td>\n",
       "      <td>2666</td>\n",
       "      <td>2666</td>\n",
       "      <td>2521</td>\n",
       "      <td>2666</td>\n",
       "      <td>243</td>\n",
       "    </tr>\n",
       "    <tr>\n",
       "      <th>10.00000</th>\n",
       "      <td>1</td>\n",
       "      <td>1</td>\n",
       "      <td>1</td>\n",
       "      <td>0</td>\n",
       "      <td>1</td>\n",
       "      <td>1</td>\n",
       "    </tr>\n",
       "  </tbody>\n",
       "</table>\n",
       "</div>"
      ],
      "text/plain": [
       "              id_equipo  producto  nombre_producto  codigo  precio_litro  \\\n",
       "coef_var_vol                                                               \n",
       "0.00000               3         3                3       3             3   \n",
       "0.00086               1         1                1       1             1   \n",
       "0.00097               1         1                1       1             1   \n",
       "0.00100            2666      2666             2666    2521          2666   \n",
       "10.00000              1         1                1       0             1   \n",
       "\n",
       "              density  \n",
       "coef_var_vol           \n",
       "0.00000             3  \n",
       "0.00086             1  \n",
       "0.00097             1  \n",
       "0.00100           243  \n",
       "10.00000            1  "
      ]
     },
     "execution_count": 407,
     "metadata": {},
     "output_type": "execute_result"
    }
   ],
   "source": [
    "# coeficiente de variacion de volumen\n",
    "print(\"Valores: {}\".format(df_productos.coef_var_vol.unique()))\n",
    "df_productos.groupby('coef_var_vol').count()"
   ]
  },
  {
   "cell_type": "markdown",
   "metadata": {},
   "source": [
    "Vemos que la variable toma pocos valores. Por conocimiento del campo es conocido que el valor de esta variable lo entrega el productor, por lo tanto podemos decir que cada valor corresponde a un producto diferente.\n",
    "Por lo tanto el analisis mas util para esta variable sera:\n",
    " - Ver a que producto corresponde cada coeficiente ( servira luego para inferir el producto a partir de otros valores). Nota: en el item 5 se muestra porque esto no sera posible\n",
    " - Que cantidad de tanques con el mismo producto hay?\n",
    "\n",
    "Por otro lado podemos descartar el valor 10 porque no hay liquido conocido con ese coeficiente de dilatacion, y el valor 0 tambien puede descargarse como \"no valido\" ya que la dilatacion es una propiedad fisica"
   ]
  },
  {
   "cell_type": "code",
   "execution_count": 408,
   "metadata": {},
   "outputs": [
    {
     "name": "stdout",
     "output_type": "stream",
     "text": [
      "CANTIDAD DE TANQUES POR PRODUCTO \n",
      "[solo se muestran los valores mas relevantes]\n"
     ]
    },
    {
     "data": {
      "text/html": [
       "<div>\n",
       "<style scoped>\n",
       "    .dataframe tbody tr th:only-of-type {\n",
       "        vertical-align: middle;\n",
       "    }\n",
       "\n",
       "    .dataframe tbody tr th {\n",
       "        vertical-align: top;\n",
       "    }\n",
       "\n",
       "    .dataframe thead th {\n",
       "        text-align: right;\n",
       "    }\n",
       "</style>\n",
       "<table border=\"1\" class=\"dataframe\">\n",
       "  <thead>\n",
       "    <tr style=\"text-align: right;\">\n",
       "      <th></th>\n",
       "      <th></th>\n",
       "      <th>id_tanque</th>\n",
       "      <th>porcentaje</th>\n",
       "    </tr>\n",
       "    <tr>\n",
       "      <th>nombre_producto</th>\n",
       "      <th>coef_var_vol</th>\n",
       "      <th></th>\n",
       "      <th></th>\n",
       "    </tr>\n",
       "  </thead>\n",
       "  <tbody>\n",
       "    <tr>\n",
       "      <th>DESCONOCIDO</th>\n",
       "      <th>0.00100</th>\n",
       "      <td>992</td>\n",
       "      <td>65.61</td>\n",
       "    </tr>\n",
       "    <tr>\n",
       "      <th>DIESEL</th>\n",
       "      <th>0.00100</th>\n",
       "      <td>423</td>\n",
       "      <td>27.98</td>\n",
       "    </tr>\n",
       "    <tr>\n",
       "      <th>NAFTA</th>\n",
       "      <th>0.00100</th>\n",
       "      <td>50</td>\n",
       "      <td>3.31</td>\n",
       "    </tr>\n",
       "    <tr>\n",
       "      <th>INFINIA T20</th>\n",
       "      <th>0.00100</th>\n",
       "      <td>11</td>\n",
       "      <td>0.73</td>\n",
       "    </tr>\n",
       "    <tr>\n",
       "      <th>BIO</th>\n",
       "      <th>0.00100</th>\n",
       "      <td>9</td>\n",
       "      <td>0.60</td>\n",
       "    </tr>\n",
       "    <tr>\n",
       "      <th>GENÉRICO</th>\n",
       "      <th>0.00097</th>\n",
       "      <td>6</td>\n",
       "      <td>0.40</td>\n",
       "    </tr>\n",
       "    <tr>\n",
       "      <th>ACEITE</th>\n",
       "      <th>0.00100</th>\n",
       "      <td>5</td>\n",
       "      <td>0.33</td>\n",
       "    </tr>\n",
       "    <tr>\n",
       "      <th>AVGAS 100</th>\n",
       "      <th>0.00100</th>\n",
       "      <td>2</td>\n",
       "      <td>0.13</td>\n",
       "    </tr>\n",
       "    <tr>\n",
       "      <th>FORMULA</th>\n",
       "      <th>0.00100</th>\n",
       "      <td>2</td>\n",
       "      <td>0.13</td>\n",
       "    </tr>\n",
       "    <tr>\n",
       "      <th>INFINIA</th>\n",
       "      <th>0.00100</th>\n",
       "      <td>1</td>\n",
       "      <td>0.07</td>\n",
       "    </tr>\n",
       "  </tbody>\n",
       "</table>\n",
       "</div>"
      ],
      "text/plain": [
       "                              id_tanque  porcentaje\n",
       "nombre_producto coef_var_vol                       \n",
       "DESCONOCIDO     0.00100             992       65.61\n",
       "DIESEL          0.00100             423       27.98\n",
       "NAFTA           0.00100              50        3.31\n",
       "INFINIA T20     0.00100              11        0.73\n",
       "BIO             0.00100               9        0.60\n",
       "GENÉRICO        0.00097               6        0.40\n",
       "ACEITE          0.00100               5        0.33\n",
       "AVGAS 100       0.00100               2        0.13\n",
       "FORMULA         0.00100               2        0.13\n",
       "INFINIA         0.00100               1        0.07"
      ]
     },
     "execution_count": 408,
     "metadata": {},
     "output_type": "execute_result"
    }
   ],
   "source": [
    "data = pd.merge(df_productos, df_tanques[['id_equipo','producto','id_tanque']], how='left', left_on=['id_equipo','producto'], right_on=['id_equipo','producto'])\n",
    "data = data[(data.coef_var_vol > 0) & (data.coef_var_vol < 10)]\n",
    "data.nombre_producto = data.nombre_producto.str.upper().apply(lambda n: 'DIESEL' if re.match(r'.*(DIESEL|GAS\\s{0,1}OIL|EURO|D500).*',n) else n)\n",
    "data.nombre_producto = data.nombre_producto.apply(lambda n: 'NAFTA' if re.match(r'.*(NAFTA|SUPER|ENERGY).*',n) else n)\n",
    "data.nombre_producto = data.nombre_producto.apply(lambda n: 'DESCONOCIDO' if re.match(r'.*(PRODUCT|N/A).*',n) else n)\n",
    "\n",
    "tank_por_prod = data[['nombre_producto','coef_var_vol','id_tanque']].groupby(['nombre_producto','coef_var_vol']).count().sort_values('id_tanque',ascending=False,)\n",
    "tank_por_prod['porcentaje'] = tank_por_prod.id_tanque.apply(lambda x: (100*x/tank_por_prod.id_tanque.sum()).round(2)) \n",
    "print(\"CANTIDAD DE TANQUES POR PRODUCTO \\n[solo se muestran los valores mas relevantes]\")\n",
    "tank_por_prod.head(10)"
   ]
  },
  {
   "cell_type": "markdown",
   "metadata": {},
   "source": [
    "De la tabla anterior vemos que no conocemos que producto contiene el 65% de los tanques, que solo ~28% de los tanques contienen Diesel."
   ]
  },
  {
   "cell_type": "markdown",
   "metadata": {},
   "source": [
    "#### 2.2.- Totalizador de bomba"
   ]
  },
  {
   "cell_type": "code",
   "execution_count": 409,
   "metadata": {},
   "outputs": [
    {
     "data": {
      "text/plain": [
       "count    1.438000e+03\n",
       "mean     3.324024e+05\n",
       "std      7.261168e+05\n",
       "min      0.000000e+00\n",
       "25%      0.000000e+00\n",
       "50%      5.511900e+01\n",
       "75%      2.367395e+05\n",
       "max      3.981067e+06\n",
       "Name: totalizador, dtype: float64"
      ]
     },
     "execution_count": 409,
     "metadata": {},
     "output_type": "execute_result"
    }
   ],
   "source": [
    "df_bombas.totalizador = df_bombas.totalizador.astype(float)\n",
    "df_bombas.totalizador.describe()"
   ]
  },
  {
   "cell_type": "code",
   "execution_count": 410,
   "metadata": {},
   "outputs": [
    {
     "data": {
      "image/png": "[encoded data removed]",
      "text/plain": [
       "<Figure size 1080x432 with 1 Axes>"
      ]
     },
     "metadata": {
      "needs_background": "light"
     },
     "output_type": "display_data"
    }
   ],
   "source": [
    "sns.set_context(context='talk', font_scale=0.8, rc={\"lines.linewidth\": 3})\n",
    "fig = plt.figure(figsize=(15,6))\n",
    "data = df_bombas['totalizador']/1e6\n",
    "ax = sns.distplot(data, kde=False, norm_hist=False)\n",
    "ax.set_yscale('log')\n",
    "\n",
    "plt.title(\"Distribución de la variable totalizador de bomba\")\n",
    "plt.ylabel('Cantidad de bombas')\n",
    "plt.xlabel('m3 despachados por bomba')\n",
    "\n",
    "\n",
    "ax=plt.annotate('Totalizadores en cero en {} bombas\\n(*1) Ver aclaración abajo'.format(\n",
    "                    len(df_bombas[df_bombas['totalizador']==0])\n",
    "                    )\n",
    "                 ,xy=(0.65, 0.80), xycoords='axes fraction', fontsize=12)\n",
    "\n",
    "sns.despine()\n"
   ]
  },
  {
   "cell_type": "markdown",
   "metadata": {},
   "source": [
    "**_(*1)_**  Existen 3 posibles motivos por lo cual tenemos tantas bombas con valores 0 o de pocos litros:\n",
    "* La variable (bomba) no se está utilizando, hay un campo **habilitacion** que está en cero en algunos casos\n",
    "* Está variable no tiene en cuenta el tiempo por ende podrían ser bombas son nuevas, recién instaladas\n",
    "* La variable no se está actualizando correctamente\n",
    "Se concluye que, por el momento, no tiene mucho sentido obtener mediciones estadisticas de esta variables. \n",
    "Otra observación importante es que este dato está contenido dentro de las tablas de transacciones (__sis_transa__), donde ahí sí contammos con la variable tiempo y se podrían obtener un análisis mas interesante."
   ]
  },
  {
   "cell_type": "markdown",
   "metadata": {},
   "source": [
    "#### 2.3.- Intervalo entre logs de tanque"
   ]
  },
  {
   "cell_type": "code",
   "execution_count": 411,
   "metadata": {},
   "outputs": [
    {
     "data": {
      "text/plain": [
       "count    1560.000000\n",
       "mean       35.160256\n",
       "std        81.999562\n",
       "min         0.000000\n",
       "25%        30.000000\n",
       "50%        30.000000\n",
       "75%        30.000000\n",
       "max      2709.000000\n",
       "Name: log_interval, dtype: float64"
      ]
     },
     "execution_count": 411,
     "metadata": {},
     "output_type": "execute_result"
    }
   ],
   "source": [
    "data = df_tanques\n",
    "data.log_interval = pd.to_numeric(data.log_interval,errors='coerce')\n",
    "data = data.dropna()\n",
    "data.log_interval = data.log_interval.astype(int)\n",
    "\n",
    "data.log_interval.describe()"
   ]
  },
  {
   "cell_type": "markdown",
   "metadata": {},
   "source": [
    "Vemos que al menos el 75% de los valores es menor  o igual que 30.y que el primer y tercer cuartil calen 30 pero esta metrica no es muy ultil, asique hayq que expresarla mejor"
   ]
  },
  {
   "cell_type": "code",
   "execution_count": 412,
   "metadata": {},
   "outputs": [
    {
     "data": {
      "text/plain": [
       "dtype('int32')"
      ]
     },
     "execution_count": 412,
     "metadata": {},
     "output_type": "execute_result"
    }
   ],
   "source": [
    "# data[data['log_interval']==0]\n",
    "interval = df_tanques['log_interval'].round(0).dropna().astype(int)\n",
    "interval.dtype"
   ]
  },
  {
   "cell_type": "code",
   "execution_count": 413,
   "metadata": {},
   "outputs": [
    {
     "name": "stdout",
     "output_type": "stream",
     "text": [
      "sondas con muestreo mayor a 30 minutos: 9.9 %\n",
      "sondas con muestreo menor a 30 minutos: 8.3 %\n",
      "sondas con muestreo cada 10 minutos: 5.4 %\n",
      "sondas con muestreo cada 30 minutos: 81.8 %\n",
      "sondas con muestreo cada 60 minutos: 9.4 %\n"
     ]
    },
    {
     "data": {
      "image/png": "[encoded data removed]",
      "text/plain": [
       "<Figure size 1368x576 with 2 Axes>"
      ]
     },
     "metadata": {
      "needs_background": "light"
     },
     "output_type": "display_data"
    }
   ],
   "source": [
    "print(\"sondas con muestreo mayor a 30 minutos: %.1f %%\" % (\n",
    "        (100*len(data[data.log_interval > 30])/len(data)),\n",
    "    )\n",
    ")\n",
    "print(\"sondas con muestreo menor a 30 minutos: %.1f %%\" % (\n",
    "        (100*len(data[data.log_interval < 30])/len(data)),\n",
    "    )\n",
    ")\n",
    "\n",
    "print(\"sondas con muestreo cada 10 minutos: %.1f %%\" % (\n",
    "        (100*len(data[data.log_interval == 10])/len(data)),\n",
    "    )\n",
    ")\n",
    "\n",
    "print(\"sondas con muestreo cada 30 minutos: %.1f %%\" % (\n",
    "        (100*len(data[data.log_interval == 30])/len(data)),\n",
    "    )\n",
    ")\n",
    "\n",
    "print(\"sondas con muestreo cada 60 minutos: %.1f %%\"  % (\n",
    "        (100*len(data[data.log_interval == 60])/len(data)),\n",
    "    )\n",
    ")\n",
    "\n",
    "fig = plt.figure(figsize=(19,8))\n",
    "sp1 = plt.subplot('221')\n",
    "sp1.set_title(\"Periodos de muestreo menores o iguales a 30 minutos\")\n",
    "ax=sns.distplot(data.log_interval[data.log_interval <= 30], norm_hist=False, kde=False, ax=sp1, color='green')\n",
    "ax.set_yscale('log')\n",
    "\n",
    "# ax=sns.distplot(np.log(data['log_interval']), norm_hist=False, kde=False, color='green')\n",
    "\n",
    "plt.ylabel('Cantidad')\n",
    "plt.xlabel('Intervalo máximo de mediciones [minutos]')\n",
    "\n",
    "sp2 = plt.subplot('222')\n",
    "sp2.set_title('Periodos de muestreo mayores a 30 minutos')\n",
    "ax = sns.distplot(data.log_interval[data.log_interval > 30], norm_hist=False, kde=False, ax=sp2, color='green')\n",
    "plt.xlabel('Intervalo máximo de mediciones [minutos]')\n",
    "\n",
    "ax.set_yscale('log')\n",
    "# ax.set_xscale('log')\n",
    "\n",
    "\n",
    "fig.tight_layout()\n",
    "sns.despine()"
   ]
  },
  {
   "cell_type": "markdown",
   "metadata": {},
   "source": [
    "Se obserba de la descripcion y grafico anteriores que el ~80% de los equipos toma muestras de nivel de tanque cada 30 minutos, ~9% lo hace cada 60 minutos, y ~5% lo hace cada 10 minutos. El resto de los casos son clientes con requerimientos especificos, dispositivos experimentales o dispositivos mal configurados. Esta consideracion sera importante a la hora de matchear transacciones con historiales en la curacion"
   ]
  },
  {
   "cell_type": "markdown",
   "metadata": {},
   "source": [
    "#### 2.4.-Cantidad de cargas totales de los usuarios"
   ]
  },
  {
   "cell_type": "code",
   "execution_count": 414,
   "metadata": {},
   "outputs": [
    {
     "name": "stdout",
     "output_type": "stream",
     "text": [
      "Rango de la variable: 0 - 999\n"
     ]
    },
    {
     "data": {
      "image/png": "[encoded data removed]",
      "text/plain": [
       "<Figure size 1080x360 with 1 Axes>"
      ]
     },
     "metadata": {
      "needs_background": "light"
     },
     "output_type": "display_data"
    }
   ],
   "source": [
    "fig = plt.figure(figsize=(15,5))\n",
    "\n",
    "\n",
    "data = df_usuarios\n",
    "data.cargas_totales = data.cargas_totales.astype(int)\n",
    "plt.title(\"Distribución del número de cargas de los usuarios\")\n",
    "print(\"Rango de la variable: {} - {}\".format(data.cargas_totales.min(), data.cargas_totales.max()))\n",
    "ax=sns.distplot(data.cargas_totales[data.cargas_totales>0],kde=False, norm_hist=False, color='blue')\n",
    "plt.ylabel('Cantidad de usuarios')\n",
    "plt.xlabel('Número de cargas por usuario')\n",
    "ax.set_yscale('log')\n"
   ]
  },
  {
   "cell_type": "markdown",
   "metadata": {},
   "source": [
    "Como vemos en el grafico, hay algunos usuarios con muchas cargas mientras otros con pocas, esto no es real, ya que como se muestra en el rango y luego se aprecia en el grafico, esta variable toma valores de hasta tres digitos. Podemos afirmar entonces que la variable es incierta ya que cuando el valor supera 999 vuelve a 000 (overflow), entonces no podemos conocer el valor real. Por otro lado podremos obtener el valor de esta variable en un periodo de tiempo a partir de las tablas de transacciones ya que cada transaccion esta asociada a un usuario. A continuacion se muestra lo mencionado para todo el año 2019"
   ]
  },
  {
   "cell_type": "code",
   "execution_count": 415,
   "metadata": {},
   "outputs": [],
   "source": [
    "# Cargo los datos de transaccion de 2019\n",
    "query = \" UNION \".join(\n",
    "    [\"SELECT id_transaccion, id_usuario, fecha FROM sis_transa_2019_{}\".format(mes) for mes in range(1,13)]\n",
    ")\n",
    "df_transa_2019 = pd.read_sql(sql=query, con=path_conexion)\n",
    "# elimiro registros espurios (con conocimiento de campo)\n",
    "df_transa_2019 = df_transa_2019[(df_transa_2019.id_usuario!=0) & (df_transa_2019.fecha!='0000-00-00')]\n",
    "df_transa_2019.fecha = pd.to_datetime(df_transa_2019.fecha)"
   ]
  },
  {
   "cell_type": "code",
   "execution_count": 416,
   "metadata": {},
   "outputs": [
    {
     "name": "stdout",
     "output_type": "stream",
     "text": [
      "Wall time: 150 ms\n"
     ]
    },
    {
     "data": {
      "text/html": [
       "<div>\n",
       "<style scoped>\n",
       "    .dataframe tbody tr th:only-of-type {\n",
       "        vertical-align: middle;\n",
       "    }\n",
       "\n",
       "    .dataframe tbody tr th {\n",
       "        vertical-align: top;\n",
       "    }\n",
       "\n",
       "    .dataframe thead th {\n",
       "        text-align: right;\n",
       "    }\n",
       "</style>\n",
       "<table border=\"1\" class=\"dataframe\">\n",
       "  <thead>\n",
       "    <tr style=\"text-align: right;\">\n",
       "      <th></th>\n",
       "      <th>cantidad</th>\n",
       "      <th>fecha_min</th>\n",
       "      <th>fecha_max</th>\n",
       "      <th>dias</th>\n",
       "      <th>cargas_por_dia</th>\n",
       "    </tr>\n",
       "    <tr>\n",
       "      <th>id_usuario</th>\n",
       "      <th></th>\n",
       "      <th></th>\n",
       "      <th></th>\n",
       "      <th></th>\n",
       "      <th></th>\n",
       "    </tr>\n",
       "  </thead>\n",
       "  <tbody>\n",
       "    <tr>\n",
       "      <th>380</th>\n",
       "      <td>1796</td>\n",
       "      <td>2019-01-03</td>\n",
       "      <td>2019-06-13</td>\n",
       "      <td>161</td>\n",
       "      <td>11.155280</td>\n",
       "    </tr>\n",
       "    <tr>\n",
       "      <th>381</th>\n",
       "      <td>4229</td>\n",
       "      <td>2019-01-02</td>\n",
       "      <td>2019-06-13</td>\n",
       "      <td>162</td>\n",
       "      <td>26.104938</td>\n",
       "    </tr>\n",
       "    <tr>\n",
       "      <th>432</th>\n",
       "      <td>504</td>\n",
       "      <td>2019-01-05</td>\n",
       "      <td>2019-12-22</td>\n",
       "      <td>351</td>\n",
       "      <td>1.435897</td>\n",
       "    </tr>\n",
       "    <tr>\n",
       "      <th>433</th>\n",
       "      <td>433</td>\n",
       "      <td>2019-01-03</td>\n",
       "      <td>2019-12-21</td>\n",
       "      <td>352</td>\n",
       "      <td>1.230114</td>\n",
       "    </tr>\n",
       "    <tr>\n",
       "      <th>441</th>\n",
       "      <td>581</td>\n",
       "      <td>2019-01-09</td>\n",
       "      <td>2019-12-28</td>\n",
       "      <td>353</td>\n",
       "      <td>1.645892</td>\n",
       "    </tr>\n",
       "    <tr>\n",
       "      <th>...</th>\n",
       "      <td>...</td>\n",
       "      <td>...</td>\n",
       "      <td>...</td>\n",
       "      <td>...</td>\n",
       "      <td>...</td>\n",
       "    </tr>\n",
       "    <tr>\n",
       "      <th>12699</th>\n",
       "      <td>100</td>\n",
       "      <td>2019-12-06</td>\n",
       "      <td>2019-12-31</td>\n",
       "      <td>25</td>\n",
       "      <td>4.000000</td>\n",
       "    </tr>\n",
       "    <tr>\n",
       "      <th>12707</th>\n",
       "      <td>1027</td>\n",
       "      <td>2019-12-01</td>\n",
       "      <td>2019-12-31</td>\n",
       "      <td>30</td>\n",
       "      <td>34.233333</td>\n",
       "    </tr>\n",
       "    <tr>\n",
       "      <th>12708</th>\n",
       "      <td>26</td>\n",
       "      <td>2019-12-01</td>\n",
       "      <td>2019-12-27</td>\n",
       "      <td>26</td>\n",
       "      <td>1.000000</td>\n",
       "    </tr>\n",
       "    <tr>\n",
       "      <th>12709</th>\n",
       "      <td>81</td>\n",
       "      <td>2019-12-22</td>\n",
       "      <td>2019-12-31</td>\n",
       "      <td>9</td>\n",
       "      <td>9.000000</td>\n",
       "    </tr>\n",
       "    <tr>\n",
       "      <th>12726</th>\n",
       "      <td>6</td>\n",
       "      <td>2019-12-30</td>\n",
       "      <td>2019-12-31</td>\n",
       "      <td>1</td>\n",
       "      <td>6.000000</td>\n",
       "    </tr>\n",
       "  </tbody>\n",
       "</table>\n",
       "<p>2754 rows × 5 columns</p>\n",
       "</div>"
      ],
      "text/plain": [
       "            cantidad  fecha_min  fecha_max  dias  cargas_por_dia\n",
       "id_usuario                                                      \n",
       "380             1796 2019-01-03 2019-06-13   161       11.155280\n",
       "381             4229 2019-01-02 2019-06-13   162       26.104938\n",
       "432              504 2019-01-05 2019-12-22   351        1.435897\n",
       "433              433 2019-01-03 2019-12-21   352        1.230114\n",
       "441              581 2019-01-09 2019-12-28   353        1.645892\n",
       "...              ...        ...        ...   ...             ...\n",
       "12699            100 2019-12-06 2019-12-31    25        4.000000\n",
       "12707           1027 2019-12-01 2019-12-31    30       34.233333\n",
       "12708             26 2019-12-01 2019-12-27    26        1.000000\n",
       "12709             81 2019-12-22 2019-12-31     9        9.000000\n",
       "12726              6 2019-12-30 2019-12-31     1        6.000000\n",
       "\n",
       "[2754 rows x 5 columns]"
      ]
     },
     "execution_count": 416,
     "metadata": {},
     "output_type": "execute_result"
    }
   ],
   "source": [
    "%%time\n",
    "# Obtengo la cantidad de cargas totales\n",
    "data = df_transa_2019.groupby(['id_usuario']).count().rename(columns={'fecha':'cantidad'}).sort_index()\n",
    "# obtengo el periodo activo del usuario\n",
    "data['fecha_min'] = df_transa_2019.groupby(['id_usuario']).min().sort_index().fecha\n",
    "data['fecha_max'] = df_transa_2019.groupby(['id_usuario']).max().sort_index().fecha\n",
    "data['dias'] = (data.fecha_max-data.fecha_min).apply(lambda p: pd.Timedelta(p).days)\n",
    "del data['id_transaccion']\n",
    "# elimino los que tuvieron una carga eventual \n",
    "data = data[data.dias > 0]\n",
    "data['cargas_por_dia'] = data.cantidad / data.dias\n",
    "data"
   ]
  },
  {
   "cell_type": "code",
   "execution_count": 417,
   "metadata": {},
   "outputs": [
    {
     "data": {
      "image/png": "[encoded data removed]",
      "text/plain": [
       "<Figure size 1080x360 with 1 Axes>"
      ]
     },
     "metadata": {
      "needs_background": "light"
     },
     "output_type": "display_data"
    },
    {
     "data": {
      "text/plain": [
       "count    2754.000000\n",
       "mean        2.468233\n",
       "std        21.182581\n",
       "min         0.007519\n",
       "25%         0.124282\n",
       "50%         0.241837\n",
       "75%         0.574840\n",
       "max       822.049451\n",
       "Name: cargas_por_dia, dtype: float64"
      ]
     },
     "execution_count": 417,
     "metadata": {},
     "output_type": "execute_result"
    }
   ],
   "source": [
    "fig = plt.figure(figsize=(15,5))\n",
    "# plt.title(\"Cantidad de cargas en promedio por dia por cada usuario\")\n",
    "plt.title(\"Distribución del número de cargas promedio por día de los usuarios\")\n",
    "ax=sns.distplot(data.cargas_por_dia, kde=False, color='blue')#, norm_hist=True)\n",
    "plt.ylabel('Cantidad de usuarios')\n",
    "plt.xlabel('Número de cargas por día')\n",
    "ax.set_yscale('log')\n",
    "\n",
    "plt.show()\n",
    "data.cargas_por_dia.describe()\n"
   ]
  },
  {
   "cell_type": "markdown",
   "metadata": {},
   "source": [
    "La hipotesis que podemos generar partiendo del grafico anterior es que hay dos grupos de usuarios (dos usos para la variable), quienes realizan muchas transacciones de combustible (ej. playeros de estaciones de servicio), es decir que el usuario es quien despacha el combustible y por otro lado tenemos a usuarios que realizan pocas transacciones (ej. choferes), es decir que la variable esta asociada con quien recibe el combustible. \n",
    "\n",
    "Apoyandonos en la hipotesis anterior diremos que hay mas usuarios quienes reciben combustible que quienes despachan, el 75 porciento de los usuarios realizan menos de 18 cargas por mes, si descontamos los fines de semana y los feriados esto nos da aproximadamente 1 carga al dia. Intuitivamente podriamos afirmar que un chofer carga combustible dos veces al dia como maximo lo que puede servir como umbral para la diferenciacion de usuarios."
   ]
  },
  {
   "cell_type": "markdown",
   "metadata": {},
   "source": [
    "#### 2.5.-Capacidad de los tanques"
   ]
  },
  {
   "cell_type": "code",
   "execution_count": 418,
   "metadata": {},
   "outputs": [
    {
     "name": "stdout",
     "output_type": "stream",
     "text": [
      "Descripción de las capacidades\n",
      "count      1560.000000\n",
      "mean      28536.558974\n",
      "std       21910.609302\n",
      "min           0.000000\n",
      "25%       10000.000000\n",
      "50%       21327.000000\n",
      "75%       50000.000000\n",
      "max      104000.000000\n",
      "Name: capacidad_int64, dtype: float64 \n",
      "\n"
     ]
    }
   ],
   "source": [
    "#filtro tanques borrados en consola, contiene 'X'\n",
    "df_tanques = df_tanques[df_tanques['capacidad'].str.contains('x',case=False)==False]\n",
    "\n",
    "# Capacidad del tanques, variable numerica discreta\n",
    "df_tanques['capacidad_int64'] = df_tanques['capacidad'].astype('float').round(0).astype('int64')\n",
    "print(f'Descripción de las capacidades')\n",
    "print(df_tanques['capacidad_int64'].describe(),'\\n')\n"
   ]
  },
  {
   "cell_type": "markdown",
   "metadata": {},
   "source": [
    "- La capacidad de los tanques están en litros\n",
    "- Existen errores en la capacidad asignada, un tanque de almacenamiento de combustible no debería tener menos de 40 litros, si lo comparamos con la capacidad de un automóvil cualquiera estamos en 40 litros, es lógico pensar que almacenar el mismo combustible para distribución los tanques están por encima de estás capacidades\n"
   ]
  },
  {
   "cell_type": "markdown",
   "metadata": {},
   "source": [
    "#### 2.6.-Producción de Biodiesel"
   ]
  },
  {
   "cell_type": "code",
   "execution_count": 419,
   "metadata": {},
   "outputs": [
    {
     "data": {
      "image/png": "[encoded data removed]",
      "text/plain": [
       "<Figure size 1080x360 with 1 Axes>"
      ]
     },
     "metadata": {
      "needs_background": "light"
     },
     "output_type": "display_data"
    },
    {
     "data": {
      "text/plain": [
       "count       123.000000\n",
       "mean     171548.249675\n",
       "std       70834.659985\n",
       "min       13119.000000\n",
       "25%      124900.000000\n",
       "50%      164382.000000\n",
       "75%      226936.000000\n",
       "max      308897.000000\n",
       "Name: produccion_total, dtype: float64"
      ]
     },
     "execution_count": 419,
     "metadata": {},
     "output_type": "execute_result"
    }
   ],
   "source": [
    "fig = plt.figure(figsize=(15,5))\n",
    "\n",
    "data = biodiesel_nacional\n",
    "\n",
    "plt.title(\"Distribucion de la produccion mensual de Biodiesel\")\n",
    "sns.distplot(data.produccion_total, kde=False, color='green')\n",
    "plt.xlabel('Masa Promedio Mensual [Toneladas]')\n",
    "plt.show()\n",
    "\n",
    "data.produccion_total.describe()"
   ]
  },
  {
   "cell_type": "markdown",
   "metadata": {},
   "source": [
    "La produccion media mensual de biodiesel es de 171.5 KTon con desviacion estandar 70.8KTon , vemos que es asimetrica hacia la derecha, esto se debe a que la produccion ha aumentado a travez de los años y se muestra a continuacion"
   ]
  },
  {
   "cell_type": "markdown",
   "metadata": {},
   "source": [
    "### 3- Obtenga el número registros en el dataset para cada producto ('producto' de df_bombas). Comente sobre los valores obtenidos."
   ]
  },
  {
   "cell_type": "code",
   "execution_count": 420,
   "metadata": {},
   "outputs": [
    {
     "name": "stdout",
     "output_type": "stream",
     "text": [
      "cantidad de bombas: 1438\n",
      "cantidad de productos: 891\n"
     ]
    }
   ],
   "source": [
    "print(\"cantidad de bombas: {}\".format(\n",
    "        len(df_bombas)\n",
    "    )\n",
    ")\n",
    "print(\"cantidad de productos: {}\".format(\n",
    "        len(df_bombas[['id_equipo','producto']].drop_duplicates())\n",
    "    )\n",
    ")"
   ]
  },
  {
   "cell_type": "markdown",
   "metadata": {},
   "source": [
    "Existen menos productos que bombas, esto nos indica que hay varias bombas que despachan un mismo producto"
   ]
  },
  {
   "cell_type": "markdown",
   "metadata": {},
   "source": [
    "### 4- Obtener un gráfico para visualizar el comportamiento de los valores de capacidad de los tanques de combustibles. (df_tanques)"
   ]
  },
  {
   "cell_type": "code",
   "execution_count": 421,
   "metadata": {},
   "outputs": [
    {
     "data": {
      "application/vnd.plotly.v1+json": {
       "config": {
        "plotlyServerURL": "https://plot.ly"
       },
       "data": [
        {
         "line": {
          "color": "royalblue",
          "width": 4
         },
         "mode": "markers",
         "name": "Cantidad de tanques",
         "type": "scatter",
         "x": [
          150,
          160,
          200,
          210,
          250,
          270,
          300,
          345,
          350,
          400,
          450,
          500,
          530,
          550,
          600,
          650,
          662,
          717,
          750,
          800,
          850,
          870,
          900,
          950,
          1000,
          1033,
          1100,
          1125,
          1258,
          1297,
          1386,
          1500,
          1601,
          2000,
          2210,
          2250,
          2500,
          2750,
          2773,
          2800,
          3699,
          4000,
          4096,
          4300,
          5000,
          5166,
          5246,
          5700,
          6150,
          7000,
          7347,
          7800,
          8000,
          8100,
          10000,
          10330,
          10390,
          10500,
          10600,
          10671,
          11000,
          12549,
          14000,
          15000,
          15032,
          18000,
          18170,
          20000,
          20593,
          20834,
          21000,
          21110,
          21114,
          21251,
          21259,
          21294,
          21316,
          21318,
          21327,
          21547,
          21998,
          23301,
          25000,
          26600,
          30000,
          30956,
          31404,
          31746,
          31765,
          31777,
          32000,
          33000,
          33404,
          35000,
          36000,
          37000,
          39000,
          40000,
          40024,
          40165,
          40481,
          41000,
          41384,
          41400,
          41423,
          41424,
          41434,
          41562,
          41569,
          41600,
          42000,
          42424,
          42434,
          43000,
          44000,
          45000,
          48000,
          49000,
          50000,
          50033,
          50191,
          51000,
          51086,
          51113,
          52000,
          52180,
          56400,
          60000,
          60323,
          61481,
          62000,
          63100,
          63398,
          70000,
          70600,
          80000,
          81144,
          90119,
          97000,
          100000,
          102070,
          104000
         ],
         "y": [
          1,
          1,
          1,
          14,
          15,
          1,
          6,
          5,
          4,
          5,
          2,
          3,
          4,
          5,
          2,
          1,
          3,
          2,
          1,
          2,
          2,
          1,
          2,
          3,
          35,
          3,
          5,
          1,
          5,
          1,
          1,
          1,
          1,
          5,
          2,
          3,
          2,
          1,
          1,
          1,
          1,
          2,
          19,
          2,
          12,
          1,
          1,
          1,
          1,
          4,
          1,
          1,
          43,
          1,
          193,
          1,
          1,
          1,
          1,
          1,
          1,
          1,
          4,
          26,
          21,
          3,
          1,
          55,
          74,
          1,
          15,
          1,
          1,
          1,
          4,
          6,
          1,
          1,
          69,
          2,
          1,
          5,
          8,
          1,
          35,
          1,
          33,
          1,
          80,
          1,
          1,
          2,
          1,
          1,
          5,
          1,
          1,
          141,
          1,
          1,
          1,
          5,
          1,
          1,
          1,
          3,
          6,
          4,
          1,
          1,
          7,
          1,
          1,
          2,
          2,
          3,
          1,
          1,
          223,
          4,
          3,
          1,
          3,
          1,
          3,
          1,
          1,
          1,
          1,
          100,
          3,
          1,
          1,
          2,
          2,
          6,
          26,
          1,
          1,
          10,
          3,
          2
         ]
        },
        {
         "name": "Distribución de capacidades",
         "nbinsx": 15,
         "opacity": 0.4,
         "type": "histogram",
         "x": [
          10000,
          8000,
          50000,
          25000,
          10000,
          10000,
          50000,
          10000,
          31765,
          31765,
          10000,
          10000,
          30000,
          50000,
          550,
          50000,
          1000,
          1000,
          50000,
          40000,
          10000,
          50000,
          10000,
          31765,
          50000,
          4096,
          15032,
          20000,
          40000,
          25000,
          20593,
          30000,
          33000,
          43000,
          4096,
          4096,
          40000,
          4096,
          4096,
          4096,
          4096,
          4096,
          4096,
          40000,
          4096,
          41000,
          40000,
          40000,
          45000,
          50000,
          40000,
          20000,
          40000,
          70000,
          10000,
          8000,
          8000,
          41562,
          250,
          50000,
          50000,
          4096,
          50000,
          35000,
          10000,
          61481,
          48000,
          41600,
          21000,
          21000,
          50000,
          26600,
          4096,
          50000,
          4096,
          4096,
          4096,
          4096,
          4096,
          1000,
          40000,
          40000,
          40000,
          40000,
          40000,
          30000,
          40000,
          50000,
          1033,
          40000,
          42000,
          15000,
          662,
          41562,
          40000,
          40000,
          40000,
          40000,
          40000,
          20000,
          20000,
          61481,
          20593,
          20000,
          20000,
          20000,
          20000,
          20000,
          40000,
          40000,
          40000,
          2500,
          50000,
          40000,
          50000,
          40000,
          50000,
          30000,
          40000,
          40000,
          40000,
          40000,
          4096,
          4096,
          21327,
          15000,
          40000,
          31404,
          15000,
          15000,
          15000,
          15000,
          15000,
          21327,
          21327,
          20000,
          42000,
          870,
          1297,
          50000,
          21000,
          44000,
          10000,
          50000,
          20000,
          8000,
          8000,
          530,
          40000,
          50000,
          40000,
          10000,
          345,
          10000,
          10000,
          10000,
          10000,
          42000,
          41000,
          40000,
          40000,
          40000,
          40000,
          40000,
          40000,
          40000,
          10000,
          10000,
          1125,
          30000,
          25000,
          40000,
          20000,
          40000,
          40000,
          40000,
          40000,
          40000,
          40000,
          40000,
          40000,
          5000,
          20000,
          20000,
          61481,
          61481,
          32000,
          40000,
          40000,
          50000,
          15000,
          15000,
          50000,
          50000,
          40000,
          10000,
          10000,
          20000,
          20000,
          40000,
          40000,
          40000,
          44000,
          41000,
          50000,
          41000,
          10000,
          10000,
          81144,
          61481,
          20593,
          20593,
          40000,
          81144,
          61481,
          20593,
          20593,
          50000,
          41000,
          42000,
          20593,
          81144,
          61481,
          20593,
          20593,
          81144,
          61481,
          81144,
          61481,
          20593,
          81144,
          61481,
          20593,
          20593,
          81144,
          61481,
          20593,
          20593,
          40000,
          61481,
          20593,
          20593,
          81144,
          61481,
          20593,
          20593,
          81144,
          61481,
          20593,
          20593,
          31765,
          31765,
          20593,
          20593,
          81144,
          61481,
          20593,
          20593,
          81144,
          61481,
          20593,
          20593,
          81144,
          61481,
          20593,
          20593,
          81144,
          61481,
          20593,
          20593,
          40000,
          61481,
          20593,
          20593,
          40000,
          10000,
          50000,
          50000,
          81144,
          61481,
          20593,
          20593,
          81144,
          61481,
          50000,
          50000,
          61481,
          10000,
          81144,
          61481,
          20593,
          20593,
          50000,
          61481,
          20593,
          20593,
          81144,
          61481,
          20593,
          20593,
          81144,
          61481,
          20593,
          20593,
          61481,
          2500,
          40000,
          81144,
          61481,
          20593,
          20593,
          81144,
          40000,
          21327,
          31404,
          50000,
          10000,
          20000,
          21327,
          21327,
          31404,
          61481,
          51086,
          50000,
          30000,
          31404,
          61481,
          21327,
          31404,
          52000,
          21327,
          40000,
          40000,
          50000,
          40000,
          10671,
          81144,
          81144,
          61481,
          61481,
          20000,
          10600,
          21316,
          21318,
          21114,
          21110,
          10330,
          10390,
          10000,
          40000,
          41424,
          15000,
          61481,
          30000,
          61481,
          81144,
          61481,
          21259,
          21327,
          21327,
          81144,
          61481,
          15032,
          51000,
          40000,
          21327,
          40000,
          61481,
          61481,
          100000,
          15032,
          40000,
          21327,
          21327,
          21327,
          10000,
          21327,
          21327,
          21327,
          10000,
          40000,
          21327,
          21327,
          21327,
          21327,
          40000,
          21327,
          40000,
          40000,
          49000,
          21327,
          21327,
          21327,
          30000,
          21327,
          21327,
          40000,
          15032,
          15032,
          15032,
          21259,
          50000,
          40000,
          50000,
          52000,
          21327,
          40000,
          40000,
          61481,
          21327,
          40000,
          21327,
          41434,
          6150,
          41434,
          20000,
          21327,
          61481,
          50000,
          1258,
          5000,
          21327,
          21327,
          21327,
          21327,
          21327,
          40000,
          61481,
          50000,
          40000,
          21327,
          50000,
          21327,
          50000,
          50000,
          50000,
          40000,
          5000,
          25000,
          61481,
          50033,
          50033,
          50033,
          50033,
          21327,
          21327,
          31404,
          21327,
          31404,
          81144,
          61481,
          30000,
          30000,
          31404,
          25000,
          31404,
          21327,
          31404,
          30956,
          33404,
          21327,
          31404,
          41423,
          31404,
          21327,
          31404,
          21327,
          31404,
          21327,
          31404,
          25000,
          31404,
          40000,
          15032,
          600,
          41562,
          41562,
          10000,
          21327,
          31404,
          21327,
          31404,
          40000,
          31404,
          42424,
          31404,
          41569,
          63100,
          40165,
          31404,
          40000,
          40000,
          21000,
          21327,
          21327,
          10000,
          21327,
          50000,
          40000,
          81144,
          61481,
          15032,
          21327,
          31777,
          45000,
          21327,
          31404,
          61481,
          15000,
          8000,
          20000,
          21327,
          39000,
          31765,
          31765,
          31765,
          15000,
          31765,
          31765,
          10000,
          31765,
          31765,
          31765,
          42000,
          50000,
          20000,
          36000,
          36000,
          36000,
          36000,
          36000,
          41424,
          31765,
          21327,
          21327,
          20000,
          31765,
          31765,
          31765,
          31404,
          21327,
          10000,
          61481,
          20593,
          10000,
          10000,
          2250,
          30000,
          61481,
          20593,
          10000,
          100000,
          10000,
          10000,
          10000,
          40000,
          50000,
          20593,
          10000,
          10000,
          61481,
          20593,
          10000,
          345,
          40000,
          61481,
          20593,
          50000,
          10000,
          61481,
          20593,
          30000,
          50000,
          80000,
          31765,
          10000,
          61481,
          20593,
          20593,
          61481,
          51113,
          31765,
          31765,
          31765,
          31765,
          31404,
          21327,
          80000,
          80000,
          60000,
          20000,
          20000,
          31765,
          31765,
          31765,
          31765,
          31404,
          21327,
          50000,
          31765,
          31765,
          31765,
          31765,
          31765,
          31765,
          31765,
          31765,
          31765,
          31404,
          21327,
          31765,
          20000,
          31765,
          31765,
          31765,
          31404,
          21327,
          80000,
          10000,
          61481,
          20593,
          10000,
          10000,
          20000,
          20000,
          20000,
          20000,
          20000,
          20000,
          70600,
          70600,
          104000,
          104000,
          5000,
          30000,
          31765,
          31765,
          18170,
          15000,
          15032,
          15032,
          15000,
          31765,
          10500,
          15000,
          31765,
          20000,
          50000,
          1258,
          40000,
          51086,
          4000,
          61481,
          40000,
          15032,
          50000,
          30000,
          30000,
          15032,
          15032,
          20593,
          21327,
          42434,
          15032,
          20593,
          15032,
          15032,
          21327,
          40000,
          50000,
          40000,
          15000,
          31765,
          31765,
          31765,
          31765,
          31765,
          31765,
          31404,
          21327,
          20000,
          61481,
          40000,
          62000,
          30000,
          31765,
          31765,
          31765,
          31765,
          31765,
          31404,
          21327,
          31765,
          20593,
          31765,
          31765,
          31765,
          31765,
          31765,
          31765,
          31765,
          31765,
          31404,
          21327,
          30000,
          10000,
          61481,
          10000,
          61481,
          10000,
          61481,
          7347,
          50000,
          40000,
          5700,
          61481,
          10000,
          61481,
          10000,
          61481,
          40000,
          21000,
          37000,
          7000,
          50000,
          31765,
          40000,
          80000,
          31765,
          31765,
          31765,
          31765,
          31404,
          21327,
          50000,
          10000,
          10000,
          31765,
          31765,
          31765,
          31765,
          31404,
          21327,
          40000,
          8000,
          61481,
          50000,
          80000,
          20593,
          61481,
          102070,
          102070,
          10000,
          102070,
          14000,
          14000,
          14000,
          14000,
          50000,
          10000,
          50000,
          662,
          50000,
          20593,
          40000,
          1601,
          1000,
          8000,
          50000,
          40000,
          61481,
          20593,
          20593,
          20593,
          20593,
          61481,
          40000,
          20000,
          40000,
          40000,
          10000,
          61481,
          40000,
          20000,
          20000,
          61481,
          10000,
          61481,
          40000,
          50191,
          61481,
          20593,
          10000,
          50000,
          40000,
          25000,
          20593,
          50000,
          30000,
          10000,
          30000,
          50191,
          40000,
          1000,
          20000,
          40000,
          31765,
          15000,
          15000,
          20000,
          20000,
          20000,
          20000,
          50000,
          50191,
          50000,
          61481,
          10000,
          61481,
          10000,
          61481,
          30000,
          20000,
          10000,
          10000,
          10000,
          41400,
          10000,
          40000,
          15032,
          15032,
          61481,
          15032,
          21259,
          2000,
          662,
          50000,
          50000,
          50000,
          50000,
          40000,
          40000,
          5000,
          10000,
          40000,
          10000,
          20593,
          20000,
          10000,
          30000,
          61481,
          10000,
          10000,
          50000,
          61481,
          61481,
          40000,
          10000,
          1258,
          10000,
          10000,
          10000,
          40000,
          61481,
          70000,
          10000,
          100000,
          50000,
          40000,
          61481,
          50000,
          20000,
          20593,
          61481,
          20593,
          10000,
          10000,
          10000,
          10000,
          40000,
          61481,
          10000,
          61481,
          10000,
          61481,
          50000,
          50000,
          10000,
          10000,
          10000,
          10000,
          10000,
          40000,
          30000,
          61481,
          15000,
          15000,
          50000,
          50000,
          40000,
          10000,
          30000,
          50000,
          30000,
          15000,
          10000,
          50000,
          40000,
          61481,
          10000,
          61481,
          10000,
          61481,
          50000,
          21000,
          21000,
          21000,
          21000,
          21000,
          21000,
          21000,
          21000,
          21000,
          21000,
          10000,
          10000,
          50000,
          30000,
          40000,
          40000,
          30000,
          40000,
          40000,
          10000,
          61481,
          40000,
          10000,
          61481,
          10000,
          61481,
          30000,
          50000,
          50000,
          50000,
          30000,
          50000,
          50000,
          50000,
          10000,
          10000,
          10000,
          10000,
          10000,
          10000,
          50000,
          50000,
          50000,
          50000,
          20000,
          50000,
          10000,
          40000,
          40000,
          63398,
          51086,
          10000,
          41384,
          50000,
          50000,
          50000,
          20000,
          10000,
          41434,
          61481,
          8000,
          50000,
          50000,
          50000,
          50000,
          30000,
          23301,
          21294,
          20593,
          20593,
          20000,
          61481,
          20593,
          30000,
          50000,
          31765,
          50000,
          40000,
          23301,
          52000,
          23301,
          23301,
          21294,
          21294,
          50000,
          50000,
          21294,
          50000,
          50000,
          21294,
          40000,
          20000,
          31765,
          23301,
          40000,
          20000,
          20000,
          40000,
          50000,
          40024,
          50000,
          90119,
          10000,
          21294,
          50000,
          50000,
          100000,
          62000,
          8000,
          50000,
          40000,
          30000,
          160,
          62000,
          50000,
          50000,
          10000,
          50000,
          50000,
          61481,
          10000,
          40000,
          50000,
          50000,
          40000,
          50000,
          50000,
          10000,
          50000,
          50000,
          50000,
          10000,
          50000,
          50000,
          18000,
          30000,
          1000,
          10000,
          50000,
          33000,
          50000,
          20000,
          40000,
          50000,
          20000,
          50000,
          42000,
          2000,
          21547,
          41424,
          10000,
          10000,
          52180,
          21998,
          50000,
          50000,
          50000,
          50000,
          30000,
          40481,
          50000,
          50000,
          10000,
          10000,
          10000,
          50000,
          50000,
          40000,
          10000,
          50000,
          50000,
          15000,
          10000,
          50000,
          10000,
          50000,
          250,
          20000,
          10000,
          10000,
          10000,
          10000,
          10000,
          50000,
          2000,
          50000,
          50000,
          21327,
          1033,
          50000,
          18000,
          50000,
          20593,
          40000,
          50000,
          50000,
          45000,
          31765,
          31765,
          20000,
          50000,
          50000,
          345,
          10000,
          50000,
          31765,
          31404,
          40000,
          1258,
          50000,
          31765,
          40000,
          50000,
          50000,
          250,
          50000,
          5000,
          5000,
          40000,
          8000,
          717,
          50000,
          20593,
          40000,
          5000,
          5000,
          5000,
          5000,
          50000,
          50000,
          50000,
          50000,
          100000,
          10000,
          850,
          50000,
          550,
          40000,
          100000,
          10000,
          61481,
          31765,
          15000,
          15000,
          15000,
          30000,
          20000,
          250,
          100000,
          8000,
          10000,
          10000,
          50000,
          10000,
          42000,
          8000,
          50000,
          50000,
          10000,
          50000,
          50000,
          10000,
          10000,
          10000,
          10000,
          10000,
          10000,
          10000,
          10000,
          10000,
          10000,
          10000,
          10000,
          10000,
          10000,
          10000,
          10000,
          10000,
          10000,
          10000,
          10000,
          10000,
          10000,
          10000,
          10000,
          10000,
          10000,
          10000,
          10000,
          10000,
          10000,
          10000,
          10000,
          10000,
          10000,
          10000,
          10000,
          10000,
          10000,
          10000,
          50000,
          50000,
          10000,
          10000,
          8000,
          50000,
          10000,
          10000,
          10000,
          10000,
          10000,
          10000,
          10000,
          10000,
          21259,
          50000,
          1000,
          8000,
          50000,
          900,
          950,
          50000,
          1000,
          50000,
          850,
          1100,
          10000,
          61481,
          250,
          400,
          10000,
          1500,
          8000,
          650,
          1000,
          1100,
          400,
          61481,
          1000,
          900,
          1000,
          61481,
          50000,
          8000,
          550,
          1000,
          8000,
          7000,
          50000,
          50000,
          1000,
          250,
          8000,
          50000,
          7000,
          50000,
          50000,
          50000,
          50000,
          8000,
          1000,
          1000,
          400,
          250,
          15032,
          8000,
          600,
          1000,
          2773,
          1000,
          1000,
          50000,
          30000,
          1100,
          8000,
          50000,
          50000,
          7000,
          50000,
          50000,
          1000,
          950,
          50000,
          50000,
          50000,
          300,
          2000,
          2000,
          2250,
          450,
          50000,
          50000,
          250,
          800,
          8000,
          8000,
          8000,
          210,
          350,
          1000,
          300,
          300,
          250,
          250,
          250,
          950,
          500,
          750,
          450,
          210,
          300,
          1000,
          250,
          250,
          8000,
          1000,
          4300,
          210,
          210,
          210,
          210,
          210,
          20593,
          20593,
          8000,
          50000,
          270,
          5000,
          4000,
          400,
          300,
          1000,
          250,
          350,
          350,
          10000,
          10000,
          150,
          1000,
          1000,
          10000,
          10000,
          10000,
          250,
          800,
          50000,
          50000,
          8000,
          50000,
          50000,
          1000,
          50000,
          350,
          300,
          500,
          1100,
          500,
          1000,
          1000,
          20834,
          50000,
          550,
          8000,
          1000,
          50000,
          8000,
          1000,
          200,
          8000,
          1000,
          50000,
          50000,
          8000,
          1000,
          550,
          50000,
          50000,
          41434,
          50000,
          50000,
          210,
          50000,
          8100,
          100000,
          50000,
          100000,
          40000,
          40000,
          12549,
          50000,
          8000,
          50000,
          50000,
          7800,
          8000,
          8000,
          8000,
          210,
          8000,
          400,
          3699,
          10000,
          1386,
          10000,
          61481,
          1258,
          18000,
          1000,
          8000,
          97000,
          8000,
          8000,
          8000,
          11000,
          15032,
          1100,
          1000,
          8000,
          8000,
          1000,
          60323,
          50000,
          50000,
          530,
          25000,
          345,
          21251,
          50000,
          2210,
          4300,
          2800,
          2750,
          345,
          2210,
          43000,
          50000,
          50000,
          717,
          56400,
          15000,
          40000,
          50000,
          50000,
          210,
          210,
          210,
          50000,
          530,
          1033,
          210,
          210,
          41434,
          10000,
          530,
          2250,
          100000,
          50000,
          50000,
          41434,
          50000,
          50000,
          50000,
          50000,
          50000,
          5246,
          50000,
          50000,
          31746,
          21547,
          50000,
          50000,
          61481,
          61481,
          10000,
          10000,
          61481,
          10000,
          10000,
          5166
         ],
         "y": [
          101525,
          101833,
          101496,
          101495,
          101522,
          101521,
          101494,
          101491,
          101493,
          101492,
          101487,
          101483,
          101481,
          101475,
          101509,
          101477,
          101825,
          101823,
          101501,
          101470,
          101466,
          101479,
          101464,
          101480,
          101471,
          63,
          101882,
          101490,
          101503,
          101459,
          101373,
          101375,
          71,
          72,
          73,
          74,
          123,
          75,
          76,
          77,
          78,
          79,
          80,
          81,
          82,
          83,
          84,
          85,
          86,
          112,
          88,
          89,
          90,
          97,
          91,
          92,
          93,
          94,
          101597,
          96,
          99,
          100,
          101,
          102,
          104,
          101449,
          107,
          108,
          109,
          110,
          113,
          114,
          115,
          116,
          117,
          118,
          119,
          120,
          121,
          101828,
          124,
          125,
          126,
          127,
          128,
          129,
          130,
          131,
          132,
          133,
          134,
          135,
          1043,
          138,
          141,
          142,
          143,
          144,
          145,
          146,
          147,
          148,
          150,
          151,
          152,
          153,
          154,
          155,
          156,
          157,
          158,
          101440,
          162,
          163,
          164,
          165,
          166,
          167,
          168,
          169,
          170,
          171,
          172,
          173,
          179,
          180,
          181,
          187,
          182,
          183,
          184,
          185,
          186,
          188,
          189,
          190,
          191,
          1042,
          1041,
          194,
          195,
          196,
          101448,
          101260,
          198,
          199,
          200,
          201,
          202,
          203,
          415,
          101450,
          207,
          208,
          225,
          226,
          227,
          215,
          214,
          217,
          218,
          219,
          220,
          221,
          222,
          223,
          228,
          229,
          1040,
          1037,
          101499,
          1047,
          101074,
          238,
          239,
          240,
          241,
          242,
          243,
          244,
          245,
          101285,
          247,
          248,
          101463,
          101445,
          101417,
          255,
          256,
          257,
          258,
          259,
          260,
          261,
          262,
          263,
          264,
          265,
          266,
          268,
          269,
          270,
          271,
          272,
          101416,
          275,
          101462,
          101446,
          278,
          279,
          280,
          281,
          282,
          283,
          284,
          285,
          286,
          287,
          288,
          289,
          290,
          291,
          292,
          293,
          294,
          295,
          296,
          299,
          300,
          301,
          303,
          304,
          305,
          306,
          307,
          308,
          309,
          310,
          311,
          312,
          313,
          314,
          315,
          316,
          317,
          318,
          319,
          320,
          321,
          322,
          323,
          324,
          325,
          326,
          327,
          328,
          329,
          330,
          331,
          332,
          333,
          334,
          335,
          336,
          337,
          338,
          339,
          340,
          341,
          342,
          343,
          344,
          345,
          346,
          347,
          101220,
          101211,
          101204,
          351,
          352,
          353,
          354,
          355,
          356,
          101456,
          359,
          360,
          101411,
          363,
          364,
          365,
          366,
          367,
          368,
          369,
          370,
          371,
          372,
          373,
          374,
          375,
          376,
          377,
          378,
          101447,
          101425,
          381,
          382,
          383,
          384,
          385,
          386,
          387,
          388,
          389,
          101406,
          101408,
          392,
          393,
          396,
          397,
          101395,
          400,
          101165,
          404,
          405,
          101407,
          408,
          409,
          101415,
          412,
          413,
          414,
          416,
          417,
          422,
          418,
          419,
          101412,
          101403,
          421,
          423,
          424,
          425,
          426,
          427,
          428,
          429,
          430,
          431,
          432,
          433,
          101405,
          101936,
          101410,
          438,
          439,
          101398,
          442,
          443,
          444,
          445,
          101397,
          493,
          448,
          449,
          450,
          451,
          101393,
          101621,
          101399,
          454,
          455,
          456,
          457,
          458,
          459,
          460,
          461,
          462,
          463,
          464,
          465,
          466,
          467,
          468,
          469,
          470,
          471,
          472,
          473,
          474,
          475,
          476,
          477,
          478,
          479,
          480,
          481,
          483,
          484,
          486,
          487,
          488,
          489,
          490,
          492,
          494,
          495,
          534,
          498,
          499,
          500,
          605,
          501,
          502,
          503,
          505,
          504,
          101277,
          508,
          509,
          510,
          511,
          512,
          513,
          514,
          515,
          101390,
          518,
          519,
          520,
          521,
          522,
          523,
          524,
          526,
          527,
          101460,
          101391,
          530,
          531,
          532,
          533,
          535,
          536,
          537,
          538,
          539,
          540,
          541,
          101380,
          544,
          545,
          546,
          547,
          548,
          549,
          550,
          551,
          552,
          553,
          554,
          555,
          556,
          557,
          558,
          559,
          560,
          561,
          562,
          563,
          566,
          567,
          101863,
          570,
          571,
          572,
          574,
          575,
          576,
          577,
          578,
          579,
          580,
          581,
          582,
          583,
          584,
          585,
          586,
          587,
          588,
          590,
          591,
          592,
          593,
          101452,
          595,
          601,
          602,
          101396,
          606,
          612,
          607,
          608,
          609,
          101401,
          613,
          101778,
          619,
          620,
          622,
          623,
          652,
          624,
          625,
          626,
          631,
          632,
          633,
          634,
          635,
          636,
          638,
          639,
          642,
          643,
          644,
          645,
          646,
          647,
          648,
          649,
          650,
          651,
          653,
          654,
          655,
          656,
          657,
          658,
          659,
          660,
          101409,
          101379,
          102002,
          665,
          666,
          667,
          101392,
          101381,
          101404,
          672,
          101977,
          101424,
          101376,
          101374,
          101394,
          679,
          680,
          681,
          101400,
          101378,
          686,
          687,
          688,
          101388,
          693,
          694,
          695,
          101366,
          101367,
          700,
          886,
          707,
          708,
          709,
          710,
          711,
          714,
          715,
          716,
          717,
          718,
          719,
          720,
          721,
          722,
          723,
          724,
          728,
          729,
          730,
          731,
          732,
          733,
          734,
          735,
          736,
          737,
          738,
          739,
          740,
          741,
          742,
          743,
          744,
          745,
          746,
          747,
          748,
          749,
          750,
          751,
          752,
          753,
          754,
          756,
          757,
          758,
          101524,
          101402,
          763,
          764,
          765,
          766,
          767,
          768,
          769,
          770,
          771,
          772,
          102046,
          1022,
          776,
          777,
          101442,
          778,
          797,
          796,
          795,
          793,
          794,
          785,
          792,
          101369,
          101370,
          101278,
          802,
          101420,
          101368,
          101465,
          808,
          809,
          101377,
          101364,
          101365,
          814,
          815,
          101360,
          101358,
          820,
          821,
          101356,
          826,
          827,
          101357,
          101482,
          101472,
          873,
          1114,
          853,
          834,
          835,
          836,
          837,
          838,
          839,
          840,
          841,
          842,
          843,
          844,
          916,
          846,
          847,
          848,
          849,
          850,
          851,
          852,
          854,
          101351,
          856,
          857,
          887,
          858,
          859,
          860,
          861,
          862,
          863,
          864,
          865,
          867,
          868,
          869,
          870,
          871,
          872,
          101944,
          1149,
          874,
          875,
          876,
          877,
          878,
          879,
          880,
          904,
          897,
          881,
          882,
          927,
          888,
          885,
          884,
          889,
          890,
          891,
          892,
          893,
          894,
          101161,
          895,
          101444,
          898,
          899,
          900,
          901,
          902,
          903,
          905,
          101810,
          101341,
          909,
          908,
          101339,
          101344,
          941,
          940,
          101484,
          939,
          923,
          924,
          925,
          926,
          101248,
          101224,
          101255,
          1038,
          101252,
          101354,
          949,
          933,
          101589,
          101874,
          101645,
          942,
          943,
          944,
          101359,
          101343,
          101336,
          950,
          951,
          952,
          953,
          954,
          955,
          956,
          957,
          958,
          959,
          960,
          961,
          962,
          963,
          964,
          101467,
          101332,
          969,
          101259,
          1121,
          971,
          101342,
          1002,
          973,
          974,
          982,
          975,
          976,
          101890,
          983,
          984,
          985,
          999,
          986,
          987,
          988,
          989,
          990,
          101775,
          991,
          993,
          994,
          995,
          996,
          997,
          998,
          1000,
          1001,
          1092,
          1091,
          1090,
          1089,
          1008,
          1009,
          1010,
          1011,
          101330,
          1013,
          1014,
          101214,
          1039,
          1023,
          1024,
          1025,
          1026,
          1027,
          1028,
          1029,
          1044,
          1087,
          1045,
          101329,
          1046,
          1075,
          101175,
          1078,
          1077,
          101488,
          1125,
          101077,
          1076,
          1072,
          1058,
          101279,
          1059,
          1060,
          1061,
          1062,
          1063,
          1064,
          1065,
          1079,
          1071,
          1073,
          1074,
          1119,
          1081,
          101350,
          101334,
          101333,
          1085,
          1086,
          1093,
          1094,
          1095,
          1096,
          1097,
          1098,
          1099,
          1100,
          1101,
          1102,
          1103,
          1104,
          1105,
          1106,
          1107,
          1108,
          101455,
          101451,
          1115,
          1116,
          1117,
          1118,
          1151,
          1120,
          1124,
          1122,
          101307,
          1123,
          101076,
          1126,
          1127,
          1128,
          1129,
          1130,
          1131,
          1132,
          1133,
          1134,
          1135,
          1136,
          1137,
          1138,
          1139,
          1140,
          1141,
          1142,
          1143,
          1145,
          1146,
          101101,
          101093,
          1150,
          101317,
          101323,
          1153,
          1154,
          1157,
          1156,
          1166,
          1155,
          1158,
          1159,
          1160,
          1164,
          1161,
          1162,
          1163,
          1165,
          1167,
          1168,
          1169,
          1170,
          1171,
          1172,
          1173,
          1174,
          1175,
          1176,
          1177,
          1178,
          1179,
          1180,
          1181,
          101078,
          101315,
          101316,
          101318,
          101321,
          101454,
          101322,
          101607,
          101081,
          101497,
          101082,
          101075,
          101104,
          101079,
          101659,
          101080,
          101478,
          101473,
          101382,
          101500,
          101115,
          101100,
          101335,
          101355,
          101133,
          101372,
          101371,
          101806,
          101098,
          101120,
          101770,
          101113,
          101099,
          101123,
          101107,
          101105,
          101106,
          101108,
          101168,
          101443,
          101118,
          101132,
          101208,
          101116,
          101114,
          101134,
          101119,
          101117,
          101121,
          101125,
          101126,
          101135,
          101129,
          101127,
          101153,
          101166,
          101520,
          101137,
          101157,
          101158,
          101130,
          101140,
          101873,
          101141,
          101136,
          101131,
          101751,
          101139,
          101160,
          101151,
          101138,
          101150,
          101156,
          101144,
          101143,
          101142,
          101169,
          101159,
          101163,
          101162,
          101192,
          101523,
          101155,
          101154,
          101152,
          101270,
          101249,
          101250,
          101173,
          101170,
          101781,
          101225,
          101262,
          101172,
          101254,
          101267,
          101171,
          101253,
          101174,
          101251,
          101504,
          101209,
          101193,
          101200,
          101219,
          101227,
          101198,
          101215,
          101194,
          101206,
          101207,
          101213,
          101197,
          101199,
          101202,
          101195,
          101226,
          101223,
          101218,
          101205,
          101203,
          101201,
          101221,
          101418,
          101210,
          101212,
          101237,
          101236,
          101222,
          101898,
          101600,
          101268,
          101217,
          101228,
          101229,
          101230,
          101231,
          101232,
          101233,
          101297,
          101453,
          101245,
          101274,
          101258,
          101247,
          101257,
          101352,
          101235,
          101234,
          101294,
          101240,
          101239,
          101241,
          101489,
          101457,
          101293,
          101280,
          101271,
          101238,
          101243,
          101244,
          101246,
          101276,
          101272,
          101242,
          101295,
          101261,
          101256,
          101616,
          101292,
          101286,
          101287,
          101269,
          101811,
          101275,
          101289,
          101331,
          101288,
          101281,
          101282,
          101283,
          101284,
          101298,
          101290,
          101291,
          101474,
          101306,
          101517,
          101511,
          101296,
          101510,
          101299,
          101506,
          101313,
          101314,
          101469,
          101301,
          101302,
          101303,
          101304,
          101305,
          101608,
          101498,
          101507,
          101518,
          101605,
          101461,
          101516,
          101505,
          101508,
          101514,
          101515,
          101519,
          101513,
          101512,
          101545,
          101526,
          101527,
          101528,
          101529,
          101530,
          101531,
          101532,
          101533,
          101534,
          101535,
          101536,
          101537,
          101538,
          101539,
          101540,
          101541,
          101542,
          101543,
          101544,
          101546,
          101547,
          101548,
          101549,
          101550,
          101551,
          101552,
          101553,
          101554,
          101555,
          101556,
          101557,
          101558,
          101559,
          101569,
          101566,
          101563,
          101564,
          101565,
          101560,
          101561,
          101568,
          101567,
          101611,
          101562,
          101570,
          101571,
          101572,
          101573,
          101574,
          101575,
          101576,
          101577,
          101883,
          101822,
          101824,
          101579,
          101578,
          101594,
          101829,
          101880,
          101599,
          101865,
          101593,
          101591,
          101603,
          101604,
          101592,
          101622,
          101601,
          101595,
          101590,
          101849,
          101864,
          101596,
          101598,
          101602,
          101615,
          101613,
          101614,
          101606,
          101619,
          101875,
          101666,
          101831,
          101609,
          101610,
          101649,
          101656,
          101612,
          101681,
          101812,
          101667,
          101643,
          101620,
          101617,
          101618,
          101646,
          101642,
          101841,
          101626,
          101625,
          101628,
          101884,
          101868,
          101631,
          101632,
          102064,
          101637,
          101826,
          102059,
          101660,
          101640,
          101871,
          101650,
          101658,
          101641,
          101648,
          101647,
          101862,
          101683,
          101654,
          101657,
          101655,
          101669,
          101651,
          101652,
          101670,
          101671,
          101661,
          101807,
          101674,
          101668,
          101663,
          101664,
          101665,
          101702,
          101787,
          101798,
          101689,
          101675,
          101678,
          101680,
          101677,
          101684,
          101848,
          101686,
          101687,
          101701,
          101690,
          101691,
          101692,
          101693,
          101809,
          101799,
          101695,
          101696,
          101697,
          101698,
          101699,
          101700,
          101785,
          101786,
          101870,
          101776,
          101816,
          101813,
          101814,
          101729,
          101730,
          101731,
          101732,
          101733,
          101734,
          101724,
          101725,
          101855,
          101783,
          101784,
          101726,
          101727,
          101728,
          101779,
          101830,
          101774,
          101773,
          101766,
          101771,
          101767,
          101769,
          101768,
          101765,
          101762,
          101763,
          101754,
          101758,
          101756,
          101800,
          101747,
          101745,
          101761,
          101834,
          101782,
          101744,
          101743,
          101740,
          101737,
          101777,
          101739,
          101746,
          101772,
          101760,
          101738,
          101759,
          101794,
          101793,
          102040,
          102020,
          102013,
          101953,
          101991,
          101942,
          101941,
          101989,
          101938,
          101916,
          101917,
          102025,
          101922,
          101920,
          101900,
          101899,
          101943,
          101897,
          101919,
          101918,
          101957,
          101896,
          101895,
          101889,
          101940,
          101887,
          101885,
          101886,
          101980,
          101939,
          101891,
          101869,
          101867,
          101866,
          101861,
          101872,
          101937,
          101881,
          101894,
          101827,
          101832,
          101808,
          101780,
          102061,
          101996,
          101990,
          101982,
          101997,
          101984,
          102022,
          101994,
          102003,
          101954,
          102001,
          101988,
          101985,
          102000,
          101961,
          101969,
          102014,
          101979,
          101986,
          101968,
          101962,
          101992,
          101995,
          101959,
          101955,
          101956,
          101993,
          101981,
          101978,
          101958,
          101960,
          102038,
          101963,
          101983,
          101999,
          102021,
          102015,
          102011,
          102039,
          102018,
          102019,
          102012,
          102028,
          102017,
          102062,
          102016,
          102027,
          102024,
          102023,
          102026,
          102029,
          102058,
          102056,
          102057,
          102053,
          102054,
          102055,
          102047,
          102063
         ]
        }
       ],
       "layout": {
        "template": {
         "data": {
          "bar": [
           {
            "error_x": {
             "color": "#2a3f5f"
            },
            "error_y": {
             "color": "#2a3f5f"
            },
            "marker": {
             "line": {
              "color": "#E5ECF6",
              "width": 0.5
             }
            },
            "type": "bar"
           }
          ],
          "barpolar": [
           {
            "marker": {
             "line": {
              "color": "#E5ECF6",
              "width": 0.5
             }
            },
            "type": "barpolar"
           }
          ],
          "carpet": [
           {
            "aaxis": {
             "endlinecolor": "#2a3f5f",
             "gridcolor": "white",
             "linecolor": "white",
             "minorgridcolor": "white",
             "startlinecolor": "#2a3f5f"
            },
            "baxis": {
             "endlinecolor": "#2a3f5f",
             "gridcolor": "white",
             "linecolor": "white",
             "minorgridcolor": "white",
             "startlinecolor": "#2a3f5f"
            },
            "type": "carpet"
           }
          ],
          "choropleth": [
           {
            "colorbar": {
             "outlinewidth": 0,
             "ticks": ""
            },
            "type": "choropleth"
           }
          ],
          "contour": [
           {
            "colorbar": {
             "outlinewidth": 0,
             "ticks": ""
            },
            "colorscale": [
             [
              0,
              "#0d0887"
             ],
             [
              0.1111111111111111,
              "#46039f"
             ],
             [
              0.2222222222222222,
              "#7201a8"
             ],
             [
              0.3333333333333333,
              "#9c179e"
             ],
             [
              0.4444444444444444,
              "#bd3786"
             ],
             [
              0.5555555555555556,
              "#d8576b"
             ],
             [
              0.6666666666666666,
              "#ed7953"
             ],
             [
              0.7777777777777778,
              "#fb9f3a"
             ],
             [
              0.8888888888888888,
              "#fdca26"
             ],
             [
              1,
              "#f0f921"
             ]
            ],
            "type": "contour"
           }
          ],
          "contourcarpet": [
           {
            "colorbar": {
             "outlinewidth": 0,
             "ticks": ""
            },
            "type": "contourcarpet"
           }
          ],
          "heatmap": [
           {
            "colorbar": {
             "outlinewidth": 0,
             "ticks": ""
            },
            "colorscale": [
             [
              0,
              "#0d0887"
             ],
             [
              0.1111111111111111,
              "#46039f"
             ],
             [
              0.2222222222222222,
              "#7201a8"
             ],
             [
              0.3333333333333333,
              "#9c179e"
             ],
             [
              0.4444444444444444,
              "#bd3786"
             ],
             [
              0.5555555555555556,
              "#d8576b"
             ],
             [
              0.6666666666666666,
              "#ed7953"
             ],
             [
              0.7777777777777778,
              "#fb9f3a"
             ],
             [
              0.8888888888888888,
              "#fdca26"
             ],
             [
              1,
              "#f0f921"
             ]
            ],
            "type": "heatmap"
           }
          ],
          "heatmapgl": [
           {
            "colorbar": {
             "outlinewidth": 0,
             "ticks": ""
            },
            "colorscale": [
             [
              0,
              "#0d0887"
             ],
             [
              0.1111111111111111,
              "#46039f"
             ],
             [
              0.2222222222222222,
              "#7201a8"
             ],
             [
              0.3333333333333333,
              "#9c179e"
             ],
             [
              0.4444444444444444,
              "#bd3786"
             ],
             [
              0.5555555555555556,
              "#d8576b"
             ],
             [
              0.6666666666666666,
              "#ed7953"
             ],
             [
              0.7777777777777778,
              "#fb9f3a"
             ],
             [
              0.8888888888888888,
              "#fdca26"
             ],
             [
              1,
              "#f0f921"
             ]
            ],
            "type": "heatmapgl"
           }
          ],
          "histogram": [
           {
            "marker": {
             "colorbar": {
              "outlinewidth": 0,
              "ticks": ""
             }
            },
            "type": "histogram"
           }
          ],
          "histogram2d": [
           {
            "colorbar": {
             "outlinewidth": 0,
             "ticks": ""
            },
            "colorscale": [
             [
              0,
              "#0d0887"
             ],
             [
              0.1111111111111111,
              "#46039f"
             ],
             [
              0.2222222222222222,
              "#7201a8"
             ],
             [
              0.3333333333333333,
              "#9c179e"
             ],
             [
              0.4444444444444444,
              "#bd3786"
             ],
             [
              0.5555555555555556,
              "#d8576b"
             ],
             [
              0.6666666666666666,
              "#ed7953"
             ],
             [
              0.7777777777777778,
              "#fb9f3a"
             ],
             [
              0.8888888888888888,
              "#fdca26"
             ],
             [
              1,
              "#f0f921"
             ]
            ],
            "type": "histogram2d"
           }
          ],
          "histogram2dcontour": [
           {
            "colorbar": {
             "outlinewidth": 0,
             "ticks": ""
            },
            "colorscale": [
             [
              0,
              "#0d0887"
             ],
             [
              0.1111111111111111,
              "#46039f"
             ],
             [
              0.2222222222222222,
              "#7201a8"
             ],
             [
              0.3333333333333333,
              "#9c179e"
             ],
             [
              0.4444444444444444,
              "#bd3786"
             ],
             [
              0.5555555555555556,
              "#d8576b"
             ],
             [
              0.6666666666666666,
              "#ed7953"
             ],
             [
              0.7777777777777778,
              "#fb9f3a"
             ],
             [
              0.8888888888888888,
              "#fdca26"
             ],
             [
              1,
              "#f0f921"
             ]
            ],
            "type": "histogram2dcontour"
           }
          ],
          "mesh3d": [
           {
            "colorbar": {
             "outlinewidth": 0,
             "ticks": ""
            },
            "type": "mesh3d"
           }
          ],
          "parcoords": [
           {
            "line": {
             "colorbar": {
              "outlinewidth": 0,
              "ticks": ""
             }
            },
            "type": "parcoords"
           }
          ],
          "pie": [
           {
            "automargin": true,
            "type": "pie"
           }
          ],
          "scatter": [
           {
            "marker": {
             "colorbar": {
              "outlinewidth": 0,
              "ticks": ""
             }
            },
            "type": "scatter"
           }
          ],
          "scatter3d": [
           {
            "line": {
             "colorbar": {
              "outlinewidth": 0,
              "ticks": ""
             }
            },
            "marker": {
             "colorbar": {
              "outlinewidth": 0,
              "ticks": ""
             }
            },
            "type": "scatter3d"
           }
          ],
          "scattercarpet": [
           {
            "marker": {
             "colorbar": {
              "outlinewidth": 0,
              "ticks": ""
             }
            },
            "type": "scattercarpet"
           }
          ],
          "scattergeo": [
           {
            "marker": {
             "colorbar": {
              "outlinewidth": 0,
              "ticks": ""
             }
            },
            "type": "scattergeo"
           }
          ],
          "scattergl": [
           {
            "marker": {
             "colorbar": {
              "outlinewidth": 0,
              "ticks": ""
             }
            },
            "type": "scattergl"
           }
          ],
          "scattermapbox": [
           {
            "marker": {
             "colorbar": {
              "outlinewidth": 0,
              "ticks": ""
             }
            },
            "type": "scattermapbox"
           }
          ],
          "scatterpolar": [
           {
            "marker": {
             "colorbar": {
              "outlinewidth": 0,
              "ticks": ""
             }
            },
            "type": "scatterpolar"
           }
          ],
          "scatterpolargl": [
           {
            "marker": {
             "colorbar": {
              "outlinewidth": 0,
              "ticks": ""
             }
            },
            "type": "scatterpolargl"
           }
          ],
          "scatterternary": [
           {
            "marker": {
             "colorbar": {
              "outlinewidth": 0,
              "ticks": ""
             }
            },
            "type": "scatterternary"
           }
          ],
          "surface": [
           {
            "colorbar": {
             "outlinewidth": 0,
             "ticks": ""
            },
            "colorscale": [
             [
              0,
              "#0d0887"
             ],
             [
              0.1111111111111111,
              "#46039f"
             ],
             [
              0.2222222222222222,
              "#7201a8"
             ],
             [
              0.3333333333333333,
              "#9c179e"
             ],
             [
              0.4444444444444444,
              "#bd3786"
             ],
             [
              0.5555555555555556,
              "#d8576b"
             ],
             [
              0.6666666666666666,
              "#ed7953"
             ],
             [
              0.7777777777777778,
              "#fb9f3a"
             ],
             [
              0.8888888888888888,
              "#fdca26"
             ],
             [
              1,
              "#f0f921"
             ]
            ],
            "type": "surface"
           }
          ],
          "table": [
           {
            "cells": {
             "fill": {
              "color": "#EBF0F8"
             },
             "line": {
              "color": "white"
             }
            },
            "header": {
             "fill": {
              "color": "#C8D4E3"
             },
             "line": {
              "color": "white"
             }
            },
            "type": "table"
           }
          ]
         },
         "layout": {
          "annotationdefaults": {
           "arrowcolor": "#2a3f5f",
           "arrowhead": 0,
           "arrowwidth": 1
          },
          "coloraxis": {
           "colorbar": {
            "outlinewidth": 0,
            "ticks": ""
           }
          },
          "colorscale": {
           "diverging": [
            [
             0,
             "#8e0152"
            ],
            [
             0.1,
             "#c51b7d"
            ],
            [
             0.2,
             "#de77ae"
            ],
            [
             0.3,
             "#f1b6da"
            ],
            [
             0.4,
             "#fde0ef"
            ],
            [
             0.5,
             "#f7f7f7"
            ],
            [
             0.6,
             "#e6f5d0"
            ],
            [
             0.7,
             "#b8e186"
            ],
            [
             0.8,
             "#7fbc41"
            ],
            [
             0.9,
             "#4d9221"
            ],
            [
             1,
             "#276419"
            ]
           ],
           "sequential": [
            [
             0,
             "#0d0887"
            ],
            [
             0.1111111111111111,
             "#46039f"
            ],
            [
             0.2222222222222222,
             "#7201a8"
            ],
            [
             0.3333333333333333,
             "#9c179e"
            ],
            [
             0.4444444444444444,
             "#bd3786"
            ],
            [
             0.5555555555555556,
             "#d8576b"
            ],
            [
             0.6666666666666666,
             "#ed7953"
            ],
            [
             0.7777777777777778,
             "#fb9f3a"
            ],
            [
             0.8888888888888888,
             "#fdca26"
            ],
            [
             1,
             "#f0f921"
            ]
           ],
           "sequentialminus": [
            [
             0,
             "#0d0887"
            ],
            [
             0.1111111111111111,
             "#46039f"
            ],
            [
             0.2222222222222222,
             "#7201a8"
            ],
            [
             0.3333333333333333,
             "#9c179e"
            ],
            [
             0.4444444444444444,
             "#bd3786"
            ],
            [
             0.5555555555555556,
             "#d8576b"
            ],
            [
             0.6666666666666666,
             "#ed7953"
            ],
            [
             0.7777777777777778,
             "#fb9f3a"
            ],
            [
             0.8888888888888888,
             "#fdca26"
            ],
            [
             1,
             "#f0f921"
            ]
           ]
          },
          "colorway": [
           "#636efa",
           "#EF553B",
           "#00cc96",
           "#ab63fa",
           "#FFA15A",
           "#19d3f3",
           "#FF6692",
           "#B6E880",
           "#FF97FF",
           "#FECB52"
          ],
          "font": {
           "color": "#2a3f5f"
          },
          "geo": {
           "bgcolor": "white",
           "lakecolor": "white",
           "landcolor": "#E5ECF6",
           "showlakes": true,
           "showland": true,
           "subunitcolor": "white"
          },
          "hoverlabel": {
           "align": "left"
          },
          "hovermode": "closest",
          "mapbox": {
           "style": "light"
          },
          "paper_bgcolor": "white",
          "plot_bgcolor": "#E5ECF6",
          "polar": {
           "angularaxis": {
            "gridcolor": "white",
            "linecolor": "white",
            "ticks": ""
           },
           "bgcolor": "#E5ECF6",
           "radialaxis": {
            "gridcolor": "white",
            "linecolor": "white",
            "ticks": ""
           }
          },
          "scene": {
           "xaxis": {
            "backgroundcolor": "#E5ECF6",
            "gridcolor": "white",
            "gridwidth": 2,
            "linecolor": "white",
            "showbackground": true,
            "ticks": "",
            "zerolinecolor": "white"
           },
           "yaxis": {
            "backgroundcolor": "#E5ECF6",
            "gridcolor": "white",
            "gridwidth": 2,
            "linecolor": "white",
            "showbackground": true,
            "ticks": "",
            "zerolinecolor": "white"
           },
           "zaxis": {
            "backgroundcolor": "#E5ECF6",
            "gridcolor": "white",
            "gridwidth": 2,
            "linecolor": "white",
            "showbackground": true,
            "ticks": "",
            "zerolinecolor": "white"
           }
          },
          "shapedefaults": {
           "line": {
            "color": "#2a3f5f"
           }
          },
          "ternary": {
           "aaxis": {
            "gridcolor": "white",
            "linecolor": "white",
            "ticks": ""
           },
           "baxis": {
            "gridcolor": "white",
            "linecolor": "white",
            "ticks": ""
           },
           "bgcolor": "#E5ECF6",
           "caxis": {
            "gridcolor": "white",
            "linecolor": "white",
            "ticks": ""
           }
          },
          "title": {
           "x": 0.05
          },
          "xaxis": {
           "automargin": true,
           "gridcolor": "white",
           "linecolor": "white",
           "ticks": "",
           "title": {
            "standoff": 15
           },
           "zerolinecolor": "white",
           "zerolinewidth": 2
          },
          "yaxis": {
           "automargin": true,
           "gridcolor": "white",
           "linecolor": "white",
           "ticks": "",
           "title": {
            "standoff": 15
           },
           "zerolinecolor": "white",
           "zerolinewidth": 2
          }
         }
        },
        "title": {
         "font": {
          "size": 20
         },
         "text": "Distribución de las capacidades de los tanques",
         "x": 0.1,
         "xref": "paper"
        },
        "xaxis": {
         "title": {
          "font": {
           "color": "#7f7f7f",
           "family": "Courier New, monospace",
           "size": 18
          },
          "text": "Capacidad [Litros]"
         }
        },
        "yaxis": {
         "title": {
          "font": {
           "color": "#7f7f7f",
           "family": "Courier New, monospace",
           "size": 18
          },
          "text": "Cantidad de tanques"
         }
        }
       }
      },
      "text/html": [
       "<div>\n",
       "        \n",
       "        \n",
       "            <div id=\"29401895-8e8b-452f-91c3-ffc293285d09\" class=\"plotly-graph-div\" style=\"height:525px; width:100%;\"></div>\n",
       "            <script type=\"text/javascript\">\n",
       "                require([\"plotly\"], function(Plotly) {\n",
       "                    window.PLOTLYENV=window.PLOTLYENV || {};\n",
       "                    \n",
       "                if (document.getElementById(\"29401895-8e8b-452f-91c3-ffc293285d09\")) {\n",
       "                    Plotly.newPlot(\n",
       "                        '29401895-8e8b-452f-91c3-ffc293285d09',\n",
       "                        [{\"line\": {\"color\": \"royalblue\", \"width\": 4}, \"mode\": \"markers\", \"name\": \"Cantidad de tanques\", \"type\": \"scatter\", \"x\": [150, 160, 200, 210, 250, 270, 300, 345, 350, 400, 450, 500, 530, 550, 600, 650, 662, 717, 750, 800, 850, 870, 900, 950, 1000, 1033, 1100, 1125, 1258, 1297, 1386, 1500, 1601, 2000, 2210, 2250, 2500, 2750, 2773, 2800, 3699, 4000, 4096, 4300, 5000, 5166, 5246, 5700, 6150, 7000, 7347, 7800, 8000, 8100, 10000, 10330, 10390, 10500, 10600, 10671, 11000, 12549, 14000, 15000, 15032, 18000, 18170, 20000, 20593, 20834, 21000, 21110, 21114, 21251, 21259, 21294, 21316, 21318, 21327, 21547, 21998, 23301, 25000, 26600, 30000, 30956, 31404, 31746, 31765, 31777, 32000, 33000, 33404, 35000, 36000, 37000, 39000, 40000, 40024, 40165, 40481, 41000, 41384, 41400, 41423, 41424, 41434, 41562, 41569, 41600, 42000, 42424, 42434, 43000, 44000, 45000, 48000, 49000, 50000, 50033, 50191, 51000, 51086, 51113, 52000, 52180, 56400, 60000, 60323, 61481, 62000, 63100, 63398, 70000, 70600, 80000, 81144, 90119, 97000, 100000, 102070, 104000], \"y\": [1, 1, 1, 14, 15, 1, 6, 5, 4, 5, 2, 3, 4, 5, 2, 1, 3, 2, 1, 2, 2, 1, 2, 3, 35, 3, 5, 1, 5, 1, 1, 1, 1, 5, 2, 3, 2, 1, 1, 1, 1, 2, 19, 2, 12, 1, 1, 1, 1, 4, 1, 1, 43, 1, 193, 1, 1, 1, 1, 1, 1, 1, 4, 26, 21, 3, 1, 55, 74, 1, 15, 1, 1, 1, 4, 6, 1, 1, 69, 2, 1, 5, 8, 1, 35, 1, 33, 1, 80, 1, 1, 2, 1, 1, 5, 1, 1, 141, 1, 1, 1, 5, 1, 1, 1, 3, 6, 4, 1, 1, 7, 1, 1, 2, 2, 3, 1, 1, 223, 4, 3, 1, 3, 1, 3, 1, 1, 1, 1, 100, 3, 1, 1, 2, 2, 6, 26, 1, 1, 10, 3, 2]}, {\"name\": \"Distribuci\\u00f3n de capacidades\", \"nbinsx\": 15, \"opacity\": 0.4, \"type\": \"histogram\", \"x\": [10000, 8000, 50000, 25000, 10000, 10000, 50000, 10000, 31765, 31765, 10000, 10000, 30000, 50000, 550, 50000, 1000, 1000, 50000, 40000, 10000, 50000, 10000, 31765, 50000, 4096, 15032, 20000, 40000, 25000, 20593, 30000, 33000, 43000, 4096, 4096, 40000, 4096, 4096, 4096, 4096, 4096, 4096, 40000, 4096, 41000, 40000, 40000, 45000, 50000, 40000, 20000, 40000, 70000, 10000, 8000, 8000, 41562, 250, 50000, 50000, 4096, 50000, 35000, 10000, 61481, 48000, 41600, 21000, 21000, 50000, 26600, 4096, 50000, 4096, 4096, 4096, 4096, 4096, 1000, 40000, 40000, 40000, 40000, 40000, 30000, 40000, 50000, 1033, 40000, 42000, 15000, 662, 41562, 40000, 40000, 40000, 40000, 40000, 20000, 20000, 61481, 20593, 20000, 20000, 20000, 20000, 20000, 40000, 40000, 40000, 2500, 50000, 40000, 50000, 40000, 50000, 30000, 40000, 40000, 40000, 40000, 4096, 4096, 21327, 15000, 40000, 31404, 15000, 15000, 15000, 15000, 15000, 21327, 21327, 20000, 42000, 870, 1297, 50000, 21000, 44000, 10000, 50000, 20000, 8000, 8000, 530, 40000, 50000, 40000, 10000, 345, 10000, 10000, 10000, 10000, 42000, 41000, 40000, 40000, 40000, 40000, 40000, 40000, 40000, 10000, 10000, 1125, 30000, 25000, 40000, 20000, 40000, 40000, 40000, 40000, 40000, 40000, 40000, 40000, 5000, 20000, 20000, 61481, 61481, 32000, 40000, 40000, 50000, 15000, 15000, 50000, 50000, 40000, 10000, 10000, 20000, 20000, 40000, 40000, 40000, 44000, 41000, 50000, 41000, 10000, 10000, 81144, 61481, 20593, 20593, 40000, 81144, 61481, 20593, 20593, 50000, 41000, 42000, 20593, 81144, 61481, 20593, 20593, 81144, 61481, 81144, 61481, 20593, 81144, 61481, 20593, 20593, 81144, 61481, 20593, 20593, 40000, 61481, 20593, 20593, 81144, 61481, 20593, 20593, 81144, 61481, 20593, 20593, 31765, 31765, 20593, 20593, 81144, 61481, 20593, 20593, 81144, 61481, 20593, 20593, 81144, 61481, 20593, 20593, 81144, 61481, 20593, 20593, 40000, 61481, 20593, 20593, 40000, 10000, 50000, 50000, 81144, 61481, 20593, 20593, 81144, 61481, 50000, 50000, 61481, 10000, 81144, 61481, 20593, 20593, 50000, 61481, 20593, 20593, 81144, 61481, 20593, 20593, 81144, 61481, 20593, 20593, 61481, 2500, 40000, 81144, 61481, 20593, 20593, 81144, 40000, 21327, 31404, 50000, 10000, 20000, 21327, 21327, 31404, 61481, 51086, 50000, 30000, 31404, 61481, 21327, 31404, 52000, 21327, 40000, 40000, 50000, 40000, 10671, 81144, 81144, 61481, 61481, 20000, 10600, 21316, 21318, 21114, 21110, 10330, 10390, 10000, 40000, 41424, 15000, 61481, 30000, 61481, 81144, 61481, 21259, 21327, 21327, 81144, 61481, 15032, 51000, 40000, 21327, 40000, 61481, 61481, 100000, 15032, 40000, 21327, 21327, 21327, 10000, 21327, 21327, 21327, 10000, 40000, 21327, 21327, 21327, 21327, 40000, 21327, 40000, 40000, 49000, 21327, 21327, 21327, 30000, 21327, 21327, 40000, 15032, 15032, 15032, 21259, 50000, 40000, 50000, 52000, 21327, 40000, 40000, 61481, 21327, 40000, 21327, 41434, 6150, 41434, 20000, 21327, 61481, 50000, 1258, 5000, 21327, 21327, 21327, 21327, 21327, 40000, 61481, 50000, 40000, 21327, 50000, 21327, 50000, 50000, 50000, 40000, 5000, 25000, 61481, 50033, 50033, 50033, 50033, 21327, 21327, 31404, 21327, 31404, 81144, 61481, 30000, 30000, 31404, 25000, 31404, 21327, 31404, 30956, 33404, 21327, 31404, 41423, 31404, 21327, 31404, 21327, 31404, 21327, 31404, 25000, 31404, 40000, 15032, 600, 41562, 41562, 10000, 21327, 31404, 21327, 31404, 40000, 31404, 42424, 31404, 41569, 63100, 40165, 31404, 40000, 40000, 21000, 21327, 21327, 10000, 21327, 50000, 40000, 81144, 61481, 15032, 21327, 31777, 45000, 21327, 31404, 61481, 15000, 8000, 20000, 21327, 39000, 31765, 31765, 31765, 15000, 31765, 31765, 10000, 31765, 31765, 31765, 42000, 50000, 20000, 36000, 36000, 36000, 36000, 36000, 41424, 31765, 21327, 21327, 20000, 31765, 31765, 31765, 31404, 21327, 10000, 61481, 20593, 10000, 10000, 2250, 30000, 61481, 20593, 10000, 100000, 10000, 10000, 10000, 40000, 50000, 20593, 10000, 10000, 61481, 20593, 10000, 345, 40000, 61481, 20593, 50000, 10000, 61481, 20593, 30000, 50000, 80000, 31765, 10000, 61481, 20593, 20593, 61481, 51113, 31765, 31765, 31765, 31765, 31404, 21327, 80000, 80000, 60000, 20000, 20000, 31765, 31765, 31765, 31765, 31404, 21327, 50000, 31765, 31765, 31765, 31765, 31765, 31765, 31765, 31765, 31765, 31404, 21327, 31765, 20000, 31765, 31765, 31765, 31404, 21327, 80000, 10000, 61481, 20593, 10000, 10000, 20000, 20000, 20000, 20000, 20000, 20000, 70600, 70600, 104000, 104000, 5000, 30000, 31765, 31765, 18170, 15000, 15032, 15032, 15000, 31765, 10500, 15000, 31765, 20000, 50000, 1258, 40000, 51086, 4000, 61481, 40000, 15032, 50000, 30000, 30000, 15032, 15032, 20593, 21327, 42434, 15032, 20593, 15032, 15032, 21327, 40000, 50000, 40000, 15000, 31765, 31765, 31765, 31765, 31765, 31765, 31404, 21327, 20000, 61481, 40000, 62000, 30000, 31765, 31765, 31765, 31765, 31765, 31404, 21327, 31765, 20593, 31765, 31765, 31765, 31765, 31765, 31765, 31765, 31765, 31404, 21327, 30000, 10000, 61481, 10000, 61481, 10000, 61481, 7347, 50000, 40000, 5700, 61481, 10000, 61481, 10000, 61481, 40000, 21000, 37000, 7000, 50000, 31765, 40000, 80000, 31765, 31765, 31765, 31765, 31404, 21327, 50000, 10000, 10000, 31765, 31765, 31765, 31765, 31404, 21327, 40000, 8000, 61481, 50000, 80000, 20593, 61481, 102070, 102070, 10000, 102070, 14000, 14000, 14000, 14000, 50000, 10000, 50000, 662, 50000, 20593, 40000, 1601, 1000, 8000, 50000, 40000, 61481, 20593, 20593, 20593, 20593, 61481, 40000, 20000, 40000, 40000, 10000, 61481, 40000, 20000, 20000, 61481, 10000, 61481, 40000, 50191, 61481, 20593, 10000, 50000, 40000, 25000, 20593, 50000, 30000, 10000, 30000, 50191, 40000, 1000, 20000, 40000, 31765, 15000, 15000, 20000, 20000, 20000, 20000, 50000, 50191, 50000, 61481, 10000, 61481, 10000, 61481, 30000, 20000, 10000, 10000, 10000, 41400, 10000, 40000, 15032, 15032, 61481, 15032, 21259, 2000, 662, 50000, 50000, 50000, 50000, 40000, 40000, 5000, 10000, 40000, 10000, 20593, 20000, 10000, 30000, 61481, 10000, 10000, 50000, 61481, 61481, 40000, 10000, 1258, 10000, 10000, 10000, 40000, 61481, 70000, 10000, 100000, 50000, 40000, 61481, 50000, 20000, 20593, 61481, 20593, 10000, 10000, 10000, 10000, 40000, 61481, 10000, 61481, 10000, 61481, 50000, 50000, 10000, 10000, 10000, 10000, 10000, 40000, 30000, 61481, 15000, 15000, 50000, 50000, 40000, 10000, 30000, 50000, 30000, 15000, 10000, 50000, 40000, 61481, 10000, 61481, 10000, 61481, 50000, 21000, 21000, 21000, 21000, 21000, 21000, 21000, 21000, 21000, 21000, 10000, 10000, 50000, 30000, 40000, 40000, 30000, 40000, 40000, 10000, 61481, 40000, 10000, 61481, 10000, 61481, 30000, 50000, 50000, 50000, 30000, 50000, 50000, 50000, 10000, 10000, 10000, 10000, 10000, 10000, 50000, 50000, 50000, 50000, 20000, 50000, 10000, 40000, 40000, 63398, 51086, 10000, 41384, 50000, 50000, 50000, 20000, 10000, 41434, 61481, 8000, 50000, 50000, 50000, 50000, 30000, 23301, 21294, 20593, 20593, 20000, 61481, 20593, 30000, 50000, 31765, 50000, 40000, 23301, 52000, 23301, 23301, 21294, 21294, 50000, 50000, 21294, 50000, 50000, 21294, 40000, 20000, 31765, 23301, 40000, 20000, 20000, 40000, 50000, 40024, 50000, 90119, 10000, 21294, 50000, 50000, 100000, 62000, 8000, 50000, 40000, 30000, 160, 62000, 50000, 50000, 10000, 50000, 50000, 61481, 10000, 40000, 50000, 50000, 40000, 50000, 50000, 10000, 50000, 50000, 50000, 10000, 50000, 50000, 18000, 30000, 1000, 10000, 50000, 33000, 50000, 20000, 40000, 50000, 20000, 50000, 42000, 2000, 21547, 41424, 10000, 10000, 52180, 21998, 50000, 50000, 50000, 50000, 30000, 40481, 50000, 50000, 10000, 10000, 10000, 50000, 50000, 40000, 10000, 50000, 50000, 15000, 10000, 50000, 10000, 50000, 250, 20000, 10000, 10000, 10000, 10000, 10000, 50000, 2000, 50000, 50000, 21327, 1033, 50000, 18000, 50000, 20593, 40000, 50000, 50000, 45000, 31765, 31765, 20000, 50000, 50000, 345, 10000, 50000, 31765, 31404, 40000, 1258, 50000, 31765, 40000, 50000, 50000, 250, 50000, 5000, 5000, 40000, 8000, 717, 50000, 20593, 40000, 5000, 5000, 5000, 5000, 50000, 50000, 50000, 50000, 100000, 10000, 850, 50000, 550, 40000, 100000, 10000, 61481, 31765, 15000, 15000, 15000, 30000, 20000, 250, 100000, 8000, 10000, 10000, 50000, 10000, 42000, 8000, 50000, 50000, 10000, 50000, 50000, 10000, 10000, 10000, 10000, 10000, 10000, 10000, 10000, 10000, 10000, 10000, 10000, 10000, 10000, 10000, 10000, 10000, 10000, 10000, 10000, 10000, 10000, 10000, 10000, 10000, 10000, 10000, 10000, 10000, 10000, 10000, 10000, 10000, 10000, 10000, 10000, 10000, 10000, 10000, 50000, 50000, 10000, 10000, 8000, 50000, 10000, 10000, 10000, 10000, 10000, 10000, 10000, 10000, 21259, 50000, 1000, 8000, 50000, 900, 950, 50000, 1000, 50000, 850, 1100, 10000, 61481, 250, 400, 10000, 1500, 8000, 650, 1000, 1100, 400, 61481, 1000, 900, 1000, 61481, 50000, 8000, 550, 1000, 8000, 7000, 50000, 50000, 1000, 250, 8000, 50000, 7000, 50000, 50000, 50000, 50000, 8000, 1000, 1000, 400, 250, 15032, 8000, 600, 1000, 2773, 1000, 1000, 50000, 30000, 1100, 8000, 50000, 50000, 7000, 50000, 50000, 1000, 950, 50000, 50000, 50000, 300, 2000, 2000, 2250, 450, 50000, 50000, 250, 800, 8000, 8000, 8000, 210, 350, 1000, 300, 300, 250, 250, 250, 950, 500, 750, 450, 210, 300, 1000, 250, 250, 8000, 1000, 4300, 210, 210, 210, 210, 210, 20593, 20593, 8000, 50000, 270, 5000, 4000, 400, 300, 1000, 250, 350, 350, 10000, 10000, 150, 1000, 1000, 10000, 10000, 10000, 250, 800, 50000, 50000, 8000, 50000, 50000, 1000, 50000, 350, 300, 500, 1100, 500, 1000, 1000, 20834, 50000, 550, 8000, 1000, 50000, 8000, 1000, 200, 8000, 1000, 50000, 50000, 8000, 1000, 550, 50000, 50000, 41434, 50000, 50000, 210, 50000, 8100, 100000, 50000, 100000, 40000, 40000, 12549, 50000, 8000, 50000, 50000, 7800, 8000, 8000, 8000, 210, 8000, 400, 3699, 10000, 1386, 10000, 61481, 1258, 18000, 1000, 8000, 97000, 8000, 8000, 8000, 11000, 15032, 1100, 1000, 8000, 8000, 1000, 60323, 50000, 50000, 530, 25000, 345, 21251, 50000, 2210, 4300, 2800, 2750, 345, 2210, 43000, 50000, 50000, 717, 56400, 15000, 40000, 50000, 50000, 210, 210, 210, 50000, 530, 1033, 210, 210, 41434, 10000, 530, 2250, 100000, 50000, 50000, 41434, 50000, 50000, 50000, 50000, 50000, 5246, 50000, 50000, 31746, 21547, 50000, 50000, 61481, 61481, 10000, 10000, 61481, 10000, 10000, 5166], \"y\": [101525, 101833, 101496, 101495, 101522, 101521, 101494, 101491, 101493, 101492, 101487, 101483, 101481, 101475, 101509, 101477, 101825, 101823, 101501, 101470, 101466, 101479, 101464, 101480, 101471, 63, 101882, 101490, 101503, 101459, 101373, 101375, 71, 72, 73, 74, 123, 75, 76, 77, 78, 79, 80, 81, 82, 83, 84, 85, 86, 112, 88, 89, 90, 97, 91, 92, 93, 94, 101597, 96, 99, 100, 101, 102, 104, 101449, 107, 108, 109, 110, 113, 114, 115, 116, 117, 118, 119, 120, 121, 101828, 124, 125, 126, 127, 128, 129, 130, 131, 132, 133, 134, 135, 1043, 138, 141, 142, 143, 144, 145, 146, 147, 148, 150, 151, 152, 153, 154, 155, 156, 157, 158, 101440, 162, 163, 164, 165, 166, 167, 168, 169, 170, 171, 172, 173, 179, 180, 181, 187, 182, 183, 184, 185, 186, 188, 189, 190, 191, 1042, 1041, 194, 195, 196, 101448, 101260, 198, 199, 200, 201, 202, 203, 415, 101450, 207, 208, 225, 226, 227, 215, 214, 217, 218, 219, 220, 221, 222, 223, 228, 229, 1040, 1037, 101499, 1047, 101074, 238, 239, 240, 241, 242, 243, 244, 245, 101285, 247, 248, 101463, 101445, 101417, 255, 256, 257, 258, 259, 260, 261, 262, 263, 264, 265, 266, 268, 269, 270, 271, 272, 101416, 275, 101462, 101446, 278, 279, 280, 281, 282, 283, 284, 285, 286, 287, 288, 289, 290, 291, 292, 293, 294, 295, 296, 299, 300, 301, 303, 304, 305, 306, 307, 308, 309, 310, 311, 312, 313, 314, 315, 316, 317, 318, 319, 320, 321, 322, 323, 324, 325, 326, 327, 328, 329, 330, 331, 332, 333, 334, 335, 336, 337, 338, 339, 340, 341, 342, 343, 344, 345, 346, 347, 101220, 101211, 101204, 351, 352, 353, 354, 355, 356, 101456, 359, 360, 101411, 363, 364, 365, 366, 367, 368, 369, 370, 371, 372, 373, 374, 375, 376, 377, 378, 101447, 101425, 381, 382, 383, 384, 385, 386, 387, 388, 389, 101406, 101408, 392, 393, 396, 397, 101395, 400, 101165, 404, 405, 101407, 408, 409, 101415, 412, 413, 414, 416, 417, 422, 418, 419, 101412, 101403, 421, 423, 424, 425, 426, 427, 428, 429, 430, 431, 432, 433, 101405, 101936, 101410, 438, 439, 101398, 442, 443, 444, 445, 101397, 493, 448, 449, 450, 451, 101393, 101621, 101399, 454, 455, 456, 457, 458, 459, 460, 461, 462, 463, 464, 465, 466, 467, 468, 469, 470, 471, 472, 473, 474, 475, 476, 477, 478, 479, 480, 481, 483, 484, 486, 487, 488, 489, 490, 492, 494, 495, 534, 498, 499, 500, 605, 501, 502, 503, 505, 504, 101277, 508, 509, 510, 511, 512, 513, 514, 515, 101390, 518, 519, 520, 521, 522, 523, 524, 526, 527, 101460, 101391, 530, 531, 532, 533, 535, 536, 537, 538, 539, 540, 541, 101380, 544, 545, 546, 547, 548, 549, 550, 551, 552, 553, 554, 555, 556, 557, 558, 559, 560, 561, 562, 563, 566, 567, 101863, 570, 571, 572, 574, 575, 576, 577, 578, 579, 580, 581, 582, 583, 584, 585, 586, 587, 588, 590, 591, 592, 593, 101452, 595, 601, 602, 101396, 606, 612, 607, 608, 609, 101401, 613, 101778, 619, 620, 622, 623, 652, 624, 625, 626, 631, 632, 633, 634, 635, 636, 638, 639, 642, 643, 644, 645, 646, 647, 648, 649, 650, 651, 653, 654, 655, 656, 657, 658, 659, 660, 101409, 101379, 102002, 665, 666, 667, 101392, 101381, 101404, 672, 101977, 101424, 101376, 101374, 101394, 679, 680, 681, 101400, 101378, 686, 687, 688, 101388, 693, 694, 695, 101366, 101367, 700, 886, 707, 708, 709, 710, 711, 714, 715, 716, 717, 718, 719, 720, 721, 722, 723, 724, 728, 729, 730, 731, 732, 733, 734, 735, 736, 737, 738, 739, 740, 741, 742, 743, 744, 745, 746, 747, 748, 749, 750, 751, 752, 753, 754, 756, 757, 758, 101524, 101402, 763, 764, 765, 766, 767, 768, 769, 770, 771, 772, 102046, 1022, 776, 777, 101442, 778, 797, 796, 795, 793, 794, 785, 792, 101369, 101370, 101278, 802, 101420, 101368, 101465, 808, 809, 101377, 101364, 101365, 814, 815, 101360, 101358, 820, 821, 101356, 826, 827, 101357, 101482, 101472, 873, 1114, 853, 834, 835, 836, 837, 838, 839, 840, 841, 842, 843, 844, 916, 846, 847, 848, 849, 850, 851, 852, 854, 101351, 856, 857, 887, 858, 859, 860, 861, 862, 863, 864, 865, 867, 868, 869, 870, 871, 872, 101944, 1149, 874, 875, 876, 877, 878, 879, 880, 904, 897, 881, 882, 927, 888, 885, 884, 889, 890, 891, 892, 893, 894, 101161, 895, 101444, 898, 899, 900, 901, 902, 903, 905, 101810, 101341, 909, 908, 101339, 101344, 941, 940, 101484, 939, 923, 924, 925, 926, 101248, 101224, 101255, 1038, 101252, 101354, 949, 933, 101589, 101874, 101645, 942, 943, 944, 101359, 101343, 101336, 950, 951, 952, 953, 954, 955, 956, 957, 958, 959, 960, 961, 962, 963, 964, 101467, 101332, 969, 101259, 1121, 971, 101342, 1002, 973, 974, 982, 975, 976, 101890, 983, 984, 985, 999, 986, 987, 988, 989, 990, 101775, 991, 993, 994, 995, 996, 997, 998, 1000, 1001, 1092, 1091, 1090, 1089, 1008, 1009, 1010, 1011, 101330, 1013, 1014, 101214, 1039, 1023, 1024, 1025, 1026, 1027, 1028, 1029, 1044, 1087, 1045, 101329, 1046, 1075, 101175, 1078, 1077, 101488, 1125, 101077, 1076, 1072, 1058, 101279, 1059, 1060, 1061, 1062, 1063, 1064, 1065, 1079, 1071, 1073, 1074, 1119, 1081, 101350, 101334, 101333, 1085, 1086, 1093, 1094, 1095, 1096, 1097, 1098, 1099, 1100, 1101, 1102, 1103, 1104, 1105, 1106, 1107, 1108, 101455, 101451, 1115, 1116, 1117, 1118, 1151, 1120, 1124, 1122, 101307, 1123, 101076, 1126, 1127, 1128, 1129, 1130, 1131, 1132, 1133, 1134, 1135, 1136, 1137, 1138, 1139, 1140, 1141, 1142, 1143, 1145, 1146, 101101, 101093, 1150, 101317, 101323, 1153, 1154, 1157, 1156, 1166, 1155, 1158, 1159, 1160, 1164, 1161, 1162, 1163, 1165, 1167, 1168, 1169, 1170, 1171, 1172, 1173, 1174, 1175, 1176, 1177, 1178, 1179, 1180, 1181, 101078, 101315, 101316, 101318, 101321, 101454, 101322, 101607, 101081, 101497, 101082, 101075, 101104, 101079, 101659, 101080, 101478, 101473, 101382, 101500, 101115, 101100, 101335, 101355, 101133, 101372, 101371, 101806, 101098, 101120, 101770, 101113, 101099, 101123, 101107, 101105, 101106, 101108, 101168, 101443, 101118, 101132, 101208, 101116, 101114, 101134, 101119, 101117, 101121, 101125, 101126, 101135, 101129, 101127, 101153, 101166, 101520, 101137, 101157, 101158, 101130, 101140, 101873, 101141, 101136, 101131, 101751, 101139, 101160, 101151, 101138, 101150, 101156, 101144, 101143, 101142, 101169, 101159, 101163, 101162, 101192, 101523, 101155, 101154, 101152, 101270, 101249, 101250, 101173, 101170, 101781, 101225, 101262, 101172, 101254, 101267, 101171, 101253, 101174, 101251, 101504, 101209, 101193, 101200, 101219, 101227, 101198, 101215, 101194, 101206, 101207, 101213, 101197, 101199, 101202, 101195, 101226, 101223, 101218, 101205, 101203, 101201, 101221, 101418, 101210, 101212, 101237, 101236, 101222, 101898, 101600, 101268, 101217, 101228, 101229, 101230, 101231, 101232, 101233, 101297, 101453, 101245, 101274, 101258, 101247, 101257, 101352, 101235, 101234, 101294, 101240, 101239, 101241, 101489, 101457, 101293, 101280, 101271, 101238, 101243, 101244, 101246, 101276, 101272, 101242, 101295, 101261, 101256, 101616, 101292, 101286, 101287, 101269, 101811, 101275, 101289, 101331, 101288, 101281, 101282, 101283, 101284, 101298, 101290, 101291, 101474, 101306, 101517, 101511, 101296, 101510, 101299, 101506, 101313, 101314, 101469, 101301, 101302, 101303, 101304, 101305, 101608, 101498, 101507, 101518, 101605, 101461, 101516, 101505, 101508, 101514, 101515, 101519, 101513, 101512, 101545, 101526, 101527, 101528, 101529, 101530, 101531, 101532, 101533, 101534, 101535, 101536, 101537, 101538, 101539, 101540, 101541, 101542, 101543, 101544, 101546, 101547, 101548, 101549, 101550, 101551, 101552, 101553, 101554, 101555, 101556, 101557, 101558, 101559, 101569, 101566, 101563, 101564, 101565, 101560, 101561, 101568, 101567, 101611, 101562, 101570, 101571, 101572, 101573, 101574, 101575, 101576, 101577, 101883, 101822, 101824, 101579, 101578, 101594, 101829, 101880, 101599, 101865, 101593, 101591, 101603, 101604, 101592, 101622, 101601, 101595, 101590, 101849, 101864, 101596, 101598, 101602, 101615, 101613, 101614, 101606, 101619, 101875, 101666, 101831, 101609, 101610, 101649, 101656, 101612, 101681, 101812, 101667, 101643, 101620, 101617, 101618, 101646, 101642, 101841, 101626, 101625, 101628, 101884, 101868, 101631, 101632, 102064, 101637, 101826, 102059, 101660, 101640, 101871, 101650, 101658, 101641, 101648, 101647, 101862, 101683, 101654, 101657, 101655, 101669, 101651, 101652, 101670, 101671, 101661, 101807, 101674, 101668, 101663, 101664, 101665, 101702, 101787, 101798, 101689, 101675, 101678, 101680, 101677, 101684, 101848, 101686, 101687, 101701, 101690, 101691, 101692, 101693, 101809, 101799, 101695, 101696, 101697, 101698, 101699, 101700, 101785, 101786, 101870, 101776, 101816, 101813, 101814, 101729, 101730, 101731, 101732, 101733, 101734, 101724, 101725, 101855, 101783, 101784, 101726, 101727, 101728, 101779, 101830, 101774, 101773, 101766, 101771, 101767, 101769, 101768, 101765, 101762, 101763, 101754, 101758, 101756, 101800, 101747, 101745, 101761, 101834, 101782, 101744, 101743, 101740, 101737, 101777, 101739, 101746, 101772, 101760, 101738, 101759, 101794, 101793, 102040, 102020, 102013, 101953, 101991, 101942, 101941, 101989, 101938, 101916, 101917, 102025, 101922, 101920, 101900, 101899, 101943, 101897, 101919, 101918, 101957, 101896, 101895, 101889, 101940, 101887, 101885, 101886, 101980, 101939, 101891, 101869, 101867, 101866, 101861, 101872, 101937, 101881, 101894, 101827, 101832, 101808, 101780, 102061, 101996, 101990, 101982, 101997, 101984, 102022, 101994, 102003, 101954, 102001, 101988, 101985, 102000, 101961, 101969, 102014, 101979, 101986, 101968, 101962, 101992, 101995, 101959, 101955, 101956, 101993, 101981, 101978, 101958, 101960, 102038, 101963, 101983, 101999, 102021, 102015, 102011, 102039, 102018, 102019, 102012, 102028, 102017, 102062, 102016, 102027, 102024, 102023, 102026, 102029, 102058, 102056, 102057, 102053, 102054, 102055, 102047, 102063]}],\n",
       "                        {\"template\": {\"data\": {\"bar\": [{\"error_x\": {\"color\": \"#2a3f5f\"}, \"error_y\": {\"color\": \"#2a3f5f\"}, \"marker\": {\"line\": {\"color\": \"#E5ECF6\", \"width\": 0.5}}, \"type\": \"bar\"}], \"barpolar\": [{\"marker\": {\"line\": {\"color\": \"#E5ECF6\", \"width\": 0.5}}, \"type\": \"barpolar\"}], \"carpet\": [{\"aaxis\": {\"endlinecolor\": \"#2a3f5f\", \"gridcolor\": \"white\", \"linecolor\": \"white\", \"minorgridcolor\": \"white\", \"startlinecolor\": \"#2a3f5f\"}, \"baxis\": {\"endlinecolor\": \"#2a3f5f\", \"gridcolor\": \"white\", \"linecolor\": \"white\", \"minorgridcolor\": \"white\", \"startlinecolor\": \"#2a3f5f\"}, \"type\": \"carpet\"}], \"choropleth\": [{\"colorbar\": {\"outlinewidth\": 0, \"ticks\": \"\"}, \"type\": \"choropleth\"}], \"contour\": [{\"colorbar\": {\"outlinewidth\": 0, \"ticks\": \"\"}, \"colorscale\": [[0.0, \"#0d0887\"], [0.1111111111111111, \"#46039f\"], [0.2222222222222222, \"#7201a8\"], [0.3333333333333333, \"#9c179e\"], [0.4444444444444444, \"#bd3786\"], [0.5555555555555556, \"#d8576b\"], [0.6666666666666666, \"#ed7953\"], [0.7777777777777778, \"#fb9f3a\"], [0.8888888888888888, \"#fdca26\"], [1.0, \"#f0f921\"]], \"type\": \"contour\"}], \"contourcarpet\": [{\"colorbar\": {\"outlinewidth\": 0, \"ticks\": \"\"}, \"type\": \"contourcarpet\"}], \"heatmap\": [{\"colorbar\": {\"outlinewidth\": 0, \"ticks\": \"\"}, \"colorscale\": [[0.0, \"#0d0887\"], [0.1111111111111111, \"#46039f\"], [0.2222222222222222, \"#7201a8\"], [0.3333333333333333, \"#9c179e\"], [0.4444444444444444, \"#bd3786\"], [0.5555555555555556, \"#d8576b\"], [0.6666666666666666, \"#ed7953\"], [0.7777777777777778, \"#fb9f3a\"], [0.8888888888888888, \"#fdca26\"], [1.0, \"#f0f921\"]], \"type\": \"heatmap\"}], \"heatmapgl\": [{\"colorbar\": {\"outlinewidth\": 0, \"ticks\": \"\"}, \"colorscale\": [[0.0, \"#0d0887\"], [0.1111111111111111, \"#46039f\"], [0.2222222222222222, \"#7201a8\"], [0.3333333333333333, \"#9c179e\"], [0.4444444444444444, \"#bd3786\"], [0.5555555555555556, \"#d8576b\"], [0.6666666666666666, \"#ed7953\"], [0.7777777777777778, \"#fb9f3a\"], [0.8888888888888888, \"#fdca26\"], [1.0, \"#f0f921\"]], \"type\": \"heatmapgl\"}], \"histogram\": [{\"marker\": {\"colorbar\": {\"outlinewidth\": 0, \"ticks\": \"\"}}, \"type\": \"histogram\"}], \"histogram2d\": [{\"colorbar\": {\"outlinewidth\": 0, \"ticks\": \"\"}, \"colorscale\": [[0.0, \"#0d0887\"], [0.1111111111111111, \"#46039f\"], [0.2222222222222222, \"#7201a8\"], [0.3333333333333333, \"#9c179e\"], [0.4444444444444444, \"#bd3786\"], [0.5555555555555556, \"#d8576b\"], [0.6666666666666666, \"#ed7953\"], [0.7777777777777778, \"#fb9f3a\"], [0.8888888888888888, \"#fdca26\"], [1.0, \"#f0f921\"]], \"type\": \"histogram2d\"}], \"histogram2dcontour\": [{\"colorbar\": {\"outlinewidth\": 0, \"ticks\": \"\"}, \"colorscale\": [[0.0, \"#0d0887\"], [0.1111111111111111, \"#46039f\"], [0.2222222222222222, \"#7201a8\"], [0.3333333333333333, \"#9c179e\"], [0.4444444444444444, \"#bd3786\"], [0.5555555555555556, \"#d8576b\"], [0.6666666666666666, \"#ed7953\"], [0.7777777777777778, \"#fb9f3a\"], [0.8888888888888888, \"#fdca26\"], [1.0, \"#f0f921\"]], \"type\": \"histogram2dcontour\"}], \"mesh3d\": [{\"colorbar\": {\"outlinewidth\": 0, \"ticks\": \"\"}, \"type\": \"mesh3d\"}], \"parcoords\": [{\"line\": {\"colorbar\": {\"outlinewidth\": 0, \"ticks\": \"\"}}, \"type\": \"parcoords\"}], \"pie\": [{\"automargin\": true, \"type\": \"pie\"}], \"scatter\": [{\"marker\": {\"colorbar\": {\"outlinewidth\": 0, \"ticks\": \"\"}}, \"type\": \"scatter\"}], \"scatter3d\": [{\"line\": {\"colorbar\": {\"outlinewidth\": 0, \"ticks\": \"\"}}, \"marker\": {\"colorbar\": {\"outlinewidth\": 0, \"ticks\": \"\"}}, \"type\": \"scatter3d\"}], \"scattercarpet\": [{\"marker\": {\"colorbar\": {\"outlinewidth\": 0, \"ticks\": \"\"}}, \"type\": \"scattercarpet\"}], \"scattergeo\": [{\"marker\": {\"colorbar\": {\"outlinewidth\": 0, \"ticks\": \"\"}}, \"type\": \"scattergeo\"}], \"scattergl\": [{\"marker\": {\"colorbar\": {\"outlinewidth\": 0, \"ticks\": \"\"}}, \"type\": \"scattergl\"}], \"scattermapbox\": [{\"marker\": {\"colorbar\": {\"outlinewidth\": 0, \"ticks\": \"\"}}, \"type\": \"scattermapbox\"}], \"scatterpolar\": [{\"marker\": {\"colorbar\": {\"outlinewidth\": 0, \"ticks\": \"\"}}, \"type\": \"scatterpolar\"}], \"scatterpolargl\": [{\"marker\": {\"colorbar\": {\"outlinewidth\": 0, \"ticks\": \"\"}}, \"type\": \"scatterpolargl\"}], \"scatterternary\": [{\"marker\": {\"colorbar\": {\"outlinewidth\": 0, \"ticks\": \"\"}}, \"type\": \"scatterternary\"}], \"surface\": [{\"colorbar\": {\"outlinewidth\": 0, \"ticks\": \"\"}, \"colorscale\": [[0.0, \"#0d0887\"], [0.1111111111111111, \"#46039f\"], [0.2222222222222222, \"#7201a8\"], [0.3333333333333333, \"#9c179e\"], [0.4444444444444444, \"#bd3786\"], [0.5555555555555556, \"#d8576b\"], [0.6666666666666666, \"#ed7953\"], [0.7777777777777778, \"#fb9f3a\"], [0.8888888888888888, \"#fdca26\"], [1.0, \"#f0f921\"]], \"type\": \"surface\"}], \"table\": [{\"cells\": {\"fill\": {\"color\": \"#EBF0F8\"}, \"line\": {\"color\": \"white\"}}, \"header\": {\"fill\": {\"color\": \"#C8D4E3\"}, \"line\": {\"color\": \"white\"}}, \"type\": \"table\"}]}, \"layout\": {\"annotationdefaults\": {\"arrowcolor\": \"#2a3f5f\", \"arrowhead\": 0, \"arrowwidth\": 1}, \"coloraxis\": {\"colorbar\": {\"outlinewidth\": 0, \"ticks\": \"\"}}, \"colorscale\": {\"diverging\": [[0, \"#8e0152\"], [0.1, \"#c51b7d\"], [0.2, \"#de77ae\"], [0.3, \"#f1b6da\"], [0.4, \"#fde0ef\"], [0.5, \"#f7f7f7\"], [0.6, \"#e6f5d0\"], [0.7, \"#b8e186\"], [0.8, \"#7fbc41\"], [0.9, \"#4d9221\"], [1, \"#276419\"]], \"sequential\": [[0.0, \"#0d0887\"], [0.1111111111111111, \"#46039f\"], [0.2222222222222222, \"#7201a8\"], [0.3333333333333333, \"#9c179e\"], [0.4444444444444444, \"#bd3786\"], [0.5555555555555556, \"#d8576b\"], [0.6666666666666666, \"#ed7953\"], [0.7777777777777778, \"#fb9f3a\"], [0.8888888888888888, \"#fdca26\"], [1.0, \"#f0f921\"]], \"sequentialminus\": [[0.0, \"#0d0887\"], [0.1111111111111111, \"#46039f\"], [0.2222222222222222, \"#7201a8\"], [0.3333333333333333, \"#9c179e\"], [0.4444444444444444, \"#bd3786\"], [0.5555555555555556, \"#d8576b\"], [0.6666666666666666, \"#ed7953\"], [0.7777777777777778, \"#fb9f3a\"], [0.8888888888888888, \"#fdca26\"], [1.0, \"#f0f921\"]]}, \"colorway\": [\"#636efa\", \"#EF553B\", \"#00cc96\", \"#ab63fa\", \"#FFA15A\", \"#19d3f3\", \"#FF6692\", \"#B6E880\", \"#FF97FF\", \"#FECB52\"], \"font\": {\"color\": \"#2a3f5f\"}, \"geo\": {\"bgcolor\": \"white\", \"lakecolor\": \"white\", \"landcolor\": \"#E5ECF6\", \"showlakes\": true, \"showland\": true, \"subunitcolor\": \"white\"}, \"hoverlabel\": {\"align\": \"left\"}, \"hovermode\": \"closest\", \"mapbox\": {\"style\": \"light\"}, \"paper_bgcolor\": \"white\", \"plot_bgcolor\": \"#E5ECF6\", \"polar\": {\"angularaxis\": {\"gridcolor\": \"white\", \"linecolor\": \"white\", \"ticks\": \"\"}, \"bgcolor\": \"#E5ECF6\", \"radialaxis\": {\"gridcolor\": \"white\", \"linecolor\": \"white\", \"ticks\": \"\"}}, \"scene\": {\"xaxis\": {\"backgroundcolor\": \"#E5ECF6\", \"gridcolor\": \"white\", \"gridwidth\": 2, \"linecolor\": \"white\", \"showbackground\": true, \"ticks\": \"\", \"zerolinecolor\": \"white\"}, \"yaxis\": {\"backgroundcolor\": \"#E5ECF6\", \"gridcolor\": \"white\", \"gridwidth\": 2, \"linecolor\": \"white\", \"showbackground\": true, \"ticks\": \"\", \"zerolinecolor\": \"white\"}, \"zaxis\": {\"backgroundcolor\": \"#E5ECF6\", \"gridcolor\": \"white\", \"gridwidth\": 2, \"linecolor\": \"white\", \"showbackground\": true, \"ticks\": \"\", \"zerolinecolor\": \"white\"}}, \"shapedefaults\": {\"line\": {\"color\": \"#2a3f5f\"}}, \"ternary\": {\"aaxis\": {\"gridcolor\": \"white\", \"linecolor\": \"white\", \"ticks\": \"\"}, \"baxis\": {\"gridcolor\": \"white\", \"linecolor\": \"white\", \"ticks\": \"\"}, \"bgcolor\": \"#E5ECF6\", \"caxis\": {\"gridcolor\": \"white\", \"linecolor\": \"white\", \"ticks\": \"\"}}, \"title\": {\"x\": 0.05}, \"xaxis\": {\"automargin\": true, \"gridcolor\": \"white\", \"linecolor\": \"white\", \"ticks\": \"\", \"title\": {\"standoff\": 15}, \"zerolinecolor\": \"white\", \"zerolinewidth\": 2}, \"yaxis\": {\"automargin\": true, \"gridcolor\": \"white\", \"linecolor\": \"white\", \"ticks\": \"\", \"title\": {\"standoff\": 15}, \"zerolinecolor\": \"white\", \"zerolinewidth\": 2}}}, \"title\": {\"font\": {\"size\": 20}, \"text\": \"Distribuci\\u00f3n de las capacidades de los tanques\", \"x\": 0.1, \"xref\": \"paper\"}, \"xaxis\": {\"title\": {\"font\": {\"color\": \"#7f7f7f\", \"family\": \"Courier New, monospace\", \"size\": 18}, \"text\": \"Capacidad [Litros]\"}}, \"yaxis\": {\"title\": {\"font\": {\"color\": \"#7f7f7f\", \"family\": \"Courier New, monospace\", \"size\": 18}, \"text\": \"Cantidad de tanques\"}}},\n",
       "                        {\"responsive\": true}\n",
       "                    ).then(function(){\n",
       "                            \n",
       "var gd = document.getElementById('29401895-8e8b-452f-91c3-ffc293285d09');\n",
       "var x = new MutationObserver(function (mutations, observer) {{\n",
       "        var display = window.getComputedStyle(gd).display;\n",
       "        if (!display || display === 'none') {{\n",
       "            console.log([gd, 'removed!']);\n",
       "            Plotly.purge(gd);\n",
       "            observer.disconnect();\n",
       "        }}\n",
       "}});\n",
       "\n",
       "// Listen for the removal of the full notebook cells\n",
       "var notebookContainer = gd.closest('#notebook-container');\n",
       "if (notebookContainer) {{\n",
       "    x.observe(notebookContainer, {childList: true});\n",
       "}}\n",
       "\n",
       "// Listen for the clearing of the current output cell\n",
       "var outputEl = gd.closest('.output');\n",
       "if (outputEl) {{\n",
       "    x.observe(outputEl, {childList: true});\n",
       "}}\n",
       "\n",
       "                        })\n",
       "                };\n",
       "                });\n",
       "            </script>\n",
       "        </div>"
      ]
     },
     "metadata": {},
     "output_type": "display_data"
    },
    {
     "data": {
      "text/plain": [
       "count      1493.000000\n",
       "mean      29817.138647\n",
       "std       21527.311641\n",
       "min         150.000000\n",
       "25%       10000.000000\n",
       "50%       30000.000000\n",
       "75%       50000.000000\n",
       "max      104000.000000\n",
       "Name: capacidad_int64, dtype: float64"
      ]
     },
     "execution_count": 421,
     "metadata": {},
     "output_type": "execute_result"
    }
   ],
   "source": [
    "import plotly.graph_objects as go\n",
    "import plotly.offline as pltly\n",
    "import plotly\n",
    "from plotly.subplots import make_subplots\n",
    "\n",
    "#filtro capacidades menores a 40 litros\n",
    "df_tanques_f40 = df_tanques[df_tanques['capacidad_int64']>=40]\n",
    "\n",
    "df = df_tanques_f40.groupby(['capacidad_int64'], as_index=False).count()\n",
    "\n",
    "fig = go.Figure()\n",
    "\n",
    "fig.add_trace(go.Scatter(x=df['capacidad_int64'], y=df['id_tanque'], \n",
    "                         name='Cantidad de tanques', mode='markers', line=dict(color='royalblue', width=4)\n",
    "                        )\n",
    "             )\n",
    "\n",
    "fig.add_trace(go.Histogram(x=df_tanques_f40['capacidad_int64'], y=df_tanques_f40['id_tanque'],\n",
    "                           name='Distribución de capacidades',\n",
    "                           opacity=0.4,\n",
    "                           nbinsx=15,\n",
    "                        )\n",
    "             )\n",
    "\n",
    "\n",
    "fig.update_layout(\n",
    "    title=go.layout.Title(\n",
    "        text=\"Distribución de las capacidades de los tanques\",\n",
    "        xref=\"paper\",\n",
    "        x=0.1,\n",
    "        font_size=20,\n",
    "    ),\n",
    "    xaxis=go.layout.XAxis(\n",
    "        title=go.layout.xaxis.Title(\n",
    "            text=\"Capacidad [Litros]\",\n",
    "            font=dict(\n",
    "                family=\"Courier New, monospace\",\n",
    "                size=18,\n",
    "                color=\"#7f7f7f\"\n",
    "            )\n",
    "        )\n",
    "    ),\n",
    "    yaxis=go.layout.YAxis(\n",
    "        title=go.layout.yaxis.Title(\n",
    "            text=\"Cantidad de tanques\",\n",
    "            font=dict(\n",
    "                family=\"Courier New, monospace\",\n",
    "                size=18,\n",
    "                color=\"#7f7f7f\"\n",
    "            )\n",
    "        )\n",
    "    )\n",
    ")\n",
    "\n",
    "fig.show()\n",
    "df_tanques_f40['capacidad_int64'].describe()"
   ]
  },
  {
   "cell_type": "markdown",
   "metadata": {},
   "source": [
    "Como muestra el grafico anterior, si bien tenemos tanques de hasta 100kLts. la capacidad del 75 % de los tanques es de hasta 50kLts. Sin embargo es muy representativa la cantidad de almacenamientos de baja capacidad (< 10kLts)."
   ]
  },
  {
   "cell_type": "markdown",
   "metadata": {},
   "source": [
    "### 5- Obtener un gráfico que muestre y compare el comportamiento del coeficiente de variación de los distintos productos (df_productos). ¿Qué haría para mejorar el gráfico?"
   ]
  },
  {
   "cell_type": "code",
   "execution_count": 422,
   "metadata": {},
   "outputs": [
    {
     "data": {
      "text/plain": [
       "array([1.0e-03, 8.6e-04, 0.0e+00, 9.7e-04, 1.0e+01])"
      ]
     },
     "execution_count": 422,
     "metadata": {},
     "output_type": "execute_result"
    }
   ],
   "source": [
    "# coeficiente de variacion de volumen\n",
    "df_productos.coef_var_vol.unique()"
   ]
  },
  {
   "cell_type": "code",
   "execution_count": 423,
   "metadata": {},
   "outputs": [
    {
     "name": "stdout",
     "output_type": "stream",
     "text": [
      "Productos con coheficiente de dilatacion 0.001 : 99.77544910179641%\n"
     ]
    },
    {
     "data": {
      "image/png": "[encoded data removed]",
      "text/plain": [
       "<Figure size 1080x360 with 1 Axes>"
      ]
     },
     "metadata": {
      "needs_background": "light"
     },
     "output_type": "display_data"
    }
   ],
   "source": [
    "fig = plt.figure(figsize=(15,5))\n",
    "\n",
    "sp = plt.subplot('111')\n",
    "ax=sns.countplot(data=df_productos, x='coef_var_vol',ax=sp)\n",
    "plt.ylabel('Número de productos')\n",
    "plt.xlabel('Coeficiente de dilatación volumétrica [1/ºC]')\n",
    "plt.title(\"Distribución del Coeficiente de dilatación volumétrica de los productos\")\n",
    "\n",
    "\n",
    "\n",
    "data = df_productos.coef_var_vol.dropna()\n",
    "\n",
    "print(\n",
    "    \"Productos con coheficiente de dilatacion 0.001 : {}%\".format(\n",
    "        (100 * len(data[data == 0.001])/len(data))\n",
    "    )\n",
    ")\n",
    "# hay muchos productos con el mismo coheficiente."
   ]
  },
  {
   "cell_type": "markdown",
   "metadata": {},
   "source": [
    "Hay muchos productos con el mismo coeficiente, asique vamos a analizar a que productos corresponde."
   ]
  },
  {
   "cell_type": "code",
   "execution_count": 424,
   "metadata": {},
   "outputs": [
    {
     "data": {
      "image/png": "[encoded data removed]",
      "text/plain": [
       "<Figure size 1080x720 with 2 Axes>"
      ]
     },
     "metadata": {
      "needs_background": "light"
     },
     "output_type": "display_data"
    }
   ],
   "source": [
    "fig = plt.figure(figsize=(15,10))\n",
    "data = df_productos[df_productos.coef_var_vol == 0.001]\n",
    "data.nombre_producto = data.nombre_producto.str.upper().apply(lambda n: 'DIESEL' if re.match(r'.*(DIESEL|GAS\\s{0,1}OIL|EURO|D500).*',n) else n)\n",
    "data.nombre_producto = data.nombre_producto.apply(lambda n: 'NAFTA' if re.match(r'.*(NAFTA|SUPER|ENERGY).*',n) else n)\n",
    "data.nombre_producto = data.nombre_producto.apply(lambda n: 'DESCONOCIDO' if re.match(r'.*(PRODUCT|N/A).*',n) else n)\n",
    "\n",
    "sp = plt.subplot('211')\n",
    "sp.set_title(\"Productos con coheficiente de dilatacion = 0.001 (todos)\")\n",
    "sns.countplot(\n",
    "    data=data, x='nombre_producto',ax=sp,\n",
    "    order=data.nombre_producto.value_counts().index\n",
    ")\n",
    "sp.set_xticklabels(sp.get_xticklabels(), rotation=90)\n",
    "\n",
    "sp1 = plt.subplot('212')\n",
    "sp.set_title(\"Productos con coheficiente de dilatacion = 0.001 (Solo Conocidos)\")\n",
    "sns.countplot(\n",
    "    data=data[data.nombre_producto != 'DESCONOCIDO'], x='nombre_producto',ax=sp1,\n",
    "    order=data.nombre_producto[data.nombre_producto != 'DESCONOCIDO'].value_counts().index\n",
    ")\n",
    "sp1.set_xticklabels(sp1.get_xticklabels(), rotation=90)\n",
    "\n",
    "fig.tight_layout()"
   ]
  },
  {
   "cell_type": "markdown",
   "metadata": {},
   "source": [
    "Del grafico anterior concluimos que no podemos inferir a que producto real (diesel, gasoil, nafta, etc.) corresponden los que no tienen nombre , ej. \"PRODUCTO 1\",\n",
    "ya que son muchos los productos con el mismo coeficiente."
   ]
  },
  {
   "cell_type": "markdown",
   "metadata": {},
   "source": [
    "### 6- Analizar la distribución de los litros totales y la cantidad de cargas totales que suministraron los usuarios ('totalizador' y 'cargas_totales' del df_usuarios)"
   ]
  },
  {
   "cell_type": "markdown",
   "metadata": {},
   "source": [
    "La distribución y análisis de cargas totales se hizo en el punto 2.4 anterior."
   ]
  },
  {
   "cell_type": "code",
   "execution_count": 425,
   "metadata": {},
   "outputs": [
    {
     "data": {
      "image/png": "[encoded data removed]",
      "text/plain": [
       "<Figure size 1080x360 with 1 Axes>"
      ]
     },
     "metadata": {
      "needs_background": "light"
     },
     "output_type": "display_data"
    },
    {
     "data": {
      "text/plain": [
       "count    13623.000000\n",
       "mean      7515.260905\n",
       "std      20896.304402\n",
       "min          0.000000\n",
       "25%          0.000000\n",
       "50%          0.000000\n",
       "75%       1422.954500\n",
       "max      99999.999000\n",
       "Name: totalizador, dtype: float64"
      ]
     },
     "execution_count": 425,
     "metadata": {},
     "output_type": "execute_result"
    }
   ],
   "source": [
    "data = df_usuarios\n",
    "data.cargas_totales = data.cargas_totales.astype(int)\n",
    "data.totalizador = data.totalizador.astype(float)\n",
    "\n",
    "fig = plt.figure(figsize=(15,5))\n",
    "# sp2.set_title(\"Cantidad de litros despachados\")\n",
    "ax=sns.distplot(data.totalizador,kde=False, norm_hist=False, label='volumen suministrado[Lts]')\n",
    "\n",
    "plt.ylabel('Cantidad de usuarios')\n",
    "plt.xlabel('Totalizador [Litros]')\n",
    "plt.title(\"Distribución de la Cantidad de litros despachados\")\n",
    "ax.set_yscale('log')\n",
    "\n",
    "fig.tight_layout()\n",
    "plt.show()\n",
    "\n",
    "data.totalizador.describe()"
   ]
  },
  {
   "cell_type": "markdown",
   "metadata": {},
   "source": [
    "Como ya se explico en el item 2.4, esta variable esta corrupta, debido a la limitacion de tres cifras se genera un overflow de la variable por eso este dato es incierto, el valor correcto puede obtenerse analizando la tabla de transacciones en un periodo de tiempo.\n",
    "Lo mismo sucede con la variable totalizador, esta limitada a 5 cifras, esto genera oveflow y la variable se reinicia. no es confiable. Sin embargo podemos obtener el valor de la variable en un periodo de tiempo, idem a la variable cargas_totales."
   ]
  },
  {
   "cell_type": "code",
   "execution_count": 426,
   "metadata": {},
   "outputs": [],
   "source": [
    "# Cargo los datos de transaccion de 2019\n",
    "query = \" UNION \".join(\n",
    "    [\"SELECT id_transaccion, id_usuario, fecha, cantidad FROM sis_transa_2019_{}\".format(mes) for mes in range(1,13)]\n",
    ")\n",
    "df_transa_2019 = pd.read_sql(sql=query, con=path_conexion)\n",
    "# elimiro registros espurios (con conocimiento de campo)\n",
    "df_transa_2019 = df_transa_2019[(df_transa_2019.id_usuario!=0) & (df_transa_2019.fecha!='0000-00-00')]\n",
    "df_transa_2019.fecha = pd.to_datetime(df_transa_2019.fecha)\n",
    "df_transa_2019.cantidad = pd.to_numeric(df_transa_2019.cantidad, errors='coerce')\n",
    "df_transa_2019 = df_transa_2019.dropna()\n",
    "# Elimino transacciones con cantidad = 0\n",
    "df_transa_2019 = df_transa_2019[df_transa_2019.cantidad > 0]"
   ]
  },
  {
   "cell_type": "code",
   "execution_count": 427,
   "metadata": {},
   "outputs": [
    {
     "data": {
      "text/plain": [
       "count    3099.000000\n",
       "mean        5.073619\n",
       "std        30.429487\n",
       "min         1.000000\n",
       "25%         1.000000\n",
       "50%         1.111111\n",
       "75%         2.000000\n",
       "max      1088.000000\n",
       "Name: cargas_por_dia, dtype: float64"
      ]
     },
     "execution_count": 427,
     "metadata": {},
     "output_type": "execute_result"
    }
   ],
   "source": [
    "data = df_transa_2019.groupby(['id_usuario']).sum().sort_index()\n",
    "# obtengo el periodo activo del usuario\n",
    "data['fecha_min'] = df_transa_2019.groupby(['id_usuario']).min().sort_index().fecha\n",
    "data['fecha_max'] = df_transa_2019.groupby(['id_usuario']).max().sort_index().fecha\n",
    "# cantidad de dias que el usuario estuvo activo \n",
    "data['dias'] = df_transa_2019[['id_usuario','fecha']].drop_duplicates().groupby(['id_usuario']).count().sort_index().fecha\n",
    "del data['id_transaccion']\n",
    "# elimino los que tuvieron una carga eventual \n",
    "data = data[data.dias > 0]\n",
    "\n",
    "data['cantidad_por_dia'] = data.cantidad / data.dias\n",
    "data['cargas_totales'] = df_transa_2019.groupby(['id_usuario']).count().id_transaccion.sort_index()\n",
    "data['cargas_por_dia'] = data.cargas_totales / data.dias\n",
    "\n",
    "data.cargas_por_dia.describe()"
   ]
  },
  {
   "cell_type": "markdown",
   "metadata": {},
   "source": [
    "Como se menciono en el punto 2.4, es logico pensar que podemos diferenciar los grupos de usuarios umbralizando en cargas_por_dia = 2 es decir que un quien recibe el combustible carga como maximo dos veces al dia. esta hiposis se prueba obserbando que el terver cuartil tiene valor 2.0 "
   ]
  },
  {
   "cell_type": "code",
   "execution_count": 428,
   "metadata": {},
   "outputs": [
    {
     "data": {
      "image/png": "[encoded data removed]",
      "text/plain": [
       "<Figure size 1080x720 with 2 Axes>"
      ]
     },
     "metadata": {
      "needs_background": "light"
     },
     "output_type": "display_data"
    }
   ],
   "source": [
    "fig = plt.figure(figsize=(15,10))\n",
    "data['grupo'] = np.where(data.cargas_por_dia <= 2, \"Grupo 1\", \"Grupo 2\")\n",
    "\n",
    "sp1 = plt.subplot(\"211\")\n",
    "sp1.set_title(\"cantidad promedio de cargas  por dia vs volumen promedio de la transaccion por dia \")\n",
    "sns.scatterplot(data=data, x='cargas_por_dia', y='cantidad_por_dia', hue='grupo', ax=sp1)\n",
    "\n",
    "sp2 = plt.subplot(\"212\")\n",
    "sp2.set_title(\"Cantidad promedio de cargas  por dia vs volumen promedio de la transaccion por dia (Grupo 1)\")\n",
    "sns.scatterplot(data=data[data.grupo == 'Grupo 1'], x='cargas_por_dia', y='cantidad_por_dia', ax=sp2)\n",
    "\n",
    "fig.tight_layout()"
   ]
  },
  {
   "cell_type": "markdown",
   "metadata": {},
   "source": [
    "En el Scaterplot anterior se muestra la relacion entre las variables 'cantidad de cargas por dia' y 'volumen cargado por dia'. para el Grupo dos existe una correlacion positiva de las variables, mientras que para el grupo uno, no hay una correlacion evidente."
   ]
  },
  {
   "cell_type": "markdown",
   "metadata": {},
   "source": [
    "## Emplear los datos públicos del Bioetanol y Biodiesel: producción y ventas (total país), en las últimos planteamientos:\n",
    "\n",
    "### 7- Obtener las gráficas de series temporales de la producción de bioetanol en base a caña de azúcar, a maíz y la total, así también para la producción total de biodiesel."
   ]
  },
  {
   "cell_type": "code",
   "execution_count": 429,
   "metadata": {},
   "outputs": [
    {
     "data": {
      "application/vnd.plotly.v1+json": {
       "config": {
        "plotlyServerURL": "https://plot.ly"
       },
       "data": [
        {
         "line": {
          "shape": "spline",
          "width": 5
         },
         "mode": "lines",
         "name": "Total",
         "type": "scatter",
         "x": [
          "2009-11-01T00:00:00",
          "2009-12-01T00:00:00",
          "2010-01-01T00:00:00",
          "2010-02-01T00:00:00",
          "2010-03-01T00:00:00",
          "2010-04-01T00:00:00",
          "2010-05-01T00:00:00",
          "2010-06-01T00:00:00",
          "2010-07-01T00:00:00",
          "2010-08-01T00:00:00",
          "2010-09-01T00:00:00",
          "2010-10-01T00:00:00",
          "2010-11-01T00:00:00",
          "2010-12-01T00:00:00",
          "2011-01-01T00:00:00",
          "2011-02-01T00:00:00",
          "2011-03-01T00:00:00",
          "2011-04-01T00:00:00",
          "2011-05-01T00:00:00",
          "2011-06-01T00:00:00",
          "2011-07-01T00:00:00",
          "2011-08-01T00:00:00",
          "2011-09-01T00:00:00",
          "2011-10-01T00:00:00",
          "2011-11-01T00:00:00",
          "2011-12-01T00:00:00",
          "2012-01-01T00:00:00",
          "2012-02-01T00:00:00",
          "2012-03-01T00:00:00",
          "2012-04-01T00:00:00",
          "2012-05-01T00:00:00",
          "2012-06-01T00:00:00",
          "2012-07-01T00:00:00",
          "2012-08-01T00:00:00",
          "2012-09-01T00:00:00",
          "2012-10-01T00:00:00",
          "2012-11-01T00:00:00",
          "2012-12-01T00:00:00",
          "2013-01-01T00:00:00",
          "2013-02-01T00:00:00",
          "2013-03-01T00:00:00",
          "2013-04-01T00:00:00",
          "2013-05-01T00:00:00",
          "2013-06-01T00:00:00",
          "2013-07-01T00:00:00",
          "2013-08-01T00:00:00",
          "2013-09-01T00:00:00",
          "2013-10-01T00:00:00",
          "2013-11-01T00:00:00",
          "2013-12-01T00:00:00",
          "2014-01-01T00:00:00",
          "2014-02-01T00:00:00",
          "2014-03-01T00:00:00",
          "2014-04-01T00:00:00",
          "2014-05-01T00:00:00",
          "2014-06-01T00:00:00",
          "2014-07-01T00:00:00",
          "2014-08-01T00:00:00",
          "2014-09-01T00:00:00",
          "2014-10-01T00:00:00",
          "2014-11-01T00:00:00",
          "2014-12-01T00:00:00",
          "2015-01-01T00:00:00",
          "2015-02-01T00:00:00",
          "2015-03-01T00:00:00",
          "2015-04-01T00:00:00",
          "2015-05-01T00:00:00",
          "2015-06-01T00:00:00",
          "2015-07-01T00:00:00",
          "2015-08-01T00:00:00",
          "2015-09-01T00:00:00",
          "2015-10-01T00:00:00",
          "2015-11-01T00:00:00",
          "2015-12-01T00:00:00",
          "2016-01-01T00:00:00",
          "2016-02-01T00:00:00",
          "2016-03-01T00:00:00",
          "2016-04-01T00:00:00",
          "2016-05-01T00:00:00",
          "2016-06-01T00:00:00",
          "2016-07-01T00:00:00",
          "2016-08-01T00:00:00",
          "2016-09-01T00:00:00",
          "2016-10-01T00:00:00",
          "2016-11-01T00:00:00",
          "2016-12-01T00:00:00",
          "2017-01-01T00:00:00",
          "2017-02-01T00:00:00",
          "2017-03-01T00:00:00",
          "2017-04-01T00:00:00",
          "2017-05-01T00:00:00",
          "2017-06-01T00:00:00",
          "2017-07-01T00:00:00",
          "2017-08-01T00:00:00",
          "2017-09-01T00:00:00",
          "2017-10-01T00:00:00",
          "2017-11-01T00:00:00",
          "2017-12-01T00:00:00",
          "2018-01-01T00:00:00",
          "2018-02-01T00:00:00",
          "2018-03-01T00:00:00"
         ],
         "y": [
          858,
          22439,
          771,
          4791,
          4445,
          4549,
          5210,
          12069,
          14575,
          15258,
          17729,
          22145,
          17654,
          5734,
          7775,
          4239,
          4427,
          5938,
          5081,
          18209,
          21344,
          20285,
          23841,
          23626,
          21336,
          17522,
          17295,
          8261,
          9420,
          8026,
          9710,
          22395,
          28509,
          24617,
          32106,
          33540,
          28740,
          27870,
          22087,
          18891,
          27122,
          31757,
          31832,
          40810,
          50613,
          61897,
          49433,
          50063,
          47499,
          40376,
          42428,
          39043,
          41799,
          48837,
          52703,
          60959,
          59677,
          62947,
          59644,
          72174,
          71396,
          59514,
          53786,
          51625,
          64599,
          60217,
          54562,
          74464,
          78868,
          72603,
          73144,
          86136,
          73433,
          71970,
          66620,
          65050,
          65050,
          60670,
          62659,
          60695,
          71659,
          87669,
          92162,
          84945.9,
          87028.27543,
          85736,
          84345.28797,
          80095.56,
          82796.55,
          80573.26,
          84274.99,
          92959.41,
          97319.65,
          104563.28,
          102827.72,
          111264.81,
          96565.42,
          87520.9,
          83694.36,
          80920.94,
          67486.43
         ]
        },
        {
         "line": {
          "shape": "spline"
         },
         "mode": "lines",
         "name": "Maíz",
         "type": "scatter",
         "x": [
          "2009-11-01T00:00:00",
          "2009-12-01T00:00:00",
          "2010-01-01T00:00:00",
          "2010-02-01T00:00:00",
          "2010-03-01T00:00:00",
          "2010-04-01T00:00:00",
          "2010-05-01T00:00:00",
          "2010-06-01T00:00:00",
          "2010-07-01T00:00:00",
          "2010-08-01T00:00:00",
          "2010-09-01T00:00:00",
          "2010-10-01T00:00:00",
          "2010-11-01T00:00:00",
          "2010-12-01T00:00:00",
          "2011-01-01T00:00:00",
          "2011-02-01T00:00:00",
          "2011-03-01T00:00:00",
          "2011-04-01T00:00:00",
          "2011-05-01T00:00:00",
          "2011-06-01T00:00:00",
          "2011-07-01T00:00:00",
          "2011-08-01T00:00:00",
          "2011-09-01T00:00:00",
          "2011-10-01T00:00:00",
          "2011-11-01T00:00:00",
          "2011-12-01T00:00:00",
          "2012-01-01T00:00:00",
          "2012-02-01T00:00:00",
          "2012-03-01T00:00:00",
          "2012-04-01T00:00:00",
          "2012-05-01T00:00:00",
          "2012-06-01T00:00:00",
          "2012-07-01T00:00:00",
          "2012-08-01T00:00:00",
          "2012-09-01T00:00:00",
          "2012-10-01T00:00:00",
          "2012-11-01T00:00:00",
          "2012-12-01T00:00:00",
          "2013-01-01T00:00:00",
          "2013-02-01T00:00:00",
          "2013-03-01T00:00:00",
          "2013-04-01T00:00:00",
          "2013-05-01T00:00:00",
          "2013-06-01T00:00:00",
          "2013-07-01T00:00:00",
          "2013-08-01T00:00:00",
          "2013-09-01T00:00:00",
          "2013-10-01T00:00:00",
          "2013-11-01T00:00:00",
          "2013-12-01T00:00:00",
          "2014-01-01T00:00:00",
          "2014-02-01T00:00:00",
          "2014-03-01T00:00:00",
          "2014-04-01T00:00:00",
          "2014-05-01T00:00:00",
          "2014-06-01T00:00:00",
          "2014-07-01T00:00:00",
          "2014-08-01T00:00:00",
          "2014-09-01T00:00:00",
          "2014-10-01T00:00:00",
          "2014-11-01T00:00:00",
          "2014-12-01T00:00:00",
          "2015-01-01T00:00:00",
          "2015-02-01T00:00:00",
          "2015-03-01T00:00:00",
          "2015-04-01T00:00:00",
          "2015-05-01T00:00:00",
          "2015-06-01T00:00:00",
          "2015-07-01T00:00:00",
          "2015-08-01T00:00:00",
          "2015-09-01T00:00:00",
          "2015-10-01T00:00:00",
          "2015-11-01T00:00:00",
          "2015-12-01T00:00:00",
          "2016-01-01T00:00:00",
          "2016-02-01T00:00:00",
          "2016-03-01T00:00:00",
          "2016-04-01T00:00:00",
          "2016-05-01T00:00:00",
          "2016-06-01T00:00:00",
          "2016-07-01T00:00:00",
          "2016-08-01T00:00:00",
          "2016-09-01T00:00:00",
          "2016-10-01T00:00:00",
          "2016-11-01T00:00:00",
          "2016-12-01T00:00:00",
          "2017-01-01T00:00:00",
          "2017-02-01T00:00:00",
          "2017-03-01T00:00:00",
          "2017-04-01T00:00:00",
          "2017-05-01T00:00:00",
          "2017-06-01T00:00:00",
          "2017-07-01T00:00:00",
          "2017-08-01T00:00:00",
          "2017-09-01T00:00:00",
          "2017-10-01T00:00:00",
          "2017-11-01T00:00:00",
          "2017-12-01T00:00:00",
          "2018-01-01T00:00:00",
          "2018-02-01T00:00:00",
          "2018-03-01T00:00:00"
         ],
         "y": [
          0,
          0,
          0,
          0,
          0,
          0,
          0,
          0,
          0,
          0,
          0,
          0,
          0,
          0,
          0,
          0,
          0,
          0,
          0,
          0,
          0,
          0,
          0,
          0,
          0,
          0,
          0,
          0,
          0,
          0,
          0,
          0,
          0,
          0,
          3373,
          5526,
          4801,
          6800,
          7690,
          7287,
          9913,
          10349,
          12026,
          12170,
          12458,
          24224,
          15269,
          15951,
          18786,
          21471,
          22848,
          24005,
          23942,
          30479,
          35032,
          32735,
          33191,
          34043,
          26968,
          36784,
          37655,
          33575,
          36628,
          34054,
          44049,
          39129,
          35651,
          42783,
          40661,
          39692,
          35391,
          46638,
          40450,
          44138,
          45024,
          40894,
          45938,
          40211,
          38618,
          31724,
          37686,
          45347,
          43208,
          35582.64,
          40976.52555,
          44628.55,
          46550.85695,
          44488.99,
          44100.38,
          45218.39,
          40222.39,
          41800.21,
          43395.82,
          48852.49,
          47482.68,
          50849.98,
          47841.45,
          51159.89,
          50443.3,
          45592.72,
          49518.89
         ]
        },
        {
         "line": {
          "shape": "spline"
         },
         "mode": "lines",
         "name": "Caña de azucar",
         "type": "scatter",
         "x": [
          "2009-11-01T00:00:00",
          "2009-12-01T00:00:00",
          "2010-01-01T00:00:00",
          "2010-02-01T00:00:00",
          "2010-03-01T00:00:00",
          "2010-04-01T00:00:00",
          "2010-05-01T00:00:00",
          "2010-06-01T00:00:00",
          "2010-07-01T00:00:00",
          "2010-08-01T00:00:00",
          "2010-09-01T00:00:00",
          "2010-10-01T00:00:00",
          "2010-11-01T00:00:00",
          "2010-12-01T00:00:00",
          "2011-01-01T00:00:00",
          "2011-02-01T00:00:00",
          "2011-03-01T00:00:00",
          "2011-04-01T00:00:00",
          "2011-05-01T00:00:00",
          "2011-06-01T00:00:00",
          "2011-07-01T00:00:00",
          "2011-08-01T00:00:00",
          "2011-09-01T00:00:00",
          "2011-10-01T00:00:00",
          "2011-11-01T00:00:00",
          "2011-12-01T00:00:00",
          "2012-01-01T00:00:00",
          "2012-02-01T00:00:00",
          "2012-03-01T00:00:00",
          "2012-04-01T00:00:00",
          "2012-05-01T00:00:00",
          "2012-06-01T00:00:00",
          "2012-07-01T00:00:00",
          "2012-08-01T00:00:00",
          "2012-09-01T00:00:00",
          "2012-10-01T00:00:00",
          "2012-11-01T00:00:00",
          "2012-12-01T00:00:00",
          "2013-01-01T00:00:00",
          "2013-02-01T00:00:00",
          "2013-03-01T00:00:00",
          "2013-04-01T00:00:00",
          "2013-05-01T00:00:00",
          "2013-06-01T00:00:00",
          "2013-07-01T00:00:00",
          "2013-08-01T00:00:00",
          "2013-09-01T00:00:00",
          "2013-10-01T00:00:00",
          "2013-11-01T00:00:00",
          "2013-12-01T00:00:00",
          "2014-01-01T00:00:00",
          "2014-02-01T00:00:00",
          "2014-03-01T00:00:00",
          "2014-04-01T00:00:00",
          "2014-05-01T00:00:00",
          "2014-06-01T00:00:00",
          "2014-07-01T00:00:00",
          "2014-08-01T00:00:00",
          "2014-09-01T00:00:00",
          "2014-10-01T00:00:00",
          "2014-11-01T00:00:00",
          "2014-12-01T00:00:00",
          "2015-01-01T00:00:00",
          "2015-02-01T00:00:00",
          "2015-03-01T00:00:00",
          "2015-04-01T00:00:00",
          "2015-05-01T00:00:00",
          "2015-06-01T00:00:00",
          "2015-07-01T00:00:00",
          "2015-08-01T00:00:00",
          "2015-09-01T00:00:00",
          "2015-10-01T00:00:00",
          "2015-11-01T00:00:00",
          "2015-12-01T00:00:00",
          "2016-01-01T00:00:00",
          "2016-02-01T00:00:00",
          "2016-03-01T00:00:00",
          "2016-04-01T00:00:00",
          "2016-05-01T00:00:00",
          "2016-06-01T00:00:00",
          "2016-07-01T00:00:00",
          "2016-08-01T00:00:00",
          "2016-09-01T00:00:00",
          "2016-10-01T00:00:00",
          "2016-11-01T00:00:00",
          "2016-12-01T00:00:00",
          "2017-01-01T00:00:00",
          "2017-02-01T00:00:00",
          "2017-03-01T00:00:00",
          "2017-04-01T00:00:00",
          "2017-05-01T00:00:00",
          "2017-06-01T00:00:00",
          "2017-07-01T00:00:00",
          "2017-08-01T00:00:00",
          "2017-09-01T00:00:00",
          "2017-10-01T00:00:00",
          "2017-11-01T00:00:00",
          "2017-12-01T00:00:00",
          "2018-01-01T00:00:00",
          "2018-02-01T00:00:00",
          "2018-03-01T00:00:00"
         ],
         "y": [
          858,
          22439,
          771,
          4791,
          4445,
          4549,
          5210,
          12069,
          14575,
          15258,
          17729,
          22145,
          17654,
          5734,
          7775,
          4239,
          4427,
          5938,
          5081,
          18209,
          21344,
          20285,
          23841,
          23626,
          21336,
          17522,
          17295,
          8261,
          9420,
          8026,
          9710,
          22395,
          28509,
          24617,
          28733,
          28014,
          23939,
          21070,
          14397,
          11604,
          17209,
          21408,
          19806,
          28640,
          38155,
          37673,
          34164,
          34112,
          28713,
          18905,
          19580,
          15038,
          17857,
          18358,
          17671,
          28224,
          26486,
          28904,
          32676,
          35390,
          33741,
          25939,
          17158,
          17571,
          20550,
          21088,
          18911,
          31681,
          38207,
          32911,
          37753,
          39498,
          32984,
          27832,
          21596,
          24156,
          19112,
          20459,
          24041,
          28972,
          33973,
          42323,
          48954,
          49363.26,
          46051.74984,
          41107.68,
          37794.43101,
          35606.57,
          38696.17,
          35354.87,
          44052.6,
          51159.2,
          53923.83,
          55710.79,
          55345.04,
          60414.83,
          48723.97,
          36361.01,
          33251.06,
          35328.22,
          17967.54
         ]
        }
       ],
       "layout": {
        "legend": {
         "title": {
          "text": "Producción"
         }
        },
        "template": {
         "data": {
          "bar": [
           {
            "error_x": {
             "color": "#2a3f5f"
            },
            "error_y": {
             "color": "#2a3f5f"
            },
            "marker": {
             "line": {
              "color": "#E5ECF6",
              "width": 0.5
             }
            },
            "type": "bar"
           }
          ],
          "barpolar": [
           {
            "marker": {
             "line": {
              "color": "#E5ECF6",
              "width": 0.5
             }
            },
            "type": "barpolar"
           }
          ],
          "carpet": [
           {
            "aaxis": {
             "endlinecolor": "#2a3f5f",
             "gridcolor": "white",
             "linecolor": "white",
             "minorgridcolor": "white",
             "startlinecolor": "#2a3f5f"
            },
            "baxis": {
             "endlinecolor": "#2a3f5f",
             "gridcolor": "white",
             "linecolor": "white",
             "minorgridcolor": "white",
             "startlinecolor": "#2a3f5f"
            },
            "type": "carpet"
           }
          ],
          "choropleth": [
           {
            "colorbar": {
             "outlinewidth": 0,
             "ticks": ""
            },
            "type": "choropleth"
           }
          ],
          "contour": [
           {
            "colorbar": {
             "outlinewidth": 0,
             "ticks": ""
            },
            "colorscale": [
             [
              0,
              "#0d0887"
             ],
             [
              0.1111111111111111,
              "#46039f"
             ],
             [
              0.2222222222222222,
              "#7201a8"
             ],
             [
              0.3333333333333333,
              "#9c179e"
             ],
             [
              0.4444444444444444,
              "#bd3786"
             ],
             [
              0.5555555555555556,
              "#d8576b"
             ],
             [
              0.6666666666666666,
              "#ed7953"
             ],
             [
              0.7777777777777778,
              "#fb9f3a"
             ],
             [
              0.8888888888888888,
              "#fdca26"
             ],
             [
              1,
              "#f0f921"
             ]
            ],
            "type": "contour"
           }
          ],
          "contourcarpet": [
           {
            "colorbar": {
             "outlinewidth": 0,
             "ticks": ""
            },
            "type": "contourcarpet"
           }
          ],
          "heatmap": [
           {
            "colorbar": {
             "outlinewidth": 0,
             "ticks": ""
            },
            "colorscale": [
             [
              0,
              "#0d0887"
             ],
             [
              0.1111111111111111,
              "#46039f"
             ],
             [
              0.2222222222222222,
              "#7201a8"
             ],
             [
              0.3333333333333333,
              "#9c179e"
             ],
             [
              0.4444444444444444,
              "#bd3786"
             ],
             [
              0.5555555555555556,
              "#d8576b"
             ],
             [
              0.6666666666666666,
              "#ed7953"
             ],
             [
              0.7777777777777778,
              "#fb9f3a"
             ],
             [
              0.8888888888888888,
              "#fdca26"
             ],
             [
              1,
              "#f0f921"
             ]
            ],
            "type": "heatmap"
           }
          ],
          "heatmapgl": [
           {
            "colorbar": {
             "outlinewidth": 0,
             "ticks": ""
            },
            "colorscale": [
             [
              0,
              "#0d0887"
             ],
             [
              0.1111111111111111,
              "#46039f"
             ],
             [
              0.2222222222222222,
              "#7201a8"
             ],
             [
              0.3333333333333333,
              "#9c179e"
             ],
             [
              0.4444444444444444,
              "#bd3786"
             ],
             [
              0.5555555555555556,
              "#d8576b"
             ],
             [
              0.6666666666666666,
              "#ed7953"
             ],
             [
              0.7777777777777778,
              "#fb9f3a"
             ],
             [
              0.8888888888888888,
              "#fdca26"
             ],
             [
              1,
              "#f0f921"
             ]
            ],
            "type": "heatmapgl"
           }
          ],
          "histogram": [
           {
            "marker": {
             "colorbar": {
              "outlinewidth": 0,
              "ticks": ""
             }
            },
            "type": "histogram"
           }
          ],
          "histogram2d": [
           {
            "colorbar": {
             "outlinewidth": 0,
             "ticks": ""
            },
            "colorscale": [
             [
              0,
              "#0d0887"
             ],
             [
              0.1111111111111111,
              "#46039f"
             ],
             [
              0.2222222222222222,
              "#7201a8"
             ],
             [
              0.3333333333333333,
              "#9c179e"
             ],
             [
              0.4444444444444444,
              "#bd3786"
             ],
             [
              0.5555555555555556,
              "#d8576b"
             ],
             [
              0.6666666666666666,
              "#ed7953"
             ],
             [
              0.7777777777777778,
              "#fb9f3a"
             ],
             [
              0.8888888888888888,
              "#fdca26"
             ],
             [
              1,
              "#f0f921"
             ]
            ],
            "type": "histogram2d"
           }
          ],
          "histogram2dcontour": [
           {
            "colorbar": {
             "outlinewidth": 0,
             "ticks": ""
            },
            "colorscale": [
             [
              0,
              "#0d0887"
             ],
             [
              0.1111111111111111,
              "#46039f"
             ],
             [
              0.2222222222222222,
              "#7201a8"
             ],
             [
              0.3333333333333333,
              "#9c179e"
             ],
             [
              0.4444444444444444,
              "#bd3786"
             ],
             [
              0.5555555555555556,
              "#d8576b"
             ],
             [
              0.6666666666666666,
              "#ed7953"
             ],
             [
              0.7777777777777778,
              "#fb9f3a"
             ],
             [
              0.8888888888888888,
              "#fdca26"
             ],
             [
              1,
              "#f0f921"
             ]
            ],
            "type": "histogram2dcontour"
           }
          ],
          "mesh3d": [
           {
            "colorbar": {
             "outlinewidth": 0,
             "ticks": ""
            },
            "type": "mesh3d"
           }
          ],
          "parcoords": [
           {
            "line": {
             "colorbar": {
              "outlinewidth": 0,
              "ticks": ""
             }
            },
            "type": "parcoords"
           }
          ],
          "pie": [
           {
            "automargin": true,
            "type": "pie"
           }
          ],
          "scatter": [
           {
            "marker": {
             "colorbar": {
              "outlinewidth": 0,
              "ticks": ""
             }
            },
            "type": "scatter"
           }
          ],
          "scatter3d": [
           {
            "line": {
             "colorbar": {
              "outlinewidth": 0,
              "ticks": ""
             }
            },
            "marker": {
             "colorbar": {
              "outlinewidth": 0,
              "ticks": ""
             }
            },
            "type": "scatter3d"
           }
          ],
          "scattercarpet": [
           {
            "marker": {
             "colorbar": {
              "outlinewidth": 0,
              "ticks": ""
             }
            },
            "type": "scattercarpet"
           }
          ],
          "scattergeo": [
           {
            "marker": {
             "colorbar": {
              "outlinewidth": 0,
              "ticks": ""
             }
            },
            "type": "scattergeo"
           }
          ],
          "scattergl": [
           {
            "marker": {
             "colorbar": {
              "outlinewidth": 0,
              "ticks": ""
             }
            },
            "type": "scattergl"
           }
          ],
          "scattermapbox": [
           {
            "marker": {
             "colorbar": {
              "outlinewidth": 0,
              "ticks": ""
             }
            },
            "type": "scattermapbox"
           }
          ],
          "scatterpolar": [
           {
            "marker": {
             "colorbar": {
              "outlinewidth": 0,
              "ticks": ""
             }
            },
            "type": "scatterpolar"
           }
          ],
          "scatterpolargl": [
           {
            "marker": {
             "colorbar": {
              "outlinewidth": 0,
              "ticks": ""
             }
            },
            "type": "scatterpolargl"
           }
          ],
          "scatterternary": [
           {
            "marker": {
             "colorbar": {
              "outlinewidth": 0,
              "ticks": ""
             }
            },
            "type": "scatterternary"
           }
          ],
          "surface": [
           {
            "colorbar": {
             "outlinewidth": 0,
             "ticks": ""
            },
            "colorscale": [
             [
              0,
              "#0d0887"
             ],
             [
              0.1111111111111111,
              "#46039f"
             ],
             [
              0.2222222222222222,
              "#7201a8"
             ],
             [
              0.3333333333333333,
              "#9c179e"
             ],
             [
              0.4444444444444444,
              "#bd3786"
             ],
             [
              0.5555555555555556,
              "#d8576b"
             ],
             [
              0.6666666666666666,
              "#ed7953"
             ],
             [
              0.7777777777777778,
              "#fb9f3a"
             ],
             [
              0.8888888888888888,
              "#fdca26"
             ],
             [
              1,
              "#f0f921"
             ]
            ],
            "type": "surface"
           }
          ],
          "table": [
           {
            "cells": {
             "fill": {
              "color": "#EBF0F8"
             },
             "line": {
              "color": "white"
             }
            },
            "header": {
             "fill": {
              "color": "#C8D4E3"
             },
             "line": {
              "color": "white"
             }
            },
            "type": "table"
           }
          ]
         },
         "layout": {
          "annotationdefaults": {
           "arrowcolor": "#2a3f5f",
           "arrowhead": 0,
           "arrowwidth": 1
          },
          "coloraxis": {
           "colorbar": {
            "outlinewidth": 0,
            "ticks": ""
           }
          },
          "colorscale": {
           "diverging": [
            [
             0,
             "#8e0152"
            ],
            [
             0.1,
             "#c51b7d"
            ],
            [
             0.2,
             "#de77ae"
            ],
            [
             0.3,
             "#f1b6da"
            ],
            [
             0.4,
             "#fde0ef"
            ],
            [
             0.5,
             "#f7f7f7"
            ],
            [
             0.6,
             "#e6f5d0"
            ],
            [
             0.7,
             "#b8e186"
            ],
            [
             0.8,
             "#7fbc41"
            ],
            [
             0.9,
             "#4d9221"
            ],
            [
             1,
             "#276419"
            ]
           ],
           "sequential": [
            [
             0,
             "#0d0887"
            ],
            [
             0.1111111111111111,
             "#46039f"
            ],
            [
             0.2222222222222222,
             "#7201a8"
            ],
            [
             0.3333333333333333,
             "#9c179e"
            ],
            [
             0.4444444444444444,
             "#bd3786"
            ],
            [
             0.5555555555555556,
             "#d8576b"
            ],
            [
             0.6666666666666666,
             "#ed7953"
            ],
            [
             0.7777777777777778,
             "#fb9f3a"
            ],
            [
             0.8888888888888888,
             "#fdca26"
            ],
            [
             1,
             "#f0f921"
            ]
           ],
           "sequentialminus": [
            [
             0,
             "#0d0887"
            ],
            [
             0.1111111111111111,
             "#46039f"
            ],
            [
             0.2222222222222222,
             "#7201a8"
            ],
            [
             0.3333333333333333,
             "#9c179e"
            ],
            [
             0.4444444444444444,
             "#bd3786"
            ],
            [
             0.5555555555555556,
             "#d8576b"
            ],
            [
             0.6666666666666666,
             "#ed7953"
            ],
            [
             0.7777777777777778,
             "#fb9f3a"
            ],
            [
             0.8888888888888888,
             "#fdca26"
            ],
            [
             1,
             "#f0f921"
            ]
           ]
          },
          "colorway": [
           "#636efa",
           "#EF553B",
           "#00cc96",
           "#ab63fa",
           "#FFA15A",
           "#19d3f3",
           "#FF6692",
           "#B6E880",
           "#FF97FF",
           "#FECB52"
          ],
          "font": {
           "color": "#2a3f5f"
          },
          "geo": {
           "bgcolor": "white",
           "lakecolor": "white",
           "landcolor": "#E5ECF6",
           "showlakes": true,
           "showland": true,
           "subunitcolor": "white"
          },
          "hoverlabel": {
           "align": "left"
          },
          "hovermode": "closest",
          "mapbox": {
           "style": "light"
          },
          "paper_bgcolor": "white",
          "plot_bgcolor": "#E5ECF6",
          "polar": {
           "angularaxis": {
            "gridcolor": "white",
            "linecolor": "white",
            "ticks": ""
           },
           "bgcolor": "#E5ECF6",
           "radialaxis": {
            "gridcolor": "white",
            "linecolor": "white",
            "ticks": ""
           }
          },
          "scene": {
           "xaxis": {
            "backgroundcolor": "#E5ECF6",
            "gridcolor": "white",
            "gridwidth": 2,
            "linecolor": "white",
            "showbackground": true,
            "ticks": "",
            "zerolinecolor": "white"
           },
           "yaxis": {
            "backgroundcolor": "#E5ECF6",
            "gridcolor": "white",
            "gridwidth": 2,
            "linecolor": "white",
            "showbackground": true,
            "ticks": "",
            "zerolinecolor": "white"
           },
           "zaxis": {
            "backgroundcolor": "#E5ECF6",
            "gridcolor": "white",
            "gridwidth": 2,
            "linecolor": "white",
            "showbackground": true,
            "ticks": "",
            "zerolinecolor": "white"
           }
          },
          "shapedefaults": {
           "line": {
            "color": "#2a3f5f"
           }
          },
          "ternary": {
           "aaxis": {
            "gridcolor": "white",
            "linecolor": "white",
            "ticks": ""
           },
           "baxis": {
            "gridcolor": "white",
            "linecolor": "white",
            "ticks": ""
           },
           "bgcolor": "#E5ECF6",
           "caxis": {
            "gridcolor": "white",
            "linecolor": "white",
            "ticks": ""
           }
          },
          "title": {
           "x": 0.05
          },
          "xaxis": {
           "automargin": true,
           "gridcolor": "white",
           "linecolor": "white",
           "ticks": "",
           "title": {
            "standoff": 15
           },
           "zerolinecolor": "white",
           "zerolinewidth": 2
          },
          "yaxis": {
           "automargin": true,
           "gridcolor": "white",
           "linecolor": "white",
           "ticks": "",
           "title": {
            "standoff": 15
           },
           "zerolinecolor": "white",
           "zerolinewidth": 2
          }
         }
        },
        "title": {
         "font": {
          "size": 18
         },
         "text": "Producción de Bioetanol en Argentina",
         "x": 0.1,
         "xref": "paper"
        },
        "xaxis": {
         "title": {
          "text": "Fecha"
         }
        },
        "yaxis": {
         "title": {
          "text": "Volumen Mensual [m3]"
         }
        }
       }
      },
      "text/html": [
       "<div>\n",
       "        \n",
       "        \n",
       "            <div id=\"9b3780e1-4a04-4a3c-967e-95c88e35ee32\" class=\"plotly-graph-div\" style=\"height:525px; width:100%;\"></div>\n",
       "            <script type=\"text/javascript\">\n",
       "                require([\"plotly\"], function(Plotly) {\n",
       "                    window.PLOTLYENV=window.PLOTLYENV || {};\n",
       "                    \n",
       "                if (document.getElementById(\"9b3780e1-4a04-4a3c-967e-95c88e35ee32\")) {\n",
       "                    Plotly.newPlot(\n",
       "                        '9b3780e1-4a04-4a3c-967e-95c88e35ee32',\n",
       "                        [{\"line\": {\"shape\": \"spline\", \"width\": 5}, \"mode\": \"lines\", \"name\": \"Total\", \"type\": \"scatter\", \"x\": [\"2009-11-01T00:00:00\", \"2009-12-01T00:00:00\", \"2010-01-01T00:00:00\", \"2010-02-01T00:00:00\", \"2010-03-01T00:00:00\", \"2010-04-01T00:00:00\", \"2010-05-01T00:00:00\", \"2010-06-01T00:00:00\", \"2010-07-01T00:00:00\", \"2010-08-01T00:00:00\", \"2010-09-01T00:00:00\", \"2010-10-01T00:00:00\", \"2010-11-01T00:00:00\", \"2010-12-01T00:00:00\", \"2011-01-01T00:00:00\", \"2011-02-01T00:00:00\", \"2011-03-01T00:00:00\", \"2011-04-01T00:00:00\", \"2011-05-01T00:00:00\", \"2011-06-01T00:00:00\", \"2011-07-01T00:00:00\", \"2011-08-01T00:00:00\", \"2011-09-01T00:00:00\", \"2011-10-01T00:00:00\", \"2011-11-01T00:00:00\", \"2011-12-01T00:00:00\", \"2012-01-01T00:00:00\", \"2012-02-01T00:00:00\", \"2012-03-01T00:00:00\", \"2012-04-01T00:00:00\", \"2012-05-01T00:00:00\", \"2012-06-01T00:00:00\", \"2012-07-01T00:00:00\", \"2012-08-01T00:00:00\", \"2012-09-01T00:00:00\", \"2012-10-01T00:00:00\", \"2012-11-01T00:00:00\", \"2012-12-01T00:00:00\", \"2013-01-01T00:00:00\", \"2013-02-01T00:00:00\", \"2013-03-01T00:00:00\", \"2013-04-01T00:00:00\", \"2013-05-01T00:00:00\", \"2013-06-01T00:00:00\", \"2013-07-01T00:00:00\", \"2013-08-01T00:00:00\", \"2013-09-01T00:00:00\", \"2013-10-01T00:00:00\", \"2013-11-01T00:00:00\", \"2013-12-01T00:00:00\", \"2014-01-01T00:00:00\", \"2014-02-01T00:00:00\", \"2014-03-01T00:00:00\", \"2014-04-01T00:00:00\", \"2014-05-01T00:00:00\", \"2014-06-01T00:00:00\", \"2014-07-01T00:00:00\", \"2014-08-01T00:00:00\", \"2014-09-01T00:00:00\", \"2014-10-01T00:00:00\", \"2014-11-01T00:00:00\", \"2014-12-01T00:00:00\", \"2015-01-01T00:00:00\", \"2015-02-01T00:00:00\", \"2015-03-01T00:00:00\", \"2015-04-01T00:00:00\", \"2015-05-01T00:00:00\", \"2015-06-01T00:00:00\", \"2015-07-01T00:00:00\", \"2015-08-01T00:00:00\", \"2015-09-01T00:00:00\", \"2015-10-01T00:00:00\", \"2015-11-01T00:00:00\", \"2015-12-01T00:00:00\", \"2016-01-01T00:00:00\", \"2016-02-01T00:00:00\", \"2016-03-01T00:00:00\", \"2016-04-01T00:00:00\", \"2016-05-01T00:00:00\", \"2016-06-01T00:00:00\", \"2016-07-01T00:00:00\", \"2016-08-01T00:00:00\", \"2016-09-01T00:00:00\", \"2016-10-01T00:00:00\", \"2016-11-01T00:00:00\", \"2016-12-01T00:00:00\", \"2017-01-01T00:00:00\", \"2017-02-01T00:00:00\", \"2017-03-01T00:00:00\", \"2017-04-01T00:00:00\", \"2017-05-01T00:00:00\", \"2017-06-01T00:00:00\", \"2017-07-01T00:00:00\", \"2017-08-01T00:00:00\", \"2017-09-01T00:00:00\", \"2017-10-01T00:00:00\", \"2017-11-01T00:00:00\", \"2017-12-01T00:00:00\", \"2018-01-01T00:00:00\", \"2018-02-01T00:00:00\", \"2018-03-01T00:00:00\"], \"y\": [858.0, 22439.0, 771.0, 4791.0, 4445.0, 4549.0, 5210.0, 12069.0, 14575.0, 15258.0, 17729.0, 22145.0, 17654.0, 5734.0, 7775.0, 4239.0, 4427.0, 5938.0, 5081.0, 18209.0, 21344.0, 20285.0, 23841.0, 23626.0, 21336.0, 17522.0, 17295.0, 8261.0, 9420.0, 8026.0, 9710.0, 22395.0, 28509.0, 24617.0, 32106.0, 33540.0, 28740.0, 27870.0, 22087.0, 18891.0, 27122.0, 31757.0, 31832.0, 40810.0, 50613.0, 61897.0, 49433.0, 50063.0, 47499.0, 40376.0, 42428.0, 39043.0, 41799.0, 48837.0, 52703.0, 60959.0, 59677.0, 62947.0, 59644.0, 72174.0, 71396.0, 59514.0, 53786.0, 51625.0, 64599.0, 60217.0, 54562.0, 74464.0, 78868.0, 72603.0, 73144.0, 86136.0, 73433.0, 71970.0, 66620.0, 65050.0, 65050.0, 60670.0, 62659.0, 60695.0, 71659.0, 87669.0, 92162.0, 84945.9, 87028.27543, 85736.0, 84345.28797, 80095.56, 82796.55, 80573.26, 84274.99, 92959.41, 97319.65, 104563.28, 102827.72, 111264.81, 96565.42, 87520.9, 83694.36, 80920.94, 67486.43]}, {\"line\": {\"shape\": \"spline\"}, \"mode\": \"lines\", \"name\": \"Ma\\u00edz\", \"type\": \"scatter\", \"x\": [\"2009-11-01T00:00:00\", \"2009-12-01T00:00:00\", \"2010-01-01T00:00:00\", \"2010-02-01T00:00:00\", \"2010-03-01T00:00:00\", \"2010-04-01T00:00:00\", \"2010-05-01T00:00:00\", \"2010-06-01T00:00:00\", \"2010-07-01T00:00:00\", \"2010-08-01T00:00:00\", \"2010-09-01T00:00:00\", \"2010-10-01T00:00:00\", \"2010-11-01T00:00:00\", \"2010-12-01T00:00:00\", \"2011-01-01T00:00:00\", \"2011-02-01T00:00:00\", \"2011-03-01T00:00:00\", \"2011-04-01T00:00:00\", \"2011-05-01T00:00:00\", \"2011-06-01T00:00:00\", \"2011-07-01T00:00:00\", \"2011-08-01T00:00:00\", \"2011-09-01T00:00:00\", \"2011-10-01T00:00:00\", \"2011-11-01T00:00:00\", \"2011-12-01T00:00:00\", \"2012-01-01T00:00:00\", \"2012-02-01T00:00:00\", \"2012-03-01T00:00:00\", \"2012-04-01T00:00:00\", \"2012-05-01T00:00:00\", \"2012-06-01T00:00:00\", \"2012-07-01T00:00:00\", \"2012-08-01T00:00:00\", \"2012-09-01T00:00:00\", \"2012-10-01T00:00:00\", \"2012-11-01T00:00:00\", \"2012-12-01T00:00:00\", \"2013-01-01T00:00:00\", \"2013-02-01T00:00:00\", \"2013-03-01T00:00:00\", \"2013-04-01T00:00:00\", \"2013-05-01T00:00:00\", \"2013-06-01T00:00:00\", \"2013-07-01T00:00:00\", \"2013-08-01T00:00:00\", \"2013-09-01T00:00:00\", \"2013-10-01T00:00:00\", \"2013-11-01T00:00:00\", \"2013-12-01T00:00:00\", \"2014-01-01T00:00:00\", \"2014-02-01T00:00:00\", \"2014-03-01T00:00:00\", \"2014-04-01T00:00:00\", \"2014-05-01T00:00:00\", \"2014-06-01T00:00:00\", \"2014-07-01T00:00:00\", \"2014-08-01T00:00:00\", \"2014-09-01T00:00:00\", \"2014-10-01T00:00:00\", \"2014-11-01T00:00:00\", \"2014-12-01T00:00:00\", \"2015-01-01T00:00:00\", \"2015-02-01T00:00:00\", \"2015-03-01T00:00:00\", \"2015-04-01T00:00:00\", \"2015-05-01T00:00:00\", \"2015-06-01T00:00:00\", \"2015-07-01T00:00:00\", \"2015-08-01T00:00:00\", \"2015-09-01T00:00:00\", \"2015-10-01T00:00:00\", \"2015-11-01T00:00:00\", \"2015-12-01T00:00:00\", \"2016-01-01T00:00:00\", \"2016-02-01T00:00:00\", \"2016-03-01T00:00:00\", \"2016-04-01T00:00:00\", \"2016-05-01T00:00:00\", \"2016-06-01T00:00:00\", \"2016-07-01T00:00:00\", \"2016-08-01T00:00:00\", \"2016-09-01T00:00:00\", \"2016-10-01T00:00:00\", \"2016-11-01T00:00:00\", \"2016-12-01T00:00:00\", \"2017-01-01T00:00:00\", \"2017-02-01T00:00:00\", \"2017-03-01T00:00:00\", \"2017-04-01T00:00:00\", \"2017-05-01T00:00:00\", \"2017-06-01T00:00:00\", \"2017-07-01T00:00:00\", \"2017-08-01T00:00:00\", \"2017-09-01T00:00:00\", \"2017-10-01T00:00:00\", \"2017-11-01T00:00:00\", \"2017-12-01T00:00:00\", \"2018-01-01T00:00:00\", \"2018-02-01T00:00:00\", \"2018-03-01T00:00:00\"], \"y\": [0.0, 0.0, 0.0, 0.0, 0.0, 0.0, 0.0, 0.0, 0.0, 0.0, 0.0, 0.0, 0.0, 0.0, 0.0, 0.0, 0.0, 0.0, 0.0, 0.0, 0.0, 0.0, 0.0, 0.0, 0.0, 0.0, 0.0, 0.0, 0.0, 0.0, 0.0, 0.0, 0.0, 0.0, 3373.0, 5526.0, 4801.0, 6800.0, 7690.0, 7287.0, 9913.0, 10349.0, 12026.0, 12170.0, 12458.0, 24224.0, 15269.0, 15951.0, 18786.0, 21471.0, 22848.0, 24005.0, 23942.0, 30479.0, 35032.0, 32735.0, 33191.0, 34043.0, 26968.0, 36784.0, 37655.0, 33575.0, 36628.0, 34054.0, 44049.0, 39129.0, 35651.0, 42783.0, 40661.0, 39692.0, 35391.0, 46638.0, 40450.0, 44138.0, 45024.0, 40894.0, 45938.0, 40211.0, 38618.0, 31724.0, 37686.0, 45347.0, 43208.0, 35582.64, 40976.52555, 44628.55, 46550.85695, 44488.99, 44100.38, 45218.39, 40222.39, 41800.21, 43395.82, 48852.49, 47482.68, 50849.98, 47841.45, 51159.89, 50443.3, 45592.72, 49518.89]}, {\"line\": {\"shape\": \"spline\"}, \"mode\": \"lines\", \"name\": \"Ca\\u00f1a de azucar\", \"type\": \"scatter\", \"x\": [\"2009-11-01T00:00:00\", \"2009-12-01T00:00:00\", \"2010-01-01T00:00:00\", \"2010-02-01T00:00:00\", \"2010-03-01T00:00:00\", \"2010-04-01T00:00:00\", \"2010-05-01T00:00:00\", \"2010-06-01T00:00:00\", \"2010-07-01T00:00:00\", \"2010-08-01T00:00:00\", \"2010-09-01T00:00:00\", \"2010-10-01T00:00:00\", \"2010-11-01T00:00:00\", \"2010-12-01T00:00:00\", \"2011-01-01T00:00:00\", \"2011-02-01T00:00:00\", \"2011-03-01T00:00:00\", \"2011-04-01T00:00:00\", \"2011-05-01T00:00:00\", \"2011-06-01T00:00:00\", \"2011-07-01T00:00:00\", \"2011-08-01T00:00:00\", \"2011-09-01T00:00:00\", \"2011-10-01T00:00:00\", \"2011-11-01T00:00:00\", \"2011-12-01T00:00:00\", \"2012-01-01T00:00:00\", \"2012-02-01T00:00:00\", \"2012-03-01T00:00:00\", \"2012-04-01T00:00:00\", \"2012-05-01T00:00:00\", \"2012-06-01T00:00:00\", \"2012-07-01T00:00:00\", \"2012-08-01T00:00:00\", \"2012-09-01T00:00:00\", \"2012-10-01T00:00:00\", \"2012-11-01T00:00:00\", \"2012-12-01T00:00:00\", \"2013-01-01T00:00:00\", \"2013-02-01T00:00:00\", \"2013-03-01T00:00:00\", \"2013-04-01T00:00:00\", \"2013-05-01T00:00:00\", \"2013-06-01T00:00:00\", \"2013-07-01T00:00:00\", \"2013-08-01T00:00:00\", \"2013-09-01T00:00:00\", \"2013-10-01T00:00:00\", \"2013-11-01T00:00:00\", \"2013-12-01T00:00:00\", \"2014-01-01T00:00:00\", \"2014-02-01T00:00:00\", \"2014-03-01T00:00:00\", \"2014-04-01T00:00:00\", \"2014-05-01T00:00:00\", \"2014-06-01T00:00:00\", \"2014-07-01T00:00:00\", \"2014-08-01T00:00:00\", \"2014-09-01T00:00:00\", \"2014-10-01T00:00:00\", \"2014-11-01T00:00:00\", \"2014-12-01T00:00:00\", \"2015-01-01T00:00:00\", \"2015-02-01T00:00:00\", \"2015-03-01T00:00:00\", \"2015-04-01T00:00:00\", \"2015-05-01T00:00:00\", \"2015-06-01T00:00:00\", \"2015-07-01T00:00:00\", \"2015-08-01T00:00:00\", \"2015-09-01T00:00:00\", \"2015-10-01T00:00:00\", \"2015-11-01T00:00:00\", \"2015-12-01T00:00:00\", \"2016-01-01T00:00:00\", \"2016-02-01T00:00:00\", \"2016-03-01T00:00:00\", \"2016-04-01T00:00:00\", \"2016-05-01T00:00:00\", \"2016-06-01T00:00:00\", \"2016-07-01T00:00:00\", \"2016-08-01T00:00:00\", \"2016-09-01T00:00:00\", \"2016-10-01T00:00:00\", \"2016-11-01T00:00:00\", \"2016-12-01T00:00:00\", \"2017-01-01T00:00:00\", \"2017-02-01T00:00:00\", \"2017-03-01T00:00:00\", \"2017-04-01T00:00:00\", \"2017-05-01T00:00:00\", \"2017-06-01T00:00:00\", \"2017-07-01T00:00:00\", \"2017-08-01T00:00:00\", \"2017-09-01T00:00:00\", \"2017-10-01T00:00:00\", \"2017-11-01T00:00:00\", \"2017-12-01T00:00:00\", \"2018-01-01T00:00:00\", \"2018-02-01T00:00:00\", \"2018-03-01T00:00:00\"], \"y\": [858.0, 22439.0, 771.0, 4791.0, 4445.0, 4549.0, 5210.0, 12069.0, 14575.0, 15258.0, 17729.0, 22145.0, 17654.0, 5734.0, 7775.0, 4239.0, 4427.0, 5938.0, 5081.0, 18209.0, 21344.0, 20285.0, 23841.0, 23626.0, 21336.0, 17522.0, 17295.0, 8261.0, 9420.0, 8026.0, 9710.0, 22395.0, 28509.0, 24617.0, 28733.0, 28014.0, 23939.0, 21070.0, 14397.0, 11604.0, 17209.0, 21408.0, 19806.0, 28640.0, 38155.0, 37673.0, 34164.0, 34112.0, 28713.0, 18905.0, 19580.0, 15038.0, 17857.0, 18358.0, 17671.0, 28224.0, 26486.0, 28904.0, 32676.0, 35390.0, 33741.0, 25939.0, 17158.0, 17571.0, 20550.0, 21088.0, 18911.0, 31681.0, 38207.0, 32911.0, 37753.0, 39498.0, 32984.0, 27832.0, 21596.0, 24156.0, 19112.0, 20459.0, 24041.0, 28972.0, 33973.0, 42323.0, 48954.0, 49363.26, 46051.74984, 41107.68, 37794.43101, 35606.57, 38696.17, 35354.87, 44052.6, 51159.2, 53923.83, 55710.79, 55345.04, 60414.83, 48723.97, 36361.01, 33251.06, 35328.22, 17967.54]}],\n",
       "                        {\"legend\": {\"title\": {\"text\": \"Producci\\u00f3n\"}}, \"template\": {\"data\": {\"bar\": [{\"error_x\": {\"color\": \"#2a3f5f\"}, \"error_y\": {\"color\": \"#2a3f5f\"}, \"marker\": {\"line\": {\"color\": \"#E5ECF6\", \"width\": 0.5}}, \"type\": \"bar\"}], \"barpolar\": [{\"marker\": {\"line\": {\"color\": \"#E5ECF6\", \"width\": 0.5}}, \"type\": \"barpolar\"}], \"carpet\": [{\"aaxis\": {\"endlinecolor\": \"#2a3f5f\", \"gridcolor\": \"white\", \"linecolor\": \"white\", \"minorgridcolor\": \"white\", \"startlinecolor\": \"#2a3f5f\"}, \"baxis\": {\"endlinecolor\": \"#2a3f5f\", \"gridcolor\": \"white\", \"linecolor\": \"white\", \"minorgridcolor\": \"white\", \"startlinecolor\": \"#2a3f5f\"}, \"type\": \"carpet\"}], \"choropleth\": [{\"colorbar\": {\"outlinewidth\": 0, \"ticks\": \"\"}, \"type\": \"choropleth\"}], \"contour\": [{\"colorbar\": {\"outlinewidth\": 0, \"ticks\": \"\"}, \"colorscale\": [[0.0, \"#0d0887\"], [0.1111111111111111, \"#46039f\"], [0.2222222222222222, \"#7201a8\"], [0.3333333333333333, \"#9c179e\"], [0.4444444444444444, \"#bd3786\"], [0.5555555555555556, \"#d8576b\"], [0.6666666666666666, \"#ed7953\"], [0.7777777777777778, \"#fb9f3a\"], [0.8888888888888888, \"#fdca26\"], [1.0, \"#f0f921\"]], \"type\": \"contour\"}], \"contourcarpet\": [{\"colorbar\": {\"outlinewidth\": 0, \"ticks\": \"\"}, \"type\": \"contourcarpet\"}], \"heatmap\": [{\"colorbar\": {\"outlinewidth\": 0, \"ticks\": \"\"}, \"colorscale\": [[0.0, \"#0d0887\"], [0.1111111111111111, \"#46039f\"], [0.2222222222222222, \"#7201a8\"], [0.3333333333333333, \"#9c179e\"], [0.4444444444444444, \"#bd3786\"], [0.5555555555555556, \"#d8576b\"], [0.6666666666666666, \"#ed7953\"], [0.7777777777777778, \"#fb9f3a\"], [0.8888888888888888, \"#fdca26\"], [1.0, \"#f0f921\"]], \"type\": \"heatmap\"}], \"heatmapgl\": [{\"colorbar\": {\"outlinewidth\": 0, \"ticks\": \"\"}, \"colorscale\": [[0.0, \"#0d0887\"], [0.1111111111111111, \"#46039f\"], [0.2222222222222222, \"#7201a8\"], [0.3333333333333333, \"#9c179e\"], [0.4444444444444444, \"#bd3786\"], [0.5555555555555556, \"#d8576b\"], [0.6666666666666666, \"#ed7953\"], [0.7777777777777778, \"#fb9f3a\"], [0.8888888888888888, \"#fdca26\"], [1.0, \"#f0f921\"]], \"type\": \"heatmapgl\"}], \"histogram\": [{\"marker\": {\"colorbar\": {\"outlinewidth\": 0, \"ticks\": \"\"}}, \"type\": \"histogram\"}], \"histogram2d\": [{\"colorbar\": {\"outlinewidth\": 0, \"ticks\": \"\"}, \"colorscale\": [[0.0, \"#0d0887\"], [0.1111111111111111, \"#46039f\"], [0.2222222222222222, \"#7201a8\"], [0.3333333333333333, \"#9c179e\"], [0.4444444444444444, \"#bd3786\"], [0.5555555555555556, \"#d8576b\"], [0.6666666666666666, \"#ed7953\"], [0.7777777777777778, \"#fb9f3a\"], [0.8888888888888888, \"#fdca26\"], [1.0, \"#f0f921\"]], \"type\": \"histogram2d\"}], \"histogram2dcontour\": [{\"colorbar\": {\"outlinewidth\": 0, \"ticks\": \"\"}, \"colorscale\": [[0.0, \"#0d0887\"], [0.1111111111111111, \"#46039f\"], [0.2222222222222222, \"#7201a8\"], [0.3333333333333333, \"#9c179e\"], [0.4444444444444444, \"#bd3786\"], [0.5555555555555556, \"#d8576b\"], [0.6666666666666666, \"#ed7953\"], [0.7777777777777778, \"#fb9f3a\"], [0.8888888888888888, \"#fdca26\"], [1.0, \"#f0f921\"]], \"type\": \"histogram2dcontour\"}], \"mesh3d\": [{\"colorbar\": {\"outlinewidth\": 0, \"ticks\": \"\"}, \"type\": \"mesh3d\"}], \"parcoords\": [{\"line\": {\"colorbar\": {\"outlinewidth\": 0, \"ticks\": \"\"}}, \"type\": \"parcoords\"}], \"pie\": [{\"automargin\": true, \"type\": \"pie\"}], \"scatter\": [{\"marker\": {\"colorbar\": {\"outlinewidth\": 0, \"ticks\": \"\"}}, \"type\": \"scatter\"}], \"scatter3d\": [{\"line\": {\"colorbar\": {\"outlinewidth\": 0, \"ticks\": \"\"}}, \"marker\": {\"colorbar\": {\"outlinewidth\": 0, \"ticks\": \"\"}}, \"type\": \"scatter3d\"}], \"scattercarpet\": [{\"marker\": {\"colorbar\": {\"outlinewidth\": 0, \"ticks\": \"\"}}, \"type\": \"scattercarpet\"}], \"scattergeo\": [{\"marker\": {\"colorbar\": {\"outlinewidth\": 0, \"ticks\": \"\"}}, \"type\": \"scattergeo\"}], \"scattergl\": [{\"marker\": {\"colorbar\": {\"outlinewidth\": 0, \"ticks\": \"\"}}, \"type\": \"scattergl\"}], \"scattermapbox\": [{\"marker\": {\"colorbar\": {\"outlinewidth\": 0, \"ticks\": \"\"}}, \"type\": \"scattermapbox\"}], \"scatterpolar\": [{\"marker\": {\"colorbar\": {\"outlinewidth\": 0, \"ticks\": \"\"}}, \"type\": \"scatterpolar\"}], \"scatterpolargl\": [{\"marker\": {\"colorbar\": {\"outlinewidth\": 0, \"ticks\": \"\"}}, \"type\": \"scatterpolargl\"}], \"scatterternary\": [{\"marker\": {\"colorbar\": {\"outlinewidth\": 0, \"ticks\": \"\"}}, \"type\": \"scatterternary\"}], \"surface\": [{\"colorbar\": {\"outlinewidth\": 0, \"ticks\": \"\"}, \"colorscale\": [[0.0, \"#0d0887\"], [0.1111111111111111, \"#46039f\"], [0.2222222222222222, \"#7201a8\"], [0.3333333333333333, \"#9c179e\"], [0.4444444444444444, \"#bd3786\"], [0.5555555555555556, \"#d8576b\"], [0.6666666666666666, \"#ed7953\"], [0.7777777777777778, \"#fb9f3a\"], [0.8888888888888888, \"#fdca26\"], [1.0, \"#f0f921\"]], \"type\": \"surface\"}], \"table\": [{\"cells\": {\"fill\": {\"color\": \"#EBF0F8\"}, \"line\": {\"color\": \"white\"}}, \"header\": {\"fill\": {\"color\": \"#C8D4E3\"}, \"line\": {\"color\": \"white\"}}, \"type\": \"table\"}]}, \"layout\": {\"annotationdefaults\": {\"arrowcolor\": \"#2a3f5f\", \"arrowhead\": 0, \"arrowwidth\": 1}, \"coloraxis\": {\"colorbar\": {\"outlinewidth\": 0, \"ticks\": \"\"}}, \"colorscale\": {\"diverging\": [[0, \"#8e0152\"], [0.1, \"#c51b7d\"], [0.2, \"#de77ae\"], [0.3, \"#f1b6da\"], [0.4, \"#fde0ef\"], [0.5, \"#f7f7f7\"], [0.6, \"#e6f5d0\"], [0.7, \"#b8e186\"], [0.8, \"#7fbc41\"], [0.9, \"#4d9221\"], [1, \"#276419\"]], \"sequential\": [[0.0, \"#0d0887\"], [0.1111111111111111, \"#46039f\"], [0.2222222222222222, \"#7201a8\"], [0.3333333333333333, \"#9c179e\"], [0.4444444444444444, \"#bd3786\"], [0.5555555555555556, \"#d8576b\"], [0.6666666666666666, \"#ed7953\"], [0.7777777777777778, \"#fb9f3a\"], [0.8888888888888888, \"#fdca26\"], [1.0, \"#f0f921\"]], \"sequentialminus\": [[0.0, \"#0d0887\"], [0.1111111111111111, \"#46039f\"], [0.2222222222222222, \"#7201a8\"], [0.3333333333333333, \"#9c179e\"], [0.4444444444444444, \"#bd3786\"], [0.5555555555555556, \"#d8576b\"], [0.6666666666666666, \"#ed7953\"], [0.7777777777777778, \"#fb9f3a\"], [0.8888888888888888, \"#fdca26\"], [1.0, \"#f0f921\"]]}, \"colorway\": [\"#636efa\", \"#EF553B\", \"#00cc96\", \"#ab63fa\", \"#FFA15A\", \"#19d3f3\", \"#FF6692\", \"#B6E880\", \"#FF97FF\", \"#FECB52\"], \"font\": {\"color\": \"#2a3f5f\"}, \"geo\": {\"bgcolor\": \"white\", \"lakecolor\": \"white\", \"landcolor\": \"#E5ECF6\", \"showlakes\": true, \"showland\": true, \"subunitcolor\": \"white\"}, \"hoverlabel\": {\"align\": \"left\"}, \"hovermode\": \"closest\", \"mapbox\": {\"style\": \"light\"}, \"paper_bgcolor\": \"white\", \"plot_bgcolor\": \"#E5ECF6\", \"polar\": {\"angularaxis\": {\"gridcolor\": \"white\", \"linecolor\": \"white\", \"ticks\": \"\"}, \"bgcolor\": \"#E5ECF6\", \"radialaxis\": {\"gridcolor\": \"white\", \"linecolor\": \"white\", \"ticks\": \"\"}}, \"scene\": {\"xaxis\": {\"backgroundcolor\": \"#E5ECF6\", \"gridcolor\": \"white\", \"gridwidth\": 2, \"linecolor\": \"white\", \"showbackground\": true, \"ticks\": \"\", \"zerolinecolor\": \"white\"}, \"yaxis\": {\"backgroundcolor\": \"#E5ECF6\", \"gridcolor\": \"white\", \"gridwidth\": 2, \"linecolor\": \"white\", \"showbackground\": true, \"ticks\": \"\", \"zerolinecolor\": \"white\"}, \"zaxis\": {\"backgroundcolor\": \"#E5ECF6\", \"gridcolor\": \"white\", \"gridwidth\": 2, \"linecolor\": \"white\", \"showbackground\": true, \"ticks\": \"\", \"zerolinecolor\": \"white\"}}, \"shapedefaults\": {\"line\": {\"color\": \"#2a3f5f\"}}, \"ternary\": {\"aaxis\": {\"gridcolor\": \"white\", \"linecolor\": \"white\", \"ticks\": \"\"}, \"baxis\": {\"gridcolor\": \"white\", \"linecolor\": \"white\", \"ticks\": \"\"}, \"bgcolor\": \"#E5ECF6\", \"caxis\": {\"gridcolor\": \"white\", \"linecolor\": \"white\", \"ticks\": \"\"}}, \"title\": {\"x\": 0.05}, \"xaxis\": {\"automargin\": true, \"gridcolor\": \"white\", \"linecolor\": \"white\", \"ticks\": \"\", \"title\": {\"standoff\": 15}, \"zerolinecolor\": \"white\", \"zerolinewidth\": 2}, \"yaxis\": {\"automargin\": true, \"gridcolor\": \"white\", \"linecolor\": \"white\", \"ticks\": \"\", \"title\": {\"standoff\": 15}, \"zerolinecolor\": \"white\", \"zerolinewidth\": 2}}}, \"title\": {\"font\": {\"size\": 18}, \"text\": \"Producci\\u00f3n de Bioetanol en Argentina\", \"x\": 0.1, \"xref\": \"paper\"}, \"xaxis\": {\"title\": {\"text\": \"Fecha\"}}, \"yaxis\": {\"title\": {\"text\": \"Volumen Mensual [m3]\"}}},\n",
       "                        {\"responsive\": true}\n",
       "                    ).then(function(){\n",
       "                            \n",
       "var gd = document.getElementById('9b3780e1-4a04-4a3c-967e-95c88e35ee32');\n",
       "var x = new MutationObserver(function (mutations, observer) {{\n",
       "        var display = window.getComputedStyle(gd).display;\n",
       "        if (!display || display === 'none') {{\n",
       "            console.log([gd, 'removed!']);\n",
       "            Plotly.purge(gd);\n",
       "            observer.disconnect();\n",
       "        }}\n",
       "}});\n",
       "\n",
       "// Listen for the removal of the full notebook cells\n",
       "var notebookContainer = gd.closest('#notebook-container');\n",
       "if (notebookContainer) {{\n",
       "    x.observe(notebookContainer, {childList: true});\n",
       "}}\n",
       "\n",
       "// Listen for the clearing of the current output cell\n",
       "var outputEl = gd.closest('.output');\n",
       "if (outputEl) {{\n",
       "    x.observe(outputEl, {childList: true});\n",
       "}}\n",
       "\n",
       "                        })\n",
       "                };\n",
       "                });\n",
       "            </script>\n",
       "        </div>"
      ]
     },
     "metadata": {},
     "output_type": "display_data"
    },
    {
     "data": {
      "text/html": [
       "<div>\n",
       "<style scoped>\n",
       "    .dataframe tbody tr th:only-of-type {\n",
       "        vertical-align: middle;\n",
       "    }\n",
       "\n",
       "    .dataframe tbody tr th {\n",
       "        vertical-align: top;\n",
       "    }\n",
       "\n",
       "    .dataframe thead th {\n",
       "        text-align: right;\n",
       "    }\n",
       "</style>\n",
       "<table border=\"1\" class=\"dataframe\">\n",
       "  <thead>\n",
       "    <tr style=\"text-align: right;\">\n",
       "      <th></th>\n",
       "      <th>produccion_total</th>\n",
       "      <th>ventas_totales</th>\n",
       "      <th>produccion_base_maiz</th>\n",
       "      <th>ventas_bioetanol_maiz</th>\n",
       "      <th>produccion_base_cana_de_azucar</th>\n",
       "      <th>ventas_bioetanol_cana_de_azucar</th>\n",
       "    </tr>\n",
       "  </thead>\n",
       "  <tbody>\n",
       "    <tr>\n",
       "      <th>count</th>\n",
       "      <td>101.000000</td>\n",
       "      <td>101.000000</td>\n",
       "      <td>101.000000</td>\n",
       "      <td>101.000000</td>\n",
       "      <td>101.000000</td>\n",
       "      <td>101.000000</td>\n",
       "    </tr>\n",
       "    <tr>\n",
       "      <th>mean</th>\n",
       "      <td>47112.868747</td>\n",
       "      <td>46793.939349</td>\n",
       "      <td>22039.318342</td>\n",
       "      <td>21926.068219</td>\n",
       "      <td>25073.582385</td>\n",
       "      <td>24867.881031</td>\n",
       "    </tr>\n",
       "    <tr>\n",
       "      <th>std</th>\n",
       "      <td>30413.830321</td>\n",
       "      <td>29910.203596</td>\n",
       "      <td>19391.672629</td>\n",
       "      <td>19333.448372</td>\n",
       "      <td>13471.463917</td>\n",
       "      <td>11512.712196</td>\n",
       "    </tr>\n",
       "    <tr>\n",
       "      <th>min</th>\n",
       "      <td>771.000000</td>\n",
       "      <td>0.000000</td>\n",
       "      <td>0.000000</td>\n",
       "      <td>0.000000</td>\n",
       "      <td>771.000000</td>\n",
       "      <td>0.000000</td>\n",
       "    </tr>\n",
       "    <tr>\n",
       "      <th>25%</th>\n",
       "      <td>20285.000000</td>\n",
       "      <td>16573.000000</td>\n",
       "      <td>0.000000</td>\n",
       "      <td>0.000000</td>\n",
       "      <td>17522.000000</td>\n",
       "      <td>16573.000000</td>\n",
       "    </tr>\n",
       "    <tr>\n",
       "      <th>50%</th>\n",
       "      <td>49433.000000</td>\n",
       "      <td>49528.000000</td>\n",
       "      <td>23942.000000</td>\n",
       "      <td>23126.000000</td>\n",
       "      <td>22439.000000</td>\n",
       "      <td>24769.000000</td>\n",
       "    </tr>\n",
       "    <tr>\n",
       "      <th>75%</th>\n",
       "      <td>72174.000000</td>\n",
       "      <td>69454.000000</td>\n",
       "      <td>40661.000000</td>\n",
       "      <td>41112.000000</td>\n",
       "      <td>34112.000000</td>\n",
       "      <td>29742.000000</td>\n",
       "    </tr>\n",
       "    <tr>\n",
       "      <th>max</th>\n",
       "      <td>111264.810000</td>\n",
       "      <td>100039.600000</td>\n",
       "      <td>51159.890000</td>\n",
       "      <td>57177.650000</td>\n",
       "      <td>60414.830000</td>\n",
       "      <td>46090.830000</td>\n",
       "    </tr>\n",
       "  </tbody>\n",
       "</table>\n",
       "</div>"
      ],
      "text/plain": [
       "       produccion_total  ventas_totales  produccion_base_maiz  \\\n",
       "count        101.000000      101.000000            101.000000   \n",
       "mean       47112.868747    46793.939349          22039.318342   \n",
       "std        30413.830321    29910.203596          19391.672629   \n",
       "min          771.000000        0.000000              0.000000   \n",
       "25%        20285.000000    16573.000000              0.000000   \n",
       "50%        49433.000000    49528.000000          23942.000000   \n",
       "75%        72174.000000    69454.000000          40661.000000   \n",
       "max       111264.810000   100039.600000          51159.890000   \n",
       "\n",
       "       ventas_bioetanol_maiz  produccion_base_cana_de_azucar  \\\n",
       "count             101.000000                      101.000000   \n",
       "mean            21926.068219                    25073.582385   \n",
       "std             19333.448372                    13471.463917   \n",
       "min                 0.000000                      771.000000   \n",
       "25%                 0.000000                    17522.000000   \n",
       "50%             23126.000000                    22439.000000   \n",
       "75%             41112.000000                    34112.000000   \n",
       "max             57177.650000                    60414.830000   \n",
       "\n",
       "       ventas_bioetanol_cana_de_azucar  \n",
       "count                       101.000000  \n",
       "mean                      24867.881031  \n",
       "std                       11512.712196  \n",
       "min                           0.000000  \n",
       "25%                       16573.000000  \n",
       "50%                       24769.000000  \n",
       "75%                       29742.000000  \n",
       "max                       46090.830000  "
      ]
     },
     "execution_count": 429,
     "metadata": {},
     "output_type": "execute_result"
    }
   ],
   "source": [
    "fig=go.Figure()\n",
    "\n",
    "# fig = make_subplots(rows=2, cols=1)\n",
    "\n",
    "fig.add_trace(go.Scatter(x=bioetanol_nacional['mes'], y=bioetanol_nacional['produccion_total'], \n",
    "                         name='Total', mode='lines',line_width = 5                           \n",
    "                        )\n",
    "             )\n",
    "fig.add_trace(go.Scatter(x=bioetanol_nacional['mes'], y=bioetanol_nacional['produccion_base_maiz'], \n",
    "                         name='Maíz', mode='lines'                         \n",
    "                        )\n",
    "             )\n",
    "fig.add_trace(go.Scatter(x=bioetanol_nacional['mes'], y=bioetanol_nacional['produccion_base_cana_de_azucar'], \n",
    "                         name='Caña de azucar', mode='lines'                         \n",
    "                        )\n",
    "             )\n",
    "\n",
    "\n",
    "fig.update_layout(\n",
    "    title=go.layout.Title(\n",
    "        text=\"Producción de Bioetanol en Argentina\",\n",
    "        xref=\"paper\",\n",
    "        x=0.1,\n",
    "        font_size=18,\n",
    "    ),\n",
    "    xaxis_title=\"Fecha\",\n",
    "    yaxis_title=\"Volumen Mensual [m3]\",\n",
    "    legend_title_text='Producción', #necesita actualizar plotly\n",
    "#     trace_name='Tendendia de consumo'\n",
    ")\n",
    "\n",
    "fig.update_traces(line_shape='spline')\n",
    "\n",
    "fig.show()\n",
    "\n",
    "bioetanol_nacional.describe()"
   ]
  },
  {
   "cell_type": "code",
   "execution_count": 430,
   "metadata": {},
   "outputs": [
    {
     "data": {
      "application/vnd.plotly.v1+json": {
       "config": {
        "plotlyServerURL": "https://plot.ly"
       },
       "data": [
        {
         "line": {
          "shape": "spline",
          "width": 5
         },
         "mode": "lines",
         "name": "Total",
         "type": "scatter",
         "x": [
          "2008-01-01T00:00:00",
          "2008-02-01T00:00:00",
          "2008-03-01T00:00:00",
          "2008-04-01T00:00:00",
          "2008-05-01T00:00:00",
          "2008-06-01T00:00:00",
          "2008-07-01T00:00:00",
          "2008-08-01T00:00:00",
          "2008-09-01T00:00:00",
          "2008-10-01T00:00:00",
          "2008-11-01T00:00:00",
          "2008-12-01T00:00:00",
          "2009-01-01T00:00:00",
          "2009-02-01T00:00:00",
          "2009-03-01T00:00:00",
          "2009-04-01T00:00:00",
          "2009-05-01T00:00:00",
          "2009-06-01T00:00:00",
          "2009-07-01T00:00:00",
          "2009-08-01T00:00:00",
          "2009-09-01T00:00:00",
          "2009-10-01T00:00:00",
          "2009-11-01T00:00:00",
          "2009-12-01T00:00:00",
          "2010-01-01T00:00:00",
          "2010-02-01T00:00:00",
          "2010-03-01T00:00:00",
          "2010-04-01T00:00:00",
          "2010-05-01T00:00:00",
          "2010-06-01T00:00:00",
          "2010-07-01T00:00:00",
          "2010-08-01T00:00:00",
          "2010-09-01T00:00:00",
          "2010-10-01T00:00:00",
          "2010-11-01T00:00:00",
          "2010-12-01T00:00:00",
          "2011-01-01T00:00:00",
          "2011-02-01T00:00:00",
          "2011-03-01T00:00:00",
          "2011-04-01T00:00:00",
          "2011-05-01T00:00:00",
          "2011-06-01T00:00:00",
          "2011-07-01T00:00:00",
          "2011-08-01T00:00:00",
          "2011-09-01T00:00:00",
          "2011-10-01T00:00:00",
          "2011-11-01T00:00:00",
          "2011-12-01T00:00:00",
          "2012-01-01T00:00:00",
          "2012-02-01T00:00:00",
          "2012-03-01T00:00:00",
          "2012-04-01T00:00:00",
          "2012-05-01T00:00:00",
          "2012-06-01T00:00:00",
          "2012-07-01T00:00:00",
          "2012-08-01T00:00:00",
          "2012-09-01T00:00:00",
          "2012-10-01T00:00:00",
          "2012-11-01T00:00:00",
          "2012-12-01T00:00:00",
          "2013-01-01T00:00:00",
          "2013-02-01T00:00:00",
          "2013-03-01T00:00:00",
          "2013-04-01T00:00:00",
          "2013-05-01T00:00:00",
          "2013-06-01T00:00:00",
          "2013-07-01T00:00:00",
          "2013-08-01T00:00:00",
          "2013-09-01T00:00:00",
          "2013-10-01T00:00:00",
          "2013-11-01T00:00:00",
          "2013-12-01T00:00:00",
          "2014-01-01T00:00:00",
          "2014-02-01T00:00:00",
          "2014-03-01T00:00:00",
          "2014-04-01T00:00:00",
          "2014-05-01T00:00:00",
          "2014-06-01T00:00:00",
          "2014-07-01T00:00:00",
          "2014-08-01T00:00:00",
          "2014-09-01T00:00:00",
          "2014-10-01T00:00:00",
          "2014-11-01T00:00:00",
          "2014-12-01T00:00:00",
          "2015-01-01T00:00:00",
          "2015-02-01T00:00:00",
          "2015-03-01T00:00:00",
          "2015-04-01T00:00:00",
          "2015-05-01T00:00:00",
          "2015-06-01T00:00:00",
          "2015-07-01T00:00:00",
          "2015-08-01T00:00:00",
          "2015-09-01T00:00:00",
          "2015-10-01T00:00:00",
          "2015-11-01T00:00:00",
          "2015-12-01T00:00:00",
          "2016-01-01T00:00:00",
          "2016-02-01T00:00:00",
          "2016-03-01T00:00:00",
          "2016-04-01T00:00:00",
          "2016-05-01T00:00:00",
          "2016-06-01T00:00:00",
          "2016-07-01T00:00:00",
          "2016-08-01T00:00:00",
          "2016-09-01T00:00:00",
          "2016-10-01T00:00:00",
          "2016-11-01T00:00:00",
          "2016-12-01T00:00:00",
          "2017-01-01T00:00:00",
          "2017-02-01T00:00:00",
          "2017-03-01T00:00:00",
          "2017-04-01T00:00:00",
          "2017-05-01T00:00:00",
          "2017-06-01T00:00:00",
          "2017-07-01T00:00:00",
          "2017-08-01T00:00:00",
          "2017-09-01T00:00:00",
          "2017-10-01T00:00:00",
          "2017-11-01T00:00:00",
          "2017-12-01T00:00:00",
          "2018-01-01T00:00:00",
          "2018-02-01T00:00:00",
          "2018-03-01T00:00:00"
         ],
         "y": [
          47251,
          38747,
          42095,
          43881,
          51679,
          50726,
          71888,
          91595,
          83924,
          97429,
          79530,
          13119,
          18355,
          47673,
          76655,
          80577,
          90288,
          103000,
          125872,
          123928,
          137501,
          130614,
          131458,
          113182,
          140247,
          112508,
          107929,
          141733,
          159105,
          160019,
          165098,
          164382,
          157835,
          180593,
          177578,
          153358,
          151848,
          140363,
          187813,
          201369,
          219703,
          210080,
          222315,
          223808,
          208434,
          234989,
          209900,
          219342,
          257933,
          240003,
          212499,
          236400,
          238838,
          231039,
          246371,
          233859,
          133081,
          138008,
          153248,
          135299,
          158499,
          113745,
          117664,
          160321,
          120693,
          144813,
          190969,
          193324,
          224570,
          245438,
          218046,
          109727,
          140472,
          132589,
          121194,
          142470,
          229302,
          250044,
          275067,
          278323,
          295401,
          308897,
          243455,
          167076,
          134435,
          99065,
          96673,
          128439,
          131226,
          190445,
          176765,
          208493,
          182871,
          199680,
          182761,
          79804,
          102682,
          151101,
          146050,
          191408,
          251535,
          261774,
          248648,
          285386,
          292540,
          294168.1,
          280907.8,
          153075.55,
          189763.37,
          162199.72,
          172221.3,
          249430.87,
          296823.88,
          282714,
          272984.6,
          169883.49,
          213971.21,
          293096.32,
          302618.48,
          265727.76,
          244128.16,
          157007.22,
          177938.88
         ]
        }
       ],
       "layout": {
        "legend": {
         "title": {
          "text": "Producción"
         }
        },
        "template": {
         "data": {
          "bar": [
           {
            "error_x": {
             "color": "#2a3f5f"
            },
            "error_y": {
             "color": "#2a3f5f"
            },
            "marker": {
             "line": {
              "color": "#E5ECF6",
              "width": 0.5
             }
            },
            "type": "bar"
           }
          ],
          "barpolar": [
           {
            "marker": {
             "line": {
              "color": "#E5ECF6",
              "width": 0.5
             }
            },
            "type": "barpolar"
           }
          ],
          "carpet": [
           {
            "aaxis": {
             "endlinecolor": "#2a3f5f",
             "gridcolor": "white",
             "linecolor": "white",
             "minorgridcolor": "white",
             "startlinecolor": "#2a3f5f"
            },
            "baxis": {
             "endlinecolor": "#2a3f5f",
             "gridcolor": "white",
             "linecolor": "white",
             "minorgridcolor": "white",
             "startlinecolor": "#2a3f5f"
            },
            "type": "carpet"
           }
          ],
          "choropleth": [
           {
            "colorbar": {
             "outlinewidth": 0,
             "ticks": ""
            },
            "type": "choropleth"
           }
          ],
          "contour": [
           {
            "colorbar": {
             "outlinewidth": 0,
             "ticks": ""
            },
            "colorscale": [
             [
              0,
              "#0d0887"
             ],
             [
              0.1111111111111111,
              "#46039f"
             ],
             [
              0.2222222222222222,
              "#7201a8"
             ],
             [
              0.3333333333333333,
              "#9c179e"
             ],
             [
              0.4444444444444444,
              "#bd3786"
             ],
             [
              0.5555555555555556,
              "#d8576b"
             ],
             [
              0.6666666666666666,
              "#ed7953"
             ],
             [
              0.7777777777777778,
              "#fb9f3a"
             ],
             [
              0.8888888888888888,
              "#fdca26"
             ],
             [
              1,
              "#f0f921"
             ]
            ],
            "type": "contour"
           }
          ],
          "contourcarpet": [
           {
            "colorbar": {
             "outlinewidth": 0,
             "ticks": ""
            },
            "type": "contourcarpet"
           }
          ],
          "heatmap": [
           {
            "colorbar": {
             "outlinewidth": 0,
             "ticks": ""
            },
            "colorscale": [
             [
              0,
              "#0d0887"
             ],
             [
              0.1111111111111111,
              "#46039f"
             ],
             [
              0.2222222222222222,
              "#7201a8"
             ],
             [
              0.3333333333333333,
              "#9c179e"
             ],
             [
              0.4444444444444444,
              "#bd3786"
             ],
             [
              0.5555555555555556,
              "#d8576b"
             ],
             [
              0.6666666666666666,
              "#ed7953"
             ],
             [
              0.7777777777777778,
              "#fb9f3a"
             ],
             [
              0.8888888888888888,
              "#fdca26"
             ],
             [
              1,
              "#f0f921"
             ]
            ],
            "type": "heatmap"
           }
          ],
          "heatmapgl": [
           {
            "colorbar": {
             "outlinewidth": 0,
             "ticks": ""
            },
            "colorscale": [
             [
              0,
              "#0d0887"
             ],
             [
              0.1111111111111111,
              "#46039f"
             ],
             [
              0.2222222222222222,
              "#7201a8"
             ],
             [
              0.3333333333333333,
              "#9c179e"
             ],
             [
              0.4444444444444444,
              "#bd3786"
             ],
             [
              0.5555555555555556,
              "#d8576b"
             ],
             [
              0.6666666666666666,
              "#ed7953"
             ],
             [
              0.7777777777777778,
              "#fb9f3a"
             ],
             [
              0.8888888888888888,
              "#fdca26"
             ],
             [
              1,
              "#f0f921"
             ]
            ],
            "type": "heatmapgl"
           }
          ],
          "histogram": [
           {
            "marker": {
             "colorbar": {
              "outlinewidth": 0,
              "ticks": ""
             }
            },
            "type": "histogram"
           }
          ],
          "histogram2d": [
           {
            "colorbar": {
             "outlinewidth": 0,
             "ticks": ""
            },
            "colorscale": [
             [
              0,
              "#0d0887"
             ],
             [
              0.1111111111111111,
              "#46039f"
             ],
             [
              0.2222222222222222,
              "#7201a8"
             ],
             [
              0.3333333333333333,
              "#9c179e"
             ],
             [
              0.4444444444444444,
              "#bd3786"
             ],
             [
              0.5555555555555556,
              "#d8576b"
             ],
             [
              0.6666666666666666,
              "#ed7953"
             ],
             [
              0.7777777777777778,
              "#fb9f3a"
             ],
             [
              0.8888888888888888,
              "#fdca26"
             ],
             [
              1,
              "#f0f921"
             ]
            ],
            "type": "histogram2d"
           }
          ],
          "histogram2dcontour": [
           {
            "colorbar": {
             "outlinewidth": 0,
             "ticks": ""
            },
            "colorscale": [
             [
              0,
              "#0d0887"
             ],
             [
              0.1111111111111111,
              "#46039f"
             ],
             [
              0.2222222222222222,
              "#7201a8"
             ],
             [
              0.3333333333333333,
              "#9c179e"
             ],
             [
              0.4444444444444444,
              "#bd3786"
             ],
             [
              0.5555555555555556,
              "#d8576b"
             ],
             [
              0.6666666666666666,
              "#ed7953"
             ],
             [
              0.7777777777777778,
              "#fb9f3a"
             ],
             [
              0.8888888888888888,
              "#fdca26"
             ],
             [
              1,
              "#f0f921"
             ]
            ],
            "type": "histogram2dcontour"
           }
          ],
          "mesh3d": [
           {
            "colorbar": {
             "outlinewidth": 0,
             "ticks": ""
            },
            "type": "mesh3d"
           }
          ],
          "parcoords": [
           {
            "line": {
             "colorbar": {
              "outlinewidth": 0,
              "ticks": ""
             }
            },
            "type": "parcoords"
           }
          ],
          "pie": [
           {
            "automargin": true,
            "type": "pie"
           }
          ],
          "scatter": [
           {
            "marker": {
             "colorbar": {
              "outlinewidth": 0,
              "ticks": ""
             }
            },
            "type": "scatter"
           }
          ],
          "scatter3d": [
           {
            "line": {
             "colorbar": {
              "outlinewidth": 0,
              "ticks": ""
             }
            },
            "marker": {
             "colorbar": {
              "outlinewidth": 0,
              "ticks": ""
             }
            },
            "type": "scatter3d"
           }
          ],
          "scattercarpet": [
           {
            "marker": {
             "colorbar": {
              "outlinewidth": 0,
              "ticks": ""
             }
            },
            "type": "scattercarpet"
           }
          ],
          "scattergeo": [
           {
            "marker": {
             "colorbar": {
              "outlinewidth": 0,
              "ticks": ""
             }
            },
            "type": "scattergeo"
           }
          ],
          "scattergl": [
           {
            "marker": {
             "colorbar": {
              "outlinewidth": 0,
              "ticks": ""
             }
            },
            "type": "scattergl"
           }
          ],
          "scattermapbox": [
           {
            "marker": {
             "colorbar": {
              "outlinewidth": 0,
              "ticks": ""
             }
            },
            "type": "scattermapbox"
           }
          ],
          "scatterpolar": [
           {
            "marker": {
             "colorbar": {
              "outlinewidth": 0,
              "ticks": ""
             }
            },
            "type": "scatterpolar"
           }
          ],
          "scatterpolargl": [
           {
            "marker": {
             "colorbar": {
              "outlinewidth": 0,
              "ticks": ""
             }
            },
            "type": "scatterpolargl"
           }
          ],
          "scatterternary": [
           {
            "marker": {
             "colorbar": {
              "outlinewidth": 0,
              "ticks": ""
             }
            },
            "type": "scatterternary"
           }
          ],
          "surface": [
           {
            "colorbar": {
             "outlinewidth": 0,
             "ticks": ""
            },
            "colorscale": [
             [
              0,
              "#0d0887"
             ],
             [
              0.1111111111111111,
              "#46039f"
             ],
             [
              0.2222222222222222,
              "#7201a8"
             ],
             [
              0.3333333333333333,
              "#9c179e"
             ],
             [
              0.4444444444444444,
              "#bd3786"
             ],
             [
              0.5555555555555556,
              "#d8576b"
             ],
             [
              0.6666666666666666,
              "#ed7953"
             ],
             [
              0.7777777777777778,
              "#fb9f3a"
             ],
             [
              0.8888888888888888,
              "#fdca26"
             ],
             [
              1,
              "#f0f921"
             ]
            ],
            "type": "surface"
           }
          ],
          "table": [
           {
            "cells": {
             "fill": {
              "color": "#EBF0F8"
             },
             "line": {
              "color": "white"
             }
            },
            "header": {
             "fill": {
              "color": "#C8D4E3"
             },
             "line": {
              "color": "white"
             }
            },
            "type": "table"
           }
          ]
         },
         "layout": {
          "annotationdefaults": {
           "arrowcolor": "#2a3f5f",
           "arrowhead": 0,
           "arrowwidth": 1
          },
          "coloraxis": {
           "colorbar": {
            "outlinewidth": 0,
            "ticks": ""
           }
          },
          "colorscale": {
           "diverging": [
            [
             0,
             "#8e0152"
            ],
            [
             0.1,
             "#c51b7d"
            ],
            [
             0.2,
             "#de77ae"
            ],
            [
             0.3,
             "#f1b6da"
            ],
            [
             0.4,
             "#fde0ef"
            ],
            [
             0.5,
             "#f7f7f7"
            ],
            [
             0.6,
             "#e6f5d0"
            ],
            [
             0.7,
             "#b8e186"
            ],
            [
             0.8,
             "#7fbc41"
            ],
            [
             0.9,
             "#4d9221"
            ],
            [
             1,
             "#276419"
            ]
           ],
           "sequential": [
            [
             0,
             "#0d0887"
            ],
            [
             0.1111111111111111,
             "#46039f"
            ],
            [
             0.2222222222222222,
             "#7201a8"
            ],
            [
             0.3333333333333333,
             "#9c179e"
            ],
            [
             0.4444444444444444,
             "#bd3786"
            ],
            [
             0.5555555555555556,
             "#d8576b"
            ],
            [
             0.6666666666666666,
             "#ed7953"
            ],
            [
             0.7777777777777778,
             "#fb9f3a"
            ],
            [
             0.8888888888888888,
             "#fdca26"
            ],
            [
             1,
             "#f0f921"
            ]
           ],
           "sequentialminus": [
            [
             0,
             "#0d0887"
            ],
            [
             0.1111111111111111,
             "#46039f"
            ],
            [
             0.2222222222222222,
             "#7201a8"
            ],
            [
             0.3333333333333333,
             "#9c179e"
            ],
            [
             0.4444444444444444,
             "#bd3786"
            ],
            [
             0.5555555555555556,
             "#d8576b"
            ],
            [
             0.6666666666666666,
             "#ed7953"
            ],
            [
             0.7777777777777778,
             "#fb9f3a"
            ],
            [
             0.8888888888888888,
             "#fdca26"
            ],
            [
             1,
             "#f0f921"
            ]
           ]
          },
          "colorway": [
           "#636efa",
           "#EF553B",
           "#00cc96",
           "#ab63fa",
           "#FFA15A",
           "#19d3f3",
           "#FF6692",
           "#B6E880",
           "#FF97FF",
           "#FECB52"
          ],
          "font": {
           "color": "#2a3f5f"
          },
          "geo": {
           "bgcolor": "white",
           "lakecolor": "white",
           "landcolor": "#E5ECF6",
           "showlakes": true,
           "showland": true,
           "subunitcolor": "white"
          },
          "hoverlabel": {
           "align": "left"
          },
          "hovermode": "closest",
          "mapbox": {
           "style": "light"
          },
          "paper_bgcolor": "white",
          "plot_bgcolor": "#E5ECF6",
          "polar": {
           "angularaxis": {
            "gridcolor": "white",
            "linecolor": "white",
            "ticks": ""
           },
           "bgcolor": "#E5ECF6",
           "radialaxis": {
            "gridcolor": "white",
            "linecolor": "white",
            "ticks": ""
           }
          },
          "scene": {
           "xaxis": {
            "backgroundcolor": "#E5ECF6",
            "gridcolor": "white",
            "gridwidth": 2,
            "linecolor": "white",
            "showbackground": true,
            "ticks": "",
            "zerolinecolor": "white"
           },
           "yaxis": {
            "backgroundcolor": "#E5ECF6",
            "gridcolor": "white",
            "gridwidth": 2,
            "linecolor": "white",
            "showbackground": true,
            "ticks": "",
            "zerolinecolor": "white"
           },
           "zaxis": {
            "backgroundcolor": "#E5ECF6",
            "gridcolor": "white",
            "gridwidth": 2,
            "linecolor": "white",
            "showbackground": true,
            "ticks": "",
            "zerolinecolor": "white"
           }
          },
          "shapedefaults": {
           "line": {
            "color": "#2a3f5f"
           }
          },
          "ternary": {
           "aaxis": {
            "gridcolor": "white",
            "linecolor": "white",
            "ticks": ""
           },
           "baxis": {
            "gridcolor": "white",
            "linecolor": "white",
            "ticks": ""
           },
           "bgcolor": "#E5ECF6",
           "caxis": {
            "gridcolor": "white",
            "linecolor": "white",
            "ticks": ""
           }
          },
          "title": {
           "x": 0.05
          },
          "xaxis": {
           "automargin": true,
           "gridcolor": "white",
           "linecolor": "white",
           "ticks": "",
           "title": {
            "standoff": 15
           },
           "zerolinecolor": "white",
           "zerolinewidth": 2
          },
          "yaxis": {
           "automargin": true,
           "gridcolor": "white",
           "linecolor": "white",
           "ticks": "",
           "title": {
            "standoff": 15
           },
           "zerolinecolor": "white",
           "zerolinewidth": 2
          }
         }
        },
        "title": {
         "font": {
          "size": 18
         },
         "text": "Producción de Biodiesel en Argentina",
         "x": 0.1,
         "xref": "paper"
        },
        "xaxis": {
         "title": {
          "text": "Fecha"
         }
        },
        "yaxis": {
         "title": {
          "text": "Masa Mensual  [Toneladas]"
         }
        }
       }
      },
      "text/html": [
       "<div>\n",
       "        \n",
       "        \n",
       "            <div id=\"8928ef39-9387-41a1-b7f5-c2b5fd9d8dd1\" class=\"plotly-graph-div\" style=\"height:525px; width:100%;\"></div>\n",
       "            <script type=\"text/javascript\">\n",
       "                require([\"plotly\"], function(Plotly) {\n",
       "                    window.PLOTLYENV=window.PLOTLYENV || {};\n",
       "                    \n",
       "                if (document.getElementById(\"8928ef39-9387-41a1-b7f5-c2b5fd9d8dd1\")) {\n",
       "                    Plotly.newPlot(\n",
       "                        '8928ef39-9387-41a1-b7f5-c2b5fd9d8dd1',\n",
       "                        [{\"line\": {\"shape\": \"spline\", \"width\": 5}, \"mode\": \"lines\", \"name\": \"Total\", \"type\": \"scatter\", \"x\": [\"2008-01-01T00:00:00\", \"2008-02-01T00:00:00\", \"2008-03-01T00:00:00\", \"2008-04-01T00:00:00\", \"2008-05-01T00:00:00\", \"2008-06-01T00:00:00\", \"2008-07-01T00:00:00\", \"2008-08-01T00:00:00\", \"2008-09-01T00:00:00\", \"2008-10-01T00:00:00\", \"2008-11-01T00:00:00\", \"2008-12-01T00:00:00\", \"2009-01-01T00:00:00\", \"2009-02-01T00:00:00\", \"2009-03-01T00:00:00\", \"2009-04-01T00:00:00\", \"2009-05-01T00:00:00\", \"2009-06-01T00:00:00\", \"2009-07-01T00:00:00\", \"2009-08-01T00:00:00\", \"2009-09-01T00:00:00\", \"2009-10-01T00:00:00\", \"2009-11-01T00:00:00\", \"2009-12-01T00:00:00\", \"2010-01-01T00:00:00\", \"2010-02-01T00:00:00\", \"2010-03-01T00:00:00\", \"2010-04-01T00:00:00\", \"2010-05-01T00:00:00\", \"2010-06-01T00:00:00\", \"2010-07-01T00:00:00\", \"2010-08-01T00:00:00\", \"2010-09-01T00:00:00\", \"2010-10-01T00:00:00\", \"2010-11-01T00:00:00\", \"2010-12-01T00:00:00\", \"2011-01-01T00:00:00\", \"2011-02-01T00:00:00\", \"2011-03-01T00:00:00\", \"2011-04-01T00:00:00\", \"2011-05-01T00:00:00\", \"2011-06-01T00:00:00\", \"2011-07-01T00:00:00\", \"2011-08-01T00:00:00\", \"2011-09-01T00:00:00\", \"2011-10-01T00:00:00\", \"2011-11-01T00:00:00\", \"2011-12-01T00:00:00\", \"2012-01-01T00:00:00\", \"2012-02-01T00:00:00\", \"2012-03-01T00:00:00\", \"2012-04-01T00:00:00\", \"2012-05-01T00:00:00\", \"2012-06-01T00:00:00\", \"2012-07-01T00:00:00\", \"2012-08-01T00:00:00\", \"2012-09-01T00:00:00\", \"2012-10-01T00:00:00\", \"2012-11-01T00:00:00\", \"2012-12-01T00:00:00\", \"2013-01-01T00:00:00\", \"2013-02-01T00:00:00\", \"2013-03-01T00:00:00\", \"2013-04-01T00:00:00\", \"2013-05-01T00:00:00\", \"2013-06-01T00:00:00\", \"2013-07-01T00:00:00\", \"2013-08-01T00:00:00\", \"2013-09-01T00:00:00\", \"2013-10-01T00:00:00\", \"2013-11-01T00:00:00\", \"2013-12-01T00:00:00\", \"2014-01-01T00:00:00\", \"2014-02-01T00:00:00\", \"2014-03-01T00:00:00\", \"2014-04-01T00:00:00\", \"2014-05-01T00:00:00\", \"2014-06-01T00:00:00\", \"2014-07-01T00:00:00\", \"2014-08-01T00:00:00\", \"2014-09-01T00:00:00\", \"2014-10-01T00:00:00\", \"2014-11-01T00:00:00\", \"2014-12-01T00:00:00\", \"2015-01-01T00:00:00\", \"2015-02-01T00:00:00\", \"2015-03-01T00:00:00\", \"2015-04-01T00:00:00\", \"2015-05-01T00:00:00\", \"2015-06-01T00:00:00\", \"2015-07-01T00:00:00\", \"2015-08-01T00:00:00\", \"2015-09-01T00:00:00\", \"2015-10-01T00:00:00\", \"2015-11-01T00:00:00\", \"2015-12-01T00:00:00\", \"2016-01-01T00:00:00\", \"2016-02-01T00:00:00\", \"2016-03-01T00:00:00\", \"2016-04-01T00:00:00\", \"2016-05-01T00:00:00\", \"2016-06-01T00:00:00\", \"2016-07-01T00:00:00\", \"2016-08-01T00:00:00\", \"2016-09-01T00:00:00\", \"2016-10-01T00:00:00\", \"2016-11-01T00:00:00\", \"2016-12-01T00:00:00\", \"2017-01-01T00:00:00\", \"2017-02-01T00:00:00\", \"2017-03-01T00:00:00\", \"2017-04-01T00:00:00\", \"2017-05-01T00:00:00\", \"2017-06-01T00:00:00\", \"2017-07-01T00:00:00\", \"2017-08-01T00:00:00\", \"2017-09-01T00:00:00\", \"2017-10-01T00:00:00\", \"2017-11-01T00:00:00\", \"2017-12-01T00:00:00\", \"2018-01-01T00:00:00\", \"2018-02-01T00:00:00\", \"2018-03-01T00:00:00\"], \"y\": [47251.0, 38747.0, 42095.0, 43881.0, 51679.0, 50726.0, 71888.0, 91595.0, 83924.0, 97429.0, 79530.0, 13119.0, 18355.0, 47673.0, 76655.0, 80577.0, 90288.0, 103000.0, 125872.0, 123928.0, 137501.0, 130614.0, 131458.0, 113182.0, 140247.0, 112508.0, 107929.0, 141733.0, 159105.0, 160019.0, 165098.0, 164382.0, 157835.0, 180593.0, 177578.0, 153358.0, 151848.0, 140363.0, 187813.0, 201369.0, 219703.0, 210080.0, 222315.0, 223808.0, 208434.0, 234989.0, 209900.0, 219342.0, 257933.0, 240003.0, 212499.0, 236400.0, 238838.0, 231039.0, 246371.0, 233859.0, 133081.0, 138008.0, 153248.0, 135299.0, 158499.0, 113745.0, 117664.0, 160321.0, 120693.0, 144813.0, 190969.0, 193324.0, 224570.0, 245438.0, 218046.0, 109727.0, 140472.0, 132589.0, 121194.0, 142470.0, 229302.0, 250044.0, 275067.0, 278323.0, 295401.0, 308897.0, 243455.0, 167076.0, 134435.0, 99065.0, 96673.0, 128439.0, 131226.0, 190445.0, 176765.0, 208493.0, 182871.0, 199680.0, 182761.0, 79804.0, 102682.0, 151101.0, 146050.0, 191408.0, 251535.0, 261774.0, 248648.0, 285386.0, 292540.0, 294168.1, 280907.8, 153075.55, 189763.37, 162199.72, 172221.3, 249430.87, 296823.88, 282714.0, 272984.6, 169883.49, 213971.21, 293096.32, 302618.48, 265727.76, 244128.16, 157007.22, 177938.88]}],\n",
       "                        {\"legend\": {\"title\": {\"text\": \"Producci\\u00f3n\"}}, \"template\": {\"data\": {\"bar\": [{\"error_x\": {\"color\": \"#2a3f5f\"}, \"error_y\": {\"color\": \"#2a3f5f\"}, \"marker\": {\"line\": {\"color\": \"#E5ECF6\", \"width\": 0.5}}, \"type\": \"bar\"}], \"barpolar\": [{\"marker\": {\"line\": {\"color\": \"#E5ECF6\", \"width\": 0.5}}, \"type\": \"barpolar\"}], \"carpet\": [{\"aaxis\": {\"endlinecolor\": \"#2a3f5f\", \"gridcolor\": \"white\", \"linecolor\": \"white\", \"minorgridcolor\": \"white\", \"startlinecolor\": \"#2a3f5f\"}, \"baxis\": {\"endlinecolor\": \"#2a3f5f\", \"gridcolor\": \"white\", \"linecolor\": \"white\", \"minorgridcolor\": \"white\", \"startlinecolor\": \"#2a3f5f\"}, \"type\": \"carpet\"}], \"choropleth\": [{\"colorbar\": {\"outlinewidth\": 0, \"ticks\": \"\"}, \"type\": \"choropleth\"}], \"contour\": [{\"colorbar\": {\"outlinewidth\": 0, \"ticks\": \"\"}, \"colorscale\": [[0.0, \"#0d0887\"], [0.1111111111111111, \"#46039f\"], [0.2222222222222222, \"#7201a8\"], [0.3333333333333333, \"#9c179e\"], [0.4444444444444444, \"#bd3786\"], [0.5555555555555556, \"#d8576b\"], [0.6666666666666666, \"#ed7953\"], [0.7777777777777778, \"#fb9f3a\"], [0.8888888888888888, \"#fdca26\"], [1.0, \"#f0f921\"]], \"type\": \"contour\"}], \"contourcarpet\": [{\"colorbar\": {\"outlinewidth\": 0, \"ticks\": \"\"}, \"type\": \"contourcarpet\"}], \"heatmap\": [{\"colorbar\": {\"outlinewidth\": 0, \"ticks\": \"\"}, \"colorscale\": [[0.0, \"#0d0887\"], [0.1111111111111111, \"#46039f\"], [0.2222222222222222, \"#7201a8\"], [0.3333333333333333, \"#9c179e\"], [0.4444444444444444, \"#bd3786\"], [0.5555555555555556, \"#d8576b\"], [0.6666666666666666, \"#ed7953\"], [0.7777777777777778, \"#fb9f3a\"], [0.8888888888888888, \"#fdca26\"], [1.0, \"#f0f921\"]], \"type\": \"heatmap\"}], \"heatmapgl\": [{\"colorbar\": {\"outlinewidth\": 0, \"ticks\": \"\"}, \"colorscale\": [[0.0, \"#0d0887\"], [0.1111111111111111, \"#46039f\"], [0.2222222222222222, \"#7201a8\"], [0.3333333333333333, \"#9c179e\"], [0.4444444444444444, \"#bd3786\"], [0.5555555555555556, \"#d8576b\"], [0.6666666666666666, \"#ed7953\"], [0.7777777777777778, \"#fb9f3a\"], [0.8888888888888888, \"#fdca26\"], [1.0, \"#f0f921\"]], \"type\": \"heatmapgl\"}], \"histogram\": [{\"marker\": {\"colorbar\": {\"outlinewidth\": 0, \"ticks\": \"\"}}, \"type\": \"histogram\"}], \"histogram2d\": [{\"colorbar\": {\"outlinewidth\": 0, \"ticks\": \"\"}, \"colorscale\": [[0.0, \"#0d0887\"], [0.1111111111111111, \"#46039f\"], [0.2222222222222222, \"#7201a8\"], [0.3333333333333333, \"#9c179e\"], [0.4444444444444444, \"#bd3786\"], [0.5555555555555556, \"#d8576b\"], [0.6666666666666666, \"#ed7953\"], [0.7777777777777778, \"#fb9f3a\"], [0.8888888888888888, \"#fdca26\"], [1.0, \"#f0f921\"]], \"type\": \"histogram2d\"}], \"histogram2dcontour\": [{\"colorbar\": {\"outlinewidth\": 0, \"ticks\": \"\"}, \"colorscale\": [[0.0, \"#0d0887\"], [0.1111111111111111, \"#46039f\"], [0.2222222222222222, \"#7201a8\"], [0.3333333333333333, \"#9c179e\"], [0.4444444444444444, \"#bd3786\"], [0.5555555555555556, \"#d8576b\"], [0.6666666666666666, \"#ed7953\"], [0.7777777777777778, \"#fb9f3a\"], [0.8888888888888888, \"#fdca26\"], [1.0, \"#f0f921\"]], \"type\": \"histogram2dcontour\"}], \"mesh3d\": [{\"colorbar\": {\"outlinewidth\": 0, \"ticks\": \"\"}, \"type\": \"mesh3d\"}], \"parcoords\": [{\"line\": {\"colorbar\": {\"outlinewidth\": 0, \"ticks\": \"\"}}, \"type\": \"parcoords\"}], \"pie\": [{\"automargin\": true, \"type\": \"pie\"}], \"scatter\": [{\"marker\": {\"colorbar\": {\"outlinewidth\": 0, \"ticks\": \"\"}}, \"type\": \"scatter\"}], \"scatter3d\": [{\"line\": {\"colorbar\": {\"outlinewidth\": 0, \"ticks\": \"\"}}, \"marker\": {\"colorbar\": {\"outlinewidth\": 0, \"ticks\": \"\"}}, \"type\": \"scatter3d\"}], \"scattercarpet\": [{\"marker\": {\"colorbar\": {\"outlinewidth\": 0, \"ticks\": \"\"}}, \"type\": \"scattercarpet\"}], \"scattergeo\": [{\"marker\": {\"colorbar\": {\"outlinewidth\": 0, \"ticks\": \"\"}}, \"type\": \"scattergeo\"}], \"scattergl\": [{\"marker\": {\"colorbar\": {\"outlinewidth\": 0, \"ticks\": \"\"}}, \"type\": \"scattergl\"}], \"scattermapbox\": [{\"marker\": {\"colorbar\": {\"outlinewidth\": 0, \"ticks\": \"\"}}, \"type\": \"scattermapbox\"}], \"scatterpolar\": [{\"marker\": {\"colorbar\": {\"outlinewidth\": 0, \"ticks\": \"\"}}, \"type\": \"scatterpolar\"}], \"scatterpolargl\": [{\"marker\": {\"colorbar\": {\"outlinewidth\": 0, \"ticks\": \"\"}}, \"type\": \"scatterpolargl\"}], \"scatterternary\": [{\"marker\": {\"colorbar\": {\"outlinewidth\": 0, \"ticks\": \"\"}}, \"type\": \"scatterternary\"}], \"surface\": [{\"colorbar\": {\"outlinewidth\": 0, \"ticks\": \"\"}, \"colorscale\": [[0.0, \"#0d0887\"], [0.1111111111111111, \"#46039f\"], [0.2222222222222222, \"#7201a8\"], [0.3333333333333333, \"#9c179e\"], [0.4444444444444444, \"#bd3786\"], [0.5555555555555556, \"#d8576b\"], [0.6666666666666666, \"#ed7953\"], [0.7777777777777778, \"#fb9f3a\"], [0.8888888888888888, \"#fdca26\"], [1.0, \"#f0f921\"]], \"type\": \"surface\"}], \"table\": [{\"cells\": {\"fill\": {\"color\": \"#EBF0F8\"}, \"line\": {\"color\": \"white\"}}, \"header\": {\"fill\": {\"color\": \"#C8D4E3\"}, \"line\": {\"color\": \"white\"}}, \"type\": \"table\"}]}, \"layout\": {\"annotationdefaults\": {\"arrowcolor\": \"#2a3f5f\", \"arrowhead\": 0, \"arrowwidth\": 1}, \"coloraxis\": {\"colorbar\": {\"outlinewidth\": 0, \"ticks\": \"\"}}, \"colorscale\": {\"diverging\": [[0, \"#8e0152\"], [0.1, \"#c51b7d\"], [0.2, \"#de77ae\"], [0.3, \"#f1b6da\"], [0.4, \"#fde0ef\"], [0.5, \"#f7f7f7\"], [0.6, \"#e6f5d0\"], [0.7, \"#b8e186\"], [0.8, \"#7fbc41\"], [0.9, \"#4d9221\"], [1, \"#276419\"]], \"sequential\": [[0.0, \"#0d0887\"], [0.1111111111111111, \"#46039f\"], [0.2222222222222222, \"#7201a8\"], [0.3333333333333333, \"#9c179e\"], [0.4444444444444444, \"#bd3786\"], [0.5555555555555556, \"#d8576b\"], [0.6666666666666666, \"#ed7953\"], [0.7777777777777778, \"#fb9f3a\"], [0.8888888888888888, \"#fdca26\"], [1.0, \"#f0f921\"]], \"sequentialminus\": [[0.0, \"#0d0887\"], [0.1111111111111111, \"#46039f\"], [0.2222222222222222, \"#7201a8\"], [0.3333333333333333, \"#9c179e\"], [0.4444444444444444, \"#bd3786\"], [0.5555555555555556, \"#d8576b\"], [0.6666666666666666, \"#ed7953\"], [0.7777777777777778, \"#fb9f3a\"], [0.8888888888888888, \"#fdca26\"], [1.0, \"#f0f921\"]]}, \"colorway\": [\"#636efa\", \"#EF553B\", \"#00cc96\", \"#ab63fa\", \"#FFA15A\", \"#19d3f3\", \"#FF6692\", \"#B6E880\", \"#FF97FF\", \"#FECB52\"], \"font\": {\"color\": \"#2a3f5f\"}, \"geo\": {\"bgcolor\": \"white\", \"lakecolor\": \"white\", \"landcolor\": \"#E5ECF6\", \"showlakes\": true, \"showland\": true, \"subunitcolor\": \"white\"}, \"hoverlabel\": {\"align\": \"left\"}, \"hovermode\": \"closest\", \"mapbox\": {\"style\": \"light\"}, \"paper_bgcolor\": \"white\", \"plot_bgcolor\": \"#E5ECF6\", \"polar\": {\"angularaxis\": {\"gridcolor\": \"white\", \"linecolor\": \"white\", \"ticks\": \"\"}, \"bgcolor\": \"#E5ECF6\", \"radialaxis\": {\"gridcolor\": \"white\", \"linecolor\": \"white\", \"ticks\": \"\"}}, \"scene\": {\"xaxis\": {\"backgroundcolor\": \"#E5ECF6\", \"gridcolor\": \"white\", \"gridwidth\": 2, \"linecolor\": \"white\", \"showbackground\": true, \"ticks\": \"\", \"zerolinecolor\": \"white\"}, \"yaxis\": {\"backgroundcolor\": \"#E5ECF6\", \"gridcolor\": \"white\", \"gridwidth\": 2, \"linecolor\": \"white\", \"showbackground\": true, \"ticks\": \"\", \"zerolinecolor\": \"white\"}, \"zaxis\": {\"backgroundcolor\": \"#E5ECF6\", \"gridcolor\": \"white\", \"gridwidth\": 2, \"linecolor\": \"white\", \"showbackground\": true, \"ticks\": \"\", \"zerolinecolor\": \"white\"}}, \"shapedefaults\": {\"line\": {\"color\": \"#2a3f5f\"}}, \"ternary\": {\"aaxis\": {\"gridcolor\": \"white\", \"linecolor\": \"white\", \"ticks\": \"\"}, \"baxis\": {\"gridcolor\": \"white\", \"linecolor\": \"white\", \"ticks\": \"\"}, \"bgcolor\": \"#E5ECF6\", \"caxis\": {\"gridcolor\": \"white\", \"linecolor\": \"white\", \"ticks\": \"\"}}, \"title\": {\"x\": 0.05}, \"xaxis\": {\"automargin\": true, \"gridcolor\": \"white\", \"linecolor\": \"white\", \"ticks\": \"\", \"title\": {\"standoff\": 15}, \"zerolinecolor\": \"white\", \"zerolinewidth\": 2}, \"yaxis\": {\"automargin\": true, \"gridcolor\": \"white\", \"linecolor\": \"white\", \"ticks\": \"\", \"title\": {\"standoff\": 15}, \"zerolinecolor\": \"white\", \"zerolinewidth\": 2}}}, \"title\": {\"font\": {\"size\": 18}, \"text\": \"Producci\\u00f3n de Biodiesel en Argentina\", \"x\": 0.1, \"xref\": \"paper\"}, \"xaxis\": {\"title\": {\"text\": \"Fecha\"}}, \"yaxis\": {\"title\": {\"text\": \"Masa Mensual  [Toneladas]\"}}},\n",
       "                        {\"responsive\": true}\n",
       "                    ).then(function(){\n",
       "                            \n",
       "var gd = document.getElementById('8928ef39-9387-41a1-b7f5-c2b5fd9d8dd1');\n",
       "var x = new MutationObserver(function (mutations, observer) {{\n",
       "        var display = window.getComputedStyle(gd).display;\n",
       "        if (!display || display === 'none') {{\n",
       "            console.log([gd, 'removed!']);\n",
       "            Plotly.purge(gd);\n",
       "            observer.disconnect();\n",
       "        }}\n",
       "}});\n",
       "\n",
       "// Listen for the removal of the full notebook cells\n",
       "var notebookContainer = gd.closest('#notebook-container');\n",
       "if (notebookContainer) {{\n",
       "    x.observe(notebookContainer, {childList: true});\n",
       "}}\n",
       "\n",
       "// Listen for the clearing of the current output cell\n",
       "var outputEl = gd.closest('.output');\n",
       "if (outputEl) {{\n",
       "    x.observe(outputEl, {childList: true});\n",
       "}}\n",
       "\n",
       "                        })\n",
       "                };\n",
       "                });\n",
       "            </script>\n",
       "        </div>"
      ]
     },
     "metadata": {},
     "output_type": "display_data"
    },
    {
     "data": {
      "text/html": [
       "<div>\n",
       "<style scoped>\n",
       "    .dataframe tbody tr th:only-of-type {\n",
       "        vertical-align: middle;\n",
       "    }\n",
       "\n",
       "    .dataframe tbody tr th {\n",
       "        vertical-align: top;\n",
       "    }\n",
       "\n",
       "    .dataframe thead th {\n",
       "        text-align: right;\n",
       "    }\n",
       "</style>\n",
       "<table border=\"1\" class=\"dataframe\">\n",
       "  <thead>\n",
       "    <tr style=\"text-align: right;\">\n",
       "      <th></th>\n",
       "      <th>produccion_total</th>\n",
       "      <th>ventas_al_corte</th>\n",
       "      <th>otras_ventas_al_mercado_interno</th>\n",
       "      <th>exportaciones</th>\n",
       "    </tr>\n",
       "  </thead>\n",
       "  <tbody>\n",
       "    <tr>\n",
       "      <th>count</th>\n",
       "      <td>123.000000</td>\n",
       "      <td>123.000000</td>\n",
       "      <td>123.000000</td>\n",
       "      <td>123.000000</td>\n",
       "    </tr>\n",
       "    <tr>\n",
       "      <th>mean</th>\n",
       "      <td>171548.249675</td>\n",
       "      <td>60169.826585</td>\n",
       "      <td>583.087805</td>\n",
       "      <td>109698.690813</td>\n",
       "    </tr>\n",
       "    <tr>\n",
       "      <th>std</th>\n",
       "      <td>70834.659985</td>\n",
       "      <td>35734.005016</td>\n",
       "      <td>2200.654576</td>\n",
       "      <td>56105.225992</td>\n",
       "    </tr>\n",
       "    <tr>\n",
       "      <th>min</th>\n",
       "      <td>13119.000000</td>\n",
       "      <td>0.000000</td>\n",
       "      <td>0.000000</td>\n",
       "      <td>7620.000000</td>\n",
       "    </tr>\n",
       "    <tr>\n",
       "      <th>25%</th>\n",
       "      <td>124900.000000</td>\n",
       "      <td>42886.500000</td>\n",
       "      <td>0.000000</td>\n",
       "      <td>68077.000000</td>\n",
       "    </tr>\n",
       "    <tr>\n",
       "      <th>50%</th>\n",
       "      <td>164382.000000</td>\n",
       "      <td>70065.000000</td>\n",
       "      <td>30.340000</td>\n",
       "      <td>103300.000000</td>\n",
       "    </tr>\n",
       "    <tr>\n",
       "      <th>75%</th>\n",
       "      <td>226936.000000</td>\n",
       "      <td>88419.500000</td>\n",
       "      <td>217.000000</td>\n",
       "      <td>154514.500000</td>\n",
       "    </tr>\n",
       "    <tr>\n",
       "      <th>max</th>\n",
       "      <td>308897.000000</td>\n",
       "      <td>107860.530000</td>\n",
       "      <td>17963.000000</td>\n",
       "      <td>267244.000000</td>\n",
       "    </tr>\n",
       "  </tbody>\n",
       "</table>\n",
       "</div>"
      ],
      "text/plain": [
       "       produccion_total  ventas_al_corte  otras_ventas_al_mercado_interno  \\\n",
       "count        123.000000       123.000000                       123.000000   \n",
       "mean      171548.249675     60169.826585                       583.087805   \n",
       "std        70834.659985     35734.005016                      2200.654576   \n",
       "min        13119.000000         0.000000                         0.000000   \n",
       "25%       124900.000000     42886.500000                         0.000000   \n",
       "50%       164382.000000     70065.000000                        30.340000   \n",
       "75%       226936.000000     88419.500000                       217.000000   \n",
       "max       308897.000000    107860.530000                     17963.000000   \n",
       "\n",
       "       exportaciones  \n",
       "count     123.000000  \n",
       "mean   109698.690813  \n",
       "std     56105.225992  \n",
       "min      7620.000000  \n",
       "25%     68077.000000  \n",
       "50%    103300.000000  \n",
       "75%    154514.500000  \n",
       "max    267244.000000  "
      ]
     },
     "execution_count": 430,
     "metadata": {},
     "output_type": "execute_result"
    }
   ],
   "source": [
    "fig=go.Figure()\n",
    "\n",
    "# fig = make_subplots(rows=2, cols=1)\n",
    "\n",
    "fig.add_trace(go.Scatter(x=biodiesel_nacional['mes'], y=biodiesel_nacional['produccion_total'], \n",
    "                         name='Total', mode='lines', line_width = 5                        \n",
    "                        )\n",
    "             )\n",
    "\n",
    "fig.update_layout(\n",
    "    title=go.layout.Title(\n",
    "        text=\"Producción de Biodiesel en Argentina\",\n",
    "        xref=\"paper\",\n",
    "        x=0.1,\n",
    "        font_size=18,\n",
    "    ),\n",
    "    xaxis_title=\"Fecha\",\n",
    "    yaxis_title=\"Masa Mensual  [Toneladas]\",\n",
    "    legend_title_text='Producción',\n",
    "#     trace_name='Tendendia de consumo'\n",
    ")\n",
    "\n",
    "fig.update_traces(line_shape='spline')\n",
    "\n",
    "fig.show()\n",
    "biodiesel_nacional.describe()"
   ]
  },
  {
   "cell_type": "markdown",
   "metadata": {},
   "source": [
    "En el primer grafico vemos la produccion total de biodiesel en cada año vemos que tuvo caidas importantes en los años 2013 y 2015 pero tiene una tendencia ascendente, parece haber una caida en 2018, sin embargo no podemos afirmarlo ya que solo tenemos datos hasta mayo de 2018.\n",
    "En el segundo grafico se muestra la produccion media por mes, en este grafico se aprecia una alta estacionalidad de la produccion,en el rimer semestre la produccion es mucho menor que en el segundo."
   ]
  },
  {
   "cell_type": "markdown",
   "metadata": {},
   "source": [
    "### 8- Comparar la distribución de producción total de biodiesel y bioetanol para cada mes y año. ¿En qué años y meses los consumos son más consistentes?\n",
    "--> Emplear: https://pandas.pydata.org/pandas-docs/stable/reference/api/pandas.pivot_table.html#pandas.pivot_table"
   ]
  },
  {
   "cell_type": "code",
   "execution_count": 434,
   "metadata": {},
   "outputs": [],
   "source": [
    "biodiesel = pd.DataFrame()\n",
    "biodiesel[['fecha','produccion_total']] = biodiesel_nacional[['mes','produccion_total']].copy()\n",
    "biodiesel['año']=biodiesel['fecha'].dt.year\n",
    "biodiesel['mes']= biodiesel['fecha'].dt.month\n",
    "biodiesel['consumo'] = biodiesel_nacional[['ventas_al_corte','otras_ventas_al_mercado_interno','exportaciones']].sum(axis='columns')\n",
    "\n",
    "bioetanol = pd.DataFrame()\n",
    "bioetanol[['fecha','produccion_total']] = bioetanol_nacional[['mes','produccion_total']].copy()\n",
    "bioetanol['año']=bioetanol['fecha'].dt.year\n",
    "bioetanol['mes']= bioetanol['fecha'].dt.month\n",
    "biodiesel['consumo'] = bioetanol_nacional['ventas_totales']\n"
   ]
  },
  {
   "cell_type": "markdown",
   "metadata": {},
   "source": [
    "### 9- Obtener un mapa de calor por mes y año, para los valores medios de  producción total de biodiesel y bioetanol."
   ]
  },
  {
   "cell_type": "code",
   "execution_count": 435,
   "metadata": {},
   "outputs": [
    {
     "data": {
      "text/plain": [
       "(array([ 0.5,  1.5,  2.5,  3.5,  4.5,  5.5,  6.5,  7.5,  8.5,  9.5, 10.5]),\n",
       " <a list of 11 Text major ticklabel objects>)"
      ]
     },
     "execution_count": 435,
     "metadata": {},
     "output_type": "execute_result"
    },
    {
     "data": {
      "image/png": "[encoded data removed]",
      "text/plain": [
       "<Figure size 792x504 with 2 Axes>"
      ]
     },
     "metadata": {
      "needs_background": "light"
     },
     "output_type": "display_data"
    }
   ],
   "source": [
    "exp=pd.pivot(biodiesel,columns='año',index='mes',values='produccion_total')\n",
    "\n",
    "# para colocar el nombre del mes, se complica porque no quedaba ordenado\n",
    "# exp = exp.reset_index()\n",
    "# exp['mes_name'] = pd.to_datetime(exp['mes'], format='%m').dt.month_name()\n",
    "# exp.set_index('mes_name',drop=True,inplace=True)\n",
    "# exp.drop('mes',axis='columns',inplace=True)\n",
    "\n",
    "sns.set_context(context='talk', font_scale=.8)\n",
    "\n",
    "plt.figure(figsize=(11,7))\n",
    "sns.heatmap(exp, annot=False, cmap=\"YlGnBu\",\n",
    "            yticklabels=pd.to_datetime(exp.reset_index()['mes'], format='%m').dt.month_name(locale='Spanish').values)\n",
    "\n",
    "plt.ylabel('Mes')\n",
    "plt.xlabel('Año')\n",
    "plt.title('Producción de biodiesel en Argentina en Toneladas')\n",
    "plt.xticks(rotation=30)\n"
   ]
  },
  {
   "cell_type": "markdown",
   "metadata": {},
   "source": [
    "Como conclusión podemos decir,\n",
    "* se observa un aumento de la producción con el correr de los años\n",
    "* entre los meses entre Abril y Noviembre hay mayor producción, quizás debido a situaciones estacionales de cosechas y demás (cabe aclarar que esto es una suposición sin conocimiento alguno)\n",
    "* hubo bajas de producción en los años 2013 y 2015"
   ]
  },
  {
   "cell_type": "code",
   "execution_count": 436,
   "metadata": {},
   "outputs": [
    {
     "data": {
      "text/plain": [
       "(array([0.5, 1.5, 2.5, 3.5, 4.5, 5.5, 6.5, 7.5, 8.5, 9.5]),\n",
       " <a list of 10 Text major ticklabel objects>)"
      ]
     },
     "execution_count": 436,
     "metadata": {},
     "output_type": "execute_result"
    },
    {
     "data": {
      "image/png": "[encoded data removed]",
      "text/plain": [
       "<Figure size 792x504 with 2 Axes>"
      ]
     },
     "metadata": {
      "needs_background": "light"
     },
     "output_type": "display_data"
    }
   ],
   "source": [
    "exp=pd.pivot(bioetanol,columns='año',index='mes',values='produccion_total')\n",
    "\n",
    "plt.figure(figsize=(11,7))\n",
    "sns.heatmap(exp, annot=False, cmap=\"YlGnBu\",\n",
    "            yticklabels=pd.to_datetime(exp.reset_index()['mes'], format='%m').dt.month_name(locale='Spanish').values)\n",
    "\n",
    "plt.ylabel('Mes')\n",
    "plt.xlabel('Año')\n",
    "plt.title('Producción de bioetanol en Argentina en m3')\n",
    "plt.xticks(rotation=30)"
   ]
  },
  {
   "cell_type": "markdown",
   "metadata": {},
   "source": [
    "Como conclusión podemos decir, se observa un aumento de la producción con el correr de los años y una clara distribución estacional\n"
   ]
  }
 ],
 "metadata": {
  "kernelspec": {
   "display_name": "Python 3",
   "language": "python",
   "name": "python3"
  },
  "language_info": {
   "codemirror_mode": {
    "name": "ipython",
    "version": 3
   },
   "file_extension": ".py",
   "mimetype": "text/x-python",
   "name": "python",
   "nbconvert_exporter": "python",
   "pygments_lexer": "ipython3",
   "version": "3.7.4"
  },
  "toc-autonumbering": false,
  "toc-showmarkdowntxt": true
 },
 "nbformat": 4,
 "nbformat_minor": 4
}
