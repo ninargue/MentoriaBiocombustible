{
 "cells": [
  {
   "cell_type": "markdown",
   "metadata": {},
   "source": [
    "# EXPORTACION DE TABLAS A CSV"
   ]
  },
  {
   "cell_type": "code",
   "execution_count": null,
   "metadata": {},
   "outputs": [],
   "source": [
    "from sqlalchemy import create_engine, inspect"
   ]
  },
  {
   "cell_type": "code",
   "execution_count": null,
   "metadata": {},
   "outputs": [],
   "source": [
    "# Database conexion\n",
    "host = \"127.0.0.1\"                 \n",
    "user = \"admin\"                      \n",
    "password = \"admin\"                  \n",
    "database = \"ctk_201801_202007\"      \n",
    "port = 3306                        \n",
    "\n",
    "# Start sqlalchemy engine\n",
    "path_conexion = f'mysql+pymysql://{user}:{password}@{host}:{port}/{database}'\n",
    "conexion = create_engine(path_conexion)\n",
    "\n",
    "# Listado de todas las tablas de la base de datos\n",
    "inspector = inspect(conexion)\n",
    "lista_tablas = inspector.get_table_names()"
   ]
  },
  {
   "cell_type": "code",
   "execution_count": null,
   "metadata": {},
   "outputs": [],
   "source": [
    "len(lista_tablas), lista_tablas[:10], lista_tablas[-10:]"
   ]
  },
  {
   "cell_type": "markdown",
   "metadata": {},
   "source": [
    "### Convert Transaction Tables"
   ]
  },
  {
   "cell_type": "code",
   "execution_count": null,
   "metadata": {},
   "outputs": [],
   "source": [
    "import numpy as np\n",
    "import pandas as pd"
   ]
  },
  {
   "cell_type": "code",
   "execution_count": null,
   "metadata": {},
   "outputs": [],
   "source": [
    "a = np.arange(2018, 2021, 1, dtype=int)\n",
    "b = np.arange(1, 13, 1, dtype=int)\n",
    "sis_tables = [f'sis_transa_{y}_{m}' for y in a for m in b]"
   ]
  },
  {
   "cell_type": "code",
   "execution_count": null,
   "metadata": {},
   "outputs": [],
   "source": [
    "sis_tables[:5]"
   ]
  },
  {
   "cell_type": "code",
   "execution_count": null,
   "metadata": {},
   "outputs": [],
   "source": [
    "%%time\n",
    "for t in sis_tables:\n",
    "    print(f'Cargando y creando tabla {t}')\n",
    "    df = pd.read_sql_table(t, conexion)\n",
    "    df.to_csv(f'./data_csv/{t}.csv', index=False)"
   ]
  },
  {
   "cell_type": "code",
   "execution_count": null,
   "metadata": {},
   "outputs": [],
   "source": [
    "df_transactions = pd.concat([pd.read_csv(f'./data_csv/{t}.csv') for t in sis_tables[:-5]], ignore_index=True)"
   ]
  },
  {
   "cell_type": "code",
   "execution_count": null,
   "metadata": {},
   "outputs": [],
   "source": [
    "df_transactions.to_csv(f'./data_csv/sis_transa_201801_202007.csv', index=False)"
   ]
  },
  {
   "cell_type": "markdown",
   "metadata": {},
   "source": [
    "### Convert other related tables"
   ]
  },
  {
   "cell_type": "code",
   "execution_count": null,
   "metadata": {},
   "outputs": [],
   "source": [
    "fs_tables = [lista_tablas[i] for i in range(0, len(lista_tablas)) if lista_tablas[i].startswith('fs_')]"
   ]
  },
  {
   "cell_type": "code",
   "execution_count": null,
   "metadata": {},
   "outputs": [],
   "source": [
    "%%time\n",
    "for t in fs_tables:\n",
    "    print(f'Cargando y creando tabla {t}')\n",
    "    df = pd.read_sql_table(t, conexion)\n",
    "    df.to_csv(f'{t}.csv', index=False)"
   ]
  },
  {
   "cell_type": "markdown",
   "metadata": {},
   "source": [
    "### ZIP CSV FILES"
   ]
  },
  {
   "cell_type": "code",
   "execution_count": null,
   "metadata": {},
   "outputs": [],
   "source": [
    "# Comprimidp en ZIP de archivos csv\n",
    "import os\n",
    "import zipfile\n",
    "def zipdir(path, ziph):\n",
    "    # ziph is zipfile handle\n",
    "    for root, dirs, files in os.walk(path):\n",
    "        for file in files:\n",
    "            ziph.write(os.path.join(root, file))\n",
    "            \n",
    "zipf = zipfile.ZipFile('./data_csv.zip', 'w', zipfile.ZIP_DEFLATED)\n",
    "zipdir('./data_csv/', zipf)\n",
    "zipf.close()  # Importante hacerlo"
   ]
  },
  {
   "cell_type": "code",
   "execution_count": null,
   "metadata": {},
   "outputs": [],
   "source": []
  }
 ],
 "metadata": {
  "kernelspec": {
   "display_name": "Python 3",
   "language": "python",
   "name": "python3"
  },
  "language_info": {
   "codemirror_mode": {
    "name": "ipython",
    "version": 3
   },
   "file_extension": ".py",
   "mimetype": "text/x-python",
   "name": "python",
   "nbconvert_exporter": "python",
   "pygments_lexer": "ipython3",
   "version": "3.7.5"
  }
 },
 "nbformat": 4,
 "nbformat_minor": 4
}
