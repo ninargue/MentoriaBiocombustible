{
 "cells": [
  {
   "cell_type": "markdown",
   "metadata": {},
   "source": [
    "# EXPORTACION DE TABLAS A CSV"
   ]
  },
  {
   "cell_type": "code",
   "execution_count": 2,
   "metadata": {},
   "outputs": [],
   "source": [
    "from sqlalchemy import create_engine, inspect"
   ]
  },
  {
   "cell_type": "code",
   "execution_count": 5,
   "metadata": {},
   "outputs": [],
   "source": [
    "# Database conexion\n",
    "host = \"127.0.0.1\"                 \n",
    "user = \"admin\"                      \n",
    "password = \"admin\"                  \n",
    "database = \"ctk_201801_202007\"      \n",
    "port = 3306                        \n",
    "\n",
    "# Start sqlalchemy engine\n",
    "path_conexion = f'mysql+pymysql://{user}:{password}@{host}:{port}/{database}'\n",
    "conexion = create_engine(path_conexion)\n",
    "\n",
    "# Listado de todas las tablas de la base de datos\n",
    "inspector = inspect(conexion)\n",
    "lista_tablas = inspector.get_table_names()"
   ]
  },
  {
   "cell_type": "code",
   "execution_count": 10,
   "metadata": {},
   "outputs": [
    {
     "data": {
      "text/plain": [
       "(598,\n",
       " ['cms_log',\n",
       "  'cms_validacion',\n",
       "  'control_config',\n",
       "  'control_idioma',\n",
       "  'control_idioma_traduccion',\n",
       "  'control_objeto',\n",
       "  'control_pais',\n",
       "  'control_perfil',\n",
       "  'control_perfil_permiso',\n",
       "  'control_perfil_usuario'],\n",
       " ['sis_transa_2034_4',\n",
       "  'sis_transa_2034_5',\n",
       "  'sis_transa_2034_6',\n",
       "  'sis_transa_2034_7',\n",
       "  'sis_transa_2034_8',\n",
       "  'sis_transa_2034_9',\n",
       "  'sis_transa_2050_1',\n",
       "  'sis_transa_2070_0',\n",
       "  'sis_transa_2070_1',\n",
       "  'sis_transa_error'])"
      ]
     },
     "execution_count": 10,
     "metadata": {},
     "output_type": "execute_result"
    }
   ],
   "source": [
    "len(lista_tablas), lista_tablas[:10], lista_tablas[-10:]"
   ]
  },
  {
   "cell_type": "markdown",
   "metadata": {},
   "source": [
    "### Convert Transaction Tables"
   ]
  },
  {
   "cell_type": "code",
   "execution_count": 44,
   "metadata": {},
   "outputs": [],
   "source": [
    "import numpy as np\n",
    "import pandas as pd"
   ]
  },
  {
   "cell_type": "code",
   "execution_count": 58,
   "metadata": {},
   "outputs": [],
   "source": [
    "a = np.arange(2018, 2021, 1, dtype=int)\n",
    "b = np.arange(1, 13, 1, dtype=int)\n",
    "sis_tables = [f'sis_transa_{y}_{m}' for y in a for m in b]"
   ]
  },
  {
   "cell_type": "code",
   "execution_count": 59,
   "metadata": {},
   "outputs": [
    {
     "data": {
      "text/plain": [
       "['sis_transa_2018_1',\n",
       " 'sis_transa_2018_2',\n",
       " 'sis_transa_2018_3',\n",
       " 'sis_transa_2018_4',\n",
       " 'sis_transa_2018_5']"
      ]
     },
     "execution_count": 59,
     "metadata": {},
     "output_type": "execute_result"
    }
   ],
   "source": [
    "sis_tables[:5]"
   ]
  },
  {
   "cell_type": "code",
   "execution_count": 45,
   "metadata": {},
   "outputs": [
    {
     "name": "stdout",
     "output_type": "stream",
     "text": [
      "Cargando y creando tabla sis_transa_2018_1\n",
      "Cargando y creando tabla sis_transa_2018_2\n",
      "Cargando y creando tabla sis_transa_2018_3\n",
      "Cargando y creando tabla sis_transa_2018_4\n",
      "Cargando y creando tabla sis_transa_2018_5\n",
      "Cargando y creando tabla sis_transa_2018_6\n",
      "Cargando y creando tabla sis_transa_2018_7\n",
      "Cargando y creando tabla sis_transa_2018_8\n",
      "Cargando y creando tabla sis_transa_2018_9\n",
      "Cargando y creando tabla sis_transa_2018_10\n",
      "Cargando y creando tabla sis_transa_2018_11\n",
      "Cargando y creando tabla sis_transa_2018_12\n",
      "Cargando y creando tabla sis_transa_2019_1\n",
      "Cargando y creando tabla sis_transa_2019_2\n",
      "Cargando y creando tabla sis_transa_2019_3\n",
      "Cargando y creando tabla sis_transa_2019_4\n",
      "Cargando y creando tabla sis_transa_2019_5\n",
      "Cargando y creando tabla sis_transa_2019_6\n",
      "Cargando y creando tabla sis_transa_2019_7\n",
      "Cargando y creando tabla sis_transa_2019_8\n",
      "Cargando y creando tabla sis_transa_2019_9\n",
      "Cargando y creando tabla sis_transa_2019_10\n",
      "Cargando y creando tabla sis_transa_2019_11\n",
      "Cargando y creando tabla sis_transa_2019_12\n",
      "Cargando y creando tabla sis_transa_2020_1\n",
      "Cargando y creando tabla sis_transa_2020_2\n",
      "Cargando y creando tabla sis_transa_2020_3\n",
      "Cargando y creando tabla sis_transa_2020_4\n",
      "Cargando y creando tabla sis_transa_2020_5\n",
      "Cargando y creando tabla sis_transa_2020_6\n",
      "Cargando y creando tabla sis_transa_2020_7\n",
      "Cargando y creando tabla sis_transa_2020_8\n",
      "Cargando y creando tabla sis_transa_2020_9\n",
      "Cargando y creando tabla sis_transa_2020_10\n",
      "Cargando y creando tabla sis_transa_2020_11\n",
      "Cargando y creando tabla sis_transa_2020_12\n",
      "CPU times: user 6min 22s, sys: 8.89 s, total: 6min 31s\n",
      "Wall time: 6min 50s\n"
     ]
    }
   ],
   "source": [
    "%%time\n",
    "for t in sis_tables:\n",
    "    print(f'Cargando y creando tabla {t}')\n",
    "    df = pd.read_sql_table(t, conexion)\n",
    "    df.to_csv(f'./data_csv/{t}.csv', index=False)"
   ]
  },
  {
   "cell_type": "code",
   "execution_count": 65,
   "metadata": {},
   "outputs": [
    {
     "name": "stderr",
     "output_type": "stream",
     "text": [
      "/usr/local/lib/python3.7/site-packages/ipykernel_launcher.py:1: FutureWarning: Sorting because non-concatenation axis is not aligned. A future version\n",
      "of pandas will change to not sort by default.\n",
      "\n",
      "To accept the future behavior, pass 'sort=False'.\n",
      "\n",
      "To retain the current behavior and silence the warning, pass 'sort=True'.\n",
      "\n",
      "  \"\"\"Entry point for launching an IPython kernel.\n"
     ]
    }
   ],
   "source": [
    "df_transactions = pd.concat([pd.read_csv(f'./data_csv/{t}.csv') for t in sis_tables[:-5]], ignore_index=True)"
   ]
  },
  {
   "cell_type": "code",
   "execution_count": 67,
   "metadata": {},
   "outputs": [],
   "source": [
    "df_transactions.to_csv(f'./data_csv/sis_transa_201801_202007.csv', index=False)"
   ]
  },
  {
   "cell_type": "markdown",
   "metadata": {},
   "source": [
    "### Convert other related tables"
   ]
  },
  {
   "cell_type": "code",
   "execution_count": 52,
   "metadata": {},
   "outputs": [],
   "source": [
    "fs_tables = [lista_tablas[i] for i in range(0, len(lista_tablas)) if lista_tablas[i].startswith('fs_')]"
   ]
  },
  {
   "cell_type": "code",
   "execution_count": 53,
   "metadata": {},
   "outputs": [
    {
     "name": "stdout",
     "output_type": "stream",
     "text": [
      "Cargando y creando tabla fs_aceptacion_terminos\n",
      "Cargando y creando tabla fs_alarma\n",
      "Cargando y creando tabla fs_asignacion_producto\n",
      "Cargando y creando tabla fs_aux_departamento_cc\n",
      "Cargando y creando tabla fs_bombas\n",
      "Cargando y creando tabla fs_canal\n",
      "Cargando y creando tabla fs_codigo_validacion\n",
      "Cargando y creando tabla fs_consorcio\n",
      "Cargando y creando tabla fs_consorcio_equipo\n",
      "Cargando y creando tabla fs_consorcio_nombre_empresa\n",
      "Cargando y creando tabla fs_contact\n",
      "Cargando y creando tabla fs_departamento\n",
      "Cargando y creando tabla fs_doc\n",
      "Cargando y creando tabla fs_documento_terminos\n",
      "Cargando y creando tabla fs_documento_terminos_idioma\n",
      "Cargando y creando tabla fs_documento_terminos_perfil\n",
      "Cargando y creando tabla fs_empresa\n",
      "Cargando y creando tabla fs_empresa_canal\n",
      "Cargando y creando tabla fs_equipo\n",
      "Cargando y creando tabla fs_equipo_config\n",
      "Cargando y creando tabla fs_faq\n",
      "Cargando y creando tabla fs_filtro\n",
      "Cargando y creando tabla fs_grupo\n",
      "Cargando y creando tabla fs_grupo_departamento\n",
      "Cargando y creando tabla fs_grupo_unidad\n",
      "Cargando y creando tabla fs_nodos\n",
      "Cargando y creando tabla fs_nombre_producto\n",
      "Cargando y creando tabla fs_precio_producto\n",
      "Cargando y creando tabla fs_sensores_sonda\n",
      "Cargando y creando tabla fs_tanques\n",
      "Cargando y creando tabla fs_tareas\n",
      "Cargando y creando tabla fs_tipo_grupo\n",
      "Cargando y creando tabla fs_usuarios_fuelsentry\n",
      "Cargando y creando tabla fs_vehiculos\n",
      "CPU times: user 5.14 s, sys: 206 ms, total: 5.34 s\n",
      "Wall time: 5.96 s\n"
     ]
    }
   ],
   "source": [
    "%%time\n",
    "for t in fs_tables:\n",
    "    print(f'Cargando y creando tabla {t}')\n",
    "    df = pd.read_sql_table(t, conexion)\n",
    "    df.to_csv(f'{t}.csv', index=False)"
   ]
  },
  {
   "cell_type": "markdown",
   "metadata": {},
   "source": [
    "### ZIP CSV FILES"
   ]
  },
  {
   "cell_type": "code",
   "execution_count": 68,
   "metadata": {},
   "outputs": [],
   "source": [
    "# Comprimidp en ZIP de archivos csv\n",
    "import os\n",
    "import zipfile\n",
    "def zipdir(path, ziph):\n",
    "    # ziph is zipfile handle\n",
    "    for root, dirs, files in os.walk(path):\n",
    "        for file in files:\n",
    "            ziph.write(os.path.join(root, file))\n",
    "            \n",
    "zipf = zipfile.ZipFile('./data_csv.zip', 'w', zipfile.ZIP_DEFLATED)\n",
    "zipdir('./data_csv/', zipf)\n",
    "zipf.close()  # Importante hacerlo"
   ]
  },
  {
   "cell_type": "code",
   "execution_count": null,
   "metadata": {},
   "outputs": [],
   "source": []
  }
 ],
 "metadata": {
  "kernelspec": {
   "display_name": "Python 3",
   "language": "python",
   "name": "python3"
  },
  "language_info": {
   "codemirror_mode": {
    "name": "ipython",
    "version": 3
   },
   "file_extension": ".py",
   "mimetype": "text/x-python",
   "name": "python",
   "nbconvert_exporter": "python",
   "pygments_lexer": "ipython3",
   "version": "3.7.5"
  }
 },
 "nbformat": 4,
 "nbformat_minor": 4
}
