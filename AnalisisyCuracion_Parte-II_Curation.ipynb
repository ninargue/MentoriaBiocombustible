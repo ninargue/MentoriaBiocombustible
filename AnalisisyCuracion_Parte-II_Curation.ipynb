{
 "cells": [
  {
   "cell_type": "markdown",
   "metadata": {},
   "source": [
    "## ANALISIS DE TENDENCIAS DE CONSUMOS E INFRAESTRUCTURAS\n",
    "\n",
    "_By JoseForguez & DiegoTondo, 2020-08-09_"
   ]
  },
  {
   "cell_type": "code",
   "execution_count": 1,
   "metadata": {
    "colab": {},
    "colab_type": "code",
    "executionInfo": {
     "elapsed": 1333,
     "status": "ok",
     "timestamp": 1596994103610,
     "user": {
      "displayName": "Diego Tondo",
      "photoUrl": "",
      "userId": "03734889311433073213"
     },
     "user_tz": 180
    },
    "id": "BsnKE9DEXG-7"
   },
   "outputs": [],
   "source": [
    "import pandas as pd\n",
    "import numpy as np\n",
    "import warnings\n",
    "import glob\n",
    "import zipfile\n",
    "import seaborn as sns\n",
    "import matplotlib.pyplot as plt\n",
    "from datetime import datetime\n",
    "\n",
    "import plotly.graph_objs as go\n",
    "import plotly.offline as plotly\n",
    "from plotly.subplots import make_subplots\n",
    "\n",
    "import matplotlib.dates as md"
   ]
  },
  {
   "cell_type": "code",
   "execution_count": null,
   "metadata": {
    "colab": {},
    "colab_type": "code",
    "id": "mCY5J8s4XL9J"
   },
   "outputs": [],
   "source": [
    "#pd.set_option('display.max_columns', 50)"
   ]
  },
  {
   "cell_type": "markdown",
   "metadata": {},
   "source": [
    "#### LOAD TRANSACTIONS"
   ]
  },
  {
   "cell_type": "code",
   "execution_count": 129,
   "metadata": {
    "colab": {
     "base_uri": "https://localhost:8080/",
     "height": 391
    },
    "colab_type": "code",
    "executionInfo": {
     "elapsed": 1832,
     "status": "error",
     "timestamp": 1596989663445,
     "user": {
      "displayName": "Jose Forguez",
      "photoUrl": "",
      "userId": "07612205589927377644"
     },
     "user_tz": 180
    },
    "id": "EuBA5dQeXQJ6",
    "outputId": "32174dc3-d600-4d2f-a061-8c7204ef9c63"
   },
   "outputs": [
    {
     "name": "stderr",
     "output_type": "stream",
     "text": [
      "/usr/local/lib/python3.7/site-packages/IPython/core/interactiveshell.py:3049: DtypeWarning:\n",
      "\n",
      "Columns (0,1,3,5,9,10,11,12,21,23,29,32,35,36) have mixed types.Specify dtype option on import or set low_memory=False.\n",
      "\n"
     ]
    }
   ],
   "source": [
    "df_transa = pd.read_csv('../dataset/data_csv/sis_transa_201801_202007.csv', parse_dates=['fecha'])"
   ]
  },
  {
   "cell_type": "code",
   "execution_count": 130,
   "metadata": {},
   "outputs": [
    {
     "data": {
      "text/plain": [
       "Index(['acum_usuario', 'acum_vehiculo', 'baja', 'campovar1', 'campovar2',\n",
       "       'cantidad', 'codigo_error', 'departamento', 'fecha', 'fecha_stop',\n",
       "       'geo_latitud', 'geo_longitud', 'geo_status', 'hora', 'hora_stop',\n",
       "       'id_bomba', 'id_equipo', 'id_tanque', 'id_transaccion', 'id_usuario',\n",
       "       'id_vehiculo', 'km_transaccion', 'local_price', 'odometro', 'producto',\n",
       "       'pump_site_id', 'sync', 'tag_description_1', 'tag_description_2',\n",
       "       'tank_site_id', 'temp_start', 'temp_stop', 'user_site_id',\n",
       "       'user_tag_id', 'valor', 'veh_efficiency', 'veh_site_id', 'veh_tag_id',\n",
       "       'volume_start', 'volume_stop'],\n",
       "      dtype='object')"
      ]
     },
     "execution_count": 130,
     "metadata": {},
     "output_type": "execute_result"
    }
   ],
   "source": [
    "df_transa.columns"
   ]
  },
  {
   "cell_type": "code",
   "execution_count": 131,
   "metadata": {},
   "outputs": [],
   "source": [
    "c2drop = ['acum_usuario', \n",
    "          'acum_vehiculo',\n",
    "          'campovar1',\n",
    "          'campovar2',\n",
    "          'km_transaccion',\n",
    "          'local_price',\n",
    "          'odometro',\n",
    "          'tag_description_1',\n",
    "          'tag_description_2',\n",
    "          'user_tag_id',\n",
    "          'valor',\n",
    "          'veh_efficiency'\n",
    "         ]"
   ]
  },
  {
   "cell_type": "code",
   "execution_count": 132,
   "metadata": {},
   "outputs": [],
   "source": [
    "df_transa.drop(columns=c2drop, axis=1, inplace=True)"
   ]
  },
  {
   "cell_type": "code",
   "execution_count": 133,
   "metadata": {},
   "outputs": [
    {
     "data": {
      "text/html": [
       "<div>\n",
       "<style scoped>\n",
       "    .dataframe tbody tr th:only-of-type {\n",
       "        vertical-align: middle;\n",
       "    }\n",
       "\n",
       "    .dataframe tbody tr th {\n",
       "        vertical-align: top;\n",
       "    }\n",
       "\n",
       "    .dataframe thead th {\n",
       "        text-align: right;\n",
       "    }\n",
       "</style>\n",
       "<table border=\"1\" class=\"dataframe\">\n",
       "  <thead>\n",
       "    <tr style=\"text-align: right;\">\n",
       "      <th></th>\n",
       "      <th>baja</th>\n",
       "      <th>cantidad</th>\n",
       "      <th>codigo_error</th>\n",
       "      <th>departamento</th>\n",
       "      <th>fecha</th>\n",
       "      <th>fecha_stop</th>\n",
       "      <th>geo_latitud</th>\n",
       "      <th>geo_longitud</th>\n",
       "      <th>geo_status</th>\n",
       "      <th>hora</th>\n",
       "      <th>...</th>\n",
       "      <th>pump_site_id</th>\n",
       "      <th>sync</th>\n",
       "      <th>tank_site_id</th>\n",
       "      <th>temp_start</th>\n",
       "      <th>temp_stop</th>\n",
       "      <th>user_site_id</th>\n",
       "      <th>veh_site_id</th>\n",
       "      <th>veh_tag_id</th>\n",
       "      <th>volume_start</th>\n",
       "      <th>volume_stop</th>\n",
       "    </tr>\n",
       "  </thead>\n",
       "  <tbody>\n",
       "    <tr>\n",
       "      <th>0</th>\n",
       "      <td>0</td>\n",
       "      <td>115.972</td>\n",
       "      <td>BF</td>\n",
       "      <td>0000</td>\n",
       "      <td>2018-01-01</td>\n",
       "      <td>NaN</td>\n",
       "      <td>NaN</td>\n",
       "      <td>NaN</td>\n",
       "      <td>NaN</td>\n",
       "      <td>08:27:00</td>\n",
       "      <td>...</td>\n",
       "      <td>NaN</td>\n",
       "      <td>0</td>\n",
       "      <td>NaN</td>\n",
       "      <td>NaN</td>\n",
       "      <td>NaN</td>\n",
       "      <td>NaN</td>\n",
       "      <td>NaN</td>\n",
       "      <td>7500620F7A</td>\n",
       "      <td>NaN</td>\n",
       "      <td>NaN</td>\n",
       "    </tr>\n",
       "    <tr>\n",
       "      <th>1</th>\n",
       "      <td>0</td>\n",
       "      <td>127.907</td>\n",
       "      <td>BF</td>\n",
       "      <td>0000</td>\n",
       "      <td>2018-01-01</td>\n",
       "      <td>NaN</td>\n",
       "      <td>NaN</td>\n",
       "      <td>NaN</td>\n",
       "      <td>NaN</td>\n",
       "      <td>13:56:00</td>\n",
       "      <td>...</td>\n",
       "      <td>NaN</td>\n",
       "      <td>0</td>\n",
       "      <td>NaN</td>\n",
       "      <td>NaN</td>\n",
       "      <td>NaN</td>\n",
       "      <td>NaN</td>\n",
       "      <td>NaN</td>\n",
       "      <td>750061AE13</td>\n",
       "      <td>NaN</td>\n",
       "      <td>NaN</td>\n",
       "    </tr>\n",
       "    <tr>\n",
       "      <th>2</th>\n",
       "      <td>0</td>\n",
       "      <td>65.571</td>\n",
       "      <td>BF</td>\n",
       "      <td>0000</td>\n",
       "      <td>2018-01-01</td>\n",
       "      <td>NaN</td>\n",
       "      <td>NaN</td>\n",
       "      <td>NaN</td>\n",
       "      <td>NaN</td>\n",
       "      <td>16:54:00</td>\n",
       "      <td>...</td>\n",
       "      <td>NaN</td>\n",
       "      <td>0</td>\n",
       "      <td>NaN</td>\n",
       "      <td>NaN</td>\n",
       "      <td>NaN</td>\n",
       "      <td>NaN</td>\n",
       "      <td>NaN</td>\n",
       "      <td>750061FF96</td>\n",
       "      <td>NaN</td>\n",
       "      <td>NaN</td>\n",
       "    </tr>\n",
       "    <tr>\n",
       "      <th>3</th>\n",
       "      <td>0</td>\n",
       "      <td>71.701</td>\n",
       "      <td>BF</td>\n",
       "      <td>0000</td>\n",
       "      <td>2018-01-01</td>\n",
       "      <td>NaN</td>\n",
       "      <td>NaN</td>\n",
       "      <td>NaN</td>\n",
       "      <td>NaN</td>\n",
       "      <td>20:38:00</td>\n",
       "      <td>...</td>\n",
       "      <td>NaN</td>\n",
       "      <td>0</td>\n",
       "      <td>NaN</td>\n",
       "      <td>NaN</td>\n",
       "      <td>NaN</td>\n",
       "      <td>NaN</td>\n",
       "      <td>NaN</td>\n",
       "      <td>750063E823</td>\n",
       "      <td>NaN</td>\n",
       "      <td>NaN</td>\n",
       "    </tr>\n",
       "    <tr>\n",
       "      <th>4</th>\n",
       "      <td>0</td>\n",
       "      <td>360.018</td>\n",
       "      <td>C1</td>\n",
       "      <td>0001</td>\n",
       "      <td>2018-01-01</td>\n",
       "      <td>NaN</td>\n",
       "      <td>NaN</td>\n",
       "      <td>NaN</td>\n",
       "      <td>NaN</td>\n",
       "      <td>00:23:00</td>\n",
       "      <td>...</td>\n",
       "      <td>NaN</td>\n",
       "      <td>0</td>\n",
       "      <td>NaN</td>\n",
       "      <td>NaN</td>\n",
       "      <td>NaN</td>\n",
       "      <td>NaN</td>\n",
       "      <td>NaN</td>\n",
       "      <td>NaN</td>\n",
       "      <td>NaN</td>\n",
       "      <td>NaN</td>\n",
       "    </tr>\n",
       "  </tbody>\n",
       "</table>\n",
       "<p>5 rows × 28 columns</p>\n",
       "</div>"
      ],
      "text/plain": [
       "   baja cantidad codigo_error departamento      fecha fecha_stop geo_latitud  \\\n",
       "0     0  115.972           BF         0000 2018-01-01        NaN         NaN   \n",
       "1     0  127.907           BF         0000 2018-01-01        NaN         NaN   \n",
       "2     0   65.571           BF         0000 2018-01-01        NaN         NaN   \n",
       "3     0   71.701           BF         0000 2018-01-01        NaN         NaN   \n",
       "4     0  360.018           C1         0001 2018-01-01        NaN         NaN   \n",
       "\n",
       "  geo_longitud geo_status      hora  ... pump_site_id  sync  tank_site_id  \\\n",
       "0          NaN        NaN  08:27:00  ...          NaN     0           NaN   \n",
       "1          NaN        NaN  13:56:00  ...          NaN     0           NaN   \n",
       "2          NaN        NaN  16:54:00  ...          NaN     0           NaN   \n",
       "3          NaN        NaN  20:38:00  ...          NaN     0           NaN   \n",
       "4          NaN        NaN  00:23:00  ...          NaN     0           NaN   \n",
       "\n",
       "   temp_start  temp_stop  user_site_id  veh_site_id  veh_tag_id  volume_start  \\\n",
       "0         NaN        NaN           NaN          NaN  7500620F7A           NaN   \n",
       "1         NaN        NaN           NaN          NaN  750061AE13           NaN   \n",
       "2         NaN        NaN           NaN          NaN  750061FF96           NaN   \n",
       "3         NaN        NaN           NaN          NaN  750063E823           NaN   \n",
       "4         NaN        NaN           NaN          NaN         NaN           NaN   \n",
       "\n",
       "   volume_stop  \n",
       "0          NaN  \n",
       "1          NaN  \n",
       "2          NaN  \n",
       "3          NaN  \n",
       "4          NaN  \n",
       "\n",
       "[5 rows x 28 columns]"
      ]
     },
     "execution_count": 133,
     "metadata": {},
     "output_type": "execute_result"
    }
   ],
   "source": [
    "df_transa[:5]"
   ]
  },
  {
   "cell_type": "code",
   "execution_count": 134,
   "metadata": {},
   "outputs": [
    {
     "data": {
      "text/html": [
       "<div>\n",
       "<style scoped>\n",
       "    .dataframe tbody tr th:only-of-type {\n",
       "        vertical-align: middle;\n",
       "    }\n",
       "\n",
       "    .dataframe tbody tr th {\n",
       "        vertical-align: top;\n",
       "    }\n",
       "\n",
       "    .dataframe thead th {\n",
       "        text-align: right;\n",
       "    }\n",
       "</style>\n",
       "<table border=\"1\" class=\"dataframe\">\n",
       "  <thead>\n",
       "    <tr style=\"text-align: right;\">\n",
       "      <th></th>\n",
       "      <th>baja</th>\n",
       "      <th>cantidad</th>\n",
       "      <th>codigo_error</th>\n",
       "      <th>departamento</th>\n",
       "      <th>fecha</th>\n",
       "      <th>fecha_stop</th>\n",
       "      <th>geo_latitud</th>\n",
       "      <th>geo_longitud</th>\n",
       "      <th>geo_status</th>\n",
       "      <th>hora</th>\n",
       "      <th>...</th>\n",
       "      <th>pump_site_id</th>\n",
       "      <th>sync</th>\n",
       "      <th>tank_site_id</th>\n",
       "      <th>temp_start</th>\n",
       "      <th>temp_stop</th>\n",
       "      <th>user_site_id</th>\n",
       "      <th>veh_site_id</th>\n",
       "      <th>veh_tag_id</th>\n",
       "      <th>volume_start</th>\n",
       "      <th>volume_stop</th>\n",
       "    </tr>\n",
       "  </thead>\n",
       "  <tbody>\n",
       "    <tr>\n",
       "      <th>1326272</th>\n",
       "      <td>0</td>\n",
       "      <td>NaN</td>\n",
       "      <td>NaN</td>\n",
       "      <td>NaN</td>\n",
       "      <td>NaT</td>\n",
       "      <td>NaN</td>\n",
       "      <td>NaN</td>\n",
       "      <td>NaN</td>\n",
       "      <td>NaN</td>\n",
       "      <td>00:00:00</td>\n",
       "      <td>...</td>\n",
       "      <td>NaN</td>\n",
       "      <td>0</td>\n",
       "      <td>NaN</td>\n",
       "      <td>NaN</td>\n",
       "      <td>NaN</td>\n",
       "      <td>NaN</td>\n",
       "      <td>NaN</td>\n",
       "      <td>NaN</td>\n",
       "      <td>NaN</td>\n",
       "      <td>NaN</td>\n",
       "    </tr>\n",
       "  </tbody>\n",
       "</table>\n",
       "<p>1 rows × 28 columns</p>\n",
       "</div>"
      ],
      "text/plain": [
       "         baja cantidad codigo_error departamento fecha fecha_stop geo_latitud  \\\n",
       "1326272     0      NaN          NaN          NaN   NaT        NaN         NaN   \n",
       "\n",
       "        geo_longitud geo_status      hora  ... pump_site_id  sync  \\\n",
       "1326272          NaN        NaN  00:00:00  ...          NaN     0   \n",
       "\n",
       "         tank_site_id  temp_start  temp_stop  user_site_id  veh_site_id  \\\n",
       "1326272           NaN         NaN        NaN           NaN          NaN   \n",
       "\n",
       "         veh_tag_id  volume_start  volume_stop  \n",
       "1326272         NaN           NaN          NaN  \n",
       "\n",
       "[1 rows x 28 columns]"
      ]
     },
     "execution_count": 134,
     "metadata": {},
     "output_type": "execute_result"
    }
   ],
   "source": [
    "df_transa[pd.isna(df_transa['cantidad'])]"
   ]
  },
  {
   "cell_type": "code",
   "execution_count": 135,
   "metadata": {},
   "outputs": [],
   "source": [
    "df_transa.dropna(subset=['cantidad'], inplace=True)"
   ]
  },
  {
   "cell_type": "code",
   "execution_count": 136,
   "metadata": {},
   "outputs": [
    {
     "data": {
      "text/plain": [
       "28"
      ]
     },
     "execution_count": 136,
     "metadata": {},
     "output_type": "execute_result"
    }
   ],
   "source": [
    "len(df_transa[df_transa['cantidad'].astype('string').str.contains(',')])"
   ]
  },
  {
   "cell_type": "code",
   "execution_count": 137,
   "metadata": {},
   "outputs": [],
   "source": [
    "df_transa['cantidad'] = df_transa['cantidad'].astype('string').str.replace(',', '.').astype('float64')"
   ]
  },
  {
   "cell_type": "code",
   "execution_count": 138,
   "metadata": {},
   "outputs": [
    {
     "data": {
      "text/plain": [
       "baja                       int64\n",
       "cantidad                 float64\n",
       "codigo_error              object\n",
       "departamento              object\n",
       "fecha             datetime64[ns]\n",
       "fecha_stop                object\n",
       "geo_latitud               object\n",
       "geo_longitud              object\n",
       "geo_status                object\n",
       "hora                      object\n",
       "hora_stop                 object\n",
       "id_bomba                   int64\n",
       "id_equipo                  int64\n",
       "id_tanque                  int64\n",
       "id_transaccion             int64\n",
       "id_usuario                 int64\n",
       "id_vehiculo                int64\n",
       "producto                 float64\n",
       "pump_site_id             float64\n",
       "sync                       int64\n",
       "tank_site_id              object\n",
       "temp_start               float64\n",
       "temp_stop                float64\n",
       "user_site_id              object\n",
       "veh_site_id               object\n",
       "veh_tag_id                object\n",
       "volume_start             float64\n",
       "volume_stop              float64\n",
       "dtype: object"
      ]
     },
     "execution_count": 138,
     "metadata": {},
     "output_type": "execute_result"
    }
   ],
   "source": [
    "df_transa.dtypes"
   ]
  },
  {
   "cell_type": "code",
   "execution_count": 139,
   "metadata": {},
   "outputs": [
    {
     "data": {
      "text/plain": [
       "(3003975, 28)"
      ]
     },
     "execution_count": 139,
     "metadata": {},
     "output_type": "execute_result"
    }
   ],
   "source": [
    "df_transa.shape"
   ]
  },
  {
   "cell_type": "code",
   "execution_count": 140,
   "metadata": {},
   "outputs": [
    {
     "data": {
      "text/plain": [
       "(3003030, 28)"
      ]
     },
     "execution_count": 140,
     "metadata": {},
     "output_type": "execute_result"
    }
   ],
   "source": [
    "df_transa = df_transa[df_transa['cantidad']>=0]\n",
    "df_transa.shape"
   ]
  },
  {
   "cell_type": "code",
   "execution_count": 145,
   "metadata": {},
   "outputs": [
    {
     "data": {
      "text/plain": [
       "(3002670, 28)"
      ]
     },
     "execution_count": 145,
     "metadata": {},
     "output_type": "execute_result"
    }
   ],
   "source": [
    "df_transa = df_transa[~(df_transa['fecha']<'2018-01-01')]\n",
    "df_transa.shape"
   ]
  },
  {
   "cell_type": "code",
   "execution_count": 232,
   "metadata": {},
   "outputs": [
    {
     "data": {
      "text/html": [
       "<div>\n",
       "<style scoped>\n",
       "    .dataframe tbody tr th:only-of-type {\n",
       "        vertical-align: middle;\n",
       "    }\n",
       "\n",
       "    .dataframe tbody tr th {\n",
       "        vertical-align: top;\n",
       "    }\n",
       "\n",
       "    .dataframe thead th {\n",
       "        text-align: right;\n",
       "    }\n",
       "</style>\n",
       "<table border=\"1\" class=\"dataframe\">\n",
       "  <thead>\n",
       "    <tr style=\"text-align: right;\">\n",
       "      <th></th>\n",
       "      <th>baja</th>\n",
       "      <th>cantidad</th>\n",
       "      <th>codigo_error</th>\n",
       "      <th>departamento</th>\n",
       "      <th>fecha</th>\n",
       "      <th>fecha_stop</th>\n",
       "      <th>geo_latitud</th>\n",
       "      <th>geo_longitud</th>\n",
       "      <th>geo_status</th>\n",
       "      <th>hora</th>\n",
       "      <th>...</th>\n",
       "      <th>pump_site_id</th>\n",
       "      <th>sync</th>\n",
       "      <th>tank_site_id</th>\n",
       "      <th>temp_start</th>\n",
       "      <th>temp_stop</th>\n",
       "      <th>user_site_id</th>\n",
       "      <th>veh_site_id</th>\n",
       "      <th>veh_tag_id</th>\n",
       "      <th>volume_start</th>\n",
       "      <th>volume_stop</th>\n",
       "    </tr>\n",
       "  </thead>\n",
       "  <tbody>\n",
       "  </tbody>\n",
       "</table>\n",
       "<p>0 rows × 28 columns</p>\n",
       "</div>"
      ],
      "text/plain": [
       "Empty DataFrame\n",
       "Columns: [baja, cantidad, codigo_error, departamento, fecha, fecha_stop, geo_latitud, geo_longitud, geo_status, hora, hora_stop, id_bomba, id_equipo, id_tanque, id_transaccion, id_usuario, id_vehiculo, producto, pump_site_id, sync, tank_site_id, temp_start, temp_stop, user_site_id, veh_site_id, veh_tag_id, volume_start, volume_stop]\n",
       "Index: []\n",
       "\n",
       "[0 rows x 28 columns]"
      ]
     },
     "execution_count": 232,
     "metadata": {},
     "output_type": "execute_result"
    }
   ],
   "source": [
    "df_transa[df_transa['id_equipo'].isna()]"
   ]
  },
  {
   "cell_type": "code",
   "execution_count": 293,
   "metadata": {},
   "outputs": [
    {
     "data": {
      "text/html": [
       "<div>\n",
       "<style scoped>\n",
       "    .dataframe tbody tr th:only-of-type {\n",
       "        vertical-align: middle;\n",
       "    }\n",
       "\n",
       "    .dataframe tbody tr th {\n",
       "        vertical-align: top;\n",
       "    }\n",
       "\n",
       "    .dataframe thead th {\n",
       "        text-align: right;\n",
       "    }\n",
       "</style>\n",
       "<table border=\"1\" class=\"dataframe\">\n",
       "  <thead>\n",
       "    <tr style=\"text-align: right;\">\n",
       "      <th></th>\n",
       "      <th>id_vehiculo</th>\n",
       "      <th>cantidad</th>\n",
       "    </tr>\n",
       "  </thead>\n",
       "  <tbody>\n",
       "    <tr>\n",
       "      <th>0</th>\n",
       "      <td>39920</td>\n",
       "      <td>115.972</td>\n",
       "    </tr>\n",
       "    <tr>\n",
       "      <th>1</th>\n",
       "      <td>39819</td>\n",
       "      <td>127.907</td>\n",
       "    </tr>\n",
       "    <tr>\n",
       "      <th>2</th>\n",
       "      <td>39931</td>\n",
       "      <td>65.571</td>\n",
       "    </tr>\n",
       "    <tr>\n",
       "      <th>3</th>\n",
       "      <td>39922</td>\n",
       "      <td>71.701</td>\n",
       "    </tr>\n",
       "    <tr>\n",
       "      <th>4</th>\n",
       "      <td>41504</td>\n",
       "      <td>360.018</td>\n",
       "    </tr>\n",
       "    <tr>\n",
       "      <th>...</th>\n",
       "      <td>...</td>\n",
       "      <td>...</td>\n",
       "    </tr>\n",
       "    <tr>\n",
       "      <th>3003971</th>\n",
       "      <td>59961</td>\n",
       "      <td>92.407</td>\n",
       "    </tr>\n",
       "    <tr>\n",
       "      <th>3003972</th>\n",
       "      <td>68753</td>\n",
       "      <td>55.568</td>\n",
       "    </tr>\n",
       "    <tr>\n",
       "      <th>3003973</th>\n",
       "      <td>69306</td>\n",
       "      <td>83.843</td>\n",
       "    </tr>\n",
       "    <tr>\n",
       "      <th>3003974</th>\n",
       "      <td>68724</td>\n",
       "      <td>48.896</td>\n",
       "    </tr>\n",
       "    <tr>\n",
       "      <th>3003975</th>\n",
       "      <td>69307</td>\n",
       "      <td>28.932</td>\n",
       "    </tr>\n",
       "  </tbody>\n",
       "</table>\n",
       "<p>3002670 rows × 2 columns</p>\n",
       "</div>"
      ],
      "text/plain": [
       "         id_vehiculo  cantidad\n",
       "0              39920   115.972\n",
       "1              39819   127.907\n",
       "2              39931    65.571\n",
       "3              39922    71.701\n",
       "4              41504   360.018\n",
       "...              ...       ...\n",
       "3003971        59961    92.407\n",
       "3003972        68753    55.568\n",
       "3003973        69306    83.843\n",
       "3003974        68724    48.896\n",
       "3003975        69307    28.932\n",
       "\n",
       "[3002670 rows x 2 columns]"
      ]
     },
     "execution_count": 293,
     "metadata": {},
     "output_type": "execute_result"
    }
   ],
   "source": [
    "df_transa[['id_vehiculo', 'cantidad']]"
   ]
  },
  {
   "cell_type": "markdown",
   "metadata": {},
   "source": [
    "#### LOAD SITES"
   ]
  },
  {
   "cell_type": "code",
   "execution_count": 221,
   "metadata": {
    "colab": {},
    "colab_type": "code",
    "id": "VcalrM1xXLNy"
   },
   "outputs": [
    {
     "data": {
      "text/plain": [
       "Index(['id_equipo', 'direccion_ip', 'id_empresa', 'descripcion', 'pass',\n",
       "       'ultima_fecha', 'ultima_fecha_h', 'firmware_version', 'sync', 'online',\n",
       "       'baja', 'ultima_fecha_sync_db', 'current_firmware',\n",
       "       'ultima_sincronizacion', 'ultima_conexion', 'delay_ue', 'geo_latitude',\n",
       "       'geo_longitude', 'id_canal'],\n",
       "      dtype='object')"
      ]
     },
     "execution_count": 221,
     "metadata": {},
     "output_type": "execute_result"
    }
   ],
   "source": [
    "df_equipo = pd.read_csv('../dataset/data_csv/fs_equipo.csv')\n",
    "df_equipo.columns"
   ]
  },
  {
   "cell_type": "code",
   "execution_count": 222,
   "metadata": {},
   "outputs": [],
   "source": [
    "df_equipo.drop(axis=1, columns=['direccion_ip', 'pass', 'sync', 'online'], inplace=True)"
   ]
  },
  {
   "cell_type": "code",
   "execution_count": 223,
   "metadata": {},
   "outputs": [
    {
     "data": {
      "text/plain": [
       "(698, 15)"
      ]
     },
     "execution_count": 223,
     "metadata": {},
     "output_type": "execute_result"
    }
   ],
   "source": [
    "df_equipo.shape"
   ]
  },
  {
   "cell_type": "code",
   "execution_count": null,
   "metadata": {},
   "outputs": [],
   "source": []
  },
  {
   "cell_type": "markdown",
   "metadata": {},
   "source": [
    "#### LOAD COMPANIES"
   ]
  },
  {
   "cell_type": "code",
   "execution_count": 191,
   "metadata": {},
   "outputs": [],
   "source": [
    "df_emp = pd.read_csv('../dataset/data_csv/fs_empresa_tagged.csv')"
   ]
  },
  {
   "cell_type": "code",
   "execution_count": 192,
   "metadata": {},
   "outputs": [
    {
     "data": {
      "text/plain": [
       "Index(['id_empresa', 'cuit', 'empresa', 'telefono', 'email', 'pais', 'id_pais',\n",
       "       'provincia', 'ciudad', 'direccion', 'cp', 'baja',\n",
       "       'ultima_fecha_sync_db', 'segmento'],\n",
       "      dtype='object')"
      ]
     },
     "execution_count": 192,
     "metadata": {},
     "output_type": "execute_result"
    }
   ],
   "source": [
    "df_emp.columns"
   ]
  },
  {
   "cell_type": "code",
   "execution_count": 193,
   "metadata": {},
   "outputs": [],
   "source": [
    "df_emp.drop(axis=1, columns=['cuit', 'telefono', 'email', 'pais', 'id_pais', 'provincia', 'ciudad', 'direccion', 'cp', 'ultima_fecha_sync_db'], inplace=True)"
   ]
  },
  {
   "cell_type": "code",
   "execution_count": 194,
   "metadata": {},
   "outputs": [
    {
     "data": {
      "text/plain": [
       "id_empresa     Int64\n",
       "empresa       string\n",
       "baja           Int64\n",
       "segmento      string\n",
       "dtype: object"
      ]
     },
     "execution_count": 194,
     "metadata": {},
     "output_type": "execute_result"
    }
   ],
   "source": [
    "df_emp = df_emp.convert_dtypes()\n",
    "df_emp.dtypes"
   ]
  },
  {
   "cell_type": "code",
   "execution_count": null,
   "metadata": {},
   "outputs": [],
   "source": []
  },
  {
   "cell_type": "markdown",
   "metadata": {},
   "source": [
    "#### LOAD VEHICULES"
   ]
  },
  {
   "cell_type": "code",
   "execution_count": 249,
   "metadata": {},
   "outputs": [
    {
     "name": "stderr",
     "output_type": "stream",
     "text": [
      "/usr/local/lib/python3.7/site-packages/IPython/core/interactiveshell.py:3049: DtypeWarning:\n",
      "\n",
      "Columns (7,8,9,10,13,14,16) have mixed types.Specify dtype option on import or set low_memory=False.\n",
      "\n"
     ]
    }
   ],
   "source": [
    "df_veh = pd.read_csv('../dataset/data_csv/fs_vehiculos.csv')"
   ]
  },
  {
   "cell_type": "code",
   "execution_count": 284,
   "metadata": {},
   "outputs": [
    {
     "data": {
      "text/plain": [
       "Index(['id_vehiculo', 'id_equipo', 'tag_id', 'vehiculo', 'descripcion',\n",
       "       'departamento', 'limite', 'verificar', 'codigo', 'odometro_inicio',\n",
       "       'odometro_fin', 'cargas_max_dia', 'llave_tipo', 'autorizacion',\n",
       "       'condicion_desautorizacion', 'cantidad_total', 'cargas_hoy',\n",
       "       'cargas_hasta_hoy', 'ultima_fecha', 'sync', 'baja', 'main_id'],\n",
       "      dtype='object')"
      ]
     },
     "execution_count": 284,
     "metadata": {},
     "output_type": "execute_result"
    }
   ],
   "source": [
    "df_veh.columns"
   ]
  },
  {
   "cell_type": "code",
   "execution_count": 285,
   "metadata": {},
   "outputs": [
    {
     "data": {
      "text/html": [
       "<div>\n",
       "<style scoped>\n",
       "    .dataframe tbody tr th:only-of-type {\n",
       "        vertical-align: middle;\n",
       "    }\n",
       "\n",
       "    .dataframe tbody tr th {\n",
       "        vertical-align: top;\n",
       "    }\n",
       "\n",
       "    .dataframe thead th {\n",
       "        text-align: right;\n",
       "    }\n",
       "</style>\n",
       "<table border=\"1\" class=\"dataframe\">\n",
       "  <thead>\n",
       "    <tr style=\"text-align: right;\">\n",
       "      <th></th>\n",
       "      <th>id_vehiculo</th>\n",
       "      <th>id_equipo</th>\n",
       "      <th>tag_id</th>\n",
       "      <th>vehiculo</th>\n",
       "      <th>descripcion</th>\n",
       "      <th>departamento</th>\n",
       "      <th>limite</th>\n",
       "      <th>verificar</th>\n",
       "      <th>codigo</th>\n",
       "      <th>odometro_inicio</th>\n",
       "      <th>...</th>\n",
       "      <th>llave_tipo</th>\n",
       "      <th>autorizacion</th>\n",
       "      <th>condicion_desautorizacion</th>\n",
       "      <th>cantidad_total</th>\n",
       "      <th>cargas_hoy</th>\n",
       "      <th>cargas_hasta_hoy</th>\n",
       "      <th>ultima_fecha</th>\n",
       "      <th>sync</th>\n",
       "      <th>baja</th>\n",
       "      <th>main_id</th>\n",
       "    </tr>\n",
       "  </thead>\n",
       "  <tbody>\n",
       "    <tr>\n",
       "      <th>0</th>\n",
       "      <td>2</td>\n",
       "      <td>333333</td>\n",
       "      <td>04007C180B</td>\n",
       "      <td>000001</td>\n",
       "      <td>000001</td>\n",
       "      <td>0001</td>\n",
       "      <td>9</td>\n",
       "      <td>0</td>\n",
       "      <td>1234</td>\n",
       "      <td>193958</td>\n",
       "      <td>...</td>\n",
       "      <td>0</td>\n",
       "      <td>0</td>\n",
       "      <td>1</td>\n",
       "      <td>00000.000</td>\n",
       "      <td>01</td>\n",
       "      <td>0.0</td>\n",
       "      <td>2018-12-20</td>\n",
       "      <td>1</td>\n",
       "      <td>0</td>\n",
       "      <td>000001</td>\n",
       "    </tr>\n",
       "    <tr>\n",
       "      <th>1</th>\n",
       "      <td>3</td>\n",
       "      <td>333333</td>\n",
       "      <td>04007C10EB</td>\n",
       "      <td>000239</td>\n",
       "      <td>000239</td>\n",
       "      <td>0001</td>\n",
       "      <td>9</td>\n",
       "      <td>3</td>\n",
       "      <td>1234</td>\n",
       "      <td>079345</td>\n",
       "      <td>...</td>\n",
       "      <td>0</td>\n",
       "      <td>0</td>\n",
       "      <td>1</td>\n",
       "      <td>00000.000</td>\n",
       "      <td>02</td>\n",
       "      <td>0.0</td>\n",
       "      <td>2018-12-20</td>\n",
       "      <td>1</td>\n",
       "      <td>0</td>\n",
       "      <td>000239</td>\n",
       "    </tr>\n",
       "    <tr>\n",
       "      <th>2</th>\n",
       "      <td>4</td>\n",
       "      <td>333333</td>\n",
       "      <td>04007C6D8D</td>\n",
       "      <td>000270</td>\n",
       "      <td>000270</td>\n",
       "      <td>0001</td>\n",
       "      <td>9</td>\n",
       "      <td>3</td>\n",
       "      <td>1234</td>\n",
       "      <td>842409</td>\n",
       "      <td>...</td>\n",
       "      <td>0</td>\n",
       "      <td>0</td>\n",
       "      <td>1</td>\n",
       "      <td>00000.000</td>\n",
       "      <td>01</td>\n",
       "      <td>0.0</td>\n",
       "      <td>2018-12-20</td>\n",
       "      <td>1</td>\n",
       "      <td>0</td>\n",
       "      <td>000270</td>\n",
       "    </tr>\n",
       "    <tr>\n",
       "      <th>3</th>\n",
       "      <td>5</td>\n",
       "      <td>333333</td>\n",
       "      <td>04007BC3B5</td>\n",
       "      <td>000252</td>\n",
       "      <td>000252</td>\n",
       "      <td>0001</td>\n",
       "      <td>9</td>\n",
       "      <td>3</td>\n",
       "      <td>1234</td>\n",
       "      <td>287596</td>\n",
       "      <td>...</td>\n",
       "      <td>0</td>\n",
       "      <td>0</td>\n",
       "      <td>1</td>\n",
       "      <td>00000.000</td>\n",
       "      <td>02</td>\n",
       "      <td>0.0</td>\n",
       "      <td>2018-12-20</td>\n",
       "      <td>1</td>\n",
       "      <td>0</td>\n",
       "      <td>000252</td>\n",
       "    </tr>\n",
       "    <tr>\n",
       "      <th>4</th>\n",
       "      <td>6</td>\n",
       "      <td>333333</td>\n",
       "      <td>04007C3FA7</td>\n",
       "      <td>000235</td>\n",
       "      <td>000235</td>\n",
       "      <td>0001</td>\n",
       "      <td>9</td>\n",
       "      <td>3</td>\n",
       "      <td>1234</td>\n",
       "      <td>235878</td>\n",
       "      <td>...</td>\n",
       "      <td>0</td>\n",
       "      <td>0</td>\n",
       "      <td>1</td>\n",
       "      <td>00000.000</td>\n",
       "      <td>01</td>\n",
       "      <td>0.0</td>\n",
       "      <td>2018-12-20</td>\n",
       "      <td>1</td>\n",
       "      <td>0</td>\n",
       "      <td>000235</td>\n",
       "    </tr>\n",
       "    <tr>\n",
       "      <th>...</th>\n",
       "      <td>...</td>\n",
       "      <td>...</td>\n",
       "      <td>...</td>\n",
       "      <td>...</td>\n",
       "      <td>...</td>\n",
       "      <td>...</td>\n",
       "      <td>...</td>\n",
       "      <td>...</td>\n",
       "      <td>...</td>\n",
       "      <td>...</td>\n",
       "      <td>...</td>\n",
       "      <td>...</td>\n",
       "      <td>...</td>\n",
       "      <td>...</td>\n",
       "      <td>...</td>\n",
       "      <td>...</td>\n",
       "      <td>...</td>\n",
       "      <td>...</td>\n",
       "      <td>...</td>\n",
       "      <td>...</td>\n",
       "      <td>...</td>\n",
       "    </tr>\n",
       "    <tr>\n",
       "      <th>51565</th>\n",
       "      <td>102075</td>\n",
       "      <td>822</td>\n",
       "      <td>??????????</td>\n",
       "      <td>000849</td>\n",
       "      <td>PRUEBA UT</td>\n",
       "      <td>0000</td>\n",
       "      <td>9</td>\n",
       "      <td>0</td>\n",
       "      <td>1234</td>\n",
       "      <td>0</td>\n",
       "      <td>...</td>\n",
       "      <td>0</td>\n",
       "      <td>0</td>\n",
       "      <td>0</td>\n",
       "      <td>00000.000</td>\n",
       "      <td>0</td>\n",
       "      <td>0.0</td>\n",
       "      <td>2020-07-31</td>\n",
       "      <td>1</td>\n",
       "      <td>0</td>\n",
       "      <td>000849</td>\n",
       "    </tr>\n",
       "    <tr>\n",
       "      <th>51566</th>\n",
       "      <td>102076</td>\n",
       "      <td>832</td>\n",
       "      <td>??????????</td>\n",
       "      <td>000849</td>\n",
       "      <td>PRUEBA UT</td>\n",
       "      <td>0000</td>\n",
       "      <td>9</td>\n",
       "      <td>0</td>\n",
       "      <td>1234</td>\n",
       "      <td>0</td>\n",
       "      <td>...</td>\n",
       "      <td>0</td>\n",
       "      <td>0</td>\n",
       "      <td>0</td>\n",
       "      <td>00000.000</td>\n",
       "      <td>0</td>\n",
       "      <td>0.0</td>\n",
       "      <td>2020-07-31</td>\n",
       "      <td>1</td>\n",
       "      <td>0</td>\n",
       "      <td>000849</td>\n",
       "    </tr>\n",
       "    <tr>\n",
       "      <th>51567</th>\n",
       "      <td>102077</td>\n",
       "      <td>542</td>\n",
       "      <td>??????????</td>\n",
       "      <td>999999</td>\n",
       "      <td>PRUEBA UT</td>\n",
       "      <td>0000</td>\n",
       "      <td>9</td>\n",
       "      <td>0</td>\n",
       "      <td>1234</td>\n",
       "      <td>0</td>\n",
       "      <td>...</td>\n",
       "      <td>0</td>\n",
       "      <td>0</td>\n",
       "      <td>0</td>\n",
       "      <td>00000.000</td>\n",
       "      <td>0</td>\n",
       "      <td>0.0</td>\n",
       "      <td>2020-07-31</td>\n",
       "      <td>1</td>\n",
       "      <td>0</td>\n",
       "      <td>999999</td>\n",
       "    </tr>\n",
       "    <tr>\n",
       "      <th>51568</th>\n",
       "      <td>102078</td>\n",
       "      <td>661</td>\n",
       "      <td>??????????</td>\n",
       "      <td>999999</td>\n",
       "      <td>PRUEBA UT</td>\n",
       "      <td>0000</td>\n",
       "      <td>9</td>\n",
       "      <td>0</td>\n",
       "      <td>1234</td>\n",
       "      <td>0</td>\n",
       "      <td>...</td>\n",
       "      <td>0</td>\n",
       "      <td>0</td>\n",
       "      <td>0</td>\n",
       "      <td>00000.000</td>\n",
       "      <td>0</td>\n",
       "      <td>0.0</td>\n",
       "      <td>2020-07-31</td>\n",
       "      <td>1</td>\n",
       "      <td>0</td>\n",
       "      <td>999999</td>\n",
       "    </tr>\n",
       "    <tr>\n",
       "      <th>51569</th>\n",
       "      <td>102079</td>\n",
       "      <td>760</td>\n",
       "      <td>0008497093</td>\n",
       "      <td>999999</td>\n",
       "      <td>PRUEBA UT</td>\n",
       "      <td>0000</td>\n",
       "      <td>9</td>\n",
       "      <td>0</td>\n",
       "      <td>1234</td>\n",
       "      <td>0</td>\n",
       "      <td>...</td>\n",
       "      <td>0</td>\n",
       "      <td>0</td>\n",
       "      <td>1</td>\n",
       "      <td>00066.970</td>\n",
       "      <td>4</td>\n",
       "      <td>4.0</td>\n",
       "      <td>2020-07-31</td>\n",
       "      <td>0</td>\n",
       "      <td>0</td>\n",
       "      <td>999999</td>\n",
       "    </tr>\n",
       "  </tbody>\n",
       "</table>\n",
       "<p>51570 rows × 22 columns</p>\n",
       "</div>"
      ],
      "text/plain": [
       "       id_vehiculo  id_equipo      tag_id vehiculo descripcion departamento  \\\n",
       "0                2     333333  04007C180B   000001      000001         0001   \n",
       "1                3     333333  04007C10EB   000239      000239         0001   \n",
       "2                4     333333  04007C6D8D   000270      000270         0001   \n",
       "3                5     333333  04007BC3B5   000252      000252         0001   \n",
       "4                6     333333  04007C3FA7   000235      000235         0001   \n",
       "...            ...        ...         ...      ...         ...          ...   \n",
       "51565       102075        822  ??????????   000849   PRUEBA UT         0000   \n",
       "51566       102076        832  ??????????   000849   PRUEBA UT         0000   \n",
       "51567       102077        542  ??????????   999999   PRUEBA UT         0000   \n",
       "51568       102078        661  ??????????   999999   PRUEBA UT         0000   \n",
       "51569       102079        760  0008497093   999999   PRUEBA UT         0000   \n",
       "\n",
       "      limite verificar codigo odometro_inicio  ... llave_tipo autorizacion  \\\n",
       "0          9         0   1234          193958  ...          0            0   \n",
       "1          9         3   1234          079345  ...          0            0   \n",
       "2          9         3   1234          842409  ...          0            0   \n",
       "3          9         3   1234          287596  ...          0            0   \n",
       "4          9         3   1234          235878  ...          0            0   \n",
       "...      ...       ...    ...             ...  ...        ...          ...   \n",
       "51565      9         0   1234               0  ...          0            0   \n",
       "51566      9         0   1234               0  ...          0            0   \n",
       "51567      9         0   1234               0  ...          0            0   \n",
       "51568      9         0   1234               0  ...          0            0   \n",
       "51569      9         0   1234               0  ...          0            0   \n",
       "\n",
       "      condicion_desautorizacion cantidad_total cargas_hoy cargas_hasta_hoy  \\\n",
       "0                             1      00000.000         01              0.0   \n",
       "1                             1      00000.000         02              0.0   \n",
       "2                             1      00000.000         01              0.0   \n",
       "3                             1      00000.000         02              0.0   \n",
       "4                             1      00000.000         01              0.0   \n",
       "...                         ...            ...        ...              ...   \n",
       "51565                         0      00000.000          0              0.0   \n",
       "51566                         0      00000.000          0              0.0   \n",
       "51567                         0      00000.000          0              0.0   \n",
       "51568                         0      00000.000          0              0.0   \n",
       "51569                         1      00066.970          4              4.0   \n",
       "\n",
       "      ultima_fecha  sync baja  main_id  \n",
       "0       2018-12-20     1    0   000001  \n",
       "1       2018-12-20     1    0   000239  \n",
       "2       2018-12-20     1    0   000270  \n",
       "3       2018-12-20     1    0   000252  \n",
       "4       2018-12-20     1    0   000235  \n",
       "...            ...   ...  ...      ...  \n",
       "51565   2020-07-31     1    0   000849  \n",
       "51566   2020-07-31     1    0   000849  \n",
       "51567   2020-07-31     1    0   999999  \n",
       "51568   2020-07-31     1    0   999999  \n",
       "51569   2020-07-31     0    0   999999  \n",
       "\n",
       "[51570 rows x 22 columns]"
      ]
     },
     "execution_count": 285,
     "metadata": {},
     "output_type": "execute_result"
    }
   ],
   "source": [
    "df_veh"
   ]
  },
  {
   "cell_type": "code",
   "execution_count": 286,
   "metadata": {},
   "outputs": [],
   "source": [
    "df_veh.drop(df_veh.loc[:,'id_equipo':'sync'], axis=1, inplace=True)"
   ]
  },
  {
   "cell_type": "code",
   "execution_count": 287,
   "metadata": {},
   "outputs": [
    {
     "data": {
      "text/html": [
       "<div>\n",
       "<style scoped>\n",
       "    .dataframe tbody tr th:only-of-type {\n",
       "        vertical-align: middle;\n",
       "    }\n",
       "\n",
       "    .dataframe tbody tr th {\n",
       "        vertical-align: top;\n",
       "    }\n",
       "\n",
       "    .dataframe thead th {\n",
       "        text-align: right;\n",
       "    }\n",
       "</style>\n",
       "<table border=\"1\" class=\"dataframe\">\n",
       "  <thead>\n",
       "    <tr style=\"text-align: right;\">\n",
       "      <th></th>\n",
       "      <th>id_vehiculo</th>\n",
       "      <th>baja</th>\n",
       "      <th>main_id</th>\n",
       "    </tr>\n",
       "  </thead>\n",
       "  <tbody>\n",
       "    <tr>\n",
       "      <th>0</th>\n",
       "      <td>2</td>\n",
       "      <td>0</td>\n",
       "      <td>000001</td>\n",
       "    </tr>\n",
       "    <tr>\n",
       "      <th>1</th>\n",
       "      <td>3</td>\n",
       "      <td>0</td>\n",
       "      <td>000239</td>\n",
       "    </tr>\n",
       "    <tr>\n",
       "      <th>2</th>\n",
       "      <td>4</td>\n",
       "      <td>0</td>\n",
       "      <td>000270</td>\n",
       "    </tr>\n",
       "    <tr>\n",
       "      <th>3</th>\n",
       "      <td>5</td>\n",
       "      <td>0</td>\n",
       "      <td>000252</td>\n",
       "    </tr>\n",
       "    <tr>\n",
       "      <th>4</th>\n",
       "      <td>6</td>\n",
       "      <td>0</td>\n",
       "      <td>000235</td>\n",
       "    </tr>\n",
       "    <tr>\n",
       "      <th>...</th>\n",
       "      <td>...</td>\n",
       "      <td>...</td>\n",
       "      <td>...</td>\n",
       "    </tr>\n",
       "    <tr>\n",
       "      <th>51565</th>\n",
       "      <td>102075</td>\n",
       "      <td>0</td>\n",
       "      <td>000849</td>\n",
       "    </tr>\n",
       "    <tr>\n",
       "      <th>51566</th>\n",
       "      <td>102076</td>\n",
       "      <td>0</td>\n",
       "      <td>000849</td>\n",
       "    </tr>\n",
       "    <tr>\n",
       "      <th>51567</th>\n",
       "      <td>102077</td>\n",
       "      <td>0</td>\n",
       "      <td>999999</td>\n",
       "    </tr>\n",
       "    <tr>\n",
       "      <th>51568</th>\n",
       "      <td>102078</td>\n",
       "      <td>0</td>\n",
       "      <td>999999</td>\n",
       "    </tr>\n",
       "    <tr>\n",
       "      <th>51569</th>\n",
       "      <td>102079</td>\n",
       "      <td>0</td>\n",
       "      <td>999999</td>\n",
       "    </tr>\n",
       "  </tbody>\n",
       "</table>\n",
       "<p>51570 rows × 3 columns</p>\n",
       "</div>"
      ],
      "text/plain": [
       "       id_vehiculo  baja main_id\n",
       "0                2     0  000001\n",
       "1                3     0  000239\n",
       "2                4     0  000270\n",
       "3                5     0  000252\n",
       "4                6     0  000235\n",
       "...            ...   ...     ...\n",
       "51565       102075     0  000849\n",
       "51566       102076     0  000849\n",
       "51567       102077     0  999999\n",
       "51568       102078     0  999999\n",
       "51569       102079     0  999999\n",
       "\n",
       "[51570 rows x 3 columns]"
      ]
     },
     "execution_count": 287,
     "metadata": {},
     "output_type": "execute_result"
    }
   ],
   "source": [
    "df_veh"
   ]
  },
  {
   "cell_type": "code",
   "execution_count": null,
   "metadata": {},
   "outputs": [],
   "source": []
  },
  {
   "cell_type": "markdown",
   "metadata": {},
   "source": [
    "#### Merge Dataframes"
   ]
  },
  {
   "cell_type": "code",
   "execution_count": 242,
   "metadata": {},
   "outputs": [
    {
     "data": {
      "text/plain": [
       "((698, 15), (330, 4))"
      ]
     },
     "execution_count": 242,
     "metadata": {},
     "output_type": "execute_result"
    }
   ],
   "source": [
    "df_equipo.shape, df_emp.shape"
   ]
  },
  {
   "cell_type": "code",
   "execution_count": 243,
   "metadata": {},
   "outputs": [
    {
     "data": {
      "text/plain": [
       "(698, 18)"
      ]
     },
     "execution_count": 243,
     "metadata": {},
     "output_type": "execute_result"
    }
   ],
   "source": [
    "dfe = pd.merge(df_equipo, df_emp, on='id_empresa')\n",
    "dfe.shape"
   ]
  },
  {
   "cell_type": "code",
   "execution_count": 244,
   "metadata": {},
   "outputs": [
    {
     "data": {
      "text/plain": [
       "(3002670, 28)"
      ]
     },
     "execution_count": 244,
     "metadata": {},
     "output_type": "execute_result"
    }
   ],
   "source": [
    "df_transa.shape"
   ]
  },
  {
   "cell_type": "code",
   "execution_count": 245,
   "metadata": {},
   "outputs": [
    {
     "data": {
      "text/plain": [
       "(3002670, 45)"
      ]
     },
     "execution_count": 245,
     "metadata": {},
     "output_type": "execute_result"
    }
   ],
   "source": [
    "df = pd.merge(df_transa, dfe, on='id_equipo', how='left')\n",
    "df.shape"
   ]
  },
  {
   "cell_type": "code",
   "execution_count": 246,
   "metadata": {},
   "outputs": [],
   "source": [
    "df = df[df['baja']==0]"
   ]
  },
  {
   "cell_type": "code",
   "execution_count": 247,
   "metadata": {},
   "outputs": [
    {
     "data": {
      "text/plain": [
       "(3002667, 45)"
      ]
     },
     "execution_count": 247,
     "metadata": {},
     "output_type": "execute_result"
    }
   ],
   "source": [
    "df.shape"
   ]
  },
  {
   "cell_type": "code",
   "execution_count": 295,
   "metadata": {},
   "outputs": [
    {
     "data": {
      "text/plain": [
       "(3002667, 47)"
      ]
     },
     "execution_count": 295,
     "metadata": {},
     "output_type": "execute_result"
    }
   ],
   "source": [
    "dfa = pd.merge(df, df_veh, on='id_vehiculo', how='left')\n",
    "dfa.shape"
   ]
  },
  {
   "cell_type": "code",
   "execution_count": 300,
   "metadata": {},
   "outputs": [
    {
     "data": {
      "text/html": [
       "<div>\n",
       "<style scoped>\n",
       "    .dataframe tbody tr th:only-of-type {\n",
       "        vertical-align: middle;\n",
       "    }\n",
       "\n",
       "    .dataframe tbody tr th {\n",
       "        vertical-align: top;\n",
       "    }\n",
       "\n",
       "    .dataframe thead th {\n",
       "        text-align: right;\n",
       "    }\n",
       "</style>\n",
       "<table border=\"1\" class=\"dataframe\">\n",
       "  <thead>\n",
       "    <tr style=\"text-align: right;\">\n",
       "      <th></th>\n",
       "      <th>fecha</th>\n",
       "      <th>id_vehiculo</th>\n",
       "      <th>main_id</th>\n",
       "      <th>id_empresa</th>\n",
       "      <th>cantidad</th>\n",
       "      <th>segmento</th>\n",
       "      <th>id_tanque</th>\n",
       "      <th>id_bomba</th>\n",
       "      <th>empresa</th>\n",
       "      <th>descripcion</th>\n",
       "    </tr>\n",
       "  </thead>\n",
       "  <tbody>\n",
       "    <tr>\n",
       "      <th>0</th>\n",
       "      <td>2018-01-01</td>\n",
       "      <td>39920</td>\n",
       "      <td>000005</td>\n",
       "      <td>43.0</td>\n",
       "      <td>115.972</td>\n",
       "      <td>c</td>\n",
       "      <td>134</td>\n",
       "      <td>174</td>\n",
       "      <td>Coop. San Bernardo</td>\n",
       "      <td>Coop. San Bernardo</td>\n",
       "    </tr>\n",
       "    <tr>\n",
       "      <th>1</th>\n",
       "      <td>2018-01-01</td>\n",
       "      <td>39819</td>\n",
       "      <td>000002</td>\n",
       "      <td>43.0</td>\n",
       "      <td>127.907</td>\n",
       "      <td>c</td>\n",
       "      <td>134</td>\n",
       "      <td>174</td>\n",
       "      <td>Coop. San Bernardo</td>\n",
       "      <td>Coop. San Bernardo</td>\n",
       "    </tr>\n",
       "    <tr>\n",
       "      <th>2</th>\n",
       "      <td>2018-01-01</td>\n",
       "      <td>39931</td>\n",
       "      <td>000016</td>\n",
       "      <td>43.0</td>\n",
       "      <td>65.571</td>\n",
       "      <td>c</td>\n",
       "      <td>134</td>\n",
       "      <td>174</td>\n",
       "      <td>Coop. San Bernardo</td>\n",
       "      <td>Coop. San Bernardo</td>\n",
       "    </tr>\n",
       "    <tr>\n",
       "      <th>3</th>\n",
       "      <td>2018-01-01</td>\n",
       "      <td>39922</td>\n",
       "      <td>000007</td>\n",
       "      <td>43.0</td>\n",
       "      <td>71.701</td>\n",
       "      <td>c</td>\n",
       "      <td>134</td>\n",
       "      <td>174</td>\n",
       "      <td>Coop. San Bernardo</td>\n",
       "      <td>Coop. San Bernardo</td>\n",
       "    </tr>\n",
       "    <tr>\n",
       "      <th>4</th>\n",
       "      <td>2018-01-01</td>\n",
       "      <td>41504</td>\n",
       "      <td>000355</td>\n",
       "      <td>27.0</td>\n",
       "      <td>360.018</td>\n",
       "      <td>t</td>\n",
       "      <td>81</td>\n",
       "      <td>100</td>\n",
       "      <td>Sarmiento</td>\n",
       "      <td>Cruz del Eje</td>\n",
       "    </tr>\n",
       "    <tr>\n",
       "      <th>...</th>\n",
       "      <td>...</td>\n",
       "      <td>...</td>\n",
       "      <td>...</td>\n",
       "      <td>...</td>\n",
       "      <td>...</td>\n",
       "      <td>...</td>\n",
       "      <td>...</td>\n",
       "      <td>...</td>\n",
       "      <td>...</td>\n",
       "      <td>...</td>\n",
       "    </tr>\n",
       "    <tr>\n",
       "      <th>3002662</th>\n",
       "      <td>2020-07-31</td>\n",
       "      <td>59961</td>\n",
       "      <td>000574</td>\n",
       "      <td>269.0</td>\n",
       "      <td>92.407</td>\n",
       "      <td>a</td>\n",
       "      <td>1133</td>\n",
       "      <td>915</td>\n",
       "      <td>Miramar Estrella UT</td>\n",
       "      <td>Miramar</td>\n",
       "    </tr>\n",
       "    <tr>\n",
       "      <th>3002663</th>\n",
       "      <td>2020-07-31</td>\n",
       "      <td>68753</td>\n",
       "      <td>001127</td>\n",
       "      <td>149.0</td>\n",
       "      <td>55.568</td>\n",
       "      <td>i</td>\n",
       "      <td>101322</td>\n",
       "      <td>465</td>\n",
       "      <td>Urbacordoba</td>\n",
       "      <td>Cordoba</td>\n",
       "    </tr>\n",
       "    <tr>\n",
       "      <th>3002664</th>\n",
       "      <td>2020-07-31</td>\n",
       "      <td>69306</td>\n",
       "      <td>000601</td>\n",
       "      <td>269.0</td>\n",
       "      <td>83.843</td>\n",
       "      <td>a</td>\n",
       "      <td>101175</td>\n",
       "      <td>916</td>\n",
       "      <td>Miramar Estrella UT</td>\n",
       "      <td>Miramar</td>\n",
       "    </tr>\n",
       "    <tr>\n",
       "      <th>3002665</th>\n",
       "      <td>2020-07-31</td>\n",
       "      <td>68724</td>\n",
       "      <td>001208</td>\n",
       "      <td>149.0</td>\n",
       "      <td>48.896</td>\n",
       "      <td>i</td>\n",
       "      <td>101322</td>\n",
       "      <td>465</td>\n",
       "      <td>Urbacordoba</td>\n",
       "      <td>Cordoba</td>\n",
       "    </tr>\n",
       "    <tr>\n",
       "      <th>3002666</th>\n",
       "      <td>2020-07-31</td>\n",
       "      <td>69307</td>\n",
       "      <td>000604</td>\n",
       "      <td>269.0</td>\n",
       "      <td>28.932</td>\n",
       "      <td>a</td>\n",
       "      <td>101175</td>\n",
       "      <td>916</td>\n",
       "      <td>Miramar Estrella UT</td>\n",
       "      <td>Miramar</td>\n",
       "    </tr>\n",
       "  </tbody>\n",
       "</table>\n",
       "<p>3002667 rows × 10 columns</p>\n",
       "</div>"
      ],
      "text/plain": [
       "             fecha  id_vehiculo main_id  id_empresa  cantidad segmento  \\\n",
       "0       2018-01-01        39920  000005        43.0   115.972        c   \n",
       "1       2018-01-01        39819  000002        43.0   127.907        c   \n",
       "2       2018-01-01        39931  000016        43.0    65.571        c   \n",
       "3       2018-01-01        39922  000007        43.0    71.701        c   \n",
       "4       2018-01-01        41504  000355        27.0   360.018        t   \n",
       "...            ...          ...     ...         ...       ...      ...   \n",
       "3002662 2020-07-31        59961  000574       269.0    92.407        a   \n",
       "3002663 2020-07-31        68753  001127       149.0    55.568        i   \n",
       "3002664 2020-07-31        69306  000601       269.0    83.843        a   \n",
       "3002665 2020-07-31        68724  001208       149.0    48.896        i   \n",
       "3002666 2020-07-31        69307  000604       269.0    28.932        a   \n",
       "\n",
       "         id_tanque  id_bomba              empresa         descripcion  \n",
       "0              134       174   Coop. San Bernardo  Coop. San Bernardo  \n",
       "1              134       174   Coop. San Bernardo  Coop. San Bernardo  \n",
       "2              134       174   Coop. San Bernardo  Coop. San Bernardo  \n",
       "3              134       174   Coop. San Bernardo  Coop. San Bernardo  \n",
       "4               81       100            Sarmiento        Cruz del Eje  \n",
       "...            ...       ...                  ...                 ...  \n",
       "3002662       1133       915  Miramar Estrella UT             Miramar  \n",
       "3002663     101322       465          Urbacordoba             Cordoba  \n",
       "3002664     101175       916  Miramar Estrella UT             Miramar  \n",
       "3002665     101322       465          Urbacordoba             Cordoba  \n",
       "3002666     101175       916  Miramar Estrella UT             Miramar  \n",
       "\n",
       "[3002667 rows x 10 columns]"
      ]
     },
     "execution_count": 300,
     "metadata": {},
     "output_type": "execute_result"
    }
   ],
   "source": [
    "dfa[['fecha', 'id_vehiculo', 'main_id', 'id_empresa', 'cantidad', 'segmento', 'id_tanque', 'id_bomba', 'empresa', 'descripcion']]"
   ]
  },
  {
   "cell_type": "code",
   "execution_count": 336,
   "metadata": {},
   "outputs": [
    {
     "data": {
      "text/plain": [
       "[100492, 100220, 100276, 100430, 100434, 100488, 100487, 100494, 100493]"
      ]
     },
     "execution_count": 336,
     "metadata": {},
     "output_type": "execute_result"
    }
   ],
   "source": [
    "list(dfa[dfa['id_empresa'].isnull()]['id_equipo'].unique())"
   ]
  },
  {
   "cell_type": "code",
   "execution_count": 341,
   "metadata": {},
   "outputs": [
    {
     "data": {
      "text/plain": [
       "(2990501, 47)"
      ]
     },
     "execution_count": 341,
     "metadata": {},
     "output_type": "execute_result"
    }
   ],
   "source": [
    "dfa = dfa.dropna(axis=0, subset=['id_empresa'])\n",
    "dfa.shape"
   ]
  },
  {
   "cell_type": "code",
   "execution_count": null,
   "metadata": {},
   "outputs": [],
   "source": []
  },
  {
   "cell_type": "code",
   "execution_count": 349,
   "metadata": {},
   "outputs": [
    {
     "data": {
      "text/html": [
       "<div>\n",
       "<style scoped>\n",
       "    .dataframe tbody tr th:only-of-type {\n",
       "        vertical-align: middle;\n",
       "    }\n",
       "\n",
       "    .dataframe tbody tr th {\n",
       "        vertical-align: top;\n",
       "    }\n",
       "\n",
       "    .dataframe thead th {\n",
       "        text-align: right;\n",
       "    }\n",
       "</style>\n",
       "<table border=\"1\" class=\"dataframe\">\n",
       "  <thead>\n",
       "    <tr style=\"text-align: right;\">\n",
       "      <th></th>\n",
       "      <th>baja_x</th>\n",
       "      <th>cantidad</th>\n",
       "      <th>codigo_error</th>\n",
       "      <th>departamento</th>\n",
       "      <th>fecha</th>\n",
       "      <th>fecha_stop</th>\n",
       "      <th>geo_latitud</th>\n",
       "      <th>geo_longitud</th>\n",
       "      <th>geo_status</th>\n",
       "      <th>hora</th>\n",
       "      <th>...</th>\n",
       "      <th>ultima_conexion</th>\n",
       "      <th>delay_ue</th>\n",
       "      <th>geo_latitude</th>\n",
       "      <th>geo_longitude</th>\n",
       "      <th>id_canal</th>\n",
       "      <th>empresa</th>\n",
       "      <th>baja_y</th>\n",
       "      <th>segmento</th>\n",
       "      <th>baja_y</th>\n",
       "      <th>main_id</th>\n",
       "    </tr>\n",
       "  </thead>\n",
       "  <tbody>\n",
       "    <tr>\n",
       "      <th>0</th>\n",
       "      <td>0</td>\n",
       "      <td>115.972</td>\n",
       "      <td>BF</td>\n",
       "      <td>0000</td>\n",
       "      <td>2018-01-01</td>\n",
       "      <td>NaN</td>\n",
       "      <td>NaN</td>\n",
       "      <td>NaN</td>\n",
       "      <td>NaN</td>\n",
       "      <td>08:27:00</td>\n",
       "      <td>...</td>\n",
       "      <td>2020-07-31 16:43:48</td>\n",
       "      <td>0.0</td>\n",
       "      <td>NaN</td>\n",
       "      <td>NaN</td>\n",
       "      <td>2.0</td>\n",
       "      <td>Coop. San Bernardo</td>\n",
       "      <td>0</td>\n",
       "      <td>c</td>\n",
       "      <td>0.0</td>\n",
       "      <td>000005</td>\n",
       "    </tr>\n",
       "    <tr>\n",
       "      <th>1</th>\n",
       "      <td>0</td>\n",
       "      <td>127.907</td>\n",
       "      <td>BF</td>\n",
       "      <td>0000</td>\n",
       "      <td>2018-01-01</td>\n",
       "      <td>NaN</td>\n",
       "      <td>NaN</td>\n",
       "      <td>NaN</td>\n",
       "      <td>NaN</td>\n",
       "      <td>13:56:00</td>\n",
       "      <td>...</td>\n",
       "      <td>2020-07-31 16:43:48</td>\n",
       "      <td>0.0</td>\n",
       "      <td>NaN</td>\n",
       "      <td>NaN</td>\n",
       "      <td>2.0</td>\n",
       "      <td>Coop. San Bernardo</td>\n",
       "      <td>0</td>\n",
       "      <td>c</td>\n",
       "      <td>0.0</td>\n",
       "      <td>000002</td>\n",
       "    </tr>\n",
       "    <tr>\n",
       "      <th>2</th>\n",
       "      <td>0</td>\n",
       "      <td>65.571</td>\n",
       "      <td>BF</td>\n",
       "      <td>0000</td>\n",
       "      <td>2018-01-01</td>\n",
       "      <td>NaN</td>\n",
       "      <td>NaN</td>\n",
       "      <td>NaN</td>\n",
       "      <td>NaN</td>\n",
       "      <td>16:54:00</td>\n",
       "      <td>...</td>\n",
       "      <td>2020-07-31 16:43:48</td>\n",
       "      <td>0.0</td>\n",
       "      <td>NaN</td>\n",
       "      <td>NaN</td>\n",
       "      <td>2.0</td>\n",
       "      <td>Coop. San Bernardo</td>\n",
       "      <td>0</td>\n",
       "      <td>c</td>\n",
       "      <td>0.0</td>\n",
       "      <td>000016</td>\n",
       "    </tr>\n",
       "    <tr>\n",
       "      <th>3</th>\n",
       "      <td>0</td>\n",
       "      <td>71.701</td>\n",
       "      <td>BF</td>\n",
       "      <td>0000</td>\n",
       "      <td>2018-01-01</td>\n",
       "      <td>NaN</td>\n",
       "      <td>NaN</td>\n",
       "      <td>NaN</td>\n",
       "      <td>NaN</td>\n",
       "      <td>20:38:00</td>\n",
       "      <td>...</td>\n",
       "      <td>2020-07-31 16:43:48</td>\n",
       "      <td>0.0</td>\n",
       "      <td>NaN</td>\n",
       "      <td>NaN</td>\n",
       "      <td>2.0</td>\n",
       "      <td>Coop. San Bernardo</td>\n",
       "      <td>0</td>\n",
       "      <td>c</td>\n",
       "      <td>0.0</td>\n",
       "      <td>000007</td>\n",
       "    </tr>\n",
       "    <tr>\n",
       "      <th>4</th>\n",
       "      <td>0</td>\n",
       "      <td>360.018</td>\n",
       "      <td>C1</td>\n",
       "      <td>0001</td>\n",
       "      <td>2018-01-01</td>\n",
       "      <td>NaN</td>\n",
       "      <td>NaN</td>\n",
       "      <td>NaN</td>\n",
       "      <td>NaN</td>\n",
       "      <td>00:23:00</td>\n",
       "      <td>...</td>\n",
       "      <td>2020-07-31 23:50:06</td>\n",
       "      <td>0.0</td>\n",
       "      <td>NaN</td>\n",
       "      <td>NaN</td>\n",
       "      <td>4.0</td>\n",
       "      <td>Sarmiento</td>\n",
       "      <td>0</td>\n",
       "      <td>t</td>\n",
       "      <td>0.0</td>\n",
       "      <td>000355</td>\n",
       "    </tr>\n",
       "  </tbody>\n",
       "</table>\n",
       "<p>5 rows × 47 columns</p>\n",
       "</div>"
      ],
      "text/plain": [
       "   baja_x  cantidad codigo_error departamento      fecha fecha_stop  \\\n",
       "0       0   115.972           BF         0000 2018-01-01        NaN   \n",
       "1       0   127.907           BF         0000 2018-01-01        NaN   \n",
       "2       0    65.571           BF         0000 2018-01-01        NaN   \n",
       "3       0    71.701           BF         0000 2018-01-01        NaN   \n",
       "4       0   360.018           C1         0001 2018-01-01        NaN   \n",
       "\n",
       "  geo_latitud geo_longitud geo_status      hora  ...      ultima_conexion  \\\n",
       "0         NaN          NaN        NaN  08:27:00  ...  2020-07-31 16:43:48   \n",
       "1         NaN          NaN        NaN  13:56:00  ...  2020-07-31 16:43:48   \n",
       "2         NaN          NaN        NaN  16:54:00  ...  2020-07-31 16:43:48   \n",
       "3         NaN          NaN        NaN  20:38:00  ...  2020-07-31 16:43:48   \n",
       "4         NaN          NaN        NaN  00:23:00  ...  2020-07-31 23:50:06   \n",
       "\n",
       "   delay_ue  geo_latitude  geo_longitude  id_canal             empresa  \\\n",
       "0       0.0           NaN            NaN       2.0  Coop. San Bernardo   \n",
       "1       0.0           NaN            NaN       2.0  Coop. San Bernardo   \n",
       "2       0.0           NaN            NaN       2.0  Coop. San Bernardo   \n",
       "3       0.0           NaN            NaN       2.0  Coop. San Bernardo   \n",
       "4       0.0           NaN            NaN       4.0           Sarmiento   \n",
       "\n",
       "   baja_y  segmento  baja_y  main_id  \n",
       "0       0         c     0.0   000005  \n",
       "1       0         c     0.0   000002  \n",
       "2       0         c     0.0   000016  \n",
       "3       0         c     0.0   000007  \n",
       "4       0         t     0.0   000355  \n",
       "\n",
       "[5 rows x 47 columns]"
      ]
     },
     "execution_count": 349,
     "metadata": {},
     "output_type": "execute_result"
    }
   ],
   "source": [
    "dfa[:5]"
   ]
  },
  {
   "cell_type": "code",
   "execution_count": null,
   "metadata": {},
   "outputs": [],
   "source": []
  },
  {
   "cell_type": "code",
   "execution_count": 342,
   "metadata": {},
   "outputs": [],
   "source": [
    "#dfa.to_csv('../dataset/data_csv/sis_transa_201801_202007_merged.csv', index=False)"
   ]
  }
 ],
 "metadata": {
  "colab": {
   "name": "due diligence.ipynb",
   "provenance": []
  },
  "kernelspec": {
   "display_name": "Python 3",
   "language": "python",
   "name": "python3"
  },
  "language_info": {
   "codemirror_mode": {
    "name": "ipython",
    "version": 3
   },
   "file_extension": ".py",
   "mimetype": "text/x-python",
   "name": "python",
   "nbconvert_exporter": "python",
   "pygments_lexer": "ipython3",
   "version": "3.7.5"
  }
 },
 "nbformat": 4,
 "nbformat_minor": 4
}
