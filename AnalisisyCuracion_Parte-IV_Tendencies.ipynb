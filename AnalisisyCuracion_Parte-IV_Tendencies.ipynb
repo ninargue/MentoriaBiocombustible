{
 "cells": [
  {
   "cell_type": "markdown",
   "metadata": {},
   "source": [
    "## ANALISIS DE TENDENCIAS DE CONSUMOS E INFRAESTRUCTURAS\n",
    "\n",
    "_By JoseForguez & DiegoTondo, 2020-08-09_"
   ]
  },
  {
   "cell_type": "code",
   "execution_count": null,
   "metadata": {
    "colab": {},
    "colab_type": "code",
    "executionInfo": {
     "elapsed": 1333,
     "status": "ok",
     "timestamp": 1596994103610,
     "user": {
      "displayName": "Diego Tondo",
      "photoUrl": "",
      "userId": "03734889311433073213"
     },
     "user_tz": 180
    },
    "id": "BsnKE9DEXG-7"
   },
   "outputs": [],
   "source": [
    "import pandas as pd\n",
    "import numpy as np\n",
    "import warnings\n",
    "import glob\n",
    "import zipfile\n",
    "import seaborn as sns\n",
    "import matplotlib.pyplot as plt\n",
    "from datetime import datetime\n",
    "\n",
    "import plotly.graph_objs as go\n",
    "import plotly.offline as plotly\n",
    "from plotly.subplots import make_subplots\n",
    "\n",
    "import matplotlib.dates as md"
   ]
  },
  {
   "cell_type": "code",
   "execution_count": null,
   "metadata": {
    "colab": {},
    "colab_type": "code",
    "id": "mCY5J8s4XL9J"
   },
   "outputs": [],
   "source": [
    "#pd.set_option('display.max_columns', 50)"
   ]
  },
  {
   "cell_type": "markdown",
   "metadata": {},
   "source": [
    "#### LOAD TRANSACTIONS"
   ]
  },
  {
   "cell_type": "code",
   "execution_count": null,
   "metadata": {
    "colab": {
     "base_uri": "https://localhost:8080/",
     "height": 391
    },
    "colab_type": "code",
    "executionInfo": {
     "elapsed": 1832,
     "status": "error",
     "timestamp": 1596989663445,
     "user": {
      "displayName": "Jose Forguez",
      "photoUrl": "",
      "userId": "07612205589927377644"
     },
     "user_tz": 180
    },
    "id": "EuBA5dQeXQJ6",
    "outputId": "32174dc3-d600-4d2f-a061-8c7204ef9c63"
   },
   "outputs": [],
   "source": [
    "df_transa = pd.read_csv('../dataset/data_csv/sis_transa_201801_202007_merged.csv.zip', parse_dates=['fecha'], compression='zip', )"
   ]
  },
  {
   "cell_type": "code",
   "execution_count": null,
   "metadata": {},
   "outputs": [],
   "source": [
    "df_transa.columns"
   ]
  },
  {
   "cell_type": "markdown",
   "metadata": {},
   "source": [
    "## CONSUMPTION IN TIME"
   ]
  },
  {
   "cell_type": "code",
   "execution_count": null,
   "metadata": {
    "colab": {},
    "colab_type": "code",
    "id": "eFd0lUhIf-tm"
   },
   "outputs": [],
   "source": [
    "df_transa_pos = df_transa.copy()"
   ]
  },
  {
   "cell_type": "code",
   "execution_count": null,
   "metadata": {
    "colab": {},
    "colab_type": "code",
    "id": "udjvPIUbb5EL"
   },
   "outputs": [],
   "source": [
    "dfgroupby_equipo = pd.DataFrame()\n",
    "# grupo = ['id_equipo','mes']\n",
    "# grupo = 'id_equipo'\n",
    "grupo = pd.Grouper(key=\"fecha\", freq=\"M\")\n",
    "\n",
    "dfgroupby_equipo['cantidad'] = df_transa_pos.groupby(grupo)['cantidad'].sum()\n",
    "dfgroupby_equipo['main_id'] = df_transa_pos.groupby(grupo)['main_id'].nunique()\n",
    "dfgroupby_equipo['id_bomba'] = df_transa_pos.groupby(grupo)['id_bomba'].nunique()"
   ]
  },
  {
   "cell_type": "code",
   "execution_count": null,
   "metadata": {
    "colab": {},
    "colab_type": "code",
    "id": "PSOGNHxZf3im"
   },
   "outputs": [],
   "source": [
    "dfgroupby_equipo.reset_index(inplace=True)"
   ]
  },
  {
   "cell_type": "code",
   "execution_count": null,
   "metadata": {
    "colab": {},
    "colab_type": "code",
    "id": "3s4DYLASgGuk"
   },
   "outputs": [],
   "source": [
    "# sp2.set_title(\"Cantidad de litros despachados\")\n",
    "#ax=sns.distplot(dfgroupby_equipo['cantidad'],kde=False, norm_hist=False, label='volumen suministrado[Lts]')\n",
    "fig = plt.figure(figsize=(15,8))\n",
    "\n",
    "df = dfgroupby_equipo\n",
    "\n",
    "# with sns.axes_style(\"whitegrid\"):\n",
    "sns.set_style(\"whitegrid\", {\"grid.color\": \".9\"})\n",
    "ax1 = sns.lineplot(x=df['fecha'],y=df['cantidad']/1e6, linewidth=3, color='deepskyblue')\n",
    "#plt.scatter(xm,ym, s=100, c='g',  alpha=0.4, edgecolors=\"g\", linewidth=5)\n",
    "#plt.scatter(xm_covid, ym_covid, s=100, c='g',  alpha=0.4, edgecolors=\"g\", linewidth=5)\n",
    "#plt.scatter(xmm,ymm, s=100, c='g',  alpha=0.4, edgecolors=\"g\", linewidth=5)\n",
    "\n",
    "ym = df['cantidad'].max()/1e6\n",
    "xm = df['fecha'][df['cantidad'].idxmax()]\n",
    "ymm = df['cantidad'].min()/1e6\n",
    "xmm = df['fecha'][df['cantidad'].idxmin()]\n",
    "xm_covid = pd.to_datetime('2020-01-31')\n",
    "ym_covid = df.iloc[df.set_index('fecha').index.get_loc(xm_covid, method='nearest')]['cantidad']/1e6\n",
    "\n",
    "# Max\n",
    "plt.annotate('{}\\nElecciones PASO 2019\\n{:.2f} Mill. de Litros'.format(xm.strftime(\"%b %Y\"), ym), \n",
    "             xy=(xm,ym), \n",
    "             xytext=(xm, ym*1.2), \n",
    "             fontsize=14,\n",
    "             ha='center',\n",
    "             arrowprops=dict(facecolor='black', shrink=0.0, headwidth=3, width=2))\n",
    "\n",
    "plt.annotate('{}\\nCovid-19\\n{:.2f} Mill. de Litros'.format(xm_covid.strftime(\"%b %Y\"), ym_covid), \n",
    "             xy=(xm_covid, ym_covid), \n",
    "             xytext=(xm_covid, ym_covid+2), \n",
    "             fontsize=14,\n",
    "             ha='center',\n",
    "             arrowprops=dict(facecolor='black', shrink=0.0, headwidth=3, width=2))\n",
    "# Min\n",
    "plt.annotate('{}\\n{:.2f} Mill. de Litros'.format(xmm.strftime(\"%b %Y\"), ymm), \n",
    "             xy=(xmm,ymm), \n",
    "             xytext=(xmm, ymm-3), \n",
    "             fontsize=14,\n",
    "             ha='center',\n",
    "             arrowprops=dict(facecolor='black', shrink=0.0, headwidth=3, width=2))\n",
    "#bbox_props = dict(\n",
    "#    boxstyle=\"rarrow,pad=0.5\", \n",
    "#    fc=\"cyan\", ec=\"b\", lw=1\n",
    "#)\n",
    "#plt.text(xm, ym-2, \"Politics & Covid Effect\", \n",
    "#            ha=\"left\", va=\"top\", \n",
    "#            rotation=-35,\n",
    "#            size=15,\n",
    "#            bbox=bbox_props)\n",
    "# ax1.annotate('local max', xy=(3, 1),  xycoords='data',\n",
    "#             xytext=(0.8, 0.95), textcoords='axes fraction',\n",
    "#             arrowprops=dict(facecolor='black', shrink=0.05),\n",
    "#             horizontalalignment='right', verticalalignment='top',\n",
    "#             )\n",
    "plt.ylabel('Millones de Litros',fontsize=16)\n",
    "plt.xlabel('')\n",
    "plt.title(\"Volumen mensual despachado y controlado por Cintelink\",fontsize=16)\n",
    "plt.ylim(0,25)\n",
    "# ax.set_yscale('log')\n",
    "ax1.xaxis.set_major_formatter(md.DateFormatter('%b %Y'))\n",
    "plt.xticks(df['fecha'],fontsize=12, rotation='90')\n",
    "plt.yticks(fontsize=14)\n",
    "plt.grid(True)\n",
    "sns.despine()\n",
    "plt.show()\n",
    "# fig.savefig('report_volumen.pdf')"
   ]
  },
  {
   "cell_type": "code",
   "execution_count": null,
   "metadata": {},
   "outputs": [],
   "source": [
    "dfgroupby_equipo"
   ]
  },
  {
   "cell_type": "code",
   "execution_count": null,
   "metadata": {
    "colab": {},
    "colab_type": "code",
    "id": "B9d_ddXGib-1"
   },
   "outputs": [],
   "source": [
    "df = dfgroupby_equipo\n",
    "\n",
    "fig = plt.figure(figsize=(15,8))\n",
    "\n",
    "ax1 = sns.lineplot(x=df['fecha'],y=df['main_id'], linewidth=3, color='deepskyblue')\n",
    "\n",
    "plt.ylabel('Vehiculos Activos',fontsize=16)\n",
    "plt.xlabel('Fecha',fontsize=14)\n",
    "plt.title(\"Cantidad mensual de vehículos que cargaron al menos una vez en Cintelink\",fontsize=16)\n",
    "#plt.ylim(4,8)\n",
    "# ax.set_yscale('log')\n",
    "ax1.xaxis.set_major_formatter(md.DateFormatter('%b %Y'))\n",
    "plt.xticks(df['fecha'],fontsize=12, rotation='90')\n",
    "plt.yticks(fontsize=14)\n",
    "plt.grid(True)\n",
    "sns.despine()\n",
    "\n",
    "\n",
    "\n",
    "plt.show()"
   ]
  },
  {
   "cell_type": "code",
   "execution_count": null,
   "metadata": {
    "colab": {},
    "colab_type": "code",
    "id": "tIUDVUlgiclu"
   },
   "outputs": [],
   "source": [
    "fig = plt.figure(figsize=(15,8))\n",
    "\n",
    "df = dfgroupby_equipo[dfgroupby_equipo['fecha']>'2019-08-01']\n",
    "\n",
    "y = df['cantidad']/df['main_id']\n",
    "\n",
    "ax1=sns.lineplot(x=dfgroupby_equipo['fecha'],\n",
    "                y=dfgroupby_equipo['cantidad']/dfgroupby_equipo['main_id'], linewidth=3, color='deepskyblue')\n",
    "\n",
    "ym = y.max()\n",
    "ymim = y.min()\n",
    "xm = df['fecha'][y.idxmax()]\n",
    "\n",
    "xm_covid = pd.to_datetime('2020-01-31')\n",
    "\n",
    "ym_covid = y.iloc[df.set_index('fecha').index.get_loc(xm_covid, method='nearest')]\n",
    "\n",
    "# Max\n",
    "plt.annotate('{}\\nElecciones PASO 2019'.format(xm.strftime(\"%b %Y\")), \n",
    "             xy=(xm,ym), \n",
    "             xytext=(xm, ym*1.1), \n",
    "             fontsize=14,\n",
    "             ha='center',\n",
    "             arrowprops=dict(facecolor='black', shrink=0.0, headwidth=3, width=2))\n",
    "\n",
    "plt.annotate('{}\\nCovid-19'.format(xm_covid.strftime(\"%b %Y\")), \n",
    "             xy=(xm_covid, ym_covid), \n",
    "             xytext=(xm_covid, ym_covid*1.1), \n",
    "             fontsize=14,\n",
    "             ha='center',\n",
    "             arrowprops=dict(facecolor='black', shrink=0.0, headwidth=3, width=2))\n",
    "# Min\n",
    "# plt.annotate('{}\\n{:.2f} Mill. de Litros'.format(xmm.strftime(\"%b %Y\"), ymm), \n",
    "#              xy=(xmm,ymm), \n",
    "#              xytext=(xmm, ymm-3), \n",
    "#              fontsize=14,\n",
    "#              ha='center',\n",
    "#              arrowprops=dict(facecolor='black', shrink=0.0, headwidth=3, width=2))\n",
    "\n",
    "\n",
    "plt.ylabel('Litros por mes',fontsize=16)\n",
    "plt.xlabel('Fecha',fontsize=14)\n",
    "plt.title(\"Consumo promedio mensual por vehículo controlado por Cintelink\",fontsize=16)\n",
    "plt.ylim(ymim*0.9,ym*1.2)\n",
    "# ax.set_yscale('log')\n",
    "plt.xticks(dfgroupby_equipo['fecha'],fontsize=12, rotation='90')\n",
    "ax1.xaxis.set_major_formatter(md.DateFormatter('%b %Y'))\n",
    "plt.yticks(fontsize=14)\n",
    "plt.grid(True)\n",
    "sns.despine()\n",
    "\n",
    "\n",
    "\n",
    "plt.show()"
   ]
  },
  {
   "cell_type": "code",
   "execution_count": null,
   "metadata": {
    "colab": {},
    "colab_type": "code",
    "id": "D4X5yP66icsP"
   },
   "outputs": [],
   "source": [
    "fig = plt.figure(figsize=(15,8))\n",
    "\n",
    "df = dfgroupby_equipo\n",
    "ax1=sns.lineplot(x=df['fecha'],y=df['id_bomba'], linewidth=3, color='deepskyblue')\n",
    "\n",
    "plt.ylabel('Cantidad de bombas activas',fontsize=16)\n",
    "plt.xlabel('Fecha',fontsize=14)\n",
    "plt.title(\"Cantidad mensual de bombas activas controladas por Cintelink\",fontsize=16)\n",
    "# plt.ylim(4,8)\n",
    "# ax.set_yscale('log')\n",
    "plt.xticks(df['fecha'],fontsize=12, rotation='90')\n",
    "ax1.xaxis.set_major_formatter(md.DateFormatter('%b %Y'))\n",
    "plt.yticks(fontsize=12)\n",
    "plt.grid(True)\n",
    "sns.despine()\n",
    "\n",
    "\n",
    "\n",
    "plt.show()"
   ]
  },
  {
   "cell_type": "code",
   "execution_count": null,
   "metadata": {
    "colab": {},
    "colab_type": "code",
    "id": "7NUIiRX7icxp"
   },
   "outputs": [],
   "source": []
  },
  {
   "cell_type": "markdown",
   "metadata": {
    "colab": {},
    "colab_type": "code",
    "id": "livAmIigic28"
   },
   "source": [
    "## ANALISIS DE HISTORIAL DE TANQUES"
   ]
  },
  {
   "cell_type": "code",
   "execution_count": null,
   "metadata": {
    "colab": {},
    "colab_type": "code",
    "id": "VDFIcSF9b7Fo"
   },
   "outputs": [],
   "source": [
    "df_historial = pd.read_csv('../dataset/data_csv/historial_tanques_ultra_light.zip', parse_dates=['fecha_hora'], compression='zip')\n",
    "df_historial.info()"
   ]
  },
  {
   "cell_type": "code",
   "execution_count": null,
   "metadata": {
    "colab": {},
    "colab_type": "code",
    "id": "q6pNIHnjip4k"
   },
   "outputs": [],
   "source": [
    "dfgroupby_historial = pd.DataFrame()\n",
    "# grupo = ['id_equipo','mes']\n",
    "# grupo = 'id_equipo'\n",
    "grupo = pd.Grouper(key=\"fecha_hora\", freq=\"M\")\n",
    "\n",
    "dfgroupby_historial['id_tanque'] = df_historial.groupby(grupo)['id_tanque'].nunique()\n",
    "dfgroupby_historial['volumen'] = df_historial.groupby(grupo)['volumen'].mean()\n",
    "dfgroupby_historial.reset_index(inplace=True)"
   ]
  },
  {
   "cell_type": "code",
   "execution_count": null,
   "metadata": {
    "colab": {},
    "colab_type": "code",
    "id": "psYk25d3gNe8"
   },
   "outputs": [],
   "source": [
    "fig = plt.figure(figsize=(15,8))\n",
    "\n",
    "ax1=sns.lineplot(x=dfgroupby_historial['fecha_hora'],y=dfgroupby_historial['id_tanque'], linewidth=3, color='Red')\n",
    "\n",
    "plt.ylabel('Cantidad de Tanques activos',fontsize=16)\n",
    "plt.xlabel('Fecha',fontsize=14)\n",
    "plt.title(\"Cantidad mensual de tanques activos controlados por Cintelink\",fontsize=16)\n",
    "plt.ylim(50,400)\n",
    "# ax.set_yscale('log')\n",
    "plt.xticks(dfgroupby_historial['fecha_hora'],fontsize=12, rotation='90')\n",
    "ax1.xaxis.set_major_formatter(md.DateFormatter('%b %Y'))\n",
    "plt.yticks(fontsize=12)\n",
    "plt.grid(True)\n",
    "sns.despine()\n",
    "\n",
    "\n",
    "\n",
    "plt.show()"
   ]
  },
  {
   "cell_type": "code",
   "execution_count": null,
   "metadata": {
    "colab": {},
    "colab_type": "code",
    "id": "qKDcLBuajtXG"
   },
   "outputs": [],
   "source": [
    "fs_tanque = pd.read_csv('../dataset/data_csv/fs_tanques.csv')\n",
    "fs_tanque.info()"
   ]
  },
  {
   "cell_type": "code",
   "execution_count": null,
   "metadata": {
    "colab": {},
    "colab_type": "code",
    "id": "zyJtl2C3kqeg"
   },
   "outputs": [],
   "source": [
    "dfgroupby_tanques = pd.DataFrame()\n",
    "# grupo = ['id_equipo','mes']\n",
    "# grupo = 'id_equipo'\n",
    "grupo = [pd.Grouper(key=\"fecha_hora\", freq=\"M\"),'id_tanque']\n",
    "\n",
    "# dfgroupby_tanques['id_tanque'] = df_historiales.groupby(grupo)['id_tanque'].nunique()\n",
    "dfgroupby_tanques['volumen'] = df_historial.groupby(grupo)['volumen'].mean()"
   ]
  },
  {
   "cell_type": "code",
   "execution_count": null,
   "metadata": {
    "colab": {},
    "colab_type": "code",
    "id": "bRUJZS62kitO"
   },
   "outputs": [],
   "source": [
    "index=fs_tanque.set_index('id_tanque').index.get_indexer(dfgroupby_tanques.reset_index('fecha_hora').index)"
   ]
  },
  {
   "cell_type": "code",
   "execution_count": null,
   "metadata": {
    "colab": {},
    "colab_type": "code",
    "id": "PsPsPH2cks_f"
   },
   "outputs": [],
   "source": [
    "dfgroupby_tanques['capacidad']=fs_tanque.iloc[index]['capacidad'].values"
   ]
  },
  {
   "cell_type": "code",
   "execution_count": null,
   "metadata": {
    "colab": {},
    "colab_type": "code",
    "id": "wyCF_rhkktCE"
   },
   "outputs": [],
   "source": [
    "dfgroupby_tanques['capacidad']=dfgroupby_tanques['capacidad'].astype('float')"
   ]
  },
  {
   "cell_type": "code",
   "execution_count": null,
   "metadata": {
    "colab": {},
    "colab_type": "code",
    "id": "WMWnGmsbktE-"
   },
   "outputs": [],
   "source": [
    "grupo = pd.Grouper(key=\"fecha_hora\", freq=\"M\")\n",
    "dfgroupby_capacidades=pd.DataFrame()\n",
    "dfgroupby_capacidades['capacidad']=dfgroupby_tanques.reset_index().groupby(grupo)['capacidad'].sum()\n",
    "dfgroupby_capacidades.reset_index(inplace=True)"
   ]
  },
  {
   "cell_type": "code",
   "execution_count": null,
   "metadata": {
    "colab": {},
    "colab_type": "code",
    "id": "TtQso0t7ktHr"
   },
   "outputs": [],
   "source": [
    "fig = plt.figure(figsize=(15,8))\n",
    "\n",
    "ax1=sns.lineplot(x=dfgroupby_capacidades['fecha_hora'],y=dfgroupby_capacidades['capacidad']/1e6, linewidth=3, color='Red')\n",
    "\n",
    "plt.ylabel('Millones de Litros',fontsize=16)\n",
    "plt.xlabel('',fontsize=14)\n",
    "plt.title(\"Volumen Mensual controlado por Sondas de Telemedición Cintelink\",fontsize=16)\n",
    "# plt.ylim(50,400)\n",
    "# ax.set_yscale('log')\n",
    "plt.xticks(dfgroupby_historial['fecha_hora'],fontsize=12, rotation='90')\n",
    "ax1.xaxis.set_major_formatter(md.DateFormatter('%b %Y'))\n",
    "plt.yticks(fontsize=12)\n",
    "plt.grid(True)\n",
    "sns.despine()\n",
    "\n",
    "\n",
    "\n",
    "plt.show()"
   ]
  },
  {
   "cell_type": "code",
   "execution_count": null,
   "metadata": {},
   "outputs": [],
   "source": []
  }
 ],
 "metadata": {
  "colab": {
   "name": "due diligence.ipynb",
   "provenance": []
  },
  "kernelspec": {
   "display_name": "Python 3",
   "language": "python",
   "name": "python3"
  },
  "language_info": {
   "codemirror_mode": {
    "name": "ipython",
    "version": 3
   },
   "file_extension": ".py",
   "mimetype": "text/x-python",
   "name": "python",
   "nbconvert_exporter": "python",
   "pygments_lexer": "ipython3",
   "version": "3.7.5"
  }
 },
 "nbformat": 4,
 "nbformat_minor": 4
}
