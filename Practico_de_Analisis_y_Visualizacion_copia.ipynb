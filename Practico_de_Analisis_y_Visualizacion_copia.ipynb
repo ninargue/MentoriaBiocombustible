{
 "cells": [
  {
   "cell_type": "markdown",
   "metadata": {},
   "source": [
    "# Mentoria DiploDatos FAMAF\n",
    "\n",
    "## Reducción de Emisiones Contaminantes por el Uso de Biocombustibles en Transporte de Cargas y Pasajeros\n",
    "\n",
    "### Práctico de Análisis y Visualización"
   ]
  },
  {
   "cell_type": "code",
   "execution_count": 1,
   "metadata": {},
   "outputs": [],
   "source": [
    "import pandas as pd\n",
    "import numpy as np\n",
    "import matplotlib.pyplot as plt\n",
    "import seaborn as sns\n",
    "from datetime import datetime\n",
    "import re"
   ]
  },
  {
   "cell_type": "code",
   "execution_count": 2,
   "metadata": {},
   "outputs": [],
   "source": [
    "import warnings\n",
    "warnings.filterwarnings(\"ignore\")"
   ]
  },
  {
   "cell_type": "code",
   "execution_count": 3,
   "metadata": {},
   "outputs": [],
   "source": [
    "#!pip install pymysql\n",
    "import pymysql as sql"
   ]
  },
  {
   "cell_type": "markdown",
   "metadata": {},
   "source": [
    "## Datos propios\n",
    "_Datasets :_\n",
    "- Usuarios: registra datos de los usuarios de las bombas\n",
    "- Vehiculos: registra datos de los vehículos \n",
    "- Productos: registra datos de los tipos de combustibles\n",
    "- Equipos: registra datos de los equipos IoT\n",
    "- Tanques: registra datos de los tanques de almacenamiento\n",
    "- Bombas: registra datos de las bombas de suministro de combustible\n",
    "- Transacciones (mensuales, desde el 2018): registro de los suministros de combustible por cada bomba a cada vehículo\n",
    "- Historial (mensuales, desde el 2018): registro de los inventarios mensuales de los tanques de combustibles"
   ]
  },
  {
   "cell_type": "code",
   "execution_count": 4,
   "metadata": {},
   "outputs": [
    {
     "name": "stdout",
     "output_type": "stream",
     "text": [
      "['fs_asignacion_producto', 'fs_bombas', 'fs_equipo', 'fs_tanques', 'fs_usuarios_fuelsentry', 'fs_vehiculos', 'sis_historial_2018_1', 'sis_historial_2018_10', 'sis_historial_2018_11', 'sis_historial_2018_12', 'sis_historial_2018_2', 'sis_historial_2018_3', 'sis_historial_2018_4', 'sis_historial_2018_5', 'sis_historial_2018_6', 'sis_historial_2018_7', 'sis_historial_2018_8', 'sis_historial_2018_9', 'sis_historial_2019_1', 'sis_historial_2019_10', 'sis_historial_2019_11', 'sis_historial_2019_12', 'sis_historial_2019_2', 'sis_historial_2019_3', 'sis_historial_2019_4', 'sis_historial_2019_5', 'sis_historial_2019_6', 'sis_historial_2019_7', 'sis_historial_2019_8', 'sis_historial_2019_9', 'sis_historial_2020_1', 'sis_historial_2020_2', 'sis_historial_2020_3', 'sis_historial_2020_4', 'sis_historial_2020_5', 'sis_transa_2018_1', 'sis_transa_2018_10', 'sis_transa_2018_11', 'sis_transa_2018_12', 'sis_transa_2018_2', 'sis_transa_2018_3', 'sis_transa_2018_4', 'sis_transa_2018_5', 'sis_transa_2018_6', 'sis_transa_2018_7', 'sis_transa_2018_8', 'sis_transa_2018_9', 'sis_transa_2019_1', 'sis_transa_2019_10', 'sis_transa_2019_11', 'sis_transa_2019_12', 'sis_transa_2019_2', 'sis_transa_2019_3', 'sis_transa_2019_4', 'sis_transa_2019_5', 'sis_transa_2019_6', 'sis_transa_2019_7', 'sis_transa_2019_8', 'sis_transa_2019_9', 'sis_transa_2020_1', 'sis_transa_2020_2', 'sis_transa_2020_3', 'sis_transa_2020_4', 'sis_transa_2020_5']\n"
     ]
    }
   ],
   "source": [
    "# Listado de todas las tablas de la base de datos\n",
    "DB_HOST = 'localhost'\n",
    "DB_PORT = 33060\n",
    "DB_USER = 'superset'\n",
    "DB_PASS = 'superset'\n",
    "DB_NAME = 'db'\n",
    "\n",
    "mysqldb = sql.connect(\n",
    "  host=DB_HOST,\n",
    "  port=DB_PORT,\n",
    "  user=DB_USER,\n",
    "  passwd=DB_PASS,\n",
    "  database=DB_NAME\n",
    ")\n",
    "mysqlcursordb = mysqldb.cursor()\n",
    "mysqlcursordb.execute(\"show tables\")\n",
    "lista_tablas = []\n",
    "for tabla in mysqlcursordb:\n",
    "    lista_tablas.append(tabla[0])\n",
    "print(lista_tablas)"
   ]
  },
  {
   "cell_type": "code",
   "execution_count": 5,
   "metadata": {},
   "outputs": [
    {
     "name": "stdout",
     "output_type": "stream",
     "text": [
      "(1, 333333, '01', '0', 1, '0031731.441', datetime.date(2012, 7, 19), '0000', '2.0', '1', '0000')\n",
      "(2, 333333, '02', '0', 1, '1160601.525', datetime.date(2012, 7, 19), '0000', '2.0', '1', '0000')\n",
      "(11417, 770, '02', '1', 101856, '0000000.000', datetime.date(2018, 7, 5), '0026.3158', '020', '1', '0000')\n",
      "(5, 444444, '01', '2', 4, '0651995.027', datetime.date(2010, 12, 1), '35.0', '888', '1', '0000')\n",
      "(6, 444444, '02', '2', 4, '0005232.793', datetime.date(2010, 12, 1), '35.5', '2.0', '1', '0000')\n",
      "(7, 444444, '03', '3', 5, '0000090.979', datetime.date(2010, 12, 1), '35.0', '1.0', '1', '0000')\n",
      "(8, 444444, '04', '4', 6, '0000000.338', datetime.date(2010, 12, 1), '35.0', '1.0', '1', '0000')\n",
      "(9, 444444, '05', '5', 7, '0000000.001', datetime.date(2010, 12, 1), '35.0', '1.0', '1', '0000')\n",
      "(10, 444444, '06', '1', 3, '0651995.027', datetime.date(2010, 12, 1), '35.0', '2.0', '2', '0001')\n",
      "(11, 444444, '07', '1', 3, '0651995.027', datetime.date(2010, 12, 1), '35.0', '2.0', '0', '0003')\n"
     ]
    }
   ],
   "source": [
    "# Recuperar los 10 primeros registros de una tabla de la base de datos\n",
    "mysqlcursordb = mysqldb.cursor()\n",
    "query_registros = \"SELECT * FROM fs_bombas;\"\n",
    "mysqlcursordb.execute(query_registros)\n",
    "registros  = mysqlcursordb.fetchall()\n",
    "for reg in registros[0:10]:\n",
    "    print(reg)"
   ]
  },
  {
   "cell_type": "code",
   "execution_count": 6,
   "metadata": {},
   "outputs": [],
   "source": [
    "# Conexión a la base de datos (para MySQL)\n",
    "from sqlalchemy import create_engine\n",
    "\n",
    "# Crear motor de conexión sqlalchemy\n",
    "path_conexion = 'mysql+pymysql://{}:{}@{}:{}/{}'.format(\n",
    "    DB_USER, DB_PASS, DB_HOST, DB_PORT, DB_NAME\n",
    ")\n",
    "conexion = create_engine(path_conexion)"
   ]
  },
  {
   "cell_type": "markdown",
   "metadata": {},
   "source": [
    "Para este primer práctico estaremos trabajando solo con algunos datasets. En el segundo práctico se incorporará otros datasets, que requieren de mayor limpieza y manipulacion de los datos."
   ]
  },
  {
   "cell_type": "code",
   "execution_count": 7,
   "metadata": {},
   "outputs": [],
   "source": [
    "# Listado de querys para consultas de las tablas a analizar\n",
    "query_productos = \"SELECT * FROM fs_asignacion_producto;\"\n",
    "query_bombas = \"SELECT * FROM fs_bombas;\"\n",
    "query_tanques = \"SELECT * FROM fs_tanques;\"\n",
    "query_usuarios = \"SELECT * FROM fs_usuarios_fuelsentry;\"\n",
    "query_vehiculos = \"SELECT * FROM fs_vehiculos;\""
   ]
  },
  {
   "cell_type": "code",
   "execution_count": 8,
   "metadata": {},
   "outputs": [],
   "source": [
    "# Obtención de dataframe 'fs_asignacion_producto', 'fs_bombas', 'fs_equipo', 'fs_tanques', 'fs_usuarios_fuelsentry', 'fs_vehiculos'\n",
    "df_productos = pd.read_sql_query(query_productos, path_conexion)\n",
    "df_tanques = pd.read_sql_query(query_tanques, path_conexion)\n",
    "df_usuarios = pd.read_sql_query(query_usuarios, path_conexion)\n",
    "\n",
    "# También podemos pasar el tipo de formato de las fechas para su conversión al momento de leer los datos\n",
    "format_string = \"%Y-%m-%d %H:%M:%S\"\n",
    "df_bombas = pd.read_sql_query(query_bombas, path_conexion, parse_dates={'fecha_reinicio': format_string})\n",
    "df_vehiculos = pd.read_sql_query(query_vehiculos, path_conexion)"
   ]
  },
  {
   "cell_type": "code",
   "execution_count": 9,
   "metadata": {},
   "outputs": [],
   "source": [
    "pd.set_option('display.max_columns', 50)"
   ]
  },
  {
   "cell_type": "markdown",
   "metadata": {},
   "source": [
    "### Dataset de asignación de productos:\n",
    "\n",
    "Contiene información relacionada con los productos de combustible.\n",
    "\n",
    "Descripción de las columnas:\n",
    "- 'id_equipo': ID del dispositivo IoT\n",
    "- 'producto': código del producto\n",
    "- 'nombre_producto': nombre del producto\n",
    "- 'codigo': \n",
    "- 'precio_litro': precio del producto (en $/l)\n",
    "- 'coef_var_vol': coeficiente de variación del volumen del producto combustible (en g/ml/°C)\n",
    "- 'density': densidad del producto (en g/ml)\n",
    "\n",
    "Densidad (ASTM D 4052): densidad relativa del combustible medido (en g/ml o kg/m3) a la temperatura estándar de 15 °C."
   ]
  },
  {
   "cell_type": "code",
   "execution_count": 10,
   "metadata": {},
   "outputs": [
    {
     "name": "stdout",
     "output_type": "stream",
     "text": [
      "Dimensión del dataset (filas, columnas): (2672, 7)\n",
      "\n",
      "<class 'pandas.core.frame.DataFrame'>\n",
      "RangeIndex: 2672 entries, 0 to 2671\n",
      "Data columns (total 7 columns):\n",
      " #   Column           Non-Null Count  Dtype  \n",
      "---  ------           --------------  -----  \n",
      " 0   id_equipo        2672 non-null   int64  \n",
      " 1   producto         2672 non-null   object \n",
      " 2   nombre_producto  2672 non-null   object \n",
      " 3   codigo           2526 non-null   object \n",
      " 4   precio_litro     2672 non-null   float64\n",
      " 5   coef_var_vol     2672 non-null   float64\n",
      " 6   density          249 non-null    float64\n",
      "dtypes: float64(3), int64(1), object(3)\n",
      "memory usage: 146.2+ KB\n",
      "None\n",
      "\n"
     ]
    },
    {
     "data": {
      "text/html": [
       "<div>\n",
       "<style scoped>\n",
       "    .dataframe tbody tr th:only-of-type {\n",
       "        vertical-align: middle;\n",
       "    }\n",
       "\n",
       "    .dataframe tbody tr th {\n",
       "        vertical-align: top;\n",
       "    }\n",
       "\n",
       "    .dataframe thead th {\n",
       "        text-align: right;\n",
       "    }\n",
       "</style>\n",
       "<table border=\"1\" class=\"dataframe\">\n",
       "  <thead>\n",
       "    <tr style=\"text-align: right;\">\n",
       "      <th></th>\n",
       "      <th>id_equipo</th>\n",
       "      <th>producto</th>\n",
       "      <th>nombre_producto</th>\n",
       "      <th>codigo</th>\n",
       "      <th>precio_litro</th>\n",
       "      <th>coef_var_vol</th>\n",
       "      <th>density</th>\n",
       "    </tr>\n",
       "  </thead>\n",
       "  <tbody>\n",
       "    <tr>\n",
       "      <th>0</th>\n",
       "      <td>333333</td>\n",
       "      <td>0</td>\n",
       "      <td>gas oil</td>\n",
       "      <td>gas oil</td>\n",
       "      <td>7.5</td>\n",
       "      <td>0.001</td>\n",
       "      <td>NaN</td>\n",
       "    </tr>\n",
       "    <tr>\n",
       "      <th>1</th>\n",
       "      <td>333333</td>\n",
       "      <td>1</td>\n",
       "      <td>Product 2</td>\n",
       "      <td>Product 2</td>\n",
       "      <td>0.0</td>\n",
       "      <td>0.001</td>\n",
       "      <td>NaN</td>\n",
       "    </tr>\n",
       "    <tr>\n",
       "      <th>2</th>\n",
       "      <td>333333</td>\n",
       "      <td>2</td>\n",
       "      <td>Product 3</td>\n",
       "      <td>Product 3</td>\n",
       "      <td>0.0</td>\n",
       "      <td>0.001</td>\n",
       "      <td>NaN</td>\n",
       "    </tr>\n",
       "    <tr>\n",
       "      <th>3</th>\n",
       "      <td>333333</td>\n",
       "      <td>3</td>\n",
       "      <td>Product 4</td>\n",
       "      <td>Product 4</td>\n",
       "      <td>0.0</td>\n",
       "      <td>0.001</td>\n",
       "      <td>NaN</td>\n",
       "    </tr>\n",
       "    <tr>\n",
       "      <th>4</th>\n",
       "      <td>1</td>\n",
       "      <td>0</td>\n",
       "      <td>Diesel</td>\n",
       "      <td>Diesel</td>\n",
       "      <td>1.0</td>\n",
       "      <td>0.001</td>\n",
       "      <td>NaN</td>\n",
       "    </tr>\n",
       "  </tbody>\n",
       "</table>\n",
       "</div>"
      ],
      "text/plain": [
       "   id_equipo producto nombre_producto     codigo  precio_litro  coef_var_vol  \\\n",
       "0     333333        0         gas oil    gas oil           7.5         0.001   \n",
       "1     333333        1       Product 2  Product 2           0.0         0.001   \n",
       "2     333333        2       Product 3  Product 3           0.0         0.001   \n",
       "3     333333        3       Product 4  Product 4           0.0         0.001   \n",
       "4          1        0          Diesel     Diesel           1.0         0.001   \n",
       "\n",
       "   density  \n",
       "0      NaN  \n",
       "1      NaN  \n",
       "2      NaN  \n",
       "3      NaN  \n",
       "4      NaN  "
      ]
     },
     "execution_count": 10,
     "metadata": {},
     "output_type": "execute_result"
    }
   ],
   "source": [
    "print(f'Dimensión del dataset (filas, columnas): {df_productos.shape}\\n')\n",
    "print(f'{df_productos.info()}\\n')\n",
    "df_productos.head()"
   ]
  },
  {
   "cell_type": "code",
   "execution_count": 11,
   "metadata": {},
   "outputs": [
    {
     "name": "stdout",
     "output_type": "stream",
     "text": [
      "id_equipo: 702\n",
      "producto: 10\n",
      "nombre_producto: 142\n",
      "codigo: 143\n",
      "precio_litro: 76\n",
      "coef_var_vol: 5\n",
      "density: 3\n"
     ]
    }
   ],
   "source": [
    "# Valores o categorias unicas para cada columna\n",
    "for i in df_productos.columns:\n",
    "    print(f'{i}: {df_productos[i].nunique()}')"
   ]
  },
  {
   "cell_type": "markdown",
   "metadata": {},
   "source": [
    "### Dataset de bombas:\n",
    "\n",
    "Contiene información de las bombas de suministro de combustible.\n",
    "\n",
    "--> Un punto de suministro del combustible posee uno o varios equipos (dispositivo IoT) \n",
    "\n",
    "Descripción de las columnas:\n",
    "- 'id_bomba': ID de la bomba\n",
    "- 'id_equipo': ID del dispositivo IoT\n",
    "- 'bomba': \n",
    "- 'producto': tipo de combustible que suministra la bomba\n",
    "- 'id_tanque': ID del tanque\n",
    "- 'totalizador': litros suministrados a la fecha de reinicio\n",
    "- 'fecha_reinicio': fecha de reinicio de la bomba\n",
    "- 'pulsos_litro': litros que suministra la bomba (por pulso)\n",
    "- 'tiempo_interrump': tiempo de interrupción del suministro de combustible de la bomba (en segundos)\n",
    "- 'habilitacion': \n",
    "- 'rampa_de_parada'"
   ]
  },
  {
   "cell_type": "code",
   "execution_count": 12,
   "metadata": {},
   "outputs": [
    {
     "name": "stdout",
     "output_type": "stream",
     "text": [
      "Dimensión del dataset (filas, columnas): (1438, 11)\n",
      "\n",
      "<class 'pandas.core.frame.DataFrame'>\n",
      "RangeIndex: 1438 entries, 0 to 1437\n",
      "Data columns (total 11 columns):\n",
      " #   Column            Non-Null Count  Dtype         \n",
      "---  ------            --------------  -----         \n",
      " 0   id_bomba          1438 non-null   int64         \n",
      " 1   id_equipo         1438 non-null   int64         \n",
      " 2   bomba             1438 non-null   object        \n",
      " 3   producto          1438 non-null   object        \n",
      " 4   id_tanque         1438 non-null   int64         \n",
      " 5   totalizador       1438 non-null   object        \n",
      " 6   fecha_reinicio    1435 non-null   datetime64[ns]\n",
      " 7   pulsos_litro      1438 non-null   object        \n",
      " 8   tiempo_interrump  1438 non-null   object        \n",
      " 9   habilitacion      1438 non-null   object        \n",
      " 10  rampa_de_parada   1438 non-null   object        \n",
      "dtypes: datetime64[ns](1), int64(3), object(7)\n",
      "memory usage: 123.7+ KB\n",
      "None\n",
      "\n"
     ]
    },
    {
     "data": {
      "text/html": [
       "<div>\n",
       "<style scoped>\n",
       "    .dataframe tbody tr th:only-of-type {\n",
       "        vertical-align: middle;\n",
       "    }\n",
       "\n",
       "    .dataframe tbody tr th {\n",
       "        vertical-align: top;\n",
       "    }\n",
       "\n",
       "    .dataframe thead th {\n",
       "        text-align: right;\n",
       "    }\n",
       "</style>\n",
       "<table border=\"1\" class=\"dataframe\">\n",
       "  <thead>\n",
       "    <tr style=\"text-align: right;\">\n",
       "      <th></th>\n",
       "      <th>id_bomba</th>\n",
       "      <th>id_equipo</th>\n",
       "      <th>bomba</th>\n",
       "      <th>producto</th>\n",
       "      <th>id_tanque</th>\n",
       "      <th>totalizador</th>\n",
       "      <th>fecha_reinicio</th>\n",
       "      <th>pulsos_litro</th>\n",
       "      <th>tiempo_interrump</th>\n",
       "      <th>habilitacion</th>\n",
       "      <th>rampa_de_parada</th>\n",
       "    </tr>\n",
       "  </thead>\n",
       "  <tbody>\n",
       "    <tr>\n",
       "      <th>0</th>\n",
       "      <td>1</td>\n",
       "      <td>333333</td>\n",
       "      <td>01</td>\n",
       "      <td>0</td>\n",
       "      <td>1</td>\n",
       "      <td>0031731.441</td>\n",
       "      <td>2012-07-19</td>\n",
       "      <td>0000</td>\n",
       "      <td>2.0</td>\n",
       "      <td>1</td>\n",
       "      <td>0000</td>\n",
       "    </tr>\n",
       "    <tr>\n",
       "      <th>1</th>\n",
       "      <td>2</td>\n",
       "      <td>333333</td>\n",
       "      <td>02</td>\n",
       "      <td>0</td>\n",
       "      <td>1</td>\n",
       "      <td>1160601.525</td>\n",
       "      <td>2012-07-19</td>\n",
       "      <td>0000</td>\n",
       "      <td>2.0</td>\n",
       "      <td>1</td>\n",
       "      <td>0000</td>\n",
       "    </tr>\n",
       "    <tr>\n",
       "      <th>2</th>\n",
       "      <td>11417</td>\n",
       "      <td>770</td>\n",
       "      <td>02</td>\n",
       "      <td>1</td>\n",
       "      <td>101856</td>\n",
       "      <td>0000000.000</td>\n",
       "      <td>2018-07-05</td>\n",
       "      <td>0026.3158</td>\n",
       "      <td>020</td>\n",
       "      <td>1</td>\n",
       "      <td>0000</td>\n",
       "    </tr>\n",
       "    <tr>\n",
       "      <th>3</th>\n",
       "      <td>5</td>\n",
       "      <td>444444</td>\n",
       "      <td>01</td>\n",
       "      <td>2</td>\n",
       "      <td>4</td>\n",
       "      <td>0651995.027</td>\n",
       "      <td>2010-12-01</td>\n",
       "      <td>35.0</td>\n",
       "      <td>888</td>\n",
       "      <td>1</td>\n",
       "      <td>0000</td>\n",
       "    </tr>\n",
       "    <tr>\n",
       "      <th>4</th>\n",
       "      <td>6</td>\n",
       "      <td>444444</td>\n",
       "      <td>02</td>\n",
       "      <td>2</td>\n",
       "      <td>4</td>\n",
       "      <td>0005232.793</td>\n",
       "      <td>2010-12-01</td>\n",
       "      <td>35.5</td>\n",
       "      <td>2.0</td>\n",
       "      <td>1</td>\n",
       "      <td>0000</td>\n",
       "    </tr>\n",
       "  </tbody>\n",
       "</table>\n",
       "</div>"
      ],
      "text/plain": [
       "   id_bomba  id_equipo bomba producto  id_tanque  totalizador fecha_reinicio  \\\n",
       "0         1     333333    01        0          1  0031731.441     2012-07-19   \n",
       "1         2     333333    02        0          1  1160601.525     2012-07-19   \n",
       "2     11417        770    02        1     101856  0000000.000     2018-07-05   \n",
       "3         5     444444    01        2          4  0651995.027     2010-12-01   \n",
       "4         6     444444    02        2          4  0005232.793     2010-12-01   \n",
       "\n",
       "  pulsos_litro tiempo_interrump habilitacion rampa_de_parada  \n",
       "0         0000              2.0            1            0000  \n",
       "1         0000              2.0            1            0000  \n",
       "2    0026.3158              020            1            0000  \n",
       "3         35.0              888            1            0000  \n",
       "4         35.5              2.0            1            0000  "
      ]
     },
     "execution_count": 12,
     "metadata": {},
     "output_type": "execute_result"
    }
   ],
   "source": [
    "print(f'Dimensión del dataset (filas, columnas): {df_bombas.shape}\\n')\n",
    "print(f'{df_bombas.info()}\\n')\n",
    "df_bombas.head()"
   ]
  },
  {
   "cell_type": "code",
   "execution_count": 13,
   "metadata": {},
   "outputs": [
    {
     "name": "stdout",
     "output_type": "stream",
     "text": [
      "id_bomba: 1438\n",
      "id_equipo: 610\n",
      "bomba: 28\n",
      "producto: 11\n",
      "id_tanque: 861\n",
      "totalizador: 869\n",
      "fecha_reinicio: 179\n",
      "pulsos_litro: 245\n",
      "tiempo_interrump: 29\n",
      "habilitacion: 7\n",
      "rampa_de_parada: 7\n"
     ]
    }
   ],
   "source": [
    "# Valores o categorias unicas para cada columna\n",
    "for i in df_bombas.columns:\n",
    "    print(f'{i}: {df_bombas[i].nunique()}')"
   ]
  },
  {
   "cell_type": "markdown",
   "metadata": {},
   "source": [
    "### Dataset de tanques:\n",
    "\n",
    "Contiene información de los tanques de combustible.\n",
    "\n",
    "--> Una empresa puede tener más de un tanque\n",
    "\n",
    "--> Varios tanques pueden estar conectado a un mismo equipo\n",
    "\n",
    "--> Un tanque posee una o varias bombas\n",
    "\n",
    "Descripción de las columnas:\n",
    "- 'id_tanque': ID del tanque\n",
    "- 'id_equipo': ID del dispositivo IoT \n",
    "- 'tanque': tipo de tanque\n",
    "- 'producto': producto almacenado en el tanque \n",
    "- 'capacidad': capacidad del tanque en litros\n",
    "- 'log_interval': intervalo de tiempo en el cual se registra la medición del volumen del contenido del tanque --> historial del volumen del tanque\n",
    "- 'nivel_alarma': nivel de contenido del tanque para disparar alarma"
   ]
  },
  {
   "cell_type": "code",
   "execution_count": 14,
   "metadata": {},
   "outputs": [
    {
     "name": "stdout",
     "output_type": "stream",
     "text": [
      "Dimensión del dataset: (1561, 7)\n",
      "\n",
      "<class 'pandas.core.frame.DataFrame'>\n",
      "RangeIndex: 1561 entries, 0 to 1560\n",
      "Data columns (total 7 columns):\n",
      " #   Column        Non-Null Count  Dtype \n",
      "---  ------        --------------  ----- \n",
      " 0   id_tanque     1561 non-null   int64 \n",
      " 1   id_equipo     1561 non-null   int64 \n",
      " 2   tanque        1561 non-null   object\n",
      " 3   producto      1561 non-null   object\n",
      " 4   capacidad     1561 non-null   object\n",
      " 5   log_interval  1561 non-null   object\n",
      " 6   nivel_alarma  1561 non-null   object\n",
      "dtypes: int64(2), object(5)\n",
      "memory usage: 85.5+ KB\n",
      "None\n",
      "\n"
     ]
    },
    {
     "data": {
      "text/html": [
       "<div>\n",
       "<style scoped>\n",
       "    .dataframe tbody tr th:only-of-type {\n",
       "        vertical-align: middle;\n",
       "    }\n",
       "\n",
       "    .dataframe tbody tr th {\n",
       "        vertical-align: top;\n",
       "    }\n",
       "\n",
       "    .dataframe thead th {\n",
       "        text-align: right;\n",
       "    }\n",
       "</style>\n",
       "<table border=\"1\" class=\"dataframe\">\n",
       "  <thead>\n",
       "    <tr style=\"text-align: right;\">\n",
       "      <th></th>\n",
       "      <th>id_tanque</th>\n",
       "      <th>id_equipo</th>\n",
       "      <th>tanque</th>\n",
       "      <th>producto</th>\n",
       "      <th>capacidad</th>\n",
       "      <th>log_interval</th>\n",
       "      <th>nivel_alarma</th>\n",
       "    </tr>\n",
       "  </thead>\n",
       "  <tbody>\n",
       "    <tr>\n",
       "      <th>0</th>\n",
       "      <td>101525</td>\n",
       "      <td>669</td>\n",
       "      <td>B</td>\n",
       "      <td>1</td>\n",
       "      <td>0010000.1</td>\n",
       "      <td>0030</td>\n",
       "      <td>0</td>\n",
       "    </tr>\n",
       "    <tr>\n",
       "      <th>1</th>\n",
       "      <td>101833</td>\n",
       "      <td>764</td>\n",
       "      <td>5</td>\n",
       "      <td>1</td>\n",
       "      <td>0008000.0</td>\n",
       "      <td>0030</td>\n",
       "      <td>000003200</td>\n",
       "    </tr>\n",
       "    <tr>\n",
       "      <th>2</th>\n",
       "      <td>101496</td>\n",
       "      <td>662</td>\n",
       "      <td>1</td>\n",
       "      <td>0</td>\n",
       "      <td>0050000.0</td>\n",
       "      <td>0030</td>\n",
       "      <td>0</td>\n",
       "    </tr>\n",
       "    <tr>\n",
       "      <th>3</th>\n",
       "      <td>101495</td>\n",
       "      <td>661</td>\n",
       "      <td>1</td>\n",
       "      <td>0</td>\n",
       "      <td>0025000.0</td>\n",
       "      <td>0030</td>\n",
       "      <td>0</td>\n",
       "    </tr>\n",
       "    <tr>\n",
       "      <th>4</th>\n",
       "      <td>101522</td>\n",
       "      <td>669</td>\n",
       "      <td>8</td>\n",
       "      <td>1</td>\n",
       "      <td>0010000.1</td>\n",
       "      <td>0030</td>\n",
       "      <td>0</td>\n",
       "    </tr>\n",
       "  </tbody>\n",
       "</table>\n",
       "</div>"
      ],
      "text/plain": [
       "   id_tanque  id_equipo tanque producto  capacidad log_interval nivel_alarma\n",
       "0     101525        669      B        1  0010000.1         0030            0\n",
       "1     101833        764      5        1  0008000.0         0030    000003200\n",
       "2     101496        662      1        0  0050000.0         0030            0\n",
       "3     101495        661      1        0  0025000.0         0030            0\n",
       "4     101522        669      8        1  0010000.1         0030            0"
      ]
     },
     "execution_count": 14,
     "metadata": {},
     "output_type": "execute_result"
    }
   ],
   "source": [
    "print(f'Dimensión del dataset: {df_tanques.shape}\\n')\n",
    "print(f'{df_tanques.info()}\\n')\n",
    "df_tanques. head()"
   ]
  },
  {
   "cell_type": "code",
   "execution_count": 15,
   "metadata": {},
   "outputs": [
    {
     "name": "stdout",
     "output_type": "stream",
     "text": [
      "id_tanque: 1561\n",
      "id_equipo: 638\n",
      "tanque: 18\n",
      "producto: 10\n",
      "capacidad: 158\n",
      "log_interval: 18\n",
      "nivel_alarma: 102\n"
     ]
    }
   ],
   "source": [
    "for i in df_tanques.columns:\n",
    "    print(f'{i}: {df_tanques[i].nunique()}')"
   ]
  },
  {
   "cell_type": "markdown",
   "metadata": {},
   "source": [
    "### Dataset de usuarios:\n",
    "\n",
    "Contiene información de los usuarios de las bombas de combustible.\n",
    "\n",
    "Descripción de las columnas:\n",
    "- 'id_usuario_fuelsentry': ID de registro del usuario\n",
    "- 'id_equipo':  ID del dispositivo IoT\n",
    "- 'usuario_fuelsentry': código del usuario de la bomba\n",
    "- 'departamento': \n",
    "- 'codigo': \n",
    "- 'totalizador': litros totales suministrados por el usuario de la bomba\n",
    "- 'cargas_totales': número total de cargas sumnistradas por el usuario"
   ]
  },
  {
   "cell_type": "code",
   "execution_count": 16,
   "metadata": {},
   "outputs": [
    {
     "name": "stdout",
     "output_type": "stream",
     "text": [
      "Dimensión del dataset: (13623, 7)\n",
      "\n",
      "<class 'pandas.core.frame.DataFrame'>\n",
      "RangeIndex: 13623 entries, 0 to 13622\n",
      "Data columns (total 7 columns):\n",
      " #   Column                 Non-Null Count  Dtype \n",
      "---  ------                 --------------  ----- \n",
      " 0   id_usuario_fuelsentry  13623 non-null  int64 \n",
      " 1   id_equipo              13623 non-null  int64 \n",
      " 2   usuario_fuelsentry     13623 non-null  object\n",
      " 3   departamento           13623 non-null  object\n",
      " 4   codigo                 13623 non-null  object\n",
      " 5   totalizador            13623 non-null  object\n",
      " 6   cargas_totales         13623 non-null  object\n",
      "dtypes: int64(2), object(5)\n",
      "memory usage: 745.1+ KB\n",
      "None\n",
      "\n"
     ]
    },
    {
     "data": {
      "text/html": [
       "<div>\n",
       "<style scoped>\n",
       "    .dataframe tbody tr th:only-of-type {\n",
       "        vertical-align: middle;\n",
       "    }\n",
       "\n",
       "    .dataframe tbody tr th {\n",
       "        vertical-align: top;\n",
       "    }\n",
       "\n",
       "    .dataframe thead th {\n",
       "        text-align: right;\n",
       "    }\n",
       "</style>\n",
       "<table border=\"1\" class=\"dataframe\">\n",
       "  <thead>\n",
       "    <tr style=\"text-align: right;\">\n",
       "      <th></th>\n",
       "      <th>id_usuario_fuelsentry</th>\n",
       "      <th>id_equipo</th>\n",
       "      <th>usuario_fuelsentry</th>\n",
       "      <th>departamento</th>\n",
       "      <th>codigo</th>\n",
       "      <th>totalizador</th>\n",
       "      <th>cargas_totales</th>\n",
       "    </tr>\n",
       "  </thead>\n",
       "  <tbody>\n",
       "    <tr>\n",
       "      <th>0</th>\n",
       "      <td>2</td>\n",
       "      <td>333333</td>\n",
       "      <td>0001</td>\n",
       "      <td>0000</td>\n",
       "      <td>0000</td>\n",
       "      <td>00323.152</td>\n",
       "      <td>001</td>\n",
       "    </tr>\n",
       "    <tr>\n",
       "      <th>1</th>\n",
       "      <td>3</td>\n",
       "      <td>333333</td>\n",
       "      <td>1315</td>\n",
       "      <td>0001</td>\n",
       "      <td>2012</td>\n",
       "      <td>01655.590</td>\n",
       "      <td>009</td>\n",
       "    </tr>\n",
       "    <tr>\n",
       "      <th>2</th>\n",
       "      <td>4</td>\n",
       "      <td>333333</td>\n",
       "      <td>1312</td>\n",
       "      <td>0001</td>\n",
       "      <td>4468</td>\n",
       "      <td>01433.429</td>\n",
       "      <td>006</td>\n",
       "    </tr>\n",
       "    <tr>\n",
       "      <th>3</th>\n",
       "      <td>5</td>\n",
       "      <td>333333</td>\n",
       "      <td>1298</td>\n",
       "      <td>0001</td>\n",
       "      <td>2609</td>\n",
       "      <td>00412.834</td>\n",
       "      <td>002</td>\n",
       "    </tr>\n",
       "    <tr>\n",
       "      <th>4</th>\n",
       "      <td>6</td>\n",
       "      <td>333333</td>\n",
       "      <td>0818</td>\n",
       "      <td>0001</td>\n",
       "      <td>1978</td>\n",
       "      <td>00713.023</td>\n",
       "      <td>003</td>\n",
       "    </tr>\n",
       "  </tbody>\n",
       "</table>\n",
       "</div>"
      ],
      "text/plain": [
       "   id_usuario_fuelsentry  id_equipo usuario_fuelsentry departamento codigo  \\\n",
       "0                      2     333333               0001         0000   0000   \n",
       "1                      3     333333               1315         0001   2012   \n",
       "2                      4     333333               1312         0001   4468   \n",
       "3                      5     333333               1298         0001   2609   \n",
       "4                      6     333333               0818         0001   1978   \n",
       "\n",
       "  totalizador cargas_totales  \n",
       "0   00323.152            001  \n",
       "1   01655.590            009  \n",
       "2   01433.429            006  \n",
       "3   00412.834            002  \n",
       "4   00713.023            003  "
      ]
     },
     "execution_count": 16,
     "metadata": {},
     "output_type": "execute_result"
    }
   ],
   "source": [
    "print(f'Dimensión del dataset: {df_usuarios.shape}\\n')\n",
    "print(f'{df_usuarios.info()}\\n')\n",
    "df_usuarios. head()"
   ]
  },
  {
   "cell_type": "code",
   "execution_count": 17,
   "metadata": {},
   "outputs": [
    {
     "name": "stdout",
     "output_type": "stream",
     "text": [
      "id_usuario_fuelsentry: 13623\n",
      "id_equipo: 509\n",
      "usuario_fuelsentry: 3527\n",
      "departamento: 64\n",
      "codigo: 594\n",
      "totalizador: 4523\n",
      "cargas_totales: 549\n"
     ]
    }
   ],
   "source": [
    "for i in df_usuarios.columns:\n",
    "    print(f'{i}: {df_usuarios[i].nunique()}')"
   ]
  },
  {
   "cell_type": "markdown",
   "metadata": {},
   "source": [
    "## Dataset de Vehiculos\n",
    "\n",
    "Contiene informacion sobre los vehiculos \n",
    "\n",
    "Descripcion de las columnas:\n",
    "- **id_vehiculo:** identificador unico\n",
    "- **id_equipo:** el vehiculo esta asociado a un equipo, poede decirse que esta asociado a una estacion de carga\n",
    "- **vehiculo:** corresponde a una identificacion local del vehiculo por parte del equipo.\n",
    "- **departamento:** agrupacion por departamento. campo propio del cliente.\n",
    "- **limite:**\n",
    "- **odometro_inicio:**\n",
    "- **odometro_fin:**\n",
    "- **cargas_maximas_dia:**\n",
    "- **autorizacion:** [campo en desuso]\n",
    "- **cargas_hoy:** [campo en desuso]\n",
    "- **cargas_hasta_hoy:** [campo en desuso]\n",
    "- **ultima_fecha:** [campo en desuso]\n"
   ]
  },
  {
   "cell_type": "code",
   "execution_count": 18,
   "metadata": {},
   "outputs": [
    {
     "name": "stdout",
     "output_type": "stream",
     "text": [
      "Dimensión del dataset: (50627, 13)\n",
      "\n",
      "<class 'pandas.core.frame.DataFrame'>\n",
      "RangeIndex: 50627 entries, 0 to 50626\n",
      "Data columns (total 13 columns):\n",
      " #   Column            Non-Null Count  Dtype \n",
      "---  ------            --------------  ----- \n",
      " 0   id_vehiculo       50627 non-null  int64 \n",
      " 1   id_equipo         50627 non-null  int64 \n",
      " 2   vehiculo          50627 non-null  object\n",
      " 3   departamento      50627 non-null  object\n",
      " 4   limite            50627 non-null  object\n",
      " 5   odometro_inicio   50627 non-null  object\n",
      " 6   odometro_fin      50627 non-null  object\n",
      " 7   cargas_max_dia    50627 non-null  object\n",
      " 8   autorizacion      50627 non-null  object\n",
      " 9   cantidad_total    50627 non-null  object\n",
      " 10  cargas_hoy        50627 non-null  object\n",
      " 11  cargas_hasta_hoy  50627 non-null  object\n",
      " 12  ultima_fecha      50627 non-null  object\n",
      "dtypes: int64(2), object(11)\n",
      "memory usage: 5.0+ MB\n",
      "None\n",
      "\n"
     ]
    },
    {
     "data": {
      "text/html": [
       "<div>\n",
       "<style scoped>\n",
       "    .dataframe tbody tr th:only-of-type {\n",
       "        vertical-align: middle;\n",
       "    }\n",
       "\n",
       "    .dataframe tbody tr th {\n",
       "        vertical-align: top;\n",
       "    }\n",
       "\n",
       "    .dataframe thead th {\n",
       "        text-align: right;\n",
       "    }\n",
       "</style>\n",
       "<table border=\"1\" class=\"dataframe\">\n",
       "  <thead>\n",
       "    <tr style=\"text-align: right;\">\n",
       "      <th></th>\n",
       "      <th>id_vehiculo</th>\n",
       "      <th>id_equipo</th>\n",
       "      <th>vehiculo</th>\n",
       "      <th>departamento</th>\n",
       "      <th>limite</th>\n",
       "      <th>odometro_inicio</th>\n",
       "      <th>odometro_fin</th>\n",
       "      <th>cargas_max_dia</th>\n",
       "      <th>autorizacion</th>\n",
       "      <th>cantidad_total</th>\n",
       "      <th>cargas_hoy</th>\n",
       "      <th>cargas_hasta_hoy</th>\n",
       "      <th>ultima_fecha</th>\n",
       "    </tr>\n",
       "  </thead>\n",
       "  <tbody>\n",
       "    <tr>\n",
       "      <th>0</th>\n",
       "      <td>2</td>\n",
       "      <td>333333</td>\n",
       "      <td>MDAwMDAx</td>\n",
       "      <td>0001</td>\n",
       "      <td>9</td>\n",
       "      <td>193958</td>\n",
       "      <td>193958</td>\n",
       "      <td>99</td>\n",
       "      <td>0</td>\n",
       "      <td>00000.000</td>\n",
       "      <td>01</td>\n",
       "      <td>000</td>\n",
       "      <td>2018-12-20</td>\n",
       "    </tr>\n",
       "    <tr>\n",
       "      <th>1</th>\n",
       "      <td>3</td>\n",
       "      <td>333333</td>\n",
       "      <td>MDAwMjM5</td>\n",
       "      <td>0001</td>\n",
       "      <td>9</td>\n",
       "      <td>079345</td>\n",
       "      <td>079345</td>\n",
       "      <td>99</td>\n",
       "      <td>0</td>\n",
       "      <td>00000.000</td>\n",
       "      <td>02</td>\n",
       "      <td>000</td>\n",
       "      <td>2018-12-20</td>\n",
       "    </tr>\n",
       "    <tr>\n",
       "      <th>2</th>\n",
       "      <td>4</td>\n",
       "      <td>333333</td>\n",
       "      <td>MDAwMjcw</td>\n",
       "      <td>0001</td>\n",
       "      <td>9</td>\n",
       "      <td>842409</td>\n",
       "      <td>842409</td>\n",
       "      <td>99</td>\n",
       "      <td>0</td>\n",
       "      <td>00000.000</td>\n",
       "      <td>01</td>\n",
       "      <td>000</td>\n",
       "      <td>2018-12-20</td>\n",
       "    </tr>\n",
       "    <tr>\n",
       "      <th>3</th>\n",
       "      <td>5</td>\n",
       "      <td>333333</td>\n",
       "      <td>MDAwMjUy</td>\n",
       "      <td>0001</td>\n",
       "      <td>9</td>\n",
       "      <td>287596</td>\n",
       "      <td>287596</td>\n",
       "      <td>99</td>\n",
       "      <td>0</td>\n",
       "      <td>00000.000</td>\n",
       "      <td>02</td>\n",
       "      <td>000</td>\n",
       "      <td>2018-12-20</td>\n",
       "    </tr>\n",
       "    <tr>\n",
       "      <th>4</th>\n",
       "      <td>6</td>\n",
       "      <td>333333</td>\n",
       "      <td>MDAwMjM1</td>\n",
       "      <td>0001</td>\n",
       "      <td>9</td>\n",
       "      <td>235878</td>\n",
       "      <td>235878</td>\n",
       "      <td>99</td>\n",
       "      <td>0</td>\n",
       "      <td>00000.000</td>\n",
       "      <td>01</td>\n",
       "      <td>000</td>\n",
       "      <td>2018-12-20</td>\n",
       "    </tr>\n",
       "  </tbody>\n",
       "</table>\n",
       "</div>"
      ],
      "text/plain": [
       "   id_vehiculo  id_equipo  vehiculo departamento limite odometro_inicio  \\\n",
       "0            2     333333  MDAwMDAx         0001      9          193958   \n",
       "1            3     333333  MDAwMjM5         0001      9          079345   \n",
       "2            4     333333  MDAwMjcw         0001      9          842409   \n",
       "3            5     333333  MDAwMjUy         0001      9          287596   \n",
       "4            6     333333  MDAwMjM1         0001      9          235878   \n",
       "\n",
       "  odometro_fin cargas_max_dia autorizacion cantidad_total cargas_hoy  \\\n",
       "0       193958             99            0      00000.000         01   \n",
       "1       079345             99            0      00000.000         02   \n",
       "2       842409             99            0      00000.000         01   \n",
       "3       287596             99            0      00000.000         02   \n",
       "4       235878             99            0      00000.000         01   \n",
       "\n",
       "  cargas_hasta_hoy ultima_fecha  \n",
       "0              000   2018-12-20  \n",
       "1              000   2018-12-20  \n",
       "2              000   2018-12-20  \n",
       "3              000   2018-12-20  \n",
       "4              000   2018-12-20  "
      ]
     },
     "execution_count": 18,
     "metadata": {},
     "output_type": "execute_result"
    }
   ],
   "source": [
    "print(f'Dimensión del dataset: {df_vehiculos.shape}\\n')\n",
    "print(f'{df_vehiculos.info()}\\n')\n",
    "df_vehiculos.head()"
   ]
  },
  {
   "cell_type": "markdown",
   "metadata": {},
   "source": [
    "## Datos públicos:\n",
    "Bioetanol: producción y ventas (total país)\n",
    "- Producción y ventas de bioetanol por mes en base a maíz y caña de azúcar (en metros cúbicos).\n",
    "- Frecuencia de actualización: Mensualmente\n",
    "- Último cambio: 15 de mayo de 2018"
   ]
  },
  {
   "cell_type": "code",
   "execution_count": 19,
   "metadata": {},
   "outputs": [
    {
     "name": "stdout",
     "output_type": "stream",
     "text": [
      "Dimensión del dataset (filas, columnas): (101, 8)\n",
      "\n",
      "<class 'pandas.core.frame.DataFrame'>\n",
      "RangeIndex: 101 entries, 0 to 100\n",
      "Data columns (total 8 columns):\n",
      " #   Column                           Non-Null Count  Dtype  \n",
      "---  ------                           --------------  -----  \n",
      " 0   mes                              101 non-null    object \n",
      " 1   unidades                         101 non-null    object \n",
      " 2   produccion_total                 101 non-null    float64\n",
      " 3   ventas_totales                   101 non-null    float64\n",
      " 4   produccion_base_maiz             101 non-null    float64\n",
      " 5   ventas_bioetanol_maiz            101 non-null    float64\n",
      " 6   produccion_base_cana_de_azucar   101 non-null    float64\n",
      " 7   ventas_bioetanol_cana_de_azucar  101 non-null    float64\n",
      "dtypes: float64(6), object(2)\n",
      "memory usage: 6.4+ KB\n",
      "None\n",
      "\n"
     ]
    },
    {
     "data": {
      "text/html": [
       "<div>\n",
       "<style scoped>\n",
       "    .dataframe tbody tr th:only-of-type {\n",
       "        vertical-align: middle;\n",
       "    }\n",
       "\n",
       "    .dataframe tbody tr th {\n",
       "        vertical-align: top;\n",
       "    }\n",
       "\n",
       "    .dataframe thead th {\n",
       "        text-align: right;\n",
       "    }\n",
       "</style>\n",
       "<table border=\"1\" class=\"dataframe\">\n",
       "  <thead>\n",
       "    <tr style=\"text-align: right;\">\n",
       "      <th></th>\n",
       "      <th>mes</th>\n",
       "      <th>unidades</th>\n",
       "      <th>produccion_total</th>\n",
       "      <th>ventas_totales</th>\n",
       "      <th>produccion_base_maiz</th>\n",
       "      <th>ventas_bioetanol_maiz</th>\n",
       "      <th>produccion_base_cana_de_azucar</th>\n",
       "      <th>ventas_bioetanol_cana_de_azucar</th>\n",
       "    </tr>\n",
       "  </thead>\n",
       "  <tbody>\n",
       "    <tr>\n",
       "      <th>0</th>\n",
       "      <td>11/1/2009</td>\n",
       "      <td>metros cúbicos</td>\n",
       "      <td>858.0</td>\n",
       "      <td>0.0</td>\n",
       "      <td>0.0</td>\n",
       "      <td>0.0</td>\n",
       "      <td>858.0</td>\n",
       "      <td>0.0</td>\n",
       "    </tr>\n",
       "    <tr>\n",
       "      <th>1</th>\n",
       "      <td>12/1/2009</td>\n",
       "      <td>metros cúbicos</td>\n",
       "      <td>22439.0</td>\n",
       "      <td>2664.0</td>\n",
       "      <td>0.0</td>\n",
       "      <td>0.0</td>\n",
       "      <td>22439.0</td>\n",
       "      <td>2664.0</td>\n",
       "    </tr>\n",
       "    <tr>\n",
       "      <th>2</th>\n",
       "      <td>1/1/2010</td>\n",
       "      <td>metros cúbicos</td>\n",
       "      <td>771.0</td>\n",
       "      <td>6188.0</td>\n",
       "      <td>0.0</td>\n",
       "      <td>0.0</td>\n",
       "      <td>771.0</td>\n",
       "      <td>6188.0</td>\n",
       "    </tr>\n",
       "    <tr>\n",
       "      <th>3</th>\n",
       "      <td>2/1/2010</td>\n",
       "      <td>metros cúbicos</td>\n",
       "      <td>4791.0</td>\n",
       "      <td>6718.0</td>\n",
       "      <td>0.0</td>\n",
       "      <td>0.0</td>\n",
       "      <td>4791.0</td>\n",
       "      <td>6718.0</td>\n",
       "    </tr>\n",
       "    <tr>\n",
       "      <th>4</th>\n",
       "      <td>3/1/2010</td>\n",
       "      <td>metros cúbicos</td>\n",
       "      <td>4445.0</td>\n",
       "      <td>9585.0</td>\n",
       "      <td>0.0</td>\n",
       "      <td>0.0</td>\n",
       "      <td>4445.0</td>\n",
       "      <td>9585.0</td>\n",
       "    </tr>\n",
       "  </tbody>\n",
       "</table>\n",
       "</div>"
      ],
      "text/plain": [
       "         mes        unidades  produccion_total  ventas_totales  \\\n",
       "0  11/1/2009  metros cúbicos             858.0             0.0   \n",
       "1  12/1/2009  metros cúbicos           22439.0          2664.0   \n",
       "2   1/1/2010  metros cúbicos             771.0          6188.0   \n",
       "3   2/1/2010  metros cúbicos            4791.0          6718.0   \n",
       "4   3/1/2010  metros cúbicos            4445.0          9585.0   \n",
       "\n",
       "   produccion_base_maiz  ventas_bioetanol_maiz  \\\n",
       "0                   0.0                    0.0   \n",
       "1                   0.0                    0.0   \n",
       "2                   0.0                    0.0   \n",
       "3                   0.0                    0.0   \n",
       "4                   0.0                    0.0   \n",
       "\n",
       "   produccion_base_cana_de_azucar  ventas_bioetanol_cana_de_azucar  \n",
       "0                           858.0                              0.0  \n",
       "1                         22439.0                           2664.0  \n",
       "2                           771.0                           6188.0  \n",
       "3                          4791.0                           6718.0  \n",
       "4                          4445.0                           9585.0  "
      ]
     },
     "execution_count": 19,
     "metadata": {},
     "output_type": "execute_result"
    }
   ],
   "source": [
    "url_bioetanol_nacional = 'http://datos.minem.gob.ar/dataset/5ce77ad1-c729-42cd-a8b5-2407de005e5b/resource/fd142c49-fa73-4e21-be1f-a10d6d67d05d/download/bioetanol-serie-produccion-y-ventas-total-pais.csv'\n",
    "bioetanol_nacional=pd.read_csv(url_bioetanol_nacional)\n",
    "print(f'Dimensión del dataset (filas, columnas): {bioetanol_nacional.shape}\\n')\n",
    "print(f'{bioetanol_nacional.info()}\\n')\n",
    "bioetanol_nacional.head()"
   ]
  },
  {
   "cell_type": "code",
   "execution_count": 20,
   "metadata": {},
   "outputs": [],
   "source": [
    "bioetanol_nacional['mes'] = pd.to_datetime(bioetanol_nacional['mes'])"
   ]
  },
  {
   "cell_type": "code",
   "execution_count": 21,
   "metadata": {},
   "outputs": [
    {
     "data": {
      "text/html": [
       "<div>\n",
       "<style scoped>\n",
       "    .dataframe tbody tr th:only-of-type {\n",
       "        vertical-align: middle;\n",
       "    }\n",
       "\n",
       "    .dataframe tbody tr th {\n",
       "        vertical-align: top;\n",
       "    }\n",
       "\n",
       "    .dataframe thead th {\n",
       "        text-align: right;\n",
       "    }\n",
       "</style>\n",
       "<table border=\"1\" class=\"dataframe\">\n",
       "  <thead>\n",
       "    <tr style=\"text-align: right;\">\n",
       "      <th></th>\n",
       "      <th>mes</th>\n",
       "      <th>unidades</th>\n",
       "      <th>produccion_total</th>\n",
       "      <th>ventas_totales</th>\n",
       "      <th>produccion_base_maiz</th>\n",
       "      <th>ventas_bioetanol_maiz</th>\n",
       "      <th>produccion_base_cana_de_azucar</th>\n",
       "      <th>ventas_bioetanol_cana_de_azucar</th>\n",
       "    </tr>\n",
       "  </thead>\n",
       "  <tbody>\n",
       "    <tr>\n",
       "      <th>0</th>\n",
       "      <td>2009-11-01</td>\n",
       "      <td>metros cúbicos</td>\n",
       "      <td>858.0</td>\n",
       "      <td>0.0</td>\n",
       "      <td>0.0</td>\n",
       "      <td>0.0</td>\n",
       "      <td>858.0</td>\n",
       "      <td>0.0</td>\n",
       "    </tr>\n",
       "    <tr>\n",
       "      <th>1</th>\n",
       "      <td>2009-12-01</td>\n",
       "      <td>metros cúbicos</td>\n",
       "      <td>22439.0</td>\n",
       "      <td>2664.0</td>\n",
       "      <td>0.0</td>\n",
       "      <td>0.0</td>\n",
       "      <td>22439.0</td>\n",
       "      <td>2664.0</td>\n",
       "    </tr>\n",
       "    <tr>\n",
       "      <th>2</th>\n",
       "      <td>2010-01-01</td>\n",
       "      <td>metros cúbicos</td>\n",
       "      <td>771.0</td>\n",
       "      <td>6188.0</td>\n",
       "      <td>0.0</td>\n",
       "      <td>0.0</td>\n",
       "      <td>771.0</td>\n",
       "      <td>6188.0</td>\n",
       "    </tr>\n",
       "    <tr>\n",
       "      <th>3</th>\n",
       "      <td>2010-02-01</td>\n",
       "      <td>metros cúbicos</td>\n",
       "      <td>4791.0</td>\n",
       "      <td>6718.0</td>\n",
       "      <td>0.0</td>\n",
       "      <td>0.0</td>\n",
       "      <td>4791.0</td>\n",
       "      <td>6718.0</td>\n",
       "    </tr>\n",
       "    <tr>\n",
       "      <th>4</th>\n",
       "      <td>2010-03-01</td>\n",
       "      <td>metros cúbicos</td>\n",
       "      <td>4445.0</td>\n",
       "      <td>9585.0</td>\n",
       "      <td>0.0</td>\n",
       "      <td>0.0</td>\n",
       "      <td>4445.0</td>\n",
       "      <td>9585.0</td>\n",
       "    </tr>\n",
       "  </tbody>\n",
       "</table>\n",
       "</div>"
      ],
      "text/plain": [
       "         mes        unidades  produccion_total  ventas_totales  \\\n",
       "0 2009-11-01  metros cúbicos             858.0             0.0   \n",
       "1 2009-12-01  metros cúbicos           22439.0          2664.0   \n",
       "2 2010-01-01  metros cúbicos             771.0          6188.0   \n",
       "3 2010-02-01  metros cúbicos            4791.0          6718.0   \n",
       "4 2010-03-01  metros cúbicos            4445.0          9585.0   \n",
       "\n",
       "   produccion_base_maiz  ventas_bioetanol_maiz  \\\n",
       "0                   0.0                    0.0   \n",
       "1                   0.0                    0.0   \n",
       "2                   0.0                    0.0   \n",
       "3                   0.0                    0.0   \n",
       "4                   0.0                    0.0   \n",
       "\n",
       "   produccion_base_cana_de_azucar  ventas_bioetanol_cana_de_azucar  \n",
       "0                           858.0                              0.0  \n",
       "1                         22439.0                           2664.0  \n",
       "2                           771.0                           6188.0  \n",
       "3                          4791.0                           6718.0  \n",
       "4                          4445.0                           9585.0  "
      ]
     },
     "execution_count": 21,
     "metadata": {},
     "output_type": "execute_result"
    }
   ],
   "source": [
    "bioetanol_nacional.head()"
   ]
  },
  {
   "cell_type": "markdown",
   "metadata": {},
   "source": [
    "Biodiesel: producción, ventas y exportaciones, total país\n",
    "- Producción, ventas y exportaciones de biodiesel por mes en toneladas.\n",
    "- Frecuencia de actualización: Mensualmente\n",
    "- Último cambio: 15 de mayo de 2018"
   ]
  },
  {
   "cell_type": "code",
   "execution_count": 22,
   "metadata": {},
   "outputs": [
    {
     "data": {
      "text/html": [
       "<div>\n",
       "<style scoped>\n",
       "    .dataframe tbody tr th:only-of-type {\n",
       "        vertical-align: middle;\n",
       "    }\n",
       "\n",
       "    .dataframe tbody tr th {\n",
       "        vertical-align: top;\n",
       "    }\n",
       "\n",
       "    .dataframe thead th {\n",
       "        text-align: right;\n",
       "    }\n",
       "</style>\n",
       "<table border=\"1\" class=\"dataframe\">\n",
       "  <thead>\n",
       "    <tr style=\"text-align: right;\">\n",
       "      <th></th>\n",
       "      <th>mes</th>\n",
       "      <th>unidades</th>\n",
       "      <th>produccion_total</th>\n",
       "      <th>ventas_al_corte</th>\n",
       "      <th>otras_ventas_al_mercado_interno</th>\n",
       "      <th>exportaciones</th>\n",
       "    </tr>\n",
       "  </thead>\n",
       "  <tbody>\n",
       "    <tr>\n",
       "      <th>0</th>\n",
       "      <td>1/1/2008</td>\n",
       "      <td>ton</td>\n",
       "      <td>47251.00</td>\n",
       "      <td>0.00</td>\n",
       "      <td>1.00</td>\n",
       "      <td>43599.00</td>\n",
       "    </tr>\n",
       "    <tr>\n",
       "      <th>1</th>\n",
       "      <td>2/1/2008</td>\n",
       "      <td>ton</td>\n",
       "      <td>38747.00</td>\n",
       "      <td>0.00</td>\n",
       "      <td>0.00</td>\n",
       "      <td>25147.00</td>\n",
       "    </tr>\n",
       "    <tr>\n",
       "      <th>2</th>\n",
       "      <td>3/1/2008</td>\n",
       "      <td>ton</td>\n",
       "      <td>42095.00</td>\n",
       "      <td>0.00</td>\n",
       "      <td>264.00</td>\n",
       "      <td>52150.00</td>\n",
       "    </tr>\n",
       "    <tr>\n",
       "      <th>3</th>\n",
       "      <td>4/1/2008</td>\n",
       "      <td>ton</td>\n",
       "      <td>43881.00</td>\n",
       "      <td>0.00</td>\n",
       "      <td>0.00</td>\n",
       "      <td>55907.00</td>\n",
       "    </tr>\n",
       "    <tr>\n",
       "      <th>4</th>\n",
       "      <td>5/1/2008</td>\n",
       "      <td>ton</td>\n",
       "      <td>51679.00</td>\n",
       "      <td>0.00</td>\n",
       "      <td>0.00</td>\n",
       "      <td>42214.00</td>\n",
       "    </tr>\n",
       "    <tr>\n",
       "      <th>...</th>\n",
       "      <td>...</td>\n",
       "      <td>...</td>\n",
       "      <td>...</td>\n",
       "      <td>...</td>\n",
       "      <td>...</td>\n",
       "      <td>...</td>\n",
       "    </tr>\n",
       "    <tr>\n",
       "      <th>118</th>\n",
       "      <td>11/1/2017</td>\n",
       "      <td>ton</td>\n",
       "      <td>302618.48</td>\n",
       "      <td>102110.27</td>\n",
       "      <td>57.56</td>\n",
       "      <td>185000.00</td>\n",
       "    </tr>\n",
       "    <tr>\n",
       "      <th>119</th>\n",
       "      <td>12/1/2017</td>\n",
       "      <td>ton</td>\n",
       "      <td>265727.76</td>\n",
       "      <td>105923.82</td>\n",
       "      <td>28.12</td>\n",
       "      <td>170790.77</td>\n",
       "    </tr>\n",
       "    <tr>\n",
       "      <th>120</th>\n",
       "      <td>1/1/2018</td>\n",
       "      <td>ton</td>\n",
       "      <td>244128.16</td>\n",
       "      <td>82481.54</td>\n",
       "      <td>59.76</td>\n",
       "      <td>213909.23</td>\n",
       "    </tr>\n",
       "    <tr>\n",
       "      <th>121</th>\n",
       "      <td>2/1/2018</td>\n",
       "      <td>ton</td>\n",
       "      <td>157007.22</td>\n",
       "      <td>83808.80</td>\n",
       "      <td>29.84</td>\n",
       "      <td>40000.00</td>\n",
       "    </tr>\n",
       "    <tr>\n",
       "      <th>122</th>\n",
       "      <td>3/1/2018</td>\n",
       "      <td>ton</td>\n",
       "      <td>177938.88</td>\n",
       "      <td>93996.75</td>\n",
       "      <td>30.34</td>\n",
       "      <td>65200.00</td>\n",
       "    </tr>\n",
       "  </tbody>\n",
       "</table>\n",
       "<p>123 rows × 6 columns</p>\n",
       "</div>"
      ],
      "text/plain": [
       "           mes unidades  produccion_total  ventas_al_corte  \\\n",
       "0     1/1/2008      ton          47251.00             0.00   \n",
       "1     2/1/2008      ton          38747.00             0.00   \n",
       "2     3/1/2008      ton          42095.00             0.00   \n",
       "3     4/1/2008      ton          43881.00             0.00   \n",
       "4     5/1/2008      ton          51679.00             0.00   \n",
       "..         ...      ...               ...              ...   \n",
       "118  11/1/2017      ton         302618.48        102110.27   \n",
       "119  12/1/2017      ton         265727.76        105923.82   \n",
       "120   1/1/2018      ton         244128.16         82481.54   \n",
       "121   2/1/2018      ton         157007.22         83808.80   \n",
       "122   3/1/2018      ton         177938.88         93996.75   \n",
       "\n",
       "     otras_ventas_al_mercado_interno  exportaciones  \n",
       "0                               1.00       43599.00  \n",
       "1                               0.00       25147.00  \n",
       "2                             264.00       52150.00  \n",
       "3                               0.00       55907.00  \n",
       "4                               0.00       42214.00  \n",
       "..                               ...            ...  \n",
       "118                            57.56      185000.00  \n",
       "119                            28.12      170790.77  \n",
       "120                            59.76      213909.23  \n",
       "121                            29.84       40000.00  \n",
       "122                            30.34       65200.00  \n",
       "\n",
       "[123 rows x 6 columns]"
      ]
     },
     "execution_count": 22,
     "metadata": {},
     "output_type": "execute_result"
    }
   ],
   "source": [
    "url_biodiesel_nacional = 'http://datos.minem.gob.ar/dataset/5ce77ad1-c729-42cd-a8b5-2407de005e5b/resource/4e04bc74-8625-412c-acc2-48412f2509b4/download/biodiesel-serie-produccion-ventas-y-expo.csv'\n",
    "# Leer CSV\n",
    "df_biodisel_nac =  pd.read_csv(url_biodiesel_nacional)\n",
    "df_biodisel_nac"
   ]
  },
  {
   "cell_type": "markdown",
   "metadata": {},
   "source": [
    "## Análisis a desarrollar:\n",
    "\n",
    "Indicaciones previas: \n",
    "- Para cada planteamiento (excepto el 1), realizar un análisis de los resultados obtenidos y justificar por qué empleó determinado cálculo.\n",
    "\n",
    "- Para los planteamientos donde utilices gráficos, responder: ¿Qué tipo de gráfico es el recomendado? ¿Por qué? Construya el gráfico y elabore una conclusión del mismo.\n",
    "\n",
    "Nota: Cuidar los aspectos relevantes de un gráfico (título, nombre de las variables para cada eje, escala de valores en los ejes, colores, fuente de los datos, leyenda, valores a resaltar, etc)"
   ]
  },
  {
   "cell_type": "markdown",
   "metadata": {},
   "source": [
    " ### 1- Seleccionar y crear una lista de 5 variables númericas. Comenta si son de tipo discreto o continuo, y por qué."
   ]
  },
  {
   "cell_type": "code",
   "execution_count": 23,
   "metadata": {},
   "outputs": [
    {
     "data": {
      "text/plain": [
       "array([1.0e-03, 8.6e-04, 0.0e+00, 9.7e-04, 1.0e+01])"
      ]
     },
     "execution_count": 23,
     "metadata": {},
     "output_type": "execute_result"
    }
   ],
   "source": [
    "# 1.- coheficiente de variacion de volumen.\n",
    "# `fs_asignacion_producto.coef_var_vol`\n",
    "# es una variable continua, si bien toma pocos valores \n",
    "# esta variable debe considerarse continua ya que corresponde\n",
    "# a una propiedad fisica\n",
    "df_productos.coef_var_vol.unique()"
   ]
  },
  {
   "cell_type": "code",
   "execution_count": 24,
   "metadata": {},
   "outputs": [
    {
     "data": {
      "text/plain": [
       "count    1.438000e+03\n",
       "mean     3.324024e+05\n",
       "std      7.261168e+05\n",
       "min      0.000000e+00\n",
       "25%      0.000000e+00\n",
       "50%      5.511900e+01\n",
       "75%      2.367395e+05\n",
       "max      3.981067e+06\n",
       "Name: totalizador, dtype: float64"
      ]
     },
     "execution_count": 24,
     "metadata": {},
     "output_type": "execute_result"
    }
   ],
   "source": [
    "# 2.- totalizador de bomba\n",
    "# `fs_bombas,totalizador`\n",
    "# esta variable es continua. corresponde al volumen de \n",
    "# combustible despachado por un surtidor. El combustible no se\n",
    "# despacha en cantidades discretas de volumen por eso debe \n",
    "# considerarse continua\n",
    "pd.to_numeric(df_bombas.totalizador).describe()"
   ]
  },
  {
   "cell_type": "code",
   "execution_count": 25,
   "metadata": {},
   "outputs": [
    {
     "data": {
      "text/plain": [
       "array([  30,   10,   60,    0,    1,   61, 2709,   20,   15,    5,  999,\n",
       "        273,   22,  352,   25,  438])"
      ]
     },
     "execution_count": 25,
     "metadata": {},
     "output_type": "execute_result"
    }
   ],
   "source": [
    "# 3.- intervalo entre logs de tanque.\n",
    "# `df_tanques.log_interval`\n",
    "# Variable de tiempo, osea que es continua\n",
    "pd.to_numeric(df_tanques.log_interval,errors='coerce').dropna().astype(int).unique()"
   ]
  },
  {
   "cell_type": "code",
   "execution_count": 26,
   "metadata": {},
   "outputs": [
    {
     "data": {
      "text/plain": [
       "12672      0\n",
       "297        0\n",
       "8263       0\n",
       "2235       0\n",
       "6254       0\n",
       "6781     212\n",
       "8870       0\n",
       "708        0\n",
       "11118      0\n",
       "8232       0\n",
       "Name: cargas_totales, dtype: int64"
      ]
     },
     "execution_count": 26,
     "metadata": {},
     "output_type": "execute_result"
    }
   ],
   "source": [
    "# 4.- cantidad de cargas totales de un usuario.\n",
    "# `df_usuarios.cargas_totles`\n",
    "# Es una variable discreta, un valor entero.\n",
    "df_usuarios.cargas_totales.astype(int).sample(10)"
   ]
  },
  {
   "cell_type": "code",
   "execution_count": 27,
   "metadata": {},
   "outputs": [
    {
     "data": {
      "text/plain": [
       "0       47251.00\n",
       "1       38747.00\n",
       "2       42095.00\n",
       "3       43881.00\n",
       "4       51679.00\n",
       "         ...    \n",
       "118    302618.48\n",
       "119    265727.76\n",
       "120    244128.16\n",
       "121    157007.22\n",
       "122    177938.88\n",
       "Name: produccion_total, Length: 123, dtype: float64"
      ]
     },
     "execution_count": 27,
     "metadata": {},
     "output_type": "execute_result"
    }
   ],
   "source": [
    "# 5.- produccion total de Biodiesel.\n",
    "# df_biodisel_nac.produccion_total\n",
    "# Variable continua. Representa el la cantidad de combustible \n",
    "# producida en el periodo\n",
    "df_biodisel_nac.produccion_total"
   ]
  },
  {
   "cell_type": "markdown",
   "metadata": {},
   "source": [
    "### 2- Determinar algunas medidas estadísticas para las variables seleccionadas."
   ]
  },
  {
   "cell_type": "markdown",
   "metadata": {},
   "source": [
    "#### 1.- Coheficiente de variacion de volumen"
   ]
  },
  {
   "cell_type": "code",
   "execution_count": 61,
   "metadata": {},
   "outputs": [
    {
     "name": "stdout",
     "output_type": "stream",
     "text": [
      "Valores: [1.0e-03 8.6e-04 0.0e+00 9.7e-04 1.0e+01]\n"
     ]
    },
    {
     "data": {
      "text/html": [
       "<div>\n",
       "<style scoped>\n",
       "    .dataframe tbody tr th:only-of-type {\n",
       "        vertical-align: middle;\n",
       "    }\n",
       "\n",
       "    .dataframe tbody tr th {\n",
       "        vertical-align: top;\n",
       "    }\n",
       "\n",
       "    .dataframe thead th {\n",
       "        text-align: right;\n",
       "    }\n",
       "</style>\n",
       "<table border=\"1\" class=\"dataframe\">\n",
       "  <thead>\n",
       "    <tr style=\"text-align: right;\">\n",
       "      <th></th>\n",
       "      <th>id_equipo</th>\n",
       "      <th>producto</th>\n",
       "      <th>nombre_producto</th>\n",
       "      <th>codigo</th>\n",
       "      <th>precio_litro</th>\n",
       "      <th>density</th>\n",
       "    </tr>\n",
       "    <tr>\n",
       "      <th>coef_var_vol</th>\n",
       "      <th></th>\n",
       "      <th></th>\n",
       "      <th></th>\n",
       "      <th></th>\n",
       "      <th></th>\n",
       "      <th></th>\n",
       "    </tr>\n",
       "  </thead>\n",
       "  <tbody>\n",
       "    <tr>\n",
       "      <th>0.00000</th>\n",
       "      <td>3</td>\n",
       "      <td>3</td>\n",
       "      <td>3</td>\n",
       "      <td>3</td>\n",
       "      <td>3</td>\n",
       "      <td>3</td>\n",
       "    </tr>\n",
       "    <tr>\n",
       "      <th>0.00086</th>\n",
       "      <td>1</td>\n",
       "      <td>1</td>\n",
       "      <td>1</td>\n",
       "      <td>1</td>\n",
       "      <td>1</td>\n",
       "      <td>1</td>\n",
       "    </tr>\n",
       "    <tr>\n",
       "      <th>0.00097</th>\n",
       "      <td>1</td>\n",
       "      <td>1</td>\n",
       "      <td>1</td>\n",
       "      <td>1</td>\n",
       "      <td>1</td>\n",
       "      <td>1</td>\n",
       "    </tr>\n",
       "    <tr>\n",
       "      <th>0.00100</th>\n",
       "      <td>2666</td>\n",
       "      <td>2666</td>\n",
       "      <td>2666</td>\n",
       "      <td>2521</td>\n",
       "      <td>2666</td>\n",
       "      <td>243</td>\n",
       "    </tr>\n",
       "    <tr>\n",
       "      <th>10.00000</th>\n",
       "      <td>1</td>\n",
       "      <td>1</td>\n",
       "      <td>1</td>\n",
       "      <td>0</td>\n",
       "      <td>1</td>\n",
       "      <td>1</td>\n",
       "    </tr>\n",
       "  </tbody>\n",
       "</table>\n",
       "</div>"
      ],
      "text/plain": [
       "              id_equipo  producto  nombre_producto  codigo  precio_litro  \\\n",
       "coef_var_vol                                                               \n",
       "0.00000               3         3                3       3             3   \n",
       "0.00086               1         1                1       1             1   \n",
       "0.00097               1         1                1       1             1   \n",
       "0.00100            2666      2666             2666    2521          2666   \n",
       "10.00000              1         1                1       0             1   \n",
       "\n",
       "              density  \n",
       "coef_var_vol           \n",
       "0.00000             3  \n",
       "0.00086             1  \n",
       "0.00097             1  \n",
       "0.00100           243  \n",
       "10.00000            1  "
      ]
     },
     "execution_count": 61,
     "metadata": {},
     "output_type": "execute_result"
    }
   ],
   "source": [
    "# coeficiente de variacion de volumen\n",
    "print(\"Valores: {}\".format(df_productos.coef_var_vol.unique()))\n",
    "df_productos.groupby('coef_var_vol').count()"
   ]
  },
  {
   "cell_type": "markdown",
   "metadata": {},
   "source": [
    "Vemos que la variable toma pocos valores. Por conocimiento del campo es conocido que el valor de esta variable lo entrega el productor, por lo tanto podemos decir que cada valor corresponde a un producto diferente.\n",
    "Por lo tanto el analisis mas util para esta variable sera:\n",
    " - Ver a que producto corresponde cada coeficiente ( servira luego para inferir el producto a partir de otros valores). Nota: en el item 5 se muestra porque esto no sera posible\n",
    " - Que cantidad de tanques con el mismo producto hay?\n",
    "\n",
    "Por otro lado podemos descartar el valor 10 porque no hay liquido conocido con ese coeficiente de dilatacion, y el valor 0 tambien puede descargarse como \"no valido\" ya que la dilatacion es una propiedad fisica"
   ]
  },
  {
   "cell_type": "code",
   "execution_count": 95,
   "metadata": {},
   "outputs": [
    {
     "name": "stdout",
     "output_type": "stream",
     "text": [
      "SOLO SE MUESTAN LOS VALORES MAS RELEVANTES\n"
     ]
    },
    {
     "data": {
      "text/html": [
       "<div>\n",
       "<style scoped>\n",
       "    .dataframe tbody tr th:only-of-type {\n",
       "        vertical-align: middle;\n",
       "    }\n",
       "\n",
       "    .dataframe tbody tr th {\n",
       "        vertical-align: top;\n",
       "    }\n",
       "\n",
       "    .dataframe thead th {\n",
       "        text-align: right;\n",
       "    }\n",
       "</style>\n",
       "<table border=\"1\" class=\"dataframe\">\n",
       "  <thead>\n",
       "    <tr style=\"text-align: right;\">\n",
       "      <th></th>\n",
       "      <th></th>\n",
       "      <th>id_tanque</th>\n",
       "      <th>porcentaje</th>\n",
       "    </tr>\n",
       "    <tr>\n",
       "      <th>nombre_producto</th>\n",
       "      <th>coef_var_vol</th>\n",
       "      <th></th>\n",
       "      <th></th>\n",
       "    </tr>\n",
       "  </thead>\n",
       "  <tbody>\n",
       "    <tr>\n",
       "      <th>DESCONOCIDO</th>\n",
       "      <th>0.00100</th>\n",
       "      <td>992</td>\n",
       "      <td>65.61</td>\n",
       "    </tr>\n",
       "    <tr>\n",
       "      <th>DIESEL</th>\n",
       "      <th>0.00100</th>\n",
       "      <td>423</td>\n",
       "      <td>27.98</td>\n",
       "    </tr>\n",
       "    <tr>\n",
       "      <th>NAFTA</th>\n",
       "      <th>0.00100</th>\n",
       "      <td>50</td>\n",
       "      <td>3.31</td>\n",
       "    </tr>\n",
       "    <tr>\n",
       "      <th>INFINIA T20</th>\n",
       "      <th>0.00100</th>\n",
       "      <td>11</td>\n",
       "      <td>0.73</td>\n",
       "    </tr>\n",
       "    <tr>\n",
       "      <th>BIO</th>\n",
       "      <th>0.00100</th>\n",
       "      <td>9</td>\n",
       "      <td>0.60</td>\n",
       "    </tr>\n",
       "    <tr>\n",
       "      <th>GENÉRICO</th>\n",
       "      <th>0.00097</th>\n",
       "      <td>6</td>\n",
       "      <td>0.40</td>\n",
       "    </tr>\n",
       "    <tr>\n",
       "      <th>ACEITE</th>\n",
       "      <th>0.00100</th>\n",
       "      <td>5</td>\n",
       "      <td>0.33</td>\n",
       "    </tr>\n",
       "    <tr>\n",
       "      <th>AVGAS 100</th>\n",
       "      <th>0.00100</th>\n",
       "      <td>2</td>\n",
       "      <td>0.13</td>\n",
       "    </tr>\n",
       "    <tr>\n",
       "      <th>FORMULA</th>\n",
       "      <th>0.00100</th>\n",
       "      <td>2</td>\n",
       "      <td>0.13</td>\n",
       "    </tr>\n",
       "    <tr>\n",
       "      <th>INFINIA</th>\n",
       "      <th>0.00100</th>\n",
       "      <td>1</td>\n",
       "      <td>0.07</td>\n",
       "    </tr>\n",
       "  </tbody>\n",
       "</table>\n",
       "</div>"
      ],
      "text/plain": [
       "                              id_tanque  porcentaje\n",
       "nombre_producto coef_var_vol                       \n",
       "DESCONOCIDO     0.00100             992       65.61\n",
       "DIESEL          0.00100             423       27.98\n",
       "NAFTA           0.00100              50        3.31\n",
       "INFINIA T20     0.00100              11        0.73\n",
       "BIO             0.00100               9        0.60\n",
       "GENÉRICO        0.00097               6        0.40\n",
       "ACEITE          0.00100               5        0.33\n",
       "AVGAS 100       0.00100               2        0.13\n",
       "FORMULA         0.00100               2        0.13\n",
       "INFINIA         0.00100               1        0.07"
      ]
     },
     "execution_count": 95,
     "metadata": {},
     "output_type": "execute_result"
    }
   ],
   "source": [
    "data = pd.merge(df_productos, df_tanques[['id_equipo','producto','id_tanque']], how='left', left_on=['id_equipo','producto'], right_on=['id_equipo','producto'])\n",
    "data = data[(data.coef_var_vol > 0) & (data.coef_var_vol < 10)]\n",
    "data.nombre_producto = data.nombre_producto.str.upper().apply(lambda n: 'DIESEL' if re.match(r'.*(DIESEL|GAS\\s{0,1}OIL|EURO|D500).*',n) else n)\n",
    "data.nombre_producto = data.nombre_producto.apply(lambda n: 'NAFTA' if re.match(r'.*(NAFTA|SUPER|ENERGY).*',n) else n)\n",
    "data.nombre_producto = data.nombre_producto.apply(lambda n: 'DESCONOCIDO' if re.match(r'.*(PRODUCT|N/A).*',n) else n)\n",
    "\n",
    "tank_por_prod = data[['nombre_producto','coef_var_vol','id_tanque']].groupby(['nombre_producto','coef_var_vol']).count().sort_values('id_tanque',ascending=False,)\n",
    "tank_por_prod['porcentaje'] = tank_por_prod.id_tanque.apply(lambda x: (100*x/tank_por_prod.id_tanque.sum()).round(2)) \n",
    "print(\"Solo se muestan los valores mas relevantes\".upper())\n",
    "tank_por_prod.head(10)"
   ]
  },
  {
   "cell_type": "markdown",
   "metadata": {},
   "source": [
    "De la tabla anterior vemos que no conocemos que producto contiene el 65% de los tanques, que solo ~28% de los tanques contienen Diesel."
   ]
  },
  {
   "cell_type": "markdown",
   "metadata": {},
   "source": [
    "#### 2.- Totalizador de bomba"
   ]
  },
  {
   "cell_type": "code",
   "execution_count": 30,
   "metadata": {},
   "outputs": [
    {
     "data": {
      "text/plain": [
       "count            1438\n",
       "unique            869\n",
       "top       0000000.000\n",
       "freq              465\n",
       "Name: totalizador, dtype: object"
      ]
     },
     "execution_count": 30,
     "metadata": {},
     "output_type": "execute_result"
    }
   ],
   "source": [
    "df_bombas.totalizador.describe()"
   ]
  },
  {
   "cell_type": "code",
   "execution_count": 96,
   "metadata": {},
   "outputs": [
    {
     "data": {
      "text/plain": [
       "<matplotlib.axes._subplots.AxesSubplot at 0x7f1b5208b550>"
      ]
     },
     "execution_count": 96,
     "metadata": {},
     "output_type": "execute_result"
    },
    {
     "data": {
      "image/png": "[encoded data removed]",
      "text/plain": [
       "<Figure size 1368x432 with 1 Axes>"
      ]
     },
     "metadata": {
      "needs_background": "light"
     },
     "output_type": "display_data"
    }
   ],
   "source": [
    "fig = plt.figure(figsize=(19,6))\n",
    "data = df_bombas.totalizador.astype(float)\n",
    "sns.distplot(data, kde=False)"
   ]
  },
  {
   "cell_type": "markdown",
   "metadata": {},
   "source": [
    "#### 3.- Intervalo entre logs de tanque"
   ]
  },
  {
   "cell_type": "code",
   "execution_count": 97,
   "metadata": {},
   "outputs": [
    {
     "data": {
      "text/plain": [
       "count    1560.000000\n",
       "mean       35.160256\n",
       "std        81.999562\n",
       "min         0.000000\n",
       "25%        30.000000\n",
       "50%        30.000000\n",
       "75%        30.000000\n",
       "max      2709.000000\n",
       "Name: log_interval, dtype: float64"
      ]
     },
     "execution_count": 97,
     "metadata": {},
     "output_type": "execute_result"
    }
   ],
   "source": [
    "data = df_tanques\n",
    "data.log_interval = pd.to_numeric(data.log_interval,errors='coerce')\n",
    "data = data.dropna()\n",
    "data.log_interval = data.log_interval.astype(int)\n",
    "\n",
    "data.log_interval.describe()"
   ]
  },
  {
   "cell_type": "markdown",
   "metadata": {},
   "source": [
    "Vemos que al menos el 75% de los valores es menor  o igual que 30.y que el primer y tercer cuartil calen 30 pero esta metrica no es muy ultil, asique hayq que expresarla mejor"
   ]
  },
  {
   "cell_type": "code",
   "execution_count": 98,
   "metadata": {},
   "outputs": [
    {
     "name": "stdout",
     "output_type": "stream",
     "text": [
      "sondas con muestreo mayor a 30 minutos: 9.9 %\n",
      "sondas con muestreo menor a 30 minutos: 8.3 %\n",
      "sondas con muestreo cada 10 minutos: 5.4 %\n",
      "sondas con muestreo cada 30 minutos: 81.8 %\n",
      "sondas con muestreo cada 60 minutos: 9.4 %\n"
     ]
    },
    {
     "data": {
      "image/png": "[encoded data removed]",
      "text/plain": [
       "<Figure size 1368x576 with 2 Axes>"
      ]
     },
     "metadata": {
      "needs_background": "light"
     },
     "output_type": "display_data"
    }
   ],
   "source": [
    "print(\"sondas con muestreo mayor a 30 minutos: %.1f %%\" % (\n",
    "        (100*len(data[data.log_interval > 30])/len(data)),\n",
    "    )\n",
    ")\n",
    "print(\"sondas con muestreo menor a 30 minutos: %.1f %%\" % (\n",
    "        (100*len(data[data.log_interval < 30])/len(data)),\n",
    "    )\n",
    ")\n",
    "\n",
    "print(\"sondas con muestreo cada 10 minutos: %.1f %%\" % (\n",
    "        (100*len(data[data.log_interval == 10])/len(data)),\n",
    "    )\n",
    ")\n",
    "\n",
    "print(\"sondas con muestreo cada 30 minutos: %.1f %%\" % (\n",
    "        (100*len(data[data.log_interval == 30])/len(data)),\n",
    "    )\n",
    ")\n",
    "\n",
    "print(\"sondas con muestreo cada 60 minutos: %.1f %%\"  % (\n",
    "        (100*len(data[data.log_interval == 60])/len(data)),\n",
    "    )\n",
    ")\n",
    "\n",
    "fig = plt.figure(figsize=(19,8))\n",
    "sp1 = plt.subplot('211')\n",
    "sp1.set_title(\"periodos de muestreo menores a 30 minitos\")\n",
    "sns.distplot(data.log_interval[data.log_interval < 30], norm_hist=False, kde=False, ax=sp1)\n",
    "\n",
    "sp2 = plt.subplot('212')\n",
    "sp2.set_title('Periodos de muestreo mayores a 30 minutos')\n",
    "sns.distplot(data.log_interval[data.log_interval > 30], norm_hist=False, kde=False, ax=sp2)\n",
    "\n",
    "fig.tight_layout()"
   ]
  },
  {
   "cell_type": "markdown",
   "metadata": {},
   "source": [
    "Se obserba de la descripcion y grafico anteriores que el ~80% de los equipos toma muestras de nivel de tanque cada 30 minutos, ~9% lo hace cada 60 minutos, y ~5% lo hace cada 10 minutos. El resto de los casos son clientes con requerimientos especificos, dispositivos experimentales o dispositivos mal configurados. Esta consideracion sera importante a la hora de matchear transacciones con historiales en la curacion"
   ]
  },
  {
   "cell_type": "markdown",
   "metadata": {},
   "source": [
    "#### 4.-Cantidad de cargas totales de un usuario"
   ]
  },
  {
   "cell_type": "code",
   "execution_count": 34,
   "metadata": {},
   "outputs": [
    {
     "data": {
      "text/plain": [
       "<matplotlib.axes._subplots.AxesSubplot at 0x7f1b58a381c0>"
      ]
     },
     "execution_count": 34,
     "metadata": {},
     "output_type": "execute_result"
    },
    {
     "data": {
      "image/png": "[encoded data removed]",
      "text/plain": [
       "<Figure size 432x288 with 1 Axes>"
      ]
     },
     "metadata": {
      "needs_background": "light"
     },
     "output_type": "display_data"
    }
   ],
   "source": [
    "data = df_usuarios\n",
    "data.cargas_totales = data.cargas_totales.astype(int)\n",
    "\n",
    "sns.distplot(data.cargas_totales[data.cargas_totales>0],kde=False, norm_hist=False)"
   ]
  },
  {
   "cell_type": "code",
   "execution_count": 35,
   "metadata": {},
   "outputs": [],
   "source": [
    "# Falta 5"
   ]
  },
  {
   "cell_type": "code",
   "execution_count": null,
   "metadata": {},
   "outputs": [],
   "source": []
  },
  {
   "cell_type": "markdown",
   "metadata": {},
   "source": [
    "### 3- Obtenga el número registros en el dataset para cada producto ('producto' de df_bombas). Comente sobre los valores obtenidos."
   ]
  },
  {
   "cell_type": "code",
   "execution_count": 36,
   "metadata": {},
   "outputs": [
    {
     "name": "stdout",
     "output_type": "stream",
     "text": [
      "cantidad de bombas: 1438\n",
      "cantidad de productos: 891\n"
     ]
    }
   ],
   "source": [
    "print(\"cantidad de bombas: {}\".format(\n",
    "        len(df_bombas)\n",
    "    )\n",
    ")\n",
    "print(\"cantidad de productos: {}\".format(\n",
    "        len(df_bombas[['id_equipo','producto']].drop_duplicates())\n",
    "    )\n",
    ")"
   ]
  },
  {
   "cell_type": "markdown",
   "metadata": {},
   "source": [
    "Existen menos productos que bombas, esto nos indica que hay varias bombas que despachan un mismo producto"
   ]
  },
  {
   "cell_type": "markdown",
   "metadata": {},
   "source": [
    "### 4- Obtener un gráfico para visualizar el comportamiento de los valores de capacidad de los tanques de combustibles. (df_tanques)"
   ]
  },
  {
   "cell_type": "code",
   "execution_count": 100,
   "metadata": {},
   "outputs": [
    {
     "data": {
      "image/png": "[encoded data removed]",
      "text/plain": [
       "<Figure size 1080x360 with 1 Axes>"
      ]
     },
     "metadata": {
      "needs_background": "light"
     },
     "output_type": "display_data"
    }
   ],
   "source": [
    "fig = plt.figure(figsize=(15,5))\n",
    "df_tanques.capacidad = pd.to_numeric(df_tanques.capacidad, errors='coerce')\n",
    "data = df_tanques.dropna()\n",
    "\n",
    "#hacer bins\n",
    "data['capacidad_bins'] = pd.cut(data.capacidad,bins=list(range(0,110000,5000)))\n",
    "data\n",
    "sp = plt.subplot('111')\n",
    "sns.countplot(data=data,x='capacidad_bins', ax=sp,)\n",
    "sp.set_xticklabels(sp.get_xticklabels(),rotation=90)\n",
    "fig.tight_layout()"
   ]
  },
  {
   "cell_type": "markdown",
   "metadata": {},
   "source": [
    "### 5- Obtener un gráfico que muestre y compare el comportamiento del coeficiente de variación de los distintos productos (df_productos). ¿Qué haría para mejorar el gráfico?"
   ]
  },
  {
   "cell_type": "code",
   "execution_count": 38,
   "metadata": {},
   "outputs": [
    {
     "data": {
      "text/plain": [
       "array([1.0e-03, 8.6e-04, 0.0e+00, 9.7e-04, 1.0e+01])"
      ]
     },
     "execution_count": 38,
     "metadata": {},
     "output_type": "execute_result"
    }
   ],
   "source": [
    "# coeficiente de variacion de volumen\n",
    "df_productos.coef_var_vol.unique()"
   ]
  },
  {
   "cell_type": "code",
   "execution_count": 39,
   "metadata": {},
   "outputs": [
    {
     "name": "stdout",
     "output_type": "stream",
     "text": [
      "Productos con coheficiente de dilatacion 0.001 : 99.77544910179641%\n"
     ]
    },
    {
     "data": {
      "image/png": "[encoded data removed]",
      "text/plain": [
       "<Figure size 1080x360 with 1 Axes>"
      ]
     },
     "metadata": {
      "needs_background": "light"
     },
     "output_type": "display_data"
    }
   ],
   "source": [
    "fig = plt.figure(figsize=(15,5))\n",
    "\n",
    "sp = plt.subplot('111')\n",
    "sns.countplot(data=df_productos, x='coef_var_vol',ax=sp)\n",
    "\n",
    "data = df_productos.coef_var_vol.dropna()\n",
    "\n",
    "print(\n",
    "    \"Productos con coheficiente de dilatacion 0.001 : {}%\".format(\n",
    "        (100 * len(data[data == 0.001])/len(data))\n",
    "    )\n",
    ")\n",
    "# hay muchos productos con el mismo coheficiente."
   ]
  },
  {
   "cell_type": "markdown",
   "metadata": {},
   "source": [
    "Hay muchos productos con el mismo coeficiente, asique vamos a analizar a que productos corresponde."
   ]
  },
  {
   "cell_type": "code",
   "execution_count": 121,
   "metadata": {},
   "outputs": [
    {
     "data": {
      "text/plain": [
       "DESCONOCIDO                 2051\n",
       "DIESEL                       502\n",
       "NAFTA                         57\n",
       "                              13\n",
       "BIO                            8\n",
       "PREMIUM                        3\n",
       "FORMULA                        3\n",
       "REFRIGERANTE                   3\n",
       "SAE50W                         2\n",
       "KEROSENE                       2\n",
       "INFINIA T40                    2\n",
       "SAE30W                         2\n",
       "COMUN                          2\n",
       "SAE10W                         2\n",
       "SAE15                          2\n",
       "ACEITE                         2\n",
       "INFINIA T20                    2\n",
       "UREA                           1\n",
       "CEREALES NORTE SA              1\n",
       "GRASA                          1\n",
       "PUERTO SECO LA PUERTA SA       1\n",
       "INFINIA                        1\n",
       "COMBUSTIBLE                    1\n",
       "V-POWER NITRO                  1\n",
       "AVGAS 100                      1\n",
       "Name: nombre_producto, dtype: int64"
      ]
     },
     "execution_count": 121,
     "metadata": {},
     "output_type": "execute_result"
    }
   ],
   "source": [
    "data.nombre_producto.value_counts()"
   ]
  },
  {
   "cell_type": "code",
   "execution_count": 126,
   "metadata": {},
   "outputs": [
    {
     "data": {
      "image/png": "[encoded data removed]",
      "text/plain": [
       "<Figure size 1080x720 with 2 Axes>"
      ]
     },
     "metadata": {
      "needs_background": "light"
     },
     "output_type": "display_data"
    }
   ],
   "source": [
    "fig = plt.figure(figsize=(15,10))\n",
    "data = df_productos[df_productos.coef_var_vol == 0.001]\n",
    "data.nombre_producto = data.nombre_producto.str.upper().apply(lambda n: 'DIESEL' if re.match(r'.*(DIESEL|GAS\\s{0,1}OIL|EURO|D500).*',n) else n)\n",
    "data.nombre_producto = data.nombre_producto.apply(lambda n: 'NAFTA' if re.match(r'.*(NAFTA|SUPER|ENERGY).*',n) else n)\n",
    "data.nombre_producto = data.nombre_producto.apply(lambda n: 'DESCONOCIDO' if re.match(r'.*(PRODUCT|N/A).*',n) else n)\n",
    "\n",
    "sp = plt.subplot('211')\n",
    "sp.set_title(\"Productos con coheficiente de dilatacion = 0.001 (todos)\")\n",
    "sns.countplot(\n",
    "    data=data, x='nombre_producto',ax=sp,\n",
    "    order=data.nombre_producto.value_counts().index\n",
    ")\n",
    "sp.set_xticklabels(sp.get_xticklabels(), rotation=90)\n",
    "\n",
    "sp1 = plt.subplot('212')\n",
    "sp.set_title(\"Productos con coheficiente de dilatacion = 0.001 (Solo Conocidos)\")\n",
    "sns.countplot(\n",
    "    data=data[data.nombre_producto != 'DESCONOCIDO'], x='nombre_producto',ax=sp1,\n",
    "    order=data.nombre_producto[data.nombre_producto != 'DESCONOCIDO'].value_counts().index\n",
    ")\n",
    "sp1.set_xticklabels(sp1.get_xticklabels(), rotation=90)\n",
    "\n",
    "fig.tight_layout()"
   ]
  },
  {
   "cell_type": "markdown",
   "metadata": {},
   "source": [
    "Del grafico anterior concluimos que no podemos inferir a que producto real (diesel, gasoil, nafta, etc.) corresponden los que no tienen nombre , ej. \"PRODUCTO 1\",\n",
    "ya que son muchos los productos con el mismo coeficiente."
   ]
  },
  {
   "cell_type": "markdown",
   "metadata": {},
   "source": [
    "### 6- Analizar la distribución de los litros totales y la cantidad de cargas totales que suministraron los usuarios ('totalizador' y 'cargas_totales' del df_usuarios)"
   ]
  },
  {
   "cell_type": "code",
   "execution_count": 129,
   "metadata": {},
   "outputs": [
    {
     "data": {
      "image/png": "[encoded data removed]",
      "text/plain": [
       "<Figure size 1080x360 with 2 Axes>"
      ]
     },
     "metadata": {
      "needs_background": "light"
     },
     "output_type": "display_data"
    }
   ],
   "source": [
    "data = df_usuarios\n",
    "data.cargas_totales = data.cargas_totales.astype(int)\n",
    "data.totalizador = data.totalizador.astype(float)\n",
    "\n",
    "fig = plt.figure(figsize=(15,5))\n",
    "sp1 = plt.subplot('211')\n",
    "sp1.set_title(\"Cantidad de cargas\")\n",
    "sns.distplot(data.cargas_totales,kde=False, norm_hist=False, ax=sp1)\n",
    "\n",
    "sp2 = plt.subplot('212')\n",
    "sp2.set_title(\"Cantidad de litros despachados\")\n",
    "sns.distplot(data.totalizador,kde=False, norm_hist=False, ax=sp2, label='volumen suministrado[Lts]')\n",
    "\n",
    "fig.tight_layout()\n"
   ]
  },
  {
   "cell_type": "markdown",
   "metadata": {},
   "source": [
    "De la distribicion anterior podemos inferir que hay varios tipos de usuarios, los que estan al final de lacurva son usuarios que realizan muchos despachos\n",
    "y de forma permanente, como es el caso de playeros de estaciones de servicio. por otro lado tenemos a los usuarios con valores bajos, estamos hablando de usuarios que estan relacionados a un vehiculo en particular como choferes y se lleva una trazabilidad de cuanto combustibles le cargo al vehiculo, y por ultimo el pico al inicio de la distribucion podria corresponderse con incremento reciente de la base de usuarios.\n"
   ]
  },
  {
   "cell_type": "code",
   "execution_count": null,
   "metadata": {},
   "outputs": [],
   "source": [
    "# se puede obserbar mejor mirando las curvas de transacciones para ver cuantas cargas en promedio realizan los usuarios."
   ]
  },
  {
   "cell_type": "markdown",
   "metadata": {},
   "source": [
    "## Emplear los datos públicos del Bioetanol y Biodiesel: producción y ventas (total país), en las últimos planteamientos:\n",
    "\n",
    "### 7- Obtener las gráficas de series temporales de la producción de bioetanol en base a caña de azúcar, a maíz y la total, así también para la producción total de biodiesel."
   ]
  },
  {
   "cell_type": "code",
   "execution_count": null,
   "metadata": {},
   "outputs": [],
   "source": []
  },
  {
   "cell_type": "markdown",
   "metadata": {},
   "source": [
    "### 8- Comparar la distribución de producción total de biodiesel y bioetanol para cada mes y año. ¿En qué años y meses los consumos son más consistentes?\n",
    "--> Emplear: https://pandas.pydata.org/pandas-docs/stable/reference/api/pandas.pivot_table.html#pandas.pivot_table"
   ]
  },
  {
   "cell_type": "code",
   "execution_count": null,
   "metadata": {},
   "outputs": [],
   "source": []
  },
  {
   "cell_type": "markdown",
   "metadata": {},
   "source": [
    "### 9- Obtener un mapa de calor por mes y año, para los valores medios de  producción total de biodiesel y bioetanol."
   ]
  },
  {
   "cell_type": "code",
   "execution_count": null,
   "metadata": {},
   "outputs": [],
   "source": []
  }
 ],
 "metadata": {
  "kernelspec": {
   "display_name": "Python 3",
   "language": "python",
   "name": "python3"
  },
  "language_info": {
   "codemirror_mode": {
    "name": "ipython",
    "version": 3
   },
   "file_extension": ".py",
   "mimetype": "text/x-python",
   "name": "python",
   "nbconvert_exporter": "python",
   "pygments_lexer": "ipython3",
   "version": "3.8.3"
  },
  "toc-autonumbering": false,
  "toc-showmarkdowntxt": true
 },
 "nbformat": 4,
 "nbformat_minor": 4
}
